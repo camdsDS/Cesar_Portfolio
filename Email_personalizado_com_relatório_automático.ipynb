{
  "nbformat": 4,
  "nbformat_minor": 0,
  "metadata": {
    "colab": {
      "name": "Email personalizado com relatório automático.ipynb",
      "provenance": [],
      "include_colab_link": true
    },
    "kernelspec": {
      "name": "python3",
      "display_name": "Python 3"
    }
  },
  "cells": [
    {
      "cell_type": "markdown",
      "metadata": {
        "id": "view-in-github",
        "colab_type": "text"
      },
      "source": [
        "<a href=\"https://colab.research.google.com/github/camdsDS/Cesar_Portfolio/blob/main/Email_personalizado_com_relat%C3%B3rio_autom%C3%A1tico.ipynb\" target=\"_parent\"><img src=\"https://colab.research.google.com/assets/colab-badge.svg\" alt=\"Open In Colab\"/></a>"
      ]
    },
    {
      "cell_type": "code",
      "metadata": {
        "id": "4WiZCzAixWM9"
      },
      "source": [
        "import pandas as pd\r\n",
        "import numpy as np"
      ],
      "execution_count": 1,
      "outputs": []
    },
    {
      "cell_type": "markdown",
      "metadata": {
        "id": "ecunkJJszXXb"
      },
      "source": [
        "#### Importando a planilha excel"
      ]
    },
    {
      "cell_type": "code",
      "metadata": {
        "colab": {
          "base_uri": "https://localhost:8080/",
          "height": 221
        },
        "id": "twDhZAZK1Qij",
        "outputId": "d3a4769c-11bb-4c69-90ac-018bc6a36563"
      },
      "source": [
        "notas = pd.read_excel('Notas.xlsx')\r\n",
        "df = notas.copy()\r\n",
        "df.head()"
      ],
      "execution_count": 2,
      "outputs": [
        {
          "output_type": "execute_result",
          "data": {
            "text/html": [
              "<div>\n",
              "<style scoped>\n",
              "    .dataframe tbody tr th:only-of-type {\n",
              "        vertical-align: middle;\n",
              "    }\n",
              "\n",
              "    .dataframe tbody tr th {\n",
              "        vertical-align: top;\n",
              "    }\n",
              "\n",
              "    .dataframe thead th {\n",
              "        text-align: right;\n",
              "    }\n",
              "</style>\n",
              "<table border=\"1\" class=\"dataframe\">\n",
              "  <thead>\n",
              "    <tr style=\"text-align: right;\">\n",
              "      <th></th>\n",
              "      <th>ID Estudante</th>\n",
              "      <th>ID Classe de aula</th>\n",
              "      <th>Estudante</th>\n",
              "      <th>Nota da prova 1</th>\n",
              "      <th>Data da prova 1</th>\n",
              "      <th>Nota da prova 2</th>\n",
              "      <th>Data da prova 2</th>\n",
              "      <th>Nome do responsavel 1</th>\n",
              "      <th>Genero do responsavel 1</th>\n",
              "      <th>Nome do responsavel 2</th>\n",
              "      <th>email do responsavel 1</th>\n",
              "    </tr>\n",
              "  </thead>\n",
              "  <tbody>\n",
              "    <tr>\n",
              "      <th>0</th>\n",
              "      <td>1</td>\n",
              "      <td>Mat-01</td>\n",
              "      <td>Abelardo</td>\n",
              "      <td>3.0</td>\n",
              "      <td>2021-01-01</td>\n",
              "      <td>7.8</td>\n",
              "      <td>2021-02-01</td>\n",
              "      <td>Sophia</td>\n",
              "      <td>F</td>\n",
              "      <td>Samuel</td>\n",
              "      <td>teste1@gmail.com</td>\n",
              "    </tr>\n",
              "    <tr>\n",
              "      <th>1</th>\n",
              "      <td>2</td>\n",
              "      <td>Mat-01</td>\n",
              "      <td>Alessandra</td>\n",
              "      <td>4.0</td>\n",
              "      <td>2021-01-01</td>\n",
              "      <td>9.0</td>\n",
              "      <td>2021-02-01</td>\n",
              "      <td>Alice</td>\n",
              "      <td>F</td>\n",
              "      <td>Daniel</td>\n",
              "      <td>teste2@gmail.com</td>\n",
              "    </tr>\n",
              "    <tr>\n",
              "      <th>2</th>\n",
              "      <td>3</td>\n",
              "      <td>Mat-01</td>\n",
              "      <td>Alexandre</td>\n",
              "      <td>8.0</td>\n",
              "      <td>2021-01-01</td>\n",
              "      <td>10.0</td>\n",
              "      <td>2021-02-01</td>\n",
              "      <td>Julia</td>\n",
              "      <td>F</td>\n",
              "      <td>Vitor</td>\n",
              "      <td>teste3@gmail.com</td>\n",
              "    </tr>\n",
              "    <tr>\n",
              "      <th>3</th>\n",
              "      <td>4</td>\n",
              "      <td>Mat-01</td>\n",
              "      <td>Amarildo</td>\n",
              "      <td>9.0</td>\n",
              "      <td>2021-01-01</td>\n",
              "      <td>6.0</td>\n",
              "      <td>2021-02-01</td>\n",
              "      <td>Miguel</td>\n",
              "      <td>M</td>\n",
              "      <td>Leonardo</td>\n",
              "      <td>teste4@gmail.com</td>\n",
              "    </tr>\n",
              "    <tr>\n",
              "      <th>4</th>\n",
              "      <td>5</td>\n",
              "      <td>Mat-01</td>\n",
              "      <td>Ana</td>\n",
              "      <td>10.0</td>\n",
              "      <td>2021-01-01</td>\n",
              "      <td>5.6</td>\n",
              "      <td>2021-02-01</td>\n",
              "      <td>Arthur</td>\n",
              "      <td>M</td>\n",
              "      <td>Lorena</td>\n",
              "      <td>teste5@gmail.com</td>\n",
              "    </tr>\n",
              "  </tbody>\n",
              "</table>\n",
              "</div>"
            ],
            "text/plain": [
              "   ID Estudante ID Classe de aula  ... Nome do responsavel 2  email do responsavel 1\n",
              "0             1            Mat-01  ...                Samuel        teste1@gmail.com\n",
              "1             2            Mat-01  ...                Daniel        teste2@gmail.com\n",
              "2             3            Mat-01  ...                 Vitor        teste3@gmail.com\n",
              "3             4            Mat-01  ...              Leonardo        teste4@gmail.com\n",
              "4             5            Mat-01  ...                Lorena        teste5@gmail.com\n",
              "\n",
              "[5 rows x 11 columns]"
            ]
          },
          "metadata": {
            "tags": []
          },
          "execution_count": 2
        }
      ]
    },
    {
      "cell_type": "markdown",
      "metadata": {
        "id": "-H99gCdKzfmb"
      },
      "source": [
        "#### Acrescentando coluna média no df"
      ]
    },
    {
      "cell_type": "code",
      "metadata": {
        "id": "M385QgOn4UC8"
      },
      "source": [
        "df['media_estudante'] = ((df['Nota da prova 1'] + df['Nota da prova 2'])/2).to_frame().rename(columns={0: 'media'})"
      ],
      "execution_count": 3,
      "outputs": []
    },
    {
      "cell_type": "markdown",
      "metadata": {
        "id": "BEl6uB9rzoig"
      },
      "source": [
        "#### Gerando tabela com todas as notas (incluindo a média do estudante)"
      ]
    },
    {
      "cell_type": "code",
      "metadata": {
        "colab": {
          "base_uri": "https://localhost:8080/",
          "height": 204
        },
        "id": "URHs6ZRlpjyK",
        "outputId": "d01e6627-6f58-4cc0-e17a-f8f62ebcb264"
      },
      "source": [
        "relatorio = df[['Nota da prova 1', 'Nota da prova 2', 'media_estudante']].sort_values(by = 'media_estudante', ascending=False)\r\n",
        "relatorio.head()"
      ],
      "execution_count": 4,
      "outputs": [
        {
          "output_type": "execute_result",
          "data": {
            "text/html": [
              "<div>\n",
              "<style scoped>\n",
              "    .dataframe tbody tr th:only-of-type {\n",
              "        vertical-align: middle;\n",
              "    }\n",
              "\n",
              "    .dataframe tbody tr th {\n",
              "        vertical-align: top;\n",
              "    }\n",
              "\n",
              "    .dataframe thead th {\n",
              "        text-align: right;\n",
              "    }\n",
              "</style>\n",
              "<table border=\"1\" class=\"dataframe\">\n",
              "  <thead>\n",
              "    <tr style=\"text-align: right;\">\n",
              "      <th></th>\n",
              "      <th>Nota da prova 1</th>\n",
              "      <th>Nota da prova 2</th>\n",
              "      <th>media_estudante</th>\n",
              "    </tr>\n",
              "  </thead>\n",
              "  <tbody>\n",
              "    <tr>\n",
              "      <th>13</th>\n",
              "      <td>8.8</td>\n",
              "      <td>10.0</td>\n",
              "      <td>9.4</td>\n",
              "    </tr>\n",
              "    <tr>\n",
              "      <th>2</th>\n",
              "      <td>8.0</td>\n",
              "      <td>10.0</td>\n",
              "      <td>9.0</td>\n",
              "    </tr>\n",
              "    <tr>\n",
              "      <th>12</th>\n",
              "      <td>8.0</td>\n",
              "      <td>9.0</td>\n",
              "      <td>8.5</td>\n",
              "    </tr>\n",
              "    <tr>\n",
              "      <th>14</th>\n",
              "      <td>9.0</td>\n",
              "      <td>7.8</td>\n",
              "      <td>8.4</td>\n",
              "    </tr>\n",
              "    <tr>\n",
              "      <th>24</th>\n",
              "      <td>9.2</td>\n",
              "      <td>7.0</td>\n",
              "      <td>8.1</td>\n",
              "    </tr>\n",
              "  </tbody>\n",
              "</table>\n",
              "</div>"
            ],
            "text/plain": [
              "    Nota da prova 1  Nota da prova 2  media_estudante\n",
              "13              8.8             10.0              9.4\n",
              "2               8.0             10.0              9.0\n",
              "12              8.0              9.0              8.5\n",
              "14              9.0              7.8              8.4\n",
              "24              9.2              7.0              8.1"
            ]
          },
          "metadata": {
            "tags": []
          },
          "execution_count": 4
        }
      ]
    },
    {
      "cell_type": "markdown",
      "metadata": {
        "id": "WCGx8XYa8fox"
      },
      "source": [
        "### Função de enviar e-mail"
      ]
    },
    {
      "cell_type": "code",
      "metadata": {
        "id": "EZVQ3ByX8ej_"
      },
      "source": [
        "import smtplib, ssl, email.message\r\n",
        "\r\n",
        "def enviar_email(media, ID, nome_estudante,\r\n",
        "                 responsavel1, genero_responsavel,\r\n",
        "                 email_responsavel,pos):\r\n",
        "\r\n",
        "  port = 465  # SSL\r\n",
        "  context = ssl.create_default_context()\r\n",
        " \r\n",
        "  try:\r\n",
        "    if genero_responsavel.upper() == 'M':\r\n",
        "      email_content = f'''\r\n",
        "      <p>Olá, senhor {responsavel1}!</p>\r\n",
        "      <p>A média em Mat-01 de {nome_estudante}, cujo número\r\n",
        "      na chamada é {ID}, é {media}.</p>\r\n",
        "      <p>A média {media} é a {pos}ª mais alta da sala.</p>\r\n",
        "      <p>Segue tabela com todas as notas da sala:</p>\r\n",
        "      {relatorio.to_html(index=False)}\r\n",
        "      <p>Abraços!</p>'''\r\n",
        "    elif genero_responsavel.upper() == 'F':\r\n",
        "      email_content = f'''\r\n",
        "      <p>Olá, senhora {responsavel1}!</p>\r\n",
        "      <p>A média em Mat-01 de {nome_estudante}, cujo número\r\n",
        "      na chamada é {ID}, é {media}.</p>\r\n",
        "      <p>A média {media} é a {pos}ª mais alta da sala.</p>\r\n",
        "      <p>Segue tabela com todas as notas da sala:</p>\r\n",
        "      {relatorio.to_html(index=False)}\r\n",
        "      <p>Abraços!</p>'''\r\n",
        "    else:\r\n",
        "      email_content = f'''\r\n",
        "      <p>Olá!</p>\r\n",
        "      <p>A média em Mat-01 de {nome_estudante}, cujo número\r\n",
        "      na chamada é {ID}, é {media}.</p>\r\n",
        "      <p>A média {media} é a {pos}ª mais alta da sala.</p>\r\n",
        "      <p>Segue tabela com todas as notas da sala:</p>\r\n",
        "      {relatorio.to_html(index=False)}\r\n",
        "      <p>Abraços!</p>'''\r\n",
        "\r\n",
        "    msg = email.message.Message()\r\n",
        "    msg['Subject'] = f'Relatório bimestral de Mat-01 de {nome_estudante}'\r\n",
        "    msg['From'] = 'xxxx@gmail.com'\r\n",
        "    msg['To'] = email_responsavel\r\n",
        "    \r\n",
        "    password = 'xxxx'\r\n",
        "    \r\n",
        "    msg.add_header('Content-Type', 'text/html')\r\n",
        "    msg.set_payload(email_content)\r\n",
        "    \r\n",
        "    with smtplib.SMTP_SSL(\"smtp.gmail.com\", port, context=context) as server:\r\n",
        "      server.login(msg['From'], password)\r\n",
        "      server.sendmail(msg['From'], [msg['To']], msg.as_string().encode('utf-8'))\r\n",
        "\r\n",
        "    print('Email enviado com sucesso!')\r\n",
        "  \r\n",
        "  except:\r\n",
        "    print(f'Erro ao enviar e-mail do(a) estudante {nome_estudante} de ID {ID}')"
      ],
      "execution_count": 5,
      "outputs": []
    },
    {
      "cell_type": "markdown",
      "metadata": {
        "id": "IDQ3B0A5EwFb"
      },
      "source": [
        "### Enviando e-mails"
      ]
    },
    {
      "cell_type": "code",
      "metadata": {
        "id": "oW3zzFW1GbUQ",
        "colab": {
          "base_uri": "https://localhost:8080/"
        },
        "outputId": "d007225a-159c-4daa-a179-859f6ee727f5"
      },
      "source": [
        "lista_notas = sorted(df['media_estudante'].unique(),reverse=True) #usaremos essa\r\n",
        "#lista para determinar a posição da média do estudante entre todas as médias\r\n",
        "\r\n",
        "for estudante in range(len(df)):\r\n",
        "  media = df.iloc[estudante,11] \r\n",
        "  ID = df.iloc[estudante,0]\r\n",
        "  nome_estudante = df.iloc[estudante,2]\r\n",
        "  responsavel1 = df.iloc[estudante,7]\r\n",
        "  genero_responsavel = df.iloc[estudante,8]\r\n",
        "  email_responsavel = df.iloc[estudante,10]\r\n",
        "  for posicao in range(len(lista_notas)):\r\n",
        "    if media == lista_notas[posicao]:\r\n",
        "      pos = posicao\r\n",
        "  \r\n",
        "  enviar_email(media, \r\n",
        "               ID,\r\n",
        "               nome_estudante,\r\n",
        "               responsavel1,\r\n",
        "               genero_responsavel,\r\n",
        "               email_responsavel,\r\n",
        "               pos)\r\n"
      ],
      "execution_count": 6,
      "outputs": [
        {
          "output_type": "stream",
          "text": [
            "Email enviado com sucesso!\n",
            "Email enviado com sucesso!\n",
            "Email enviado com sucesso!\n",
            "Email enviado com sucesso!\n",
            "Email enviado com sucesso!\n",
            "Email enviado com sucesso!\n",
            "Email enviado com sucesso!\n",
            "Email enviado com sucesso!\n",
            "Email enviado com sucesso!\n",
            "Email enviado com sucesso!\n",
            "Email enviado com sucesso!\n",
            "Email enviado com sucesso!\n",
            "Email enviado com sucesso!\n",
            "Email enviado com sucesso!\n",
            "Email enviado com sucesso!\n",
            "Email enviado com sucesso!\n",
            "Email enviado com sucesso!\n",
            "Email enviado com sucesso!\n",
            "Email enviado com sucesso!\n",
            "Email enviado com sucesso!\n",
            "Email enviado com sucesso!\n",
            "Email enviado com sucesso!\n",
            "Email enviado com sucesso!\n",
            "Email enviado com sucesso!\n",
            "Email enviado com sucesso!\n",
            "Email enviado com sucesso!\n",
            "Email enviado com sucesso!\n"
          ],
          "name": "stdout"
        }
      ]
    }
  ]
}