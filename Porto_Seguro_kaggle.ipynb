{
  "nbformat": 4,
  "nbformat_minor": 0,
  "metadata": {
    "colab": {
      "name": "Porto Seguro - kaggle",
      "provenance": [],
      "collapsed_sections": [],
      "mount_file_id": "1rgvWeTAgh4bVSvTJoXVXOu_R_DcHTgoU",
      "authorship_tag": "ABX9TyMA410lD0AyxMfdo0GkzzK5",
      "include_colab_link": true
    },
    "kernelspec": {
      "name": "python3",
      "display_name": "Python 3"
    }
  },
  "cells": [
    {
      "cell_type": "markdown",
      "metadata": {
        "id": "view-in-github",
        "colab_type": "text"
      },
      "source": [
        "<a href=\"https://colab.research.google.com/github/camdsDS/Cesar_Portfolio/blob/main/Porto_Seguro_kaggle.ipynb\" target=\"_parent\"><img src=\"https://colab.research.google.com/assets/colab-badge.svg\" alt=\"Open In Colab\"/></a>"
      ]
    },
    {
      "cell_type": "code",
      "metadata": {
        "id": "SoqYYn-uS7Fi"
      },
      "source": [
        "import pandas as pd\r\n",
        "import numpy as np\r\n",
        "import matplotlib.pyplot as plt\r\n",
        "# Evita avisos desnecessários para a apresentação ficar limpa\r\n",
        "import warnings\r\n",
        "warnings.filterwarnings('ignore')"
      ],
      "execution_count": 1,
      "outputs": []
    },
    {
      "cell_type": "markdown",
      "metadata": {
        "id": "DScFVSUXx_I2"
      },
      "source": [
        "# Funções"
      ]
    },
    {
      "cell_type": "code",
      "metadata": {
        "id": "V-3r0HPNgRdG"
      },
      "source": [
        "def relatorio(data, target):\r\n",
        "    '''\r\n",
        "    Devolve um relatorio sobre valores miss no df, valor da bad rate,\r\n",
        "    tipos de dados e correlação de Pearson     \r\n",
        "    '''\r\n",
        "    #Relatorio de miss\r\n",
        "    df_miss = ((data.isna().sum()/len(data))*100).to_frame().reset_index().rename(columns={'index': 'column', 0:'%_miss'}).sort_values('%_miss', ascending = False)\r\n",
        "    if df_miss['%_miss'].tolist()[0] == 0:\r\n",
        "        print('O df não apresenta valores miss.')\r\n",
        "    else:\r\n",
        "        print('O df apresenta valores miss e as cinco colunas com maior concentração de miss são:')\r\n",
        "        print(df_miss.head())\r\n",
        "        \r\n",
        "    bad_rate = data[target].value_counts()[1]/(data[target].value_counts()[0]+data[target].value_counts()[1])\r\n",
        "    print(f'\\nBad_rate (razão entre quantidade de 1 no target e o total (0 e 1) de valores no target: {bad_rate:.2f}')\r\n",
        "\r\n",
        "    p0 = (data[target].value_counts()[0]/(data[target].value_counts()[0]+data[target].value_counts()[1]))*100\r\n",
        "    p1 = bad_rate*100\r\n",
        "    objects = ('0', '1')\r\n",
        "    y_pos = [0,1]\r\n",
        "    performance = [p0,p1]\r\n",
        "\r\n",
        "    plt.bar(y_pos, performance, align='center', alpha=0.5)\r\n",
        "    plt.xticks(y_pos, objects)\r\n",
        "    plt.ylabel('%')\r\n",
        "    plt.title('Comparando as proporções de 0 e 1 do target')\r\n",
        "\r\n",
        "    plt.show()\r\n",
        "\r\n",
        "    #Correlação de Pearson\r\n",
        "    corr_matrix = data.corr()\r\n",
        "    corr_matrix = corr_matrix[target].to_frame().reset_index().rename(columns={'index': 'coluna', target:'correlacao'}).sort_values('correlacao', ascending = False)\r\n",
        "    print('Correlacao de Pearson: (5 primeiras linhas)')\r\n",
        "    print(corr_matrix.head())"
      ],
      "execution_count": 2,
      "outputs": []
    },
    {
      "cell_type": "code",
      "metadata": {
        "id": "tYmy4o-dVtEj"
      },
      "source": [
        "def RelatorioMiss(df):\r\n",
        "    '''\r\n",
        "    Retorna a % de miss de cada coluna do df\r\n",
        "    '''\r\n",
        "    df_miss = ((df.isna().sum()/len(df))*100).to_frame().rename(columns={0:'P_miss'}).reset_index().sort_values('P_miss', ascending = False)\r\n",
        "    return df_miss"
      ],
      "execution_count": 3,
      "outputs": []
    },
    {
      "cell_type": "code",
      "metadata": {
        "id": "4GxOZeOeIfum"
      },
      "source": [
        "def unique_df(df,x):\r\n",
        "    '''\r\n",
        "    Função para ver, se houver, x elementos únicos de cada coluna de um df\r\n",
        "    '''    \r\n",
        "    rows = np.arange(x).tolist()\r\n",
        "    unique = pd.DataFrame(rows,columns={\"index\"})\r\n",
        "    for i in df.columns:\r\n",
        "        u = df[i].unique()\r\n",
        "        a = pd.DataFrame(u,columns=[i])\r\n",
        "        try:\r\n",
        "            a.sort_values(i,inplace=True)\r\n",
        "        except:\r\n",
        "            a = a\r\n",
        "        unique=unique.merge(a,how=\"left\",left_index=True,right_index=True)\r\n",
        "    unique.fillna(\"\",inplace=True)\r\n",
        "    unique.drop(\"index\",axis=1,inplace=True)\r\n",
        "    return unique"
      ],
      "execution_count": 4,
      "outputs": []
    },
    {
      "cell_type": "code",
      "metadata": {
        "id": "Kwh6SvqbrdJM"
      },
      "source": [
        "def normalizacao(df):\r\n",
        "    from sklearn.preprocessing import MinMaxScaler\r\n",
        "    scaler = MinMaxScaler()\r\n",
        "    scaler.fit(df)\r\n",
        "\r\n",
        "    abt = pd.DataFrame(scaler.transform(df), columns = df.columns)\r\n",
        "    abt.index = df.index\r\n",
        "    return abt"
      ],
      "execution_count": 5,
      "outputs": []
    },
    {
      "cell_type": "code",
      "metadata": {
        "id": "n3ck1XsvSK-s"
      },
      "source": [
        "def roccurve(y_train,y_pred_train,y_score_train,y_test,y_pred_test,y_score_test,titulo=\"\"):\r\n",
        "    '''\r\n",
        "    y_pred_train:  #predict do desenv\r\n",
        "    y_score_train: #proba mau do desenv\r\n",
        "    y_train: #target do desenv\r\n",
        "    y_pred_test: #predict da valid\r\n",
        "    y_score_test: #proba mau da valid\r\n",
        "    y_test: #target da valid\r\n",
        "    titulo: \"titulo\"  #título\r\n",
        "\r\n",
        "    exemplo: roccurve(y_train,y_pred_train,y_score_train,y_test,y_pred_test,y_score_test,titulo)\r\n",
        "    '''\r\n",
        "    # 1) Cálculo da acurácia\r\n",
        "    from sklearn.metrics import accuracy_score\r\n",
        "\r\n",
        "    #Treino\r\n",
        "    acc_train = round(accuracy_score(y_pred_train, y_train) * 100, 2)\r\n",
        "\r\n",
        "    #Teste\r\n",
        "    acc_test = round(accuracy_score(y_pred_test, y_test) * 100, 2)\r\n",
        "\r\n",
        "    # 2) Cálculo da área sob curva ROC e Gini\r\n",
        "    from sklearn.metrics import roc_curve, auc\r\n",
        "\r\n",
        "    # Treino\r\n",
        "    fpr_train, tpr_train, thresholds = roc_curve(y_train, y_score_train)\r\n",
        "    roc_auc_train = round(100*auc(fpr_train, tpr_train),2)\r\n",
        "    gini_train = 100*round((2*roc_auc_train/100 - 1), 2)\r\n",
        "\r\n",
        "    # Teste\r\n",
        "    fpr_test, tpr_test, thresholds = roc_curve(y_test, y_score_test)\r\n",
        "    roc_auc_test = round(100*auc(fpr_test, tpr_test),2)\r\n",
        "    gini_test = 100*round((2*roc_auc_test/100 - 1), 2)\r\n",
        "\r\n",
        "\r\n",
        "    # 3) Gráfico da curva ROC\r\n",
        "    plt.style.use('seaborn-darkgrid')\r\n",
        "    plt.figure(figsize=(12,6))\r\n",
        "\r\n",
        "    lw = 2\r\n",
        "\r\n",
        "    plt.plot(fpr_train, tpr_train, color='blue',lw=lw, label='ROC (Desenv = %0.0f)' % roc_auc_train)\r\n",
        "    plt.plot(fpr_test, tpr_test, color='darkorange',lw=lw, label='ROC (Valid = %0.0f)' % roc_auc_test)\r\n",
        "\r\n",
        "    plt.plot([0, 1], [0, 1], color='navy', lw=lw, linestyle='--')\r\n",
        "    plt.xlim([0.0, 1.0])\r\n",
        "    plt.ylim([0.0, 1.05])\r\n",
        "    plt.xlabel('Falso Positivo', fontsize=15)\r\n",
        "    plt.ylabel('Verdadeiro Positivo', fontsize=15)\r\n",
        "    plt.legend(loc=\"lower right\")\r\n",
        "    plt.legend(fontsize=20) \r\n",
        "    plt.title(titulo, fontsize=20)\r\n",
        "    plt.show()\r\n",
        "    \r\n",
        "    print(f'Base de Desenv\\nAcurácia: {acc_train}, Gini: {gini_train} e Área Curva ROC: {roc_auc_train}')\r\n",
        "    print(f'\\nBase de Valid\\nAcurácia: {acc_test}, Gini: {gini_test} e Área Curva ROC: {roc_auc_test}\\n\\n')"
      ],
      "execution_count": 6,
      "outputs": []
    },
    {
      "cell_type": "markdown",
      "metadata": {
        "id": "e_s3JjpVyIH9"
      },
      "source": [
        "# Dados (importação e tratamento da base de treino)"
      ]
    },
    {
      "cell_type": "markdown",
      "metadata": {
        "id": "koGi1dCUyvsZ"
      },
      "source": [
        "**Data Description**\r\n",
        "\r\n",
        "In this competition, you will predict the probability that an auto insurance policy holder files a claim.\r\n",
        "\r\n",
        "In the train and test data, features that belong to similar groupings are tagged as such in the feature names (e.g., ind, reg, car, calc). In addition, feature names include the postfix bin to indicate binary features and cat to indicate categorical features. Features without these designations are either continuous or ordinal. Values of -1 indicate that the feature was missing from the observation. The target columns signifies whether or not a claim was filed for that policy holder."
      ]
    },
    {
      "cell_type": "code",
      "metadata": {
        "colab": {
          "base_uri": "https://localhost:8080/",
          "height": 224
        },
        "id": "mniIf-ESyG7x",
        "outputId": "147e16d8-87df-4029-a9f0-bd083a1a3a93"
      },
      "source": [
        "data = pd.read_csv(r'/content/drive/MyDrive/Data science/Machine Learning/kaggle/Porto Seguro/train.csv', na_values=-1)\r\n",
        "data.head()"
      ],
      "execution_count": 7,
      "outputs": [
        {
          "output_type": "execute_result",
          "data": {
            "text/html": [
              "<div>\n",
              "<style scoped>\n",
              "    .dataframe tbody tr th:only-of-type {\n",
              "        vertical-align: middle;\n",
              "    }\n",
              "\n",
              "    .dataframe tbody tr th {\n",
              "        vertical-align: top;\n",
              "    }\n",
              "\n",
              "    .dataframe thead th {\n",
              "        text-align: right;\n",
              "    }\n",
              "</style>\n",
              "<table border=\"1\" class=\"dataframe\">\n",
              "  <thead>\n",
              "    <tr style=\"text-align: right;\">\n",
              "      <th></th>\n",
              "      <th>id</th>\n",
              "      <th>target</th>\n",
              "      <th>ps_ind_01</th>\n",
              "      <th>ps_ind_02_cat</th>\n",
              "      <th>ps_ind_03</th>\n",
              "      <th>ps_ind_04_cat</th>\n",
              "      <th>ps_ind_05_cat</th>\n",
              "      <th>ps_ind_06_bin</th>\n",
              "      <th>ps_ind_07_bin</th>\n",
              "      <th>ps_ind_08_bin</th>\n",
              "      <th>ps_ind_09_bin</th>\n",
              "      <th>ps_ind_10_bin</th>\n",
              "      <th>ps_ind_11_bin</th>\n",
              "      <th>ps_ind_12_bin</th>\n",
              "      <th>ps_ind_13_bin</th>\n",
              "      <th>ps_ind_14</th>\n",
              "      <th>ps_ind_15</th>\n",
              "      <th>ps_ind_16_bin</th>\n",
              "      <th>ps_ind_17_bin</th>\n",
              "      <th>ps_ind_18_bin</th>\n",
              "      <th>ps_reg_01</th>\n",
              "      <th>ps_reg_02</th>\n",
              "      <th>ps_reg_03</th>\n",
              "      <th>ps_car_01_cat</th>\n",
              "      <th>ps_car_02_cat</th>\n",
              "      <th>ps_car_03_cat</th>\n",
              "      <th>ps_car_04_cat</th>\n",
              "      <th>ps_car_05_cat</th>\n",
              "      <th>ps_car_06_cat</th>\n",
              "      <th>ps_car_07_cat</th>\n",
              "      <th>ps_car_08_cat</th>\n",
              "      <th>ps_car_09_cat</th>\n",
              "      <th>ps_car_10_cat</th>\n",
              "      <th>ps_car_11_cat</th>\n",
              "      <th>ps_car_11</th>\n",
              "      <th>ps_car_12</th>\n",
              "      <th>ps_car_13</th>\n",
              "      <th>ps_car_14</th>\n",
              "      <th>ps_car_15</th>\n",
              "      <th>ps_calc_01</th>\n",
              "      <th>ps_calc_02</th>\n",
              "      <th>ps_calc_03</th>\n",
              "      <th>ps_calc_04</th>\n",
              "      <th>ps_calc_05</th>\n",
              "      <th>ps_calc_06</th>\n",
              "      <th>ps_calc_07</th>\n",
              "      <th>ps_calc_08</th>\n",
              "      <th>ps_calc_09</th>\n",
              "      <th>ps_calc_10</th>\n",
              "      <th>ps_calc_11</th>\n",
              "      <th>ps_calc_12</th>\n",
              "      <th>ps_calc_13</th>\n",
              "      <th>ps_calc_14</th>\n",
              "      <th>ps_calc_15_bin</th>\n",
              "      <th>ps_calc_16_bin</th>\n",
              "      <th>ps_calc_17_bin</th>\n",
              "      <th>ps_calc_18_bin</th>\n",
              "      <th>ps_calc_19_bin</th>\n",
              "      <th>ps_calc_20_bin</th>\n",
              "    </tr>\n",
              "  </thead>\n",
              "  <tbody>\n",
              "    <tr>\n",
              "      <th>0</th>\n",
              "      <td>7</td>\n",
              "      <td>0</td>\n",
              "      <td>2</td>\n",
              "      <td>2.0</td>\n",
              "      <td>5</td>\n",
              "      <td>1.0</td>\n",
              "      <td>0.0</td>\n",
              "      <td>0</td>\n",
              "      <td>1</td>\n",
              "      <td>0</td>\n",
              "      <td>0</td>\n",
              "      <td>0</td>\n",
              "      <td>0</td>\n",
              "      <td>0</td>\n",
              "      <td>0</td>\n",
              "      <td>0</td>\n",
              "      <td>11</td>\n",
              "      <td>0</td>\n",
              "      <td>1</td>\n",
              "      <td>0</td>\n",
              "      <td>0.7</td>\n",
              "      <td>0.2</td>\n",
              "      <td>0.718070</td>\n",
              "      <td>10.0</td>\n",
              "      <td>1.0</td>\n",
              "      <td>NaN</td>\n",
              "      <td>0</td>\n",
              "      <td>1.0</td>\n",
              "      <td>4</td>\n",
              "      <td>1.0</td>\n",
              "      <td>0</td>\n",
              "      <td>0.0</td>\n",
              "      <td>1</td>\n",
              "      <td>12</td>\n",
              "      <td>2.0</td>\n",
              "      <td>0.400000</td>\n",
              "      <td>0.883679</td>\n",
              "      <td>0.370810</td>\n",
              "      <td>3.605551</td>\n",
              "      <td>0.6</td>\n",
              "      <td>0.5</td>\n",
              "      <td>0.2</td>\n",
              "      <td>3</td>\n",
              "      <td>1</td>\n",
              "      <td>10</td>\n",
              "      <td>1</td>\n",
              "      <td>10</td>\n",
              "      <td>1</td>\n",
              "      <td>5</td>\n",
              "      <td>9</td>\n",
              "      <td>1</td>\n",
              "      <td>5</td>\n",
              "      <td>8</td>\n",
              "      <td>0</td>\n",
              "      <td>1</td>\n",
              "      <td>1</td>\n",
              "      <td>0</td>\n",
              "      <td>0</td>\n",
              "      <td>1</td>\n",
              "    </tr>\n",
              "    <tr>\n",
              "      <th>1</th>\n",
              "      <td>9</td>\n",
              "      <td>0</td>\n",
              "      <td>1</td>\n",
              "      <td>1.0</td>\n",
              "      <td>7</td>\n",
              "      <td>0.0</td>\n",
              "      <td>0.0</td>\n",
              "      <td>0</td>\n",
              "      <td>0</td>\n",
              "      <td>1</td>\n",
              "      <td>0</td>\n",
              "      <td>0</td>\n",
              "      <td>0</td>\n",
              "      <td>0</td>\n",
              "      <td>0</td>\n",
              "      <td>0</td>\n",
              "      <td>3</td>\n",
              "      <td>0</td>\n",
              "      <td>0</td>\n",
              "      <td>1</td>\n",
              "      <td>0.8</td>\n",
              "      <td>0.4</td>\n",
              "      <td>0.766078</td>\n",
              "      <td>11.0</td>\n",
              "      <td>1.0</td>\n",
              "      <td>NaN</td>\n",
              "      <td>0</td>\n",
              "      <td>NaN</td>\n",
              "      <td>11</td>\n",
              "      <td>1.0</td>\n",
              "      <td>1</td>\n",
              "      <td>2.0</td>\n",
              "      <td>1</td>\n",
              "      <td>19</td>\n",
              "      <td>3.0</td>\n",
              "      <td>0.316228</td>\n",
              "      <td>0.618817</td>\n",
              "      <td>0.388716</td>\n",
              "      <td>2.449490</td>\n",
              "      <td>0.3</td>\n",
              "      <td>0.1</td>\n",
              "      <td>0.3</td>\n",
              "      <td>2</td>\n",
              "      <td>1</td>\n",
              "      <td>9</td>\n",
              "      <td>5</td>\n",
              "      <td>8</td>\n",
              "      <td>1</td>\n",
              "      <td>7</td>\n",
              "      <td>3</td>\n",
              "      <td>1</td>\n",
              "      <td>1</td>\n",
              "      <td>9</td>\n",
              "      <td>0</td>\n",
              "      <td>1</td>\n",
              "      <td>1</td>\n",
              "      <td>0</td>\n",
              "      <td>1</td>\n",
              "      <td>0</td>\n",
              "    </tr>\n",
              "    <tr>\n",
              "      <th>2</th>\n",
              "      <td>13</td>\n",
              "      <td>0</td>\n",
              "      <td>5</td>\n",
              "      <td>4.0</td>\n",
              "      <td>9</td>\n",
              "      <td>1.0</td>\n",
              "      <td>0.0</td>\n",
              "      <td>0</td>\n",
              "      <td>0</td>\n",
              "      <td>1</td>\n",
              "      <td>0</td>\n",
              "      <td>0</td>\n",
              "      <td>0</td>\n",
              "      <td>0</td>\n",
              "      <td>0</td>\n",
              "      <td>0</td>\n",
              "      <td>12</td>\n",
              "      <td>1</td>\n",
              "      <td>0</td>\n",
              "      <td>0</td>\n",
              "      <td>0.0</td>\n",
              "      <td>0.0</td>\n",
              "      <td>NaN</td>\n",
              "      <td>7.0</td>\n",
              "      <td>1.0</td>\n",
              "      <td>NaN</td>\n",
              "      <td>0</td>\n",
              "      <td>NaN</td>\n",
              "      <td>14</td>\n",
              "      <td>1.0</td>\n",
              "      <td>1</td>\n",
              "      <td>2.0</td>\n",
              "      <td>1</td>\n",
              "      <td>60</td>\n",
              "      <td>1.0</td>\n",
              "      <td>0.316228</td>\n",
              "      <td>0.641586</td>\n",
              "      <td>0.347275</td>\n",
              "      <td>3.316625</td>\n",
              "      <td>0.5</td>\n",
              "      <td>0.7</td>\n",
              "      <td>0.1</td>\n",
              "      <td>2</td>\n",
              "      <td>2</td>\n",
              "      <td>9</td>\n",
              "      <td>1</td>\n",
              "      <td>8</td>\n",
              "      <td>2</td>\n",
              "      <td>7</td>\n",
              "      <td>4</td>\n",
              "      <td>2</td>\n",
              "      <td>7</td>\n",
              "      <td>7</td>\n",
              "      <td>0</td>\n",
              "      <td>1</td>\n",
              "      <td>1</td>\n",
              "      <td>0</td>\n",
              "      <td>1</td>\n",
              "      <td>0</td>\n",
              "    </tr>\n",
              "    <tr>\n",
              "      <th>3</th>\n",
              "      <td>16</td>\n",
              "      <td>0</td>\n",
              "      <td>0</td>\n",
              "      <td>1.0</td>\n",
              "      <td>2</td>\n",
              "      <td>0.0</td>\n",
              "      <td>0.0</td>\n",
              "      <td>1</td>\n",
              "      <td>0</td>\n",
              "      <td>0</td>\n",
              "      <td>0</td>\n",
              "      <td>0</td>\n",
              "      <td>0</td>\n",
              "      <td>0</td>\n",
              "      <td>0</td>\n",
              "      <td>0</td>\n",
              "      <td>8</td>\n",
              "      <td>1</td>\n",
              "      <td>0</td>\n",
              "      <td>0</td>\n",
              "      <td>0.9</td>\n",
              "      <td>0.2</td>\n",
              "      <td>0.580948</td>\n",
              "      <td>7.0</td>\n",
              "      <td>1.0</td>\n",
              "      <td>0.0</td>\n",
              "      <td>0</td>\n",
              "      <td>1.0</td>\n",
              "      <td>11</td>\n",
              "      <td>1.0</td>\n",
              "      <td>1</td>\n",
              "      <td>3.0</td>\n",
              "      <td>1</td>\n",
              "      <td>104</td>\n",
              "      <td>1.0</td>\n",
              "      <td>0.374166</td>\n",
              "      <td>0.542949</td>\n",
              "      <td>0.294958</td>\n",
              "      <td>2.000000</td>\n",
              "      <td>0.6</td>\n",
              "      <td>0.9</td>\n",
              "      <td>0.1</td>\n",
              "      <td>2</td>\n",
              "      <td>4</td>\n",
              "      <td>7</td>\n",
              "      <td>1</td>\n",
              "      <td>8</td>\n",
              "      <td>4</td>\n",
              "      <td>2</td>\n",
              "      <td>2</td>\n",
              "      <td>2</td>\n",
              "      <td>4</td>\n",
              "      <td>9</td>\n",
              "      <td>0</td>\n",
              "      <td>0</td>\n",
              "      <td>0</td>\n",
              "      <td>0</td>\n",
              "      <td>0</td>\n",
              "      <td>0</td>\n",
              "    </tr>\n",
              "    <tr>\n",
              "      <th>4</th>\n",
              "      <td>17</td>\n",
              "      <td>0</td>\n",
              "      <td>0</td>\n",
              "      <td>2.0</td>\n",
              "      <td>0</td>\n",
              "      <td>1.0</td>\n",
              "      <td>0.0</td>\n",
              "      <td>1</td>\n",
              "      <td>0</td>\n",
              "      <td>0</td>\n",
              "      <td>0</td>\n",
              "      <td>0</td>\n",
              "      <td>0</td>\n",
              "      <td>0</td>\n",
              "      <td>0</td>\n",
              "      <td>0</td>\n",
              "      <td>9</td>\n",
              "      <td>1</td>\n",
              "      <td>0</td>\n",
              "      <td>0</td>\n",
              "      <td>0.7</td>\n",
              "      <td>0.6</td>\n",
              "      <td>0.840759</td>\n",
              "      <td>11.0</td>\n",
              "      <td>1.0</td>\n",
              "      <td>NaN</td>\n",
              "      <td>0</td>\n",
              "      <td>NaN</td>\n",
              "      <td>14</td>\n",
              "      <td>1.0</td>\n",
              "      <td>1</td>\n",
              "      <td>2.0</td>\n",
              "      <td>1</td>\n",
              "      <td>82</td>\n",
              "      <td>3.0</td>\n",
              "      <td>0.316070</td>\n",
              "      <td>0.565832</td>\n",
              "      <td>0.365103</td>\n",
              "      <td>2.000000</td>\n",
              "      <td>0.4</td>\n",
              "      <td>0.6</td>\n",
              "      <td>0.0</td>\n",
              "      <td>2</td>\n",
              "      <td>2</td>\n",
              "      <td>6</td>\n",
              "      <td>3</td>\n",
              "      <td>10</td>\n",
              "      <td>2</td>\n",
              "      <td>12</td>\n",
              "      <td>3</td>\n",
              "      <td>1</td>\n",
              "      <td>1</td>\n",
              "      <td>3</td>\n",
              "      <td>0</td>\n",
              "      <td>0</td>\n",
              "      <td>0</td>\n",
              "      <td>1</td>\n",
              "      <td>1</td>\n",
              "      <td>0</td>\n",
              "    </tr>\n",
              "  </tbody>\n",
              "</table>\n",
              "</div>"
            ],
            "text/plain": [
              "   id  target  ps_ind_01  ...  ps_calc_18_bin  ps_calc_19_bin  ps_calc_20_bin\n",
              "0   7       0          2  ...               0               0               1\n",
              "1   9       0          1  ...               0               1               0\n",
              "2  13       0          5  ...               0               1               0\n",
              "3  16       0          0  ...               0               0               0\n",
              "4  17       0          0  ...               1               1               0\n",
              "\n",
              "[5 rows x 59 columns]"
            ]
          },
          "metadata": {
            "tags": []
          },
          "execution_count": 7
        }
      ]
    },
    {
      "cell_type": "markdown",
      "metadata": {
        "id": "qbHShlQvxRzz"
      },
      "source": [
        "## Relatório dos dados disponíveis"
      ]
    },
    {
      "cell_type": "code",
      "metadata": {
        "colab": {
          "base_uri": "https://localhost:8080/",
          "height": 553
        },
        "id": "6KOKox_Yx7D4",
        "outputId": "6a8713bb-bddf-4b45-fad6-3b14741a6c2b"
      },
      "source": [
        "relatorio(data, 'target')"
      ],
      "execution_count": 8,
      "outputs": [
        {
          "output_type": "stream",
          "text": [
            "O df apresenta valores miss e as cinco colunas com maior concentração de miss são:\n",
            "           column     %_miss\n",
            "25  ps_car_03_cat  69.089837\n",
            "27  ps_car_05_cat  44.782531\n",
            "22      ps_reg_03  18.106490\n",
            "37      ps_car_14   7.160474\n",
            "29  ps_car_07_cat   1.930237\n",
            "\n",
            "Bad_rate (razão entre quantidade de 1 no target e o total (0 e 1) de valores no target: 0.04\n"
          ],
          "name": "stdout"
        },
        {
          "output_type": "display_data",
          "data": {
            "image/png": "[encoded data removed]",
            "text/plain": [
              "<Figure size 432x288 with 1 Axes>"
            ]
          },
          "metadata": {
            "tags": [],
            "needs_background": "light"
          }
        },
        {
          "output_type": "stream",
          "text": [
            "Correlacao de Pearson: (5 primeiras linhas)\n",
            "           coluna  correlacao\n",
            "1          target    1.000000\n",
            "36      ps_car_13    0.053899\n",
            "35      ps_car_12    0.038800\n",
            "18  ps_ind_17_bin    0.037053\n",
            "21      ps_reg_02    0.034800\n"
          ],
          "name": "stdout"
        }
      ]
    },
    {
      "cell_type": "markdown",
      "metadata": {
        "id": "PX0Mt692xVaU"
      },
      "source": [
        "## Definindo alvo e os df de treino, que são: df binário, df categórico de alta cardinalidade, df categórico de baixa cardinalidade e df numérico"
      ]
    },
    {
      "cell_type": "code",
      "metadata": {
        "id": "6SD58A5JSfnK"
      },
      "source": [
        "data_train = data.copy()\r\n",
        "\r\n",
        "y = data_train['target']\r\n",
        "data_train = data_train.drop(['id','target'], axis=1)"
      ],
      "execution_count": 9,
      "outputs": []
    },
    {
      "cell_type": "markdown",
      "metadata": {
        "id": "tvdLeoNfRWdq"
      },
      "source": [
        "### df categórico de alta cardinalidade e baixa cardinalidade"
      ]
    },
    {
      "cell_type": "code",
      "metadata": {
        "id": "0561vFPxx7nn",
        "colab": {
          "base_uri": "https://localhost:8080/",
          "height": 379
        },
        "outputId": "c02692ed-3488-401e-f1df-d6c7c23c5a66"
      },
      "source": [
        "lista_colunas_cat = []\r\n",
        "for column in data_train.columns:\r\n",
        "    temp = column.split('_')\r\n",
        "    for i in temp:\r\n",
        "        if i == 'cat':\r\n",
        "            lista_colunas_cat.append(column)\r\n",
        "\r\n",
        "unique_df(data_train[lista_colunas_cat],10)"
      ],
      "execution_count": 10,
      "outputs": [
        {
          "output_type": "execute_result",
          "data": {
            "text/html": [
              "<div>\n",
              "<style scoped>\n",
              "    .dataframe tbody tr th:only-of-type {\n",
              "        vertical-align: middle;\n",
              "    }\n",
              "\n",
              "    .dataframe tbody tr th {\n",
              "        vertical-align: top;\n",
              "    }\n",
              "\n",
              "    .dataframe thead th {\n",
              "        text-align: right;\n",
              "    }\n",
              "</style>\n",
              "<table border=\"1\" class=\"dataframe\">\n",
              "  <thead>\n",
              "    <tr style=\"text-align: right;\">\n",
              "      <th></th>\n",
              "      <th>ps_ind_02_cat</th>\n",
              "      <th>ps_ind_04_cat</th>\n",
              "      <th>ps_ind_05_cat</th>\n",
              "      <th>ps_car_01_cat</th>\n",
              "      <th>ps_car_02_cat</th>\n",
              "      <th>ps_car_03_cat</th>\n",
              "      <th>ps_car_04_cat</th>\n",
              "      <th>ps_car_05_cat</th>\n",
              "      <th>ps_car_06_cat</th>\n",
              "      <th>ps_car_07_cat</th>\n",
              "      <th>ps_car_08_cat</th>\n",
              "      <th>ps_car_09_cat</th>\n",
              "      <th>ps_car_10_cat</th>\n",
              "      <th>ps_car_11_cat</th>\n",
              "    </tr>\n",
              "  </thead>\n",
              "  <tbody>\n",
              "    <tr>\n",
              "      <th>0</th>\n",
              "      <td>2</td>\n",
              "      <td>1</td>\n",
              "      <td>0</td>\n",
              "      <td>10.0</td>\n",
              "      <td>1</td>\n",
              "      <td></td>\n",
              "      <td>0</td>\n",
              "      <td>1</td>\n",
              "      <td>4</td>\n",
              "      <td>1</td>\n",
              "      <td>0</td>\n",
              "      <td>0</td>\n",
              "      <td>1</td>\n",
              "      <td>12</td>\n",
              "    </tr>\n",
              "    <tr>\n",
              "      <th>1</th>\n",
              "      <td>1</td>\n",
              "      <td>0</td>\n",
              "      <td>1</td>\n",
              "      <td>11.0</td>\n",
              "      <td>0</td>\n",
              "      <td>0</td>\n",
              "      <td>1</td>\n",
              "      <td></td>\n",
              "      <td>11</td>\n",
              "      <td></td>\n",
              "      <td>1</td>\n",
              "      <td>2</td>\n",
              "      <td>0</td>\n",
              "      <td>19</td>\n",
              "    </tr>\n",
              "    <tr>\n",
              "      <th>2</th>\n",
              "      <td>4</td>\n",
              "      <td></td>\n",
              "      <td>4</td>\n",
              "      <td>7.0</td>\n",
              "      <td></td>\n",
              "      <td>1</td>\n",
              "      <td>8</td>\n",
              "      <td>0</td>\n",
              "      <td>14</td>\n",
              "      <td>0</td>\n",
              "      <td></td>\n",
              "      <td>3</td>\n",
              "      <td>2</td>\n",
              "      <td>60</td>\n",
              "    </tr>\n",
              "    <tr>\n",
              "      <th>3</th>\n",
              "      <td>3</td>\n",
              "      <td></td>\n",
              "      <td>3</td>\n",
              "      <td>6.0</td>\n",
              "      <td></td>\n",
              "      <td></td>\n",
              "      <td>9</td>\n",
              "      <td></td>\n",
              "      <td>13</td>\n",
              "      <td></td>\n",
              "      <td></td>\n",
              "      <td>1</td>\n",
              "      <td></td>\n",
              "      <td>104</td>\n",
              "    </tr>\n",
              "    <tr>\n",
              "      <th>4</th>\n",
              "      <td></td>\n",
              "      <td></td>\n",
              "      <td>6</td>\n",
              "      <td>9.0</td>\n",
              "      <td></td>\n",
              "      <td></td>\n",
              "      <td>2</td>\n",
              "      <td></td>\n",
              "      <td>6</td>\n",
              "      <td></td>\n",
              "      <td></td>\n",
              "      <td></td>\n",
              "      <td></td>\n",
              "      <td>82</td>\n",
              "    </tr>\n",
              "    <tr>\n",
              "      <th>5</th>\n",
              "      <td></td>\n",
              "      <td></td>\n",
              "      <td>5</td>\n",
              "      <td>5.0</td>\n",
              "      <td></td>\n",
              "      <td></td>\n",
              "      <td>6</td>\n",
              "      <td></td>\n",
              "      <td>15</td>\n",
              "      <td></td>\n",
              "      <td></td>\n",
              "      <td>4</td>\n",
              "      <td></td>\n",
              "      <td>99</td>\n",
              "    </tr>\n",
              "    <tr>\n",
              "      <th>6</th>\n",
              "      <td></td>\n",
              "      <td></td>\n",
              "      <td></td>\n",
              "      <td>4.0</td>\n",
              "      <td></td>\n",
              "      <td></td>\n",
              "      <td>3</td>\n",
              "      <td></td>\n",
              "      <td>3</td>\n",
              "      <td></td>\n",
              "      <td></td>\n",
              "      <td></td>\n",
              "      <td></td>\n",
              "      <td>30</td>\n",
              "    </tr>\n",
              "    <tr>\n",
              "      <th>7</th>\n",
              "      <td></td>\n",
              "      <td></td>\n",
              "      <td>2</td>\n",
              "      <td>8.0</td>\n",
              "      <td></td>\n",
              "      <td></td>\n",
              "      <td>7</td>\n",
              "      <td></td>\n",
              "      <td>0</td>\n",
              "      <td></td>\n",
              "      <td></td>\n",
              "      <td></td>\n",
              "      <td></td>\n",
              "      <td>68</td>\n",
              "    </tr>\n",
              "    <tr>\n",
              "      <th>8</th>\n",
              "      <td></td>\n",
              "      <td></td>\n",
              "      <td></td>\n",
              "      <td>3.0</td>\n",
              "      <td></td>\n",
              "      <td></td>\n",
              "      <td>4</td>\n",
              "      <td></td>\n",
              "      <td>1</td>\n",
              "      <td></td>\n",
              "      <td></td>\n",
              "      <td></td>\n",
              "      <td></td>\n",
              "      <td>20</td>\n",
              "    </tr>\n",
              "    <tr>\n",
              "      <th>9</th>\n",
              "      <td></td>\n",
              "      <td></td>\n",
              "      <td></td>\n",
              "      <td>0.0</td>\n",
              "      <td></td>\n",
              "      <td></td>\n",
              "      <td>5</td>\n",
              "      <td></td>\n",
              "      <td>10</td>\n",
              "      <td></td>\n",
              "      <td></td>\n",
              "      <td></td>\n",
              "      <td></td>\n",
              "      <td>36</td>\n",
              "    </tr>\n",
              "  </tbody>\n",
              "</table>\n",
              "</div>"
            ],
            "text/plain": [
              "  ps_ind_02_cat ps_ind_04_cat  ... ps_car_10_cat  ps_car_11_cat\n",
              "0             2             1  ...             1             12\n",
              "1             1             0  ...             0             19\n",
              "2             4                ...             2             60\n",
              "3             3                ...                          104\n",
              "4                              ...                           82\n",
              "5                              ...                           99\n",
              "6                              ...                           30\n",
              "7                              ...                           68\n",
              "8                              ...                           20\n",
              "9                              ...                           36\n",
              "\n",
              "[10 rows x 14 columns]"
            ]
          },
          "metadata": {
            "tags": []
          },
          "execution_count": 10
        }
      ]
    },
    {
      "cell_type": "code",
      "metadata": {
        "id": "Bd7kwLfgJLHe"
      },
      "source": [
        "df_categoricoAltaC = data_train[['ps_car_01_cat', 'ps_car_04_cat', 'ps_car_06_cat', 'ps_car_11_cat']]\r\n",
        "df_categoricoBaixaC = data_train[['ps_ind_02_cat', 'ps_ind_04_cat', 'ps_ind_05_cat', 'ps_car_02_cat', 'ps_car_03_cat', 'ps_car_05_cat', 'ps_car_07_cat', 'ps_car_08_cat', 'ps_car_09_cat', 'ps_car_10_cat']]"
      ],
      "execution_count": 11,
      "outputs": []
    },
    {
      "cell_type": "markdown",
      "metadata": {
        "id": "R5vnjDRFRczB"
      },
      "source": [
        "### df binário"
      ]
    },
    {
      "cell_type": "code",
      "metadata": {
        "id": "1uTUCcAxEXi7"
      },
      "source": [
        "lista_colunas_binarios = []\r\n",
        "for column in data_train.columns:\r\n",
        "    temp = column.split('_')\r\n",
        "    for i in temp:\r\n",
        "        if i == 'bin':\r\n",
        "            lista_colunas_binarios.append(column)\r\n",
        "\r\n",
        "df_binario = data_train[lista_colunas_binarios]"
      ],
      "execution_count": 12,
      "outputs": []
    },
    {
      "cell_type": "markdown",
      "metadata": {
        "id": "NDZ7cX3pTBLZ"
      },
      "source": [
        "### df numérico"
      ]
    },
    {
      "cell_type": "code",
      "metadata": {
        "id": "Oat75EPjTFRw"
      },
      "source": [
        "df_numerico = data_train.drop(lista_colunas_binarios, axis=1)\r\n",
        "df_numerico = df_numerico.drop(lista_colunas_cat, axis=1)"
      ],
      "execution_count": 13,
      "outputs": []
    },
    {
      "cell_type": "markdown",
      "metadata": {
        "id": "9v23hPIcUt5i"
      },
      "source": [
        "#### verificando se nenhuma coluna ficou de fora de alguma df"
      ]
    },
    {
      "cell_type": "code",
      "metadata": {
        "colab": {
          "base_uri": "https://localhost:8080/"
        },
        "id": "6aWivg0jU3-a",
        "outputId": "357f4564-11a0-4fba-aee2-e1396dcc41f2"
      },
      "source": [
        "a = len(df_binario.columns)\r\n",
        "b = len(df_categoricoAltaC.columns)\r\n",
        "c = len(df_categoricoBaixaC.columns)\r\n",
        "d = len(df_numerico.columns)\r\n",
        "total = len(data_train.columns)\r\n",
        "\r\n",
        "total == a + b + c + d"
      ],
      "execution_count": 14,
      "outputs": [
        {
          "output_type": "execute_result",
          "data": {
            "text/plain": [
              "True"
            ]
          },
          "metadata": {
            "tags": []
          },
          "execution_count": 14
        }
      ]
    },
    {
      "cell_type": "markdown",
      "metadata": {
        "id": "n-XShPQ2VQ7k"
      },
      "source": [
        "## Tratando os dataframes"
      ]
    },
    {
      "cell_type": "markdown",
      "metadata": {
        "id": "_6wwHo-qVURw"
      },
      "source": [
        "### binário"
      ]
    },
    {
      "cell_type": "code",
      "metadata": {
        "colab": {
          "base_uri": "https://localhost:8080/",
          "height": 204
        },
        "id": "kiAINj07VU2s",
        "outputId": "014e1877-bfa2-478a-9048-023eebfcd662"
      },
      "source": [
        "RelatorioMiss(df_binario).head()"
      ],
      "execution_count": 15,
      "outputs": [
        {
          "output_type": "execute_result",
          "data": {
            "text/html": [
              "<div>\n",
              "<style scoped>\n",
              "    .dataframe tbody tr th:only-of-type {\n",
              "        vertical-align: middle;\n",
              "    }\n",
              "\n",
              "    .dataframe tbody tr th {\n",
              "        vertical-align: top;\n",
              "    }\n",
              "\n",
              "    .dataframe thead th {\n",
              "        text-align: right;\n",
              "    }\n",
              "</style>\n",
              "<table border=\"1\" class=\"dataframe\">\n",
              "  <thead>\n",
              "    <tr style=\"text-align: right;\">\n",
              "      <th></th>\n",
              "      <th>index</th>\n",
              "      <th>P_miss</th>\n",
              "    </tr>\n",
              "  </thead>\n",
              "  <tbody>\n",
              "    <tr>\n",
              "      <th>0</th>\n",
              "      <td>ps_ind_06_bin</td>\n",
              "      <td>0.0</td>\n",
              "    </tr>\n",
              "    <tr>\n",
              "      <th>9</th>\n",
              "      <td>ps_ind_17_bin</td>\n",
              "      <td>0.0</td>\n",
              "    </tr>\n",
              "    <tr>\n",
              "      <th>15</th>\n",
              "      <td>ps_calc_19_bin</td>\n",
              "      <td>0.0</td>\n",
              "    </tr>\n",
              "    <tr>\n",
              "      <th>14</th>\n",
              "      <td>ps_calc_18_bin</td>\n",
              "      <td>0.0</td>\n",
              "    </tr>\n",
              "    <tr>\n",
              "      <th>13</th>\n",
              "      <td>ps_calc_17_bin</td>\n",
              "      <td>0.0</td>\n",
              "    </tr>\n",
              "  </tbody>\n",
              "</table>\n",
              "</div>"
            ],
            "text/plain": [
              "             index  P_miss\n",
              "0    ps_ind_06_bin     0.0\n",
              "9    ps_ind_17_bin     0.0\n",
              "15  ps_calc_19_bin     0.0\n",
              "14  ps_calc_18_bin     0.0\n",
              "13  ps_calc_17_bin     0.0"
            ]
          },
          "metadata": {
            "tags": []
          },
          "execution_count": 15
        }
      ]
    },
    {
      "cell_type": "markdown",
      "metadata": {
        "id": "d9uF-syZVVAb"
      },
      "source": [
        "### Categórico de alta cardinalidade\r\n",
        "\r\n"
      ]
    },
    {
      "cell_type": "code",
      "metadata": {
        "colab": {
          "base_uri": "https://localhost:8080/",
          "height": 173
        },
        "id": "x5sTYs5cVVKO",
        "outputId": "7c17d077-2698-4aed-b1a7-39e9d204ee08"
      },
      "source": [
        "RelatorioMiss(df_categoricoAltaC).head()"
      ],
      "execution_count": 16,
      "outputs": [
        {
          "output_type": "execute_result",
          "data": {
            "text/html": [
              "<div>\n",
              "<style scoped>\n",
              "    .dataframe tbody tr th:only-of-type {\n",
              "        vertical-align: middle;\n",
              "    }\n",
              "\n",
              "    .dataframe tbody tr th {\n",
              "        vertical-align: top;\n",
              "    }\n",
              "\n",
              "    .dataframe thead th {\n",
              "        text-align: right;\n",
              "    }\n",
              "</style>\n",
              "<table border=\"1\" class=\"dataframe\">\n",
              "  <thead>\n",
              "    <tr style=\"text-align: right;\">\n",
              "      <th></th>\n",
              "      <th>index</th>\n",
              "      <th>P_miss</th>\n",
              "    </tr>\n",
              "  </thead>\n",
              "  <tbody>\n",
              "    <tr>\n",
              "      <th>0</th>\n",
              "      <td>ps_car_01_cat</td>\n",
              "      <td>0.017977</td>\n",
              "    </tr>\n",
              "    <tr>\n",
              "      <th>1</th>\n",
              "      <td>ps_car_04_cat</td>\n",
              "      <td>0.000000</td>\n",
              "    </tr>\n",
              "    <tr>\n",
              "      <th>2</th>\n",
              "      <td>ps_car_06_cat</td>\n",
              "      <td>0.000000</td>\n",
              "    </tr>\n",
              "    <tr>\n",
              "      <th>3</th>\n",
              "      <td>ps_car_11_cat</td>\n",
              "      <td>0.000000</td>\n",
              "    </tr>\n",
              "  </tbody>\n",
              "</table>\n",
              "</div>"
            ],
            "text/plain": [
              "           index    P_miss\n",
              "0  ps_car_01_cat  0.017977\n",
              "1  ps_car_04_cat  0.000000\n",
              "2  ps_car_06_cat  0.000000\n",
              "3  ps_car_11_cat  0.000000"
            ]
          },
          "metadata": {
            "tags": []
          },
          "execution_count": 16
        }
      ]
    },
    {
      "cell_type": "code",
      "metadata": {
        "id": "Mv88VwlbWl4F"
      },
      "source": [
        "df_categoricoAltaC = df_categoricoAltaC.fillna('Miss')"
      ],
      "execution_count": 17,
      "outputs": []
    },
    {
      "cell_type": "code",
      "metadata": {
        "id": "fQe8LvQvZ3Ms"
      },
      "source": [
        "for column in df_categoricoAltaC.columns:\r\n",
        "    df_categoricoAltaC[column] = df_categoricoAltaC[column].apply(lambda x: str(x) +'_categorico')"
      ],
      "execution_count": 18,
      "outputs": []
    },
    {
      "cell_type": "code",
      "metadata": {
        "id": "thmJTntrWtWb"
      },
      "source": [
        "from sklearn.preprocessing import LabelEncoder\r\n",
        "\r\n",
        "LE = LabelEncoder()\r\n",
        "\r\n",
        "df_categoricoAltaC_encodado = df_categoricoAltaC.copy()\r\n",
        "\r\n",
        "for column in df_categoricoAltaC.columns:\r\n",
        "    df_categoricoAltaC_encodado[column] = LE.fit_transform(df_categoricoAltaC_encodado[column])"
      ],
      "execution_count": 19,
      "outputs": []
    },
    {
      "cell_type": "markdown",
      "metadata": {
        "id": "fSIpwQ4uVVdw"
      },
      "source": [
        "### Categórico de baixa cardinalidade"
      ]
    },
    {
      "cell_type": "code",
      "metadata": {
        "colab": {
          "base_uri": "https://localhost:8080/",
          "height": 204
        },
        "id": "gAZFOhA-YGd7",
        "outputId": "8e3d1e3a-8a22-44fe-cd26-ba71718318de"
      },
      "source": [
        "RelatorioMiss(df_categoricoBaixaC).head()"
      ],
      "execution_count": 20,
      "outputs": [
        {
          "output_type": "execute_result",
          "data": {
            "text/html": [
              "<div>\n",
              "<style scoped>\n",
              "    .dataframe tbody tr th:only-of-type {\n",
              "        vertical-align: middle;\n",
              "    }\n",
              "\n",
              "    .dataframe tbody tr th {\n",
              "        vertical-align: top;\n",
              "    }\n",
              "\n",
              "    .dataframe thead th {\n",
              "        text-align: right;\n",
              "    }\n",
              "</style>\n",
              "<table border=\"1\" class=\"dataframe\">\n",
              "  <thead>\n",
              "    <tr style=\"text-align: right;\">\n",
              "      <th></th>\n",
              "      <th>index</th>\n",
              "      <th>P_miss</th>\n",
              "    </tr>\n",
              "  </thead>\n",
              "  <tbody>\n",
              "    <tr>\n",
              "      <th>4</th>\n",
              "      <td>ps_car_03_cat</td>\n",
              "      <td>69.089837</td>\n",
              "    </tr>\n",
              "    <tr>\n",
              "      <th>5</th>\n",
              "      <td>ps_car_05_cat</td>\n",
              "      <td>44.782531</td>\n",
              "    </tr>\n",
              "    <tr>\n",
              "      <th>6</th>\n",
              "      <td>ps_car_07_cat</td>\n",
              "      <td>1.930237</td>\n",
              "    </tr>\n",
              "    <tr>\n",
              "      <th>2</th>\n",
              "      <td>ps_ind_05_cat</td>\n",
              "      <td>0.975955</td>\n",
              "    </tr>\n",
              "    <tr>\n",
              "      <th>8</th>\n",
              "      <td>ps_car_09_cat</td>\n",
              "      <td>0.095596</td>\n",
              "    </tr>\n",
              "  </tbody>\n",
              "</table>\n",
              "</div>"
            ],
            "text/plain": [
              "           index     P_miss\n",
              "4  ps_car_03_cat  69.089837\n",
              "5  ps_car_05_cat  44.782531\n",
              "6  ps_car_07_cat   1.930237\n",
              "2  ps_ind_05_cat   0.975955\n",
              "8  ps_car_09_cat   0.095596"
            ]
          },
          "metadata": {
            "tags": []
          },
          "execution_count": 20
        }
      ]
    },
    {
      "cell_type": "code",
      "metadata": {
        "id": "6CM-TKERVVpt"
      },
      "source": [
        "for column in df_categoricoBaixaC.columns:\r\n",
        "    df_categoricoBaixaC[column] = df_categoricoBaixaC[column].apply(lambda x: str(x) +'_categorico')"
      ],
      "execution_count": 21,
      "outputs": []
    },
    {
      "cell_type": "code",
      "metadata": {
        "id": "3eEgyahqpB-O"
      },
      "source": [
        "df_categoricoBaixaC_dummy = pd.get_dummies(df_categoricoBaixaC, dummy_na = False, drop_first=True)"
      ],
      "execution_count": 22,
      "outputs": []
    },
    {
      "cell_type": "markdown",
      "metadata": {
        "id": "worF2eKJX7tS"
      },
      "source": [
        "### Numérico"
      ]
    },
    {
      "cell_type": "code",
      "metadata": {
        "colab": {
          "base_uri": "https://localhost:8080/",
          "height": 204
        },
        "id": "1fNUDXvyX-EW",
        "outputId": "aef9f045-0e85-4537-b1a9-4d016f13fc2d"
      },
      "source": [
        "RelatorioMiss(df_numerico).head()"
      ],
      "execution_count": 23,
      "outputs": [
        {
          "output_type": "execute_result",
          "data": {
            "text/html": [
              "<div>\n",
              "<style scoped>\n",
              "    .dataframe tbody tr th:only-of-type {\n",
              "        vertical-align: middle;\n",
              "    }\n",
              "\n",
              "    .dataframe tbody tr th {\n",
              "        vertical-align: top;\n",
              "    }\n",
              "\n",
              "    .dataframe thead th {\n",
              "        text-align: right;\n",
              "    }\n",
              "</style>\n",
              "<table border=\"1\" class=\"dataframe\">\n",
              "  <thead>\n",
              "    <tr style=\"text-align: right;\">\n",
              "      <th></th>\n",
              "      <th>index</th>\n",
              "      <th>P_miss</th>\n",
              "    </tr>\n",
              "  </thead>\n",
              "  <tbody>\n",
              "    <tr>\n",
              "      <th>6</th>\n",
              "      <td>ps_reg_03</td>\n",
              "      <td>18.106490</td>\n",
              "    </tr>\n",
              "    <tr>\n",
              "      <th>10</th>\n",
              "      <td>ps_car_14</td>\n",
              "      <td>7.160474</td>\n",
              "    </tr>\n",
              "    <tr>\n",
              "      <th>7</th>\n",
              "      <td>ps_car_11</td>\n",
              "      <td>0.000840</td>\n",
              "    </tr>\n",
              "    <tr>\n",
              "      <th>8</th>\n",
              "      <td>ps_car_12</td>\n",
              "      <td>0.000168</td>\n",
              "    </tr>\n",
              "    <tr>\n",
              "      <th>0</th>\n",
              "      <td>ps_ind_01</td>\n",
              "      <td>0.000000</td>\n",
              "    </tr>\n",
              "  </tbody>\n",
              "</table>\n",
              "</div>"
            ],
            "text/plain": [
              "        index     P_miss\n",
              "6   ps_reg_03  18.106490\n",
              "10  ps_car_14   7.160474\n",
              "7   ps_car_11   0.000840\n",
              "8   ps_car_12   0.000168\n",
              "0   ps_ind_01   0.000000"
            ]
          },
          "metadata": {
            "tags": []
          },
          "execution_count": 23
        }
      ]
    },
    {
      "cell_type": "code",
      "metadata": {
        "id": "lDku4ImxYdnU"
      },
      "source": [
        "from sklearn.impute import SimpleImputer\r\n",
        "\r\n",
        "imp_mean = SimpleImputer(missing_values=np.nan, strategy='mean')\r\n",
        "imp_mean.fit(df_numerico)\r\n",
        "df_numerico_tratado = pd.DataFrame(imp_mean.transform(df_numerico), columns=df_numerico.columns)\r\n",
        "df_numerico_tratado.index = df_numerico.index"
      ],
      "execution_count": 24,
      "outputs": []
    },
    {
      "cell_type": "markdown",
      "metadata": {
        "id": "pptyC2e6Y1yQ"
      },
      "source": [
        "## Juntando os df"
      ]
    },
    {
      "cell_type": "code",
      "metadata": {
        "id": "zhP59893Y39V"
      },
      "source": [
        "#df2 = df_categoricoBaixaC_dummy + df_binario\r\n",
        "#df3 = df_categoricoAltaC_encodado + df_numerico_tratado\r\n",
        "#df4 = df2 + df3\r\n",
        "\r\n",
        "df2 = pd.merge(df_categoricoBaixaC_dummy, df_binario, how='left', left_index= True, right_index= True)\r\n",
        "df3 = pd.merge(df_categoricoAltaC_encodado, df_numerico_tratado, how= 'left', left_index= True, right_index= True)\r\n",
        "df4 = pd.merge(df2, df3, how= 'left', left_index= True, right_index= True)"
      ],
      "execution_count": 25,
      "outputs": []
    },
    {
      "cell_type": "markdown",
      "metadata": {
        "id": "t5YbmeerxeaM"
      },
      "source": [
        "## Normalização dos dados"
      ]
    },
    {
      "cell_type": "code",
      "metadata": {
        "id": "yPN_M-Bhx8QY"
      },
      "source": [
        "abt_train = normalizacao(df4)"
      ],
      "execution_count": 26,
      "outputs": []
    },
    {
      "cell_type": "markdown",
      "metadata": {
        "id": "dmhODHIgx0gz"
      },
      "source": [
        "#### Testando modelos"
      ]
    },
    {
      "cell_type": "code",
      "metadata": {
        "id": "dcnpCA0Ox13w"
      },
      "source": [
        "from sklearn.model_selection import train_test_split\r\n",
        "\r\n",
        "X_desenv, X_valid, y_desenv, y_valid = train_test_split(abt_train, y, train_size = 0.7, test_size = 0.3, random_state = 42)"
      ],
      "execution_count": 27,
      "outputs": []
    },
    {
      "cell_type": "code",
      "metadata": {
        "colab": {
          "base_uri": "https://localhost:8080/"
        },
        "id": "EYh8jsj4YVur",
        "outputId": "ccf26e57-aef4-4e2b-d651-175bd12ac88d"
      },
      "source": [
        "from sklearn.ensemble import RandomForestClassifier\r\n",
        "from sklearn.linear_model import LogisticRegression\r\n",
        "from sklearn.ensemble import GradientBoostingClassifier\r\n",
        "\r\n",
        "RF = RandomForestClassifier(n_estimators=100, \r\n",
        "                            criterion='gini', \r\n",
        "                            max_depth=6, \r\n",
        "                            min_samples_split=2, \r\n",
        "                            min_samples_leaf=1)\r\n",
        "RF.fit(X_desenv, y_desenv)\r\n",
        "\r\n",
        "LR = LogisticRegression()\r\n",
        "LR.fit(X_desenv, y_desenv)\r\n",
        "\r\n",
        "GB = GradientBoostingClassifier()\r\n",
        "GB.fit(X_desenv, y_desenv)"
      ],
      "execution_count": 28,
      "outputs": [
        {
          "output_type": "execute_result",
          "data": {
            "text/plain": [
              "GradientBoostingClassifier(ccp_alpha=0.0, criterion='friedman_mse', init=None,\n",
              "                           learning_rate=0.1, loss='deviance', max_depth=3,\n",
              "                           max_features=None, max_leaf_nodes=None,\n",
              "                           min_impurity_decrease=0.0, min_impurity_split=None,\n",
              "                           min_samples_leaf=1, min_samples_split=2,\n",
              "                           min_weight_fraction_leaf=0.0, n_estimators=100,\n",
              "                           n_iter_no_change=None, presort='deprecated',\n",
              "                           random_state=None, subsample=1.0, tol=0.0001,\n",
              "                           validation_fraction=0.1, verbose=0,\n",
              "                           warm_start=False)"
            ]
          },
          "metadata": {
            "tags": []
          },
          "execution_count": 28
        }
      ]
    },
    {
      "cell_type": "code",
      "metadata": {
        "colab": {
          "base_uri": "https://localhost:8080/",
          "height": 1000
        },
        "id": "H7A_fSYmgDX3",
        "outputId": "c6b822e8-e986-4a52-835e-3996ebc3c64c"
      },
      "source": [
        "lista = [RF, LR, GB]\r\n",
        "lista_nome = ['Random Forest Classifier', 'Logistic Regression', 'Gradient Boosting Classifier']\r\n",
        "n=0\r\n",
        "for i in lista:\r\n",
        "    model = i\r\n",
        "    y_pred_train = model.predict(X_desenv)\r\n",
        "    y_score_train = model.predict_proba(X_desenv)[:,1]\r\n",
        "    y_train = y_desenv\r\n",
        "    y_pred_test = model.predict(X_valid)\r\n",
        "    y_score_test = model.predict_proba(X_valid)[:,1]\r\n",
        "    y_test = y_valid\r\n",
        "    titulo = f\"Curva ROC - {lista_nome[n]}\"\r\n",
        "    n+=1\r\n",
        "\r\n",
        "    roccurve(y_train,y_pred_train,y_score_train,y_test,y_pred_test,y_score_test,titulo)"
      ],
      "execution_count": 29,
      "outputs": [
        {
          "output_type": "display_data",
          "data": {
            "image/png": "[encoded data removed]",
            "text/plain": [
              "<Figure size 864x432 with 1 Axes>"
            ]
          },
          "metadata": {
            "tags": []
          }
        },
        {
          "output_type": "stream",
          "text": [
            "Base de Desenv\n",
            "Acurácia: 96.37, Gini: 28.000000000000004 e Área Curva ROC: 63.87\n",
            "\n",
            "Base de Valid\n",
            "Acurácia: 96.31, Gini: 25.0 e Área Curva ROC: 62.47\n",
            "\n",
            "\n"
          ],
          "name": "stdout"
        },
        {
          "output_type": "display_data",
          "data": {
            "image/png": "[encoded data removed]",
            "text/plain": [
              "<Figure size 864x432 with 1 Axes>"
            ]
          },
          "metadata": {
            "tags": []
          }
        },
        {
          "output_type": "stream",
          "text": [
            "Base de Desenv\n",
            "Acurácia: 96.37, Gini: 26.0 e Área Curva ROC: 62.9\n",
            "\n",
            "Base de Valid\n",
            "Acurácia: 96.31, Gini: 25.0 e Área Curva ROC: 62.69\n",
            "\n",
            "\n"
          ],
          "name": "stdout"
        },
        {
          "output_type": "display_data",
          "data": {
            "image/png": "[encoded data removed]",
            "text/plain": [
              "<Figure size 864x432 with 1 Axes>"
            ]
          },
          "metadata": {
            "tags": []
          }
        },
        {
          "output_type": "stream",
          "text": [
            "Base de Desenv\n",
            "Acurácia: 96.38, Gini: 30.0 e Área Curva ROC: 64.99\n",
            "\n",
            "Base de Valid\n",
            "Acurácia: 96.31, Gini: 27.0 e Área Curva ROC: 63.53\n",
            "\n",
            "\n"
          ],
          "name": "stdout"
        }
      ]
    },
    {
      "cell_type": "markdown",
      "metadata": {
        "id": "lZI4vGzc1cTN"
      },
      "source": [
        "#### Calibrando o melhor modelo"
      ]
    },
    {
      "cell_type": "code",
      "metadata": {
        "id": "od_uigaj1ZXK",
        "colab": {
          "base_uri": "https://localhost:8080/"
        },
        "outputId": "4e949ab3-c52b-4b19-a2fb-dee61735ce55"
      },
      "source": [
        "# Como o score do kaggle considera a Gini, então o melhor modelo é o Gradient Boosting\r\n",
        "model = GradientBoostingClassifier()\r\n",
        "\r\n",
        "parametros = {'n_estimators':[100],\r\n",
        "              'max_depth':[6] }\r\n",
        "\r\n",
        "from sklearn.model_selection import GridSearchCV\r\n",
        "\r\n",
        "grid = GridSearchCV(estimator = model,        \r\n",
        "                    param_grid = parametros,  \r\n",
        "                    cv = 3)  \r\n",
        "\r\n",
        "# Treinando o grid.\r\n",
        "grid.fit(X_desenv, y_desenv)\r\n",
        "\r\n",
        "best_params = grid.best_params_\r\n",
        "\r\n",
        "# Imprimindo as colunas de interesse do resultado.\r\n",
        "print('\\nOs melhores parametros sao: ')\r\n",
        "print(best_params)"
      ],
      "execution_count": 30,
      "outputs": [
        {
          "output_type": "stream",
          "text": [
            "\n",
            "Os melhores parametros sao: \n",
            "{'max_depth': 6, 'n_estimators': 100}\n"
          ],
          "name": "stdout"
        }
      ]
    },
    {
      "cell_type": "markdown",
      "metadata": {
        "id": "_jEbetTL2c0k"
      },
      "source": [
        "#### Importância das variáveis"
      ]
    },
    {
      "cell_type": "code",
      "metadata": {
        "id": "kV5Gmaa116SU",
        "colab": {
          "base_uri": "https://localhost:8080/"
        },
        "outputId": "c4667f05-3a00-424f-f9a4-eed141a3ba97"
      },
      "source": [
        "model = grid.best_estimator_\r\n",
        "model.fit(abt_train,y)"
      ],
      "execution_count": 31,
      "outputs": [
        {
          "output_type": "execute_result",
          "data": {
            "text/plain": [
              "GradientBoostingClassifier(ccp_alpha=0.0, criterion='friedman_mse', init=None,\n",
              "                           learning_rate=0.1, loss='deviance', max_depth=6,\n",
              "                           max_features=None, max_leaf_nodes=None,\n",
              "                           min_impurity_decrease=0.0, min_impurity_split=None,\n",
              "                           min_samples_leaf=1, min_samples_split=2,\n",
              "                           min_weight_fraction_leaf=0.0, n_estimators=100,\n",
              "                           n_iter_no_change=None, presort='deprecated',\n",
              "                           random_state=None, subsample=1.0, tol=0.0001,\n",
              "                           validation_fraction=0.1, verbose=0,\n",
              "                           warm_start=False)"
            ]
          },
          "metadata": {
            "tags": []
          },
          "execution_count": 31
        }
      ]
    },
    {
      "cell_type": "code",
      "metadata": {
        "colab": {
          "base_uri": "https://localhost:8080/",
          "height": 1000
        },
        "id": "epaEsoXZ4xOt",
        "outputId": "840bc93e-647f-4e04-c1d0-302eff2733cc"
      },
      "source": [
        "pd.options.display.max_rows = 500\r\n",
        "var_e_imp = pd.DataFrame({'Variaveis':abt_train.columns.tolist(), 'Importancia':model.feature_importances_.tolist()}).sort_values('Importancia', ascending=False).reset_index(drop=True)\r\n",
        "var_e_imp"
      ],
      "execution_count": 32,
      "outputs": [
        {
          "output_type": "execute_result",
          "data": {
            "text/html": [
              "<div>\n",
              "<style scoped>\n",
              "    .dataframe tbody tr th:only-of-type {\n",
              "        vertical-align: middle;\n",
              "    }\n",
              "\n",
              "    .dataframe tbody tr th {\n",
              "        vertical-align: top;\n",
              "    }\n",
              "\n",
              "    .dataframe thead th {\n",
              "        text-align: right;\n",
              "    }\n",
              "</style>\n",
              "<table border=\"1\" class=\"dataframe\">\n",
              "  <thead>\n",
              "    <tr style=\"text-align: right;\">\n",
              "      <th></th>\n",
              "      <th>Variaveis</th>\n",
              "      <th>Importancia</th>\n",
              "    </tr>\n",
              "  </thead>\n",
              "  <tbody>\n",
              "    <tr>\n",
              "      <th>0</th>\n",
              "      <td>ps_car_13</td>\n",
              "      <td>0.162830</td>\n",
              "    </tr>\n",
              "    <tr>\n",
              "      <th>1</th>\n",
              "      <td>ps_reg_03</td>\n",
              "      <td>0.071578</td>\n",
              "    </tr>\n",
              "    <tr>\n",
              "      <th>2</th>\n",
              "      <td>ps_ind_03</td>\n",
              "      <td>0.051924</td>\n",
              "    </tr>\n",
              "    <tr>\n",
              "      <th>3</th>\n",
              "      <td>ps_car_14</td>\n",
              "      <td>0.044893</td>\n",
              "    </tr>\n",
              "    <tr>\n",
              "      <th>4</th>\n",
              "      <td>ps_ind_17_bin</td>\n",
              "      <td>0.034369</td>\n",
              "    </tr>\n",
              "    <tr>\n",
              "      <th>5</th>\n",
              "      <td>ps_ind_15</td>\n",
              "      <td>0.031455</td>\n",
              "    </tr>\n",
              "    <tr>\n",
              "      <th>6</th>\n",
              "      <td>ps_reg_02</td>\n",
              "      <td>0.030177</td>\n",
              "    </tr>\n",
              "    <tr>\n",
              "      <th>7</th>\n",
              "      <td>ps_calc_10</td>\n",
              "      <td>0.026051</td>\n",
              "    </tr>\n",
              "    <tr>\n",
              "      <th>8</th>\n",
              "      <td>ps_ind_01</td>\n",
              "      <td>0.025422</td>\n",
              "    </tr>\n",
              "    <tr>\n",
              "      <th>9</th>\n",
              "      <td>ps_car_01_cat</td>\n",
              "      <td>0.024670</td>\n",
              "    </tr>\n",
              "    <tr>\n",
              "      <th>10</th>\n",
              "      <td>ps_calc_14</td>\n",
              "      <td>0.022505</td>\n",
              "    </tr>\n",
              "    <tr>\n",
              "      <th>11</th>\n",
              "      <td>ps_car_12</td>\n",
              "      <td>0.022140</td>\n",
              "    </tr>\n",
              "    <tr>\n",
              "      <th>12</th>\n",
              "      <td>ps_reg_01</td>\n",
              "      <td>0.022093</td>\n",
              "    </tr>\n",
              "    <tr>\n",
              "      <th>13</th>\n",
              "      <td>ps_ind_05_cat_6.0_categorico</td>\n",
              "      <td>0.019987</td>\n",
              "    </tr>\n",
              "    <tr>\n",
              "      <th>14</th>\n",
              "      <td>ps_calc_11</td>\n",
              "      <td>0.019043</td>\n",
              "    </tr>\n",
              "    <tr>\n",
              "      <th>15</th>\n",
              "      <td>ps_car_11_cat</td>\n",
              "      <td>0.017400</td>\n",
              "    </tr>\n",
              "    <tr>\n",
              "      <th>16</th>\n",
              "      <td>ps_calc_07</td>\n",
              "      <td>0.016507</td>\n",
              "    </tr>\n",
              "    <tr>\n",
              "      <th>17</th>\n",
              "      <td>ps_car_07_cat_1.0_categorico</td>\n",
              "      <td>0.015383</td>\n",
              "    </tr>\n",
              "    <tr>\n",
              "      <th>18</th>\n",
              "      <td>ps_calc_13</td>\n",
              "      <td>0.014575</td>\n",
              "    </tr>\n",
              "    <tr>\n",
              "      <th>19</th>\n",
              "      <td>ps_car_06_cat</td>\n",
              "      <td>0.014381</td>\n",
              "    </tr>\n",
              "    <tr>\n",
              "      <th>20</th>\n",
              "      <td>ps_ind_07_bin</td>\n",
              "      <td>0.014326</td>\n",
              "    </tr>\n",
              "    <tr>\n",
              "      <th>21</th>\n",
              "      <td>ps_ind_05_cat_2.0_categorico</td>\n",
              "      <td>0.014187</td>\n",
              "    </tr>\n",
              "    <tr>\n",
              "      <th>22</th>\n",
              "      <td>ps_calc_09</td>\n",
              "      <td>0.013447</td>\n",
              "    </tr>\n",
              "    <tr>\n",
              "      <th>23</th>\n",
              "      <td>ps_calc_08</td>\n",
              "      <td>0.013211</td>\n",
              "    </tr>\n",
              "    <tr>\n",
              "      <th>24</th>\n",
              "      <td>ps_calc_01</td>\n",
              "      <td>0.013044</td>\n",
              "    </tr>\n",
              "    <tr>\n",
              "      <th>25</th>\n",
              "      <td>ps_calc_06</td>\n",
              "      <td>0.012005</td>\n",
              "    </tr>\n",
              "    <tr>\n",
              "      <th>26</th>\n",
              "      <td>ps_car_15</td>\n",
              "      <td>0.011938</td>\n",
              "    </tr>\n",
              "    <tr>\n",
              "      <th>27</th>\n",
              "      <td>ps_ind_05_cat_4.0_categorico</td>\n",
              "      <td>0.011590</td>\n",
              "    </tr>\n",
              "    <tr>\n",
              "      <th>28</th>\n",
              "      <td>ps_calc_12</td>\n",
              "      <td>0.011187</td>\n",
              "    </tr>\n",
              "    <tr>\n",
              "      <th>29</th>\n",
              "      <td>ps_calc_05</td>\n",
              "      <td>0.010576</td>\n",
              "    </tr>\n",
              "    <tr>\n",
              "      <th>30</th>\n",
              "      <td>ps_calc_03</td>\n",
              "      <td>0.010340</td>\n",
              "    </tr>\n",
              "    <tr>\n",
              "      <th>31</th>\n",
              "      <td>ps_calc_02</td>\n",
              "      <td>0.010057</td>\n",
              "    </tr>\n",
              "    <tr>\n",
              "      <th>32</th>\n",
              "      <td>ps_car_09_cat_1.0_categorico</td>\n",
              "      <td>0.009981</td>\n",
              "    </tr>\n",
              "    <tr>\n",
              "      <th>33</th>\n",
              "      <td>ps_car_03_cat_nan_categorico</td>\n",
              "      <td>0.009507</td>\n",
              "    </tr>\n",
              "    <tr>\n",
              "      <th>34</th>\n",
              "      <td>ps_ind_05_cat_nan_categorico</td>\n",
              "      <td>0.009308</td>\n",
              "    </tr>\n",
              "    <tr>\n",
              "      <th>35</th>\n",
              "      <td>ps_calc_04</td>\n",
              "      <td>0.008911</td>\n",
              "    </tr>\n",
              "    <tr>\n",
              "      <th>36</th>\n",
              "      <td>ps_ind_02_cat_2.0_categorico</td>\n",
              "      <td>0.007797</td>\n",
              "    </tr>\n",
              "    <tr>\n",
              "      <th>37</th>\n",
              "      <td>ps_ind_16_bin</td>\n",
              "      <td>0.006869</td>\n",
              "    </tr>\n",
              "    <tr>\n",
              "      <th>38</th>\n",
              "      <td>ps_ind_04_cat_nan_categorico</td>\n",
              "      <td>0.006861</td>\n",
              "    </tr>\n",
              "    <tr>\n",
              "      <th>39</th>\n",
              "      <td>ps_car_03_cat_1.0_categorico</td>\n",
              "      <td>0.006350</td>\n",
              "    </tr>\n",
              "    <tr>\n",
              "      <th>40</th>\n",
              "      <td>ps_car_11</td>\n",
              "      <td>0.006338</td>\n",
              "    </tr>\n",
              "    <tr>\n",
              "      <th>41</th>\n",
              "      <td>ps_ind_06_bin</td>\n",
              "      <td>0.006260</td>\n",
              "    </tr>\n",
              "    <tr>\n",
              "      <th>42</th>\n",
              "      <td>ps_car_04_cat</td>\n",
              "      <td>0.005983</td>\n",
              "    </tr>\n",
              "    <tr>\n",
              "      <th>43</th>\n",
              "      <td>ps_ind_08_bin</td>\n",
              "      <td>0.005886</td>\n",
              "    </tr>\n",
              "    <tr>\n",
              "      <th>44</th>\n",
              "      <td>ps_car_09_cat_nan_categorico</td>\n",
              "      <td>0.005610</td>\n",
              "    </tr>\n",
              "    <tr>\n",
              "      <th>45</th>\n",
              "      <td>ps_car_10_cat_1_categorico</td>\n",
              "      <td>0.005388</td>\n",
              "    </tr>\n",
              "    <tr>\n",
              "      <th>46</th>\n",
              "      <td>ps_ind_04_cat_1.0_categorico</td>\n",
              "      <td>0.005039</td>\n",
              "    </tr>\n",
              "    <tr>\n",
              "      <th>47</th>\n",
              "      <td>ps_car_09_cat_4.0_categorico</td>\n",
              "      <td>0.004372</td>\n",
              "    </tr>\n",
              "    <tr>\n",
              "      <th>48</th>\n",
              "      <td>ps_ind_12_bin</td>\n",
              "      <td>0.004311</td>\n",
              "    </tr>\n",
              "    <tr>\n",
              "      <th>49</th>\n",
              "      <td>ps_ind_05_cat_1.0_categorico</td>\n",
              "      <td>0.003955</td>\n",
              "    </tr>\n",
              "    <tr>\n",
              "      <th>50</th>\n",
              "      <td>ps_ind_02_cat_4.0_categorico</td>\n",
              "      <td>0.003493</td>\n",
              "    </tr>\n",
              "    <tr>\n",
              "      <th>51</th>\n",
              "      <td>ps_car_02_cat_1.0_categorico</td>\n",
              "      <td>0.003385</td>\n",
              "    </tr>\n",
              "    <tr>\n",
              "      <th>52</th>\n",
              "      <td>ps_ind_05_cat_3.0_categorico</td>\n",
              "      <td>0.003228</td>\n",
              "    </tr>\n",
              "    <tr>\n",
              "      <th>53</th>\n",
              "      <td>ps_ind_14</td>\n",
              "      <td>0.002981</td>\n",
              "    </tr>\n",
              "    <tr>\n",
              "      <th>54</th>\n",
              "      <td>ps_ind_05_cat_5.0_categorico</td>\n",
              "      <td>0.002930</td>\n",
              "    </tr>\n",
              "    <tr>\n",
              "      <th>55</th>\n",
              "      <td>ps_ind_02_cat_nan_categorico</td>\n",
              "      <td>0.002383</td>\n",
              "    </tr>\n",
              "    <tr>\n",
              "      <th>56</th>\n",
              "      <td>ps_ind_09_bin</td>\n",
              "      <td>0.002374</td>\n",
              "    </tr>\n",
              "    <tr>\n",
              "      <th>57</th>\n",
              "      <td>ps_calc_16_bin</td>\n",
              "      <td>0.002370</td>\n",
              "    </tr>\n",
              "    <tr>\n",
              "      <th>58</th>\n",
              "      <td>ps_calc_17_bin</td>\n",
              "      <td>0.002359</td>\n",
              "    </tr>\n",
              "    <tr>\n",
              "      <th>59</th>\n",
              "      <td>ps_car_08_cat_1_categorico</td>\n",
              "      <td>0.002334</td>\n",
              "    </tr>\n",
              "    <tr>\n",
              "      <th>60</th>\n",
              "      <td>ps_calc_18_bin</td>\n",
              "      <td>0.002318</td>\n",
              "    </tr>\n",
              "    <tr>\n",
              "      <th>61</th>\n",
              "      <td>ps_car_09_cat_2.0_categorico</td>\n",
              "      <td>0.001894</td>\n",
              "    </tr>\n",
              "    <tr>\n",
              "      <th>62</th>\n",
              "      <td>ps_calc_20_bin</td>\n",
              "      <td>0.001668</td>\n",
              "    </tr>\n",
              "    <tr>\n",
              "      <th>63</th>\n",
              "      <td>ps_car_05_cat_1.0_categorico</td>\n",
              "      <td>0.001662</td>\n",
              "    </tr>\n",
              "    <tr>\n",
              "      <th>64</th>\n",
              "      <td>ps_ind_10_bin</td>\n",
              "      <td>0.001602</td>\n",
              "    </tr>\n",
              "    <tr>\n",
              "      <th>65</th>\n",
              "      <td>ps_car_05_cat_nan_categorico</td>\n",
              "      <td>0.001560</td>\n",
              "    </tr>\n",
              "    <tr>\n",
              "      <th>66</th>\n",
              "      <td>ps_calc_15_bin</td>\n",
              "      <td>0.001380</td>\n",
              "    </tr>\n",
              "    <tr>\n",
              "      <th>67</th>\n",
              "      <td>ps_ind_02_cat_3.0_categorico</td>\n",
              "      <td>0.001368</td>\n",
              "    </tr>\n",
              "    <tr>\n",
              "      <th>68</th>\n",
              "      <td>ps_ind_18_bin</td>\n",
              "      <td>0.001306</td>\n",
              "    </tr>\n",
              "    <tr>\n",
              "      <th>69</th>\n",
              "      <td>ps_ind_13_bin</td>\n",
              "      <td>0.001187</td>\n",
              "    </tr>\n",
              "    <tr>\n",
              "      <th>70</th>\n",
              "      <td>ps_calc_19_bin</td>\n",
              "      <td>0.001173</td>\n",
              "    </tr>\n",
              "    <tr>\n",
              "      <th>71</th>\n",
              "      <td>ps_car_09_cat_3.0_categorico</td>\n",
              "      <td>0.001094</td>\n",
              "    </tr>\n",
              "    <tr>\n",
              "      <th>72</th>\n",
              "      <td>ps_ind_11_bin</td>\n",
              "      <td>0.001062</td>\n",
              "    </tr>\n",
              "    <tr>\n",
              "      <th>73</th>\n",
              "      <td>ps_car_07_cat_nan_categorico</td>\n",
              "      <td>0.000543</td>\n",
              "    </tr>\n",
              "    <tr>\n",
              "      <th>74</th>\n",
              "      <td>ps_car_10_cat_2_categorico</td>\n",
              "      <td>0.000325</td>\n",
              "    </tr>\n",
              "    <tr>\n",
              "      <th>75</th>\n",
              "      <td>ps_car_02_cat_nan_categorico</td>\n",
              "      <td>0.000000</td>\n",
              "    </tr>\n",
              "  </tbody>\n",
              "</table>\n",
              "</div>"
            ],
            "text/plain": [
              "                       Variaveis  Importancia\n",
              "0                      ps_car_13     0.162830\n",
              "1                      ps_reg_03     0.071578\n",
              "2                      ps_ind_03     0.051924\n",
              "3                      ps_car_14     0.044893\n",
              "4                  ps_ind_17_bin     0.034369\n",
              "5                      ps_ind_15     0.031455\n",
              "6                      ps_reg_02     0.030177\n",
              "7                     ps_calc_10     0.026051\n",
              "8                      ps_ind_01     0.025422\n",
              "9                  ps_car_01_cat     0.024670\n",
              "10                    ps_calc_14     0.022505\n",
              "11                     ps_car_12     0.022140\n",
              "12                     ps_reg_01     0.022093\n",
              "13  ps_ind_05_cat_6.0_categorico     0.019987\n",
              "14                    ps_calc_11     0.019043\n",
              "15                 ps_car_11_cat     0.017400\n",
              "16                    ps_calc_07     0.016507\n",
              "17  ps_car_07_cat_1.0_categorico     0.015383\n",
              "18                    ps_calc_13     0.014575\n",
              "19                 ps_car_06_cat     0.014381\n",
              "20                 ps_ind_07_bin     0.014326\n",
              "21  ps_ind_05_cat_2.0_categorico     0.014187\n",
              "22                    ps_calc_09     0.013447\n",
              "23                    ps_calc_08     0.013211\n",
              "24                    ps_calc_01     0.013044\n",
              "25                    ps_calc_06     0.012005\n",
              "26                     ps_car_15     0.011938\n",
              "27  ps_ind_05_cat_4.0_categorico     0.011590\n",
              "28                    ps_calc_12     0.011187\n",
              "29                    ps_calc_05     0.010576\n",
              "30                    ps_calc_03     0.010340\n",
              "31                    ps_calc_02     0.010057\n",
              "32  ps_car_09_cat_1.0_categorico     0.009981\n",
              "33  ps_car_03_cat_nan_categorico     0.009507\n",
              "34  ps_ind_05_cat_nan_categorico     0.009308\n",
              "35                    ps_calc_04     0.008911\n",
              "36  ps_ind_02_cat_2.0_categorico     0.007797\n",
              "37                 ps_ind_16_bin     0.006869\n",
              "38  ps_ind_04_cat_nan_categorico     0.006861\n",
              "39  ps_car_03_cat_1.0_categorico     0.006350\n",
              "40                     ps_car_11     0.006338\n",
              "41                 ps_ind_06_bin     0.006260\n",
              "42                 ps_car_04_cat     0.005983\n",
              "43                 ps_ind_08_bin     0.005886\n",
              "44  ps_car_09_cat_nan_categorico     0.005610\n",
              "45    ps_car_10_cat_1_categorico     0.005388\n",
              "46  ps_ind_04_cat_1.0_categorico     0.005039\n",
              "47  ps_car_09_cat_4.0_categorico     0.004372\n",
              "48                 ps_ind_12_bin     0.004311\n",
              "49  ps_ind_05_cat_1.0_categorico     0.003955\n",
              "50  ps_ind_02_cat_4.0_categorico     0.003493\n",
              "51  ps_car_02_cat_1.0_categorico     0.003385\n",
              "52  ps_ind_05_cat_3.0_categorico     0.003228\n",
              "53                     ps_ind_14     0.002981\n",
              "54  ps_ind_05_cat_5.0_categorico     0.002930\n",
              "55  ps_ind_02_cat_nan_categorico     0.002383\n",
              "56                 ps_ind_09_bin     0.002374\n",
              "57                ps_calc_16_bin     0.002370\n",
              "58                ps_calc_17_bin     0.002359\n",
              "59    ps_car_08_cat_1_categorico     0.002334\n",
              "60                ps_calc_18_bin     0.002318\n",
              "61  ps_car_09_cat_2.0_categorico     0.001894\n",
              "62                ps_calc_20_bin     0.001668\n",
              "63  ps_car_05_cat_1.0_categorico     0.001662\n",
              "64                 ps_ind_10_bin     0.001602\n",
              "65  ps_car_05_cat_nan_categorico     0.001560\n",
              "66                ps_calc_15_bin     0.001380\n",
              "67  ps_ind_02_cat_3.0_categorico     0.001368\n",
              "68                 ps_ind_18_bin     0.001306\n",
              "69                 ps_ind_13_bin     0.001187\n",
              "70                ps_calc_19_bin     0.001173\n",
              "71  ps_car_09_cat_3.0_categorico     0.001094\n",
              "72                 ps_ind_11_bin     0.001062\n",
              "73  ps_car_07_cat_nan_categorico     0.000543\n",
              "74    ps_car_10_cat_2_categorico     0.000325\n",
              "75  ps_car_02_cat_nan_categorico     0.000000"
            ]
          },
          "metadata": {
            "tags": []
          },
          "execution_count": 32
        }
      ]
    },
    {
      "cell_type": "markdown",
      "metadata": {
        "id": "Ek86nhQZTMyr"
      },
      "source": [
        "## Dropando as colunas de pouca importância e fazendo um novo modelo"
      ]
    },
    {
      "cell_type": "code",
      "metadata": {
        "id": "AgLq8TNxI0P-"
      },
      "source": [
        "colunas_pouca_importancia = var_e_imp[var_e_imp['Importancia']<0.001].iloc[:,0].tolist()"
      ],
      "execution_count": 102,
      "outputs": []
    },
    {
      "cell_type": "code",
      "metadata": {
        "id": "VFycrNBAKqhL"
      },
      "source": [
        "abt_train2 = abt_train.drop(colunas_pouca_importancia, axis=1)"
      ],
      "execution_count": 103,
      "outputs": []
    },
    {
      "cell_type": "code",
      "metadata": {
        "id": "Ta4IjTnkMVW8"
      },
      "source": [
        "X_desenv2, X_valid2, y_desenv2, y_valid2 = train_test_split(abt_train2, y, train_size = 0.7, test_size = 0.3, random_state = 42)"
      ],
      "execution_count": 104,
      "outputs": []
    },
    {
      "cell_type": "code",
      "metadata": {
        "colab": {
          "base_uri": "https://localhost:8080/"
        },
        "id": "jVY9Hl__Mmpx",
        "outputId": "c710dc16-4217-4983-aeb6-a563c37637b3"
      },
      "source": [
        "grid2 = GridSearchCV(estimator = GradientBoostingClassifier(),        \r\n",
        "                    param_grid = parametros,  \r\n",
        "                    cv = 3)  \r\n",
        "\r\n",
        "grid2.fit(X_desenv2, y_desenv2)"
      ],
      "execution_count": 105,
      "outputs": [
        {
          "output_type": "execute_result",
          "data": {
            "text/plain": [
              "GridSearchCV(cv=3, error_score=nan,\n",
              "             estimator=GradientBoostingClassifier(ccp_alpha=0.0,\n",
              "                                                  criterion='friedman_mse',\n",
              "                                                  init=None, learning_rate=0.1,\n",
              "                                                  loss='deviance', max_depth=3,\n",
              "                                                  max_features=None,\n",
              "                                                  max_leaf_nodes=None,\n",
              "                                                  min_impurity_decrease=0.0,\n",
              "                                                  min_impurity_split=None,\n",
              "                                                  min_samples_leaf=1,\n",
              "                                                  min_samples_split=2,\n",
              "                                                  min_weight_fraction_leaf=0.0,\n",
              "                                                  n_estimators=100,\n",
              "                                                  n_iter_no_change=None,\n",
              "                                                  presort='deprecated',\n",
              "                                                  random_state=None,\n",
              "                                                  subsample=1.0, tol=0.0001,\n",
              "                                                  validation_fraction=0.1,\n",
              "                                                  verbose=0, warm_start=False),\n",
              "             iid='deprecated', n_jobs=None,\n",
              "             param_grid={'max_depth': [6], 'n_estimators': [100]},\n",
              "             pre_dispatch='2*n_jobs', refit=True, return_train_score=False,\n",
              "             scoring=None, verbose=0)"
            ]
          },
          "metadata": {
            "tags": []
          },
          "execution_count": 105
        }
      ]
    },
    {
      "cell_type": "code",
      "metadata": {
        "colab": {
          "base_uri": "https://localhost:8080/",
          "height": 529
        },
        "id": "GplhdDtoM9ep",
        "outputId": "464126ec-1763-4c1d-e23a-759bd2d1a413"
      },
      "source": [
        "y_pred_train2 = grid2.predict(X_desenv2)\r\n",
        "y_score_train2 = grid2.predict_proba(X_desenv2)[:,1]\r\n",
        "y_train2 = y_desenv2\r\n",
        "y_pred_test2 = grid2.predict(X_valid2)\r\n",
        "y_score_test2 = grid2.predict_proba(X_valid2)[:,1]\r\n",
        "y_test2 = y_valid2\r\n",
        "titulo = \"Curva ROC do segundo modelo de Gradient Boosting\"\r\n",
        "\r\n",
        "roccurve(y_train2,y_pred_train2,y_score_train2,y_test2,y_pred_test2,y_score_test2,titulo)"
      ],
      "execution_count": 106,
      "outputs": [
        {
          "output_type": "display_data",
          "data": {
            "image/png": "[encoded data removed]",
            "text/plain": [
              "<Figure size 864x432 with 1 Axes>"
            ]
          },
          "metadata": {
            "tags": []
          }
        },
        {
          "output_type": "stream",
          "text": [
            "Base de Desenv\n",
            "Acurácia: 96.43, Gini: 40.0 e Área Curva ROC: 70.13\n",
            "\n",
            "Base de Valid\n",
            "Acurácia: 96.29, Gini: 27.0 e Área Curva ROC: 63.54\n",
            "\n",
            "\n"
          ],
          "name": "stdout"
        }
      ]
    },
    {
      "cell_type": "markdown",
      "metadata": {
        "id": "0_xuoSSgKy6M"
      },
      "source": [
        "## Selecionando modelo"
      ]
    },
    {
      "cell_type": "markdown",
      "metadata": {
        "id": "gHnrUhpOK2pV"
      },
      "source": [
        "#### Ao dropar algumas colunas podemos perceber um significativo afastamento das curvas de desenv e valid, o que sugere que o drop, mesmo sendo relativamente pequeno, pode estar causando overfitting. Assim, decidimos usar o modelo definido antes do drop."
      ]
    },
    {
      "cell_type": "markdown",
      "metadata": {
        "id": "Qo5-QartB8kW"
      },
      "source": [
        "# Base de teste"
      ]
    },
    {
      "cell_type": "code",
      "metadata": {
        "id": "n9W0ZnD2B7gX"
      },
      "source": [
        "data2 = pd.read_csv(r'/content/drive/MyDrive/Data science/Machine Learning/kaggle/Porto Seguro/test.csv', na_values=-1)\r\n",
        "data_test = data2.copy()"
      ],
      "execution_count": 117,
      "outputs": []
    },
    {
      "cell_type": "code",
      "metadata": {
        "id": "vD-9TRQY14RY"
      },
      "source": [
        "data_test = data_test.drop(['id'], axis=1)\r\n",
        "\r\n",
        "df_test_categoricoAltaC = data_test[['ps_car_01_cat', 'ps_car_04_cat', 'ps_car_06_cat', 'ps_car_11_cat']]\r\n",
        "df_test_categoricoBaixaC = data_test[['ps_ind_02_cat', 'ps_ind_04_cat', 'ps_ind_05_cat', 'ps_car_02_cat', 'ps_car_03_cat', 'ps_car_05_cat', 'ps_car_07_cat', 'ps_car_08_cat', 'ps_car_09_cat', 'ps_car_10_cat']]\r\n",
        "df_test_binario = data_test[lista_colunas_binarios]\r\n",
        "\r\n",
        "df_test_numerico = data_test.drop(lista_colunas_binarios, axis=1)\r\n",
        "df_test_numerico = df_test_numerico.drop(lista_colunas_cat, axis=1)"
      ],
      "execution_count": 118,
      "outputs": []
    },
    {
      "cell_type": "code",
      "metadata": {
        "colab": {
          "base_uri": "https://localhost:8080/"
        },
        "id": "zo074G3Q14i5",
        "outputId": "5ebe9cb3-9634-4d6c-beeb-54956f5d5bb6"
      },
      "source": [
        "a_test = len(df_test_binario.columns)\r\n",
        "b_test = len(df_test_categoricoAltaC.columns)\r\n",
        "c_test = len(df_test_categoricoBaixaC.columns)\r\n",
        "d_test = len(df_test_numerico.columns)\r\n",
        "total_test = len(data_test.columns)\r\n",
        "\r\n",
        "total_test == a + b + c + d"
      ],
      "execution_count": 119,
      "outputs": [
        {
          "output_type": "execute_result",
          "data": {
            "text/plain": [
              "True"
            ]
          },
          "metadata": {
            "tags": []
          },
          "execution_count": 119
        }
      ]
    },
    {
      "cell_type": "code",
      "metadata": {
        "id": "CAoaO4SQ140l"
      },
      "source": [
        "df_test_categoricoAltaC = df_test_categoricoAltaC.fillna('Miss')\r\n",
        "\r\n",
        "for column in df_test_categoricoAltaC.columns:\r\n",
        "    df_test_categoricoAltaC[column] = df_test_categoricoAltaC[column].apply(lambda x: str(x) +'_categorico')\r\n",
        "\r\n",
        "LE = LabelEncoder()\r\n",
        "\r\n",
        "df_test_categoricoAltaC_encodado = df_test_categoricoAltaC.copy()\r\n",
        "\r\n",
        "for column in df_test_categoricoAltaC.columns:\r\n",
        "    df_test_categoricoAltaC_encodado[column] = LE.fit_transform(df_test_categoricoAltaC_encodado[column])"
      ],
      "execution_count": 120,
      "outputs": []
    },
    {
      "cell_type": "code",
      "metadata": {
        "id": "cxVG2mJU2LWM"
      },
      "source": [
        "for column in df_test_categoricoBaixaC.columns:\r\n",
        "    df_test_categoricoBaixaC[column] = df_test_categoricoBaixaC[column].apply(lambda x: str(x) +'_categorico')\r\n",
        "\r\n",
        "df_test_categoricoBaixaC_dummy = pd.get_dummies(df_test_categoricoBaixaC, dummy_na = False, drop_first=True)"
      ],
      "execution_count": 121,
      "outputs": []
    },
    {
      "cell_type": "code",
      "metadata": {
        "id": "IuhP5ZZi3UnI"
      },
      "source": [
        "imp_mean_test = SimpleImputer(missing_values=np.nan, strategy='mean')\r\n",
        "imp_mean_test.fit(df_numerico)\r\n",
        "df_test_numerico_tratado = pd.DataFrame(imp_mean.transform(df_test_numerico), columns=df_test_numerico.columns)\r\n",
        "df_test_numerico_tratado.index = df_test_numerico.index"
      ],
      "execution_count": 122,
      "outputs": []
    },
    {
      "cell_type": "code",
      "metadata": {
        "id": "JiyRNDYM2LnL"
      },
      "source": [
        "#df2_test = df_categoricoBaixaC_dummy + df_binario\r\n",
        "#df3_test = df_categoricoAltaC_encodado + df_numerico_tratado\r\n",
        "#df4_test = df2 + df3\r\n",
        "\r\n",
        "df2_test = pd.merge(df_test_categoricoBaixaC_dummy, df_test_binario, how='left', left_index= True, right_index= True)\r\n",
        "df3_test = pd.merge(df_test_categoricoAltaC_encodado, df_test_numerico_tratado, how= 'left', left_index= True, right_index= True)\r\n",
        "df4_test = pd.merge(df2_test, df3_test, how= 'left', left_index= True, right_index= True)"
      ],
      "execution_count": 123,
      "outputs": []
    },
    {
      "cell_type": "code",
      "metadata": {
        "id": "Xj88LD742L0U"
      },
      "source": [
        "abt_test = normalizacao(df4_test)"
      ],
      "execution_count": 124,
      "outputs": []
    },
    {
      "cell_type": "code",
      "metadata": {
        "id": "4TLj9vK5IAEY"
      },
      "source": [
        "# Como abt_test.columns == abt_train.columns, podemos ir para última etapa \r\n",
        "pred_test = grid.predict_proba(abt_test)[:,1]\r\n",
        "\r\n",
        "output = pd.DataFrame({'id': data2['id'], 'target': pred_test})\r\n",
        "output.to_csv('Submission_PortoSeguro.csv', index=False)"
      ],
      "execution_count": 125,
      "outputs": []
    }
  ]
}
