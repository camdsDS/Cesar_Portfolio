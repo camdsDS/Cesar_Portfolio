{
  "nbformat": 4,
  "nbformat_minor": 0,
  "metadata": {
    "colab": {
      "name": "HousePrices meujeito2",
      "provenance": [],
      "collapsed_sections": [],
      "authorship_tag": "ABX9TyMnoty9+s5NfBoBznqsEGxf",
      "include_colab_link": true
    },
    "kernelspec": {
      "name": "python3",
      "display_name": "Python 3"
    }
  },
  "cells": [
    {
      "cell_type": "markdown",
      "metadata": {
        "id": "view-in-github",
        "colab_type": "text"
      },
      "source": [
        "<a href=\"https://colab.research.google.com/github/camdsDS/Cesar_Portfolio/blob/main/HousePrices_kaggle.ipynb\" target=\"_parent\"><img src=\"https://colab.research.google.com/assets/colab-badge.svg\" alt=\"Open In Colab\"/></a>"
      ]
    },
    {
      "cell_type": "code",
      "metadata": {
        "id": "K4XiUH-qPhmT"
      },
      "source": [
        "import pandas as pd\r\n",
        "import numpy as np\r\n",
        "import matplotlib.pyplot as plt\r\n",
        "import seaborn as sns"
      ],
      "execution_count": 1,
      "outputs": []
    },
    {
      "cell_type": "code",
      "metadata": {
        "id": "5t34vR--51rg"
      },
      "source": [
        "# Supress unnecessary warnings so that presentation looks clean\r\n",
        "import warnings\r\n",
        "warnings.filterwarnings('ignore')"
      ],
      "execution_count": 2,
      "outputs": []
    },
    {
      "cell_type": "markdown",
      "metadata": {
        "id": "0ka0zMFWkuqi"
      },
      "source": [
        "# Funções"
      ]
    },
    {
      "cell_type": "code",
      "metadata": {
        "id": "g4KZA_cFQ5JA"
      },
      "source": [
        "def unique_cat(df):\r\n",
        "    dict_unique_cat = {}\r\n",
        "    for column in df.columns:\r\n",
        "        if df[column].dtype == 'object': \r\n",
        "            dict_unique_cat[column] = len(df[column].unique())\r\n",
        "\r\n",
        "    df_unique = pd.DataFrame(list(dict_unique_cat.items()), columns=['coluna_cat', 'quantidade de unique'])\r\n",
        "    return df_unique.sort_values('quantidade de unique', ascending = False)"
      ],
      "execution_count": 3,
      "outputs": []
    },
    {
      "cell_type": "code",
      "metadata": {
        "id": "-uvOHJx0RDFp"
      },
      "source": [
        "def unique_num(df):\r\n",
        "    dict_unique_num = {}\r\n",
        "    for column in df.columns:\r\n",
        "        if df[column].dtype == 'int64' or df[column].dtype == 'float64': \r\n",
        "            dict_unique_num[column] = len(df[column].unique())\r\n",
        "\r\n",
        "    df_unique = pd.DataFrame(list(dict_unique_num.items()), columns=['coluna_num', 'quantidade de unique'])\r\n",
        "    return df_unique.sort_values('quantidade de unique', ascending = True)"
      ],
      "execution_count": 4,
      "outputs": []
    },
    {
      "cell_type": "code",
      "metadata": {
        "id": "HKI6sWDDlCbD"
      },
      "source": [
        "def relatorio(data, target):\r\n",
        "    '''\r\n",
        "    Devolve um relatorio sobre valores miss no df, valor da bad rate,\r\n",
        "    tipos de dados e correlação de Pearson     \r\n",
        "    '''\r\n",
        "    print('Relatorio de miss')\r\n",
        "    df_miss = ((data.isna().sum()/len(data))*100).to_frame().reset_index().rename(columns={'index': 'column', 0:'%_miss'}).sort_values('%_miss', ascending = False)\r\n",
        "    if df_miss['%_miss'].tolist()[0] == 0:\r\n",
        "        print('O df não apresenta valores miss.')\r\n",
        "    else:\r\n",
        "        print('O df apresenta valores miss e as cinco colunas com maior concentração de miss são:')\r\n",
        "        print(df_miss.head())\r\n",
        "    \r\n",
        "    import missingno as msn\r\n",
        "    print('Gráfico missingno: as partes brancas representam dados nulos (missing).')\r\n",
        "    msn.matrix(data)\r\n",
        "    plt.show()\r\n",
        "\r\n",
        "    print('\\nRelatorio de zeros')\r\n",
        "    print ('O df apresenta valores zero e as cinco colunas com maior concentração de miss são:')\r\n",
        "    dict_de_zeros = {}\r\n",
        "    for column in data.columns:\r\n",
        "        if data[column].value_counts().index[0]==0:\r\n",
        "            dict_de_zeros[column] = round(((data[column].value_counts()[0]/data[column].value_counts().sum())*100),2)\r\n",
        "\r\n",
        "    zeros = pd.DataFrame(list(dict_de_zeros.items()),\r\n",
        "                   columns=['colunas', '%_zeros'])\r\n",
        "    print(zeros.sort_values('%_zeros', ascending = False))\r\n",
        "        \r\n",
        "    #bad_rate = data[target].value_counts()[1]/(data[target].value_counts()[0]+data[target].value_counts()[1])\r\n",
        "    #print(f'\\nBad_rate (razão entre quantidade de 1 no target e o total (0 e 1) de valores no target: {bad_rate:.2f}')\r\n",
        "\r\n",
        "    # p0 = (data[target].value_counts()[0]/(data[target].value_counts()[0]+data[target].value_counts()[1]))*100\r\n",
        "    # p1 = bad_rate*100\r\n",
        "    # objects = ('0', '1')\r\n",
        "    # y_pos = [0,1]\r\n",
        "    # performance = [p0,p1]\r\n",
        "\r\n",
        "    # plt.bar(y_pos, performance, align='center', alpha=0.5)\r\n",
        "    # plt.xticks(y_pos, objects)\r\n",
        "    # plt.ylabel('%')\r\n",
        "    # plt.title('Comparando as proporções de 0 e 1 do target')\r\n",
        "\r\n",
        "    # plt.show()\r\n",
        "\r\n",
        "    #Correlação de Pearson\r\n",
        "    corr_matrix = data.corr()\r\n",
        "    corr_matrix = corr_matrix[target].to_frame().reset_index().rename(columns={'index': 'coluna', target:'correlacao'}).sort_values('correlacao', ascending = False)\r\n",
        "    print('\\nCorrelacao de Pearson: (5 primeiras linhas)')\r\n",
        "    print(corr_matrix.head())"
      ],
      "execution_count": 5,
      "outputs": []
    },
    {
      "cell_type": "code",
      "metadata": {
        "id": "TRL25fwrl3fe"
      },
      "source": [
        "def RelatorioMiss(df):\r\n",
        "    '''\r\n",
        "    Retorna a % de miss de cada coluna do df\r\n",
        "    '''\r\n",
        "    df_miss = ((df.isna().sum()/len(df))*100).to_frame().rename(columns={0:'P_miss'}).reset_index().sort_values('P_miss', ascending = False)\r\n",
        "    return df_miss"
      ],
      "execution_count": 6,
      "outputs": []
    },
    {
      "cell_type": "code",
      "metadata": {
        "id": "0h9xaHJMtbyj"
      },
      "source": [
        "def RelatorioZero(df):\r\n",
        "\r\n",
        "    dict_de_zeros = {}\r\n",
        "    for column in data.columns:\r\n",
        "        if data[column].value_counts().index[0]==0:\r\n",
        "            dict_de_zeros[column] = round(((data[column].value_counts()[0]/data[column].value_counts().sum())*100),2)\r\n",
        "\r\n",
        "    zeros = pd.DataFrame(list(dict_de_zeros.items()),\r\n",
        "                   columns=['colunas', '%'])\r\n",
        "    zeros = zeros.sort_values('%', ascending = False)\r\n",
        "    print(zeros)"
      ],
      "execution_count": 7,
      "outputs": []
    },
    {
      "cell_type": "markdown",
      "metadata": {
        "id": "Ef7uB0-IkmGZ"
      },
      "source": [
        "# Base de dados de Treino"
      ]
    },
    {
      "cell_type": "code",
      "metadata": {
        "id": "Znb1krhTkpwL"
      },
      "source": [
        "# Dados do kaggle: House Prices - Advanced Regression Techniques\r\n",
        "# https://www.kaggle.com/c/house-prices-advanced-regression-techniques/data\r\n",
        "data = pd.read_csv('train.csv')"
      ],
      "execution_count": 8,
      "outputs": []
    },
    {
      "cell_type": "markdown",
      "metadata": {
        "id": "3btd0HfQajf7"
      },
      "source": [
        "# Relatório da base de dados de Treino"
      ]
    },
    {
      "cell_type": "markdown",
      "metadata": {
        "id": "3mO1GI_SkepG"
      },
      "source": [
        "#### Relatório completo"
      ]
    },
    {
      "cell_type": "markdown",
      "metadata": {
        "id": "EBTwK33-k_bQ"
      },
      "source": [
        "#### Relatório simples"
      ]
    },
    {
      "cell_type": "markdown",
      "metadata": {
        "id": "c8T-jSa1a0EW"
      },
      "source": [
        "# Montando os dataframes categóricos (alta e baixa cardinalidade) e numéricos"
      ]
    },
    {
      "cell_type": "code",
      "metadata": {
        "colab": {
          "base_uri": "https://localhost:8080/",
          "height": 253
        },
        "id": "zPENvUxizoPj",
        "outputId": "29ee25f1-70f7-41ee-d814-5f70e6fccff8"
      },
      "source": [
        "data.head()"
      ],
      "execution_count": 9,
      "outputs": [
        {
          "output_type": "execute_result",
          "data": {
            "text/html": [
              "<div>\n",
              "<style scoped>\n",
              "    .dataframe tbody tr th:only-of-type {\n",
              "        vertical-align: middle;\n",
              "    }\n",
              "\n",
              "    .dataframe tbody tr th {\n",
              "        vertical-align: top;\n",
              "    }\n",
              "\n",
              "    .dataframe thead th {\n",
              "        text-align: right;\n",
              "    }\n",
              "</style>\n",
              "<table border=\"1\" class=\"dataframe\">\n",
              "  <thead>\n",
              "    <tr style=\"text-align: right;\">\n",
              "      <th></th>\n",
              "      <th>Id</th>\n",
              "      <th>MSSubClass</th>\n",
              "      <th>MSZoning</th>\n",
              "      <th>LotFrontage</th>\n",
              "      <th>LotArea</th>\n",
              "      <th>Street</th>\n",
              "      <th>Alley</th>\n",
              "      <th>LotShape</th>\n",
              "      <th>LandContour</th>\n",
              "      <th>Utilities</th>\n",
              "      <th>LotConfig</th>\n",
              "      <th>LandSlope</th>\n",
              "      <th>Neighborhood</th>\n",
              "      <th>Condition1</th>\n",
              "      <th>Condition2</th>\n",
              "      <th>BldgType</th>\n",
              "      <th>HouseStyle</th>\n",
              "      <th>OverallQual</th>\n",
              "      <th>OverallCond</th>\n",
              "      <th>YearBuilt</th>\n",
              "      <th>YearRemodAdd</th>\n",
              "      <th>RoofStyle</th>\n",
              "      <th>RoofMatl</th>\n",
              "      <th>Exterior1st</th>\n",
              "      <th>Exterior2nd</th>\n",
              "      <th>MasVnrType</th>\n",
              "      <th>MasVnrArea</th>\n",
              "      <th>ExterQual</th>\n",
              "      <th>ExterCond</th>\n",
              "      <th>Foundation</th>\n",
              "      <th>BsmtQual</th>\n",
              "      <th>BsmtCond</th>\n",
              "      <th>BsmtExposure</th>\n",
              "      <th>BsmtFinType1</th>\n",
              "      <th>BsmtFinSF1</th>\n",
              "      <th>BsmtFinType2</th>\n",
              "      <th>BsmtFinSF2</th>\n",
              "      <th>BsmtUnfSF</th>\n",
              "      <th>TotalBsmtSF</th>\n",
              "      <th>Heating</th>\n",
              "      <th>...</th>\n",
              "      <th>CentralAir</th>\n",
              "      <th>Electrical</th>\n",
              "      <th>1stFlrSF</th>\n",
              "      <th>2ndFlrSF</th>\n",
              "      <th>LowQualFinSF</th>\n",
              "      <th>GrLivArea</th>\n",
              "      <th>BsmtFullBath</th>\n",
              "      <th>BsmtHalfBath</th>\n",
              "      <th>FullBath</th>\n",
              "      <th>HalfBath</th>\n",
              "      <th>BedroomAbvGr</th>\n",
              "      <th>KitchenAbvGr</th>\n",
              "      <th>KitchenQual</th>\n",
              "      <th>TotRmsAbvGrd</th>\n",
              "      <th>Functional</th>\n",
              "      <th>Fireplaces</th>\n",
              "      <th>FireplaceQu</th>\n",
              "      <th>GarageType</th>\n",
              "      <th>GarageYrBlt</th>\n",
              "      <th>GarageFinish</th>\n",
              "      <th>GarageCars</th>\n",
              "      <th>GarageArea</th>\n",
              "      <th>GarageQual</th>\n",
              "      <th>GarageCond</th>\n",
              "      <th>PavedDrive</th>\n",
              "      <th>WoodDeckSF</th>\n",
              "      <th>OpenPorchSF</th>\n",
              "      <th>EnclosedPorch</th>\n",
              "      <th>3SsnPorch</th>\n",
              "      <th>ScreenPorch</th>\n",
              "      <th>PoolArea</th>\n",
              "      <th>PoolQC</th>\n",
              "      <th>Fence</th>\n",
              "      <th>MiscFeature</th>\n",
              "      <th>MiscVal</th>\n",
              "      <th>MoSold</th>\n",
              "      <th>YrSold</th>\n",
              "      <th>SaleType</th>\n",
              "      <th>SaleCondition</th>\n",
              "      <th>SalePrice</th>\n",
              "    </tr>\n",
              "  </thead>\n",
              "  <tbody>\n",
              "    <tr>\n",
              "      <th>0</th>\n",
              "      <td>1</td>\n",
              "      <td>60</td>\n",
              "      <td>RL</td>\n",
              "      <td>65.0</td>\n",
              "      <td>8450</td>\n",
              "      <td>Pave</td>\n",
              "      <td>NaN</td>\n",
              "      <td>Reg</td>\n",
              "      <td>Lvl</td>\n",
              "      <td>AllPub</td>\n",
              "      <td>Inside</td>\n",
              "      <td>Gtl</td>\n",
              "      <td>CollgCr</td>\n",
              "      <td>Norm</td>\n",
              "      <td>Norm</td>\n",
              "      <td>1Fam</td>\n",
              "      <td>2Story</td>\n",
              "      <td>7</td>\n",
              "      <td>5</td>\n",
              "      <td>2003</td>\n",
              "      <td>2003</td>\n",
              "      <td>Gable</td>\n",
              "      <td>CompShg</td>\n",
              "      <td>VinylSd</td>\n",
              "      <td>VinylSd</td>\n",
              "      <td>BrkFace</td>\n",
              "      <td>196.0</td>\n",
              "      <td>Gd</td>\n",
              "      <td>TA</td>\n",
              "      <td>PConc</td>\n",
              "      <td>Gd</td>\n",
              "      <td>TA</td>\n",
              "      <td>No</td>\n",
              "      <td>GLQ</td>\n",
              "      <td>706</td>\n",
              "      <td>Unf</td>\n",
              "      <td>0</td>\n",
              "      <td>150</td>\n",
              "      <td>856</td>\n",
              "      <td>GasA</td>\n",
              "      <td>...</td>\n",
              "      <td>Y</td>\n",
              "      <td>SBrkr</td>\n",
              "      <td>856</td>\n",
              "      <td>854</td>\n",
              "      <td>0</td>\n",
              "      <td>1710</td>\n",
              "      <td>1</td>\n",
              "      <td>0</td>\n",
              "      <td>2</td>\n",
              "      <td>1</td>\n",
              "      <td>3</td>\n",
              "      <td>1</td>\n",
              "      <td>Gd</td>\n",
              "      <td>8</td>\n",
              "      <td>Typ</td>\n",
              "      <td>0</td>\n",
              "      <td>NaN</td>\n",
              "      <td>Attchd</td>\n",
              "      <td>2003.0</td>\n",
              "      <td>RFn</td>\n",
              "      <td>2</td>\n",
              "      <td>548</td>\n",
              "      <td>TA</td>\n",
              "      <td>TA</td>\n",
              "      <td>Y</td>\n",
              "      <td>0</td>\n",
              "      <td>61</td>\n",
              "      <td>0</td>\n",
              "      <td>0</td>\n",
              "      <td>0</td>\n",
              "      <td>0</td>\n",
              "      <td>NaN</td>\n",
              "      <td>NaN</td>\n",
              "      <td>NaN</td>\n",
              "      <td>0</td>\n",
              "      <td>2</td>\n",
              "      <td>2008</td>\n",
              "      <td>WD</td>\n",
              "      <td>Normal</td>\n",
              "      <td>208500</td>\n",
              "    </tr>\n",
              "    <tr>\n",
              "      <th>1</th>\n",
              "      <td>2</td>\n",
              "      <td>20</td>\n",
              "      <td>RL</td>\n",
              "      <td>80.0</td>\n",
              "      <td>9600</td>\n",
              "      <td>Pave</td>\n",
              "      <td>NaN</td>\n",
              "      <td>Reg</td>\n",
              "      <td>Lvl</td>\n",
              "      <td>AllPub</td>\n",
              "      <td>FR2</td>\n",
              "      <td>Gtl</td>\n",
              "      <td>Veenker</td>\n",
              "      <td>Feedr</td>\n",
              "      <td>Norm</td>\n",
              "      <td>1Fam</td>\n",
              "      <td>1Story</td>\n",
              "      <td>6</td>\n",
              "      <td>8</td>\n",
              "      <td>1976</td>\n",
              "      <td>1976</td>\n",
              "      <td>Gable</td>\n",
              "      <td>CompShg</td>\n",
              "      <td>MetalSd</td>\n",
              "      <td>MetalSd</td>\n",
              "      <td>None</td>\n",
              "      <td>0.0</td>\n",
              "      <td>TA</td>\n",
              "      <td>TA</td>\n",
              "      <td>CBlock</td>\n",
              "      <td>Gd</td>\n",
              "      <td>TA</td>\n",
              "      <td>Gd</td>\n",
              "      <td>ALQ</td>\n",
              "      <td>978</td>\n",
              "      <td>Unf</td>\n",
              "      <td>0</td>\n",
              "      <td>284</td>\n",
              "      <td>1262</td>\n",
              "      <td>GasA</td>\n",
              "      <td>...</td>\n",
              "      <td>Y</td>\n",
              "      <td>SBrkr</td>\n",
              "      <td>1262</td>\n",
              "      <td>0</td>\n",
              "      <td>0</td>\n",
              "      <td>1262</td>\n",
              "      <td>0</td>\n",
              "      <td>1</td>\n",
              "      <td>2</td>\n",
              "      <td>0</td>\n",
              "      <td>3</td>\n",
              "      <td>1</td>\n",
              "      <td>TA</td>\n",
              "      <td>6</td>\n",
              "      <td>Typ</td>\n",
              "      <td>1</td>\n",
              "      <td>TA</td>\n",
              "      <td>Attchd</td>\n",
              "      <td>1976.0</td>\n",
              "      <td>RFn</td>\n",
              "      <td>2</td>\n",
              "      <td>460</td>\n",
              "      <td>TA</td>\n",
              "      <td>TA</td>\n",
              "      <td>Y</td>\n",
              "      <td>298</td>\n",
              "      <td>0</td>\n",
              "      <td>0</td>\n",
              "      <td>0</td>\n",
              "      <td>0</td>\n",
              "      <td>0</td>\n",
              "      <td>NaN</td>\n",
              "      <td>NaN</td>\n",
              "      <td>NaN</td>\n",
              "      <td>0</td>\n",
              "      <td>5</td>\n",
              "      <td>2007</td>\n",
              "      <td>WD</td>\n",
              "      <td>Normal</td>\n",
              "      <td>181500</td>\n",
              "    </tr>\n",
              "    <tr>\n",
              "      <th>2</th>\n",
              "      <td>3</td>\n",
              "      <td>60</td>\n",
              "      <td>RL</td>\n",
              "      <td>68.0</td>\n",
              "      <td>11250</td>\n",
              "      <td>Pave</td>\n",
              "      <td>NaN</td>\n",
              "      <td>IR1</td>\n",
              "      <td>Lvl</td>\n",
              "      <td>AllPub</td>\n",
              "      <td>Inside</td>\n",
              "      <td>Gtl</td>\n",
              "      <td>CollgCr</td>\n",
              "      <td>Norm</td>\n",
              "      <td>Norm</td>\n",
              "      <td>1Fam</td>\n",
              "      <td>2Story</td>\n",
              "      <td>7</td>\n",
              "      <td>5</td>\n",
              "      <td>2001</td>\n",
              "      <td>2002</td>\n",
              "      <td>Gable</td>\n",
              "      <td>CompShg</td>\n",
              "      <td>VinylSd</td>\n",
              "      <td>VinylSd</td>\n",
              "      <td>BrkFace</td>\n",
              "      <td>162.0</td>\n",
              "      <td>Gd</td>\n",
              "      <td>TA</td>\n",
              "      <td>PConc</td>\n",
              "      <td>Gd</td>\n",
              "      <td>TA</td>\n",
              "      <td>Mn</td>\n",
              "      <td>GLQ</td>\n",
              "      <td>486</td>\n",
              "      <td>Unf</td>\n",
              "      <td>0</td>\n",
              "      <td>434</td>\n",
              "      <td>920</td>\n",
              "      <td>GasA</td>\n",
              "      <td>...</td>\n",
              "      <td>Y</td>\n",
              "      <td>SBrkr</td>\n",
              "      <td>920</td>\n",
              "      <td>866</td>\n",
              "      <td>0</td>\n",
              "      <td>1786</td>\n",
              "      <td>1</td>\n",
              "      <td>0</td>\n",
              "      <td>2</td>\n",
              "      <td>1</td>\n",
              "      <td>3</td>\n",
              "      <td>1</td>\n",
              "      <td>Gd</td>\n",
              "      <td>6</td>\n",
              "      <td>Typ</td>\n",
              "      <td>1</td>\n",
              "      <td>TA</td>\n",
              "      <td>Attchd</td>\n",
              "      <td>2001.0</td>\n",
              "      <td>RFn</td>\n",
              "      <td>2</td>\n",
              "      <td>608</td>\n",
              "      <td>TA</td>\n",
              "      <td>TA</td>\n",
              "      <td>Y</td>\n",
              "      <td>0</td>\n",
              "      <td>42</td>\n",
              "      <td>0</td>\n",
              "      <td>0</td>\n",
              "      <td>0</td>\n",
              "      <td>0</td>\n",
              "      <td>NaN</td>\n",
              "      <td>NaN</td>\n",
              "      <td>NaN</td>\n",
              "      <td>0</td>\n",
              "      <td>9</td>\n",
              "      <td>2008</td>\n",
              "      <td>WD</td>\n",
              "      <td>Normal</td>\n",
              "      <td>223500</td>\n",
              "    </tr>\n",
              "    <tr>\n",
              "      <th>3</th>\n",
              "      <td>4</td>\n",
              "      <td>70</td>\n",
              "      <td>RL</td>\n",
              "      <td>60.0</td>\n",
              "      <td>9550</td>\n",
              "      <td>Pave</td>\n",
              "      <td>NaN</td>\n",
              "      <td>IR1</td>\n",
              "      <td>Lvl</td>\n",
              "      <td>AllPub</td>\n",
              "      <td>Corner</td>\n",
              "      <td>Gtl</td>\n",
              "      <td>Crawfor</td>\n",
              "      <td>Norm</td>\n",
              "      <td>Norm</td>\n",
              "      <td>1Fam</td>\n",
              "      <td>2Story</td>\n",
              "      <td>7</td>\n",
              "      <td>5</td>\n",
              "      <td>1915</td>\n",
              "      <td>1970</td>\n",
              "      <td>Gable</td>\n",
              "      <td>CompShg</td>\n",
              "      <td>Wd Sdng</td>\n",
              "      <td>Wd Shng</td>\n",
              "      <td>None</td>\n",
              "      <td>0.0</td>\n",
              "      <td>TA</td>\n",
              "      <td>TA</td>\n",
              "      <td>BrkTil</td>\n",
              "      <td>TA</td>\n",
              "      <td>Gd</td>\n",
              "      <td>No</td>\n",
              "      <td>ALQ</td>\n",
              "      <td>216</td>\n",
              "      <td>Unf</td>\n",
              "      <td>0</td>\n",
              "      <td>540</td>\n",
              "      <td>756</td>\n",
              "      <td>GasA</td>\n",
              "      <td>...</td>\n",
              "      <td>Y</td>\n",
              "      <td>SBrkr</td>\n",
              "      <td>961</td>\n",
              "      <td>756</td>\n",
              "      <td>0</td>\n",
              "      <td>1717</td>\n",
              "      <td>1</td>\n",
              "      <td>0</td>\n",
              "      <td>1</td>\n",
              "      <td>0</td>\n",
              "      <td>3</td>\n",
              "      <td>1</td>\n",
              "      <td>Gd</td>\n",
              "      <td>7</td>\n",
              "      <td>Typ</td>\n",
              "      <td>1</td>\n",
              "      <td>Gd</td>\n",
              "      <td>Detchd</td>\n",
              "      <td>1998.0</td>\n",
              "      <td>Unf</td>\n",
              "      <td>3</td>\n",
              "      <td>642</td>\n",
              "      <td>TA</td>\n",
              "      <td>TA</td>\n",
              "      <td>Y</td>\n",
              "      <td>0</td>\n",
              "      <td>35</td>\n",
              "      <td>272</td>\n",
              "      <td>0</td>\n",
              "      <td>0</td>\n",
              "      <td>0</td>\n",
              "      <td>NaN</td>\n",
              "      <td>NaN</td>\n",
              "      <td>NaN</td>\n",
              "      <td>0</td>\n",
              "      <td>2</td>\n",
              "      <td>2006</td>\n",
              "      <td>WD</td>\n",
              "      <td>Abnorml</td>\n",
              "      <td>140000</td>\n",
              "    </tr>\n",
              "    <tr>\n",
              "      <th>4</th>\n",
              "      <td>5</td>\n",
              "      <td>60</td>\n",
              "      <td>RL</td>\n",
              "      <td>84.0</td>\n",
              "      <td>14260</td>\n",
              "      <td>Pave</td>\n",
              "      <td>NaN</td>\n",
              "      <td>IR1</td>\n",
              "      <td>Lvl</td>\n",
              "      <td>AllPub</td>\n",
              "      <td>FR2</td>\n",
              "      <td>Gtl</td>\n",
              "      <td>NoRidge</td>\n",
              "      <td>Norm</td>\n",
              "      <td>Norm</td>\n",
              "      <td>1Fam</td>\n",
              "      <td>2Story</td>\n",
              "      <td>8</td>\n",
              "      <td>5</td>\n",
              "      <td>2000</td>\n",
              "      <td>2000</td>\n",
              "      <td>Gable</td>\n",
              "      <td>CompShg</td>\n",
              "      <td>VinylSd</td>\n",
              "      <td>VinylSd</td>\n",
              "      <td>BrkFace</td>\n",
              "      <td>350.0</td>\n",
              "      <td>Gd</td>\n",
              "      <td>TA</td>\n",
              "      <td>PConc</td>\n",
              "      <td>Gd</td>\n",
              "      <td>TA</td>\n",
              "      <td>Av</td>\n",
              "      <td>GLQ</td>\n",
              "      <td>655</td>\n",
              "      <td>Unf</td>\n",
              "      <td>0</td>\n",
              "      <td>490</td>\n",
              "      <td>1145</td>\n",
              "      <td>GasA</td>\n",
              "      <td>...</td>\n",
              "      <td>Y</td>\n",
              "      <td>SBrkr</td>\n",
              "      <td>1145</td>\n",
              "      <td>1053</td>\n",
              "      <td>0</td>\n",
              "      <td>2198</td>\n",
              "      <td>1</td>\n",
              "      <td>0</td>\n",
              "      <td>2</td>\n",
              "      <td>1</td>\n",
              "      <td>4</td>\n",
              "      <td>1</td>\n",
              "      <td>Gd</td>\n",
              "      <td>9</td>\n",
              "      <td>Typ</td>\n",
              "      <td>1</td>\n",
              "      <td>TA</td>\n",
              "      <td>Attchd</td>\n",
              "      <td>2000.0</td>\n",
              "      <td>RFn</td>\n",
              "      <td>3</td>\n",
              "      <td>836</td>\n",
              "      <td>TA</td>\n",
              "      <td>TA</td>\n",
              "      <td>Y</td>\n",
              "      <td>192</td>\n",
              "      <td>84</td>\n",
              "      <td>0</td>\n",
              "      <td>0</td>\n",
              "      <td>0</td>\n",
              "      <td>0</td>\n",
              "      <td>NaN</td>\n",
              "      <td>NaN</td>\n",
              "      <td>NaN</td>\n",
              "      <td>0</td>\n",
              "      <td>12</td>\n",
              "      <td>2008</td>\n",
              "      <td>WD</td>\n",
              "      <td>Normal</td>\n",
              "      <td>250000</td>\n",
              "    </tr>\n",
              "  </tbody>\n",
              "</table>\n",
              "<p>5 rows × 81 columns</p>\n",
              "</div>"
            ],
            "text/plain": [
              "   Id  MSSubClass MSZoning  ...  SaleType  SaleCondition SalePrice\n",
              "0   1          60       RL  ...        WD         Normal    208500\n",
              "1   2          20       RL  ...        WD         Normal    181500\n",
              "2   3          60       RL  ...        WD         Normal    223500\n",
              "3   4          70       RL  ...        WD        Abnorml    140000\n",
              "4   5          60       RL  ...        WD         Normal    250000\n",
              "\n",
              "[5 rows x 81 columns]"
            ]
          },
          "metadata": {
            "tags": []
          },
          "execution_count": 9
        }
      ]
    },
    {
      "cell_type": "code",
      "metadata": {
        "id": "B8jP5xlwXkAQ"
      },
      "source": [
        "data['MSSubClass'] = [str(x)+'_cat' for x in data['MSSubClass']]"
      ],
      "execution_count": 10,
      "outputs": []
    },
    {
      "cell_type": "code",
      "metadata": {
        "colab": {
          "base_uri": "https://localhost:8080/",
          "height": 253
        },
        "id": "I8Cp2XlgXtrM",
        "outputId": "9d7bbfa1-a798-4de9-d784-1a4a1fc243d4"
      },
      "source": [
        "data.head()"
      ],
      "execution_count": 11,
      "outputs": [
        {
          "output_type": "execute_result",
          "data": {
            "text/html": [
              "<div>\n",
              "<style scoped>\n",
              "    .dataframe tbody tr th:only-of-type {\n",
              "        vertical-align: middle;\n",
              "    }\n",
              "\n",
              "    .dataframe tbody tr th {\n",
              "        vertical-align: top;\n",
              "    }\n",
              "\n",
              "    .dataframe thead th {\n",
              "        text-align: right;\n",
              "    }\n",
              "</style>\n",
              "<table border=\"1\" class=\"dataframe\">\n",
              "  <thead>\n",
              "    <tr style=\"text-align: right;\">\n",
              "      <th></th>\n",
              "      <th>Id</th>\n",
              "      <th>MSSubClass</th>\n",
              "      <th>MSZoning</th>\n",
              "      <th>LotFrontage</th>\n",
              "      <th>LotArea</th>\n",
              "      <th>Street</th>\n",
              "      <th>Alley</th>\n",
              "      <th>LotShape</th>\n",
              "      <th>LandContour</th>\n",
              "      <th>Utilities</th>\n",
              "      <th>LotConfig</th>\n",
              "      <th>LandSlope</th>\n",
              "      <th>Neighborhood</th>\n",
              "      <th>Condition1</th>\n",
              "      <th>Condition2</th>\n",
              "      <th>BldgType</th>\n",
              "      <th>HouseStyle</th>\n",
              "      <th>OverallQual</th>\n",
              "      <th>OverallCond</th>\n",
              "      <th>YearBuilt</th>\n",
              "      <th>YearRemodAdd</th>\n",
              "      <th>RoofStyle</th>\n",
              "      <th>RoofMatl</th>\n",
              "      <th>Exterior1st</th>\n",
              "      <th>Exterior2nd</th>\n",
              "      <th>MasVnrType</th>\n",
              "      <th>MasVnrArea</th>\n",
              "      <th>ExterQual</th>\n",
              "      <th>ExterCond</th>\n",
              "      <th>Foundation</th>\n",
              "      <th>BsmtQual</th>\n",
              "      <th>BsmtCond</th>\n",
              "      <th>BsmtExposure</th>\n",
              "      <th>BsmtFinType1</th>\n",
              "      <th>BsmtFinSF1</th>\n",
              "      <th>BsmtFinType2</th>\n",
              "      <th>BsmtFinSF2</th>\n",
              "      <th>BsmtUnfSF</th>\n",
              "      <th>TotalBsmtSF</th>\n",
              "      <th>Heating</th>\n",
              "      <th>...</th>\n",
              "      <th>CentralAir</th>\n",
              "      <th>Electrical</th>\n",
              "      <th>1stFlrSF</th>\n",
              "      <th>2ndFlrSF</th>\n",
              "      <th>LowQualFinSF</th>\n",
              "      <th>GrLivArea</th>\n",
              "      <th>BsmtFullBath</th>\n",
              "      <th>BsmtHalfBath</th>\n",
              "      <th>FullBath</th>\n",
              "      <th>HalfBath</th>\n",
              "      <th>BedroomAbvGr</th>\n",
              "      <th>KitchenAbvGr</th>\n",
              "      <th>KitchenQual</th>\n",
              "      <th>TotRmsAbvGrd</th>\n",
              "      <th>Functional</th>\n",
              "      <th>Fireplaces</th>\n",
              "      <th>FireplaceQu</th>\n",
              "      <th>GarageType</th>\n",
              "      <th>GarageYrBlt</th>\n",
              "      <th>GarageFinish</th>\n",
              "      <th>GarageCars</th>\n",
              "      <th>GarageArea</th>\n",
              "      <th>GarageQual</th>\n",
              "      <th>GarageCond</th>\n",
              "      <th>PavedDrive</th>\n",
              "      <th>WoodDeckSF</th>\n",
              "      <th>OpenPorchSF</th>\n",
              "      <th>EnclosedPorch</th>\n",
              "      <th>3SsnPorch</th>\n",
              "      <th>ScreenPorch</th>\n",
              "      <th>PoolArea</th>\n",
              "      <th>PoolQC</th>\n",
              "      <th>Fence</th>\n",
              "      <th>MiscFeature</th>\n",
              "      <th>MiscVal</th>\n",
              "      <th>MoSold</th>\n",
              "      <th>YrSold</th>\n",
              "      <th>SaleType</th>\n",
              "      <th>SaleCondition</th>\n",
              "      <th>SalePrice</th>\n",
              "    </tr>\n",
              "  </thead>\n",
              "  <tbody>\n",
              "    <tr>\n",
              "      <th>0</th>\n",
              "      <td>1</td>\n",
              "      <td>60_cat</td>\n",
              "      <td>RL</td>\n",
              "      <td>65.0</td>\n",
              "      <td>8450</td>\n",
              "      <td>Pave</td>\n",
              "      <td>NaN</td>\n",
              "      <td>Reg</td>\n",
              "      <td>Lvl</td>\n",
              "      <td>AllPub</td>\n",
              "      <td>Inside</td>\n",
              "      <td>Gtl</td>\n",
              "      <td>CollgCr</td>\n",
              "      <td>Norm</td>\n",
              "      <td>Norm</td>\n",
              "      <td>1Fam</td>\n",
              "      <td>2Story</td>\n",
              "      <td>7</td>\n",
              "      <td>5</td>\n",
              "      <td>2003</td>\n",
              "      <td>2003</td>\n",
              "      <td>Gable</td>\n",
              "      <td>CompShg</td>\n",
              "      <td>VinylSd</td>\n",
              "      <td>VinylSd</td>\n",
              "      <td>BrkFace</td>\n",
              "      <td>196.0</td>\n",
              "      <td>Gd</td>\n",
              "      <td>TA</td>\n",
              "      <td>PConc</td>\n",
              "      <td>Gd</td>\n",
              "      <td>TA</td>\n",
              "      <td>No</td>\n",
              "      <td>GLQ</td>\n",
              "      <td>706</td>\n",
              "      <td>Unf</td>\n",
              "      <td>0</td>\n",
              "      <td>150</td>\n",
              "      <td>856</td>\n",
              "      <td>GasA</td>\n",
              "      <td>...</td>\n",
              "      <td>Y</td>\n",
              "      <td>SBrkr</td>\n",
              "      <td>856</td>\n",
              "      <td>854</td>\n",
              "      <td>0</td>\n",
              "      <td>1710</td>\n",
              "      <td>1</td>\n",
              "      <td>0</td>\n",
              "      <td>2</td>\n",
              "      <td>1</td>\n",
              "      <td>3</td>\n",
              "      <td>1</td>\n",
              "      <td>Gd</td>\n",
              "      <td>8</td>\n",
              "      <td>Typ</td>\n",
              "      <td>0</td>\n",
              "      <td>NaN</td>\n",
              "      <td>Attchd</td>\n",
              "      <td>2003.0</td>\n",
              "      <td>RFn</td>\n",
              "      <td>2</td>\n",
              "      <td>548</td>\n",
              "      <td>TA</td>\n",
              "      <td>TA</td>\n",
              "      <td>Y</td>\n",
              "      <td>0</td>\n",
              "      <td>61</td>\n",
              "      <td>0</td>\n",
              "      <td>0</td>\n",
              "      <td>0</td>\n",
              "      <td>0</td>\n",
              "      <td>NaN</td>\n",
              "      <td>NaN</td>\n",
              "      <td>NaN</td>\n",
              "      <td>0</td>\n",
              "      <td>2</td>\n",
              "      <td>2008</td>\n",
              "      <td>WD</td>\n",
              "      <td>Normal</td>\n",
              "      <td>208500</td>\n",
              "    </tr>\n",
              "    <tr>\n",
              "      <th>1</th>\n",
              "      <td>2</td>\n",
              "      <td>20_cat</td>\n",
              "      <td>RL</td>\n",
              "      <td>80.0</td>\n",
              "      <td>9600</td>\n",
              "      <td>Pave</td>\n",
              "      <td>NaN</td>\n",
              "      <td>Reg</td>\n",
              "      <td>Lvl</td>\n",
              "      <td>AllPub</td>\n",
              "      <td>FR2</td>\n",
              "      <td>Gtl</td>\n",
              "      <td>Veenker</td>\n",
              "      <td>Feedr</td>\n",
              "      <td>Norm</td>\n",
              "      <td>1Fam</td>\n",
              "      <td>1Story</td>\n",
              "      <td>6</td>\n",
              "      <td>8</td>\n",
              "      <td>1976</td>\n",
              "      <td>1976</td>\n",
              "      <td>Gable</td>\n",
              "      <td>CompShg</td>\n",
              "      <td>MetalSd</td>\n",
              "      <td>MetalSd</td>\n",
              "      <td>None</td>\n",
              "      <td>0.0</td>\n",
              "      <td>TA</td>\n",
              "      <td>TA</td>\n",
              "      <td>CBlock</td>\n",
              "      <td>Gd</td>\n",
              "      <td>TA</td>\n",
              "      <td>Gd</td>\n",
              "      <td>ALQ</td>\n",
              "      <td>978</td>\n",
              "      <td>Unf</td>\n",
              "      <td>0</td>\n",
              "      <td>284</td>\n",
              "      <td>1262</td>\n",
              "      <td>GasA</td>\n",
              "      <td>...</td>\n",
              "      <td>Y</td>\n",
              "      <td>SBrkr</td>\n",
              "      <td>1262</td>\n",
              "      <td>0</td>\n",
              "      <td>0</td>\n",
              "      <td>1262</td>\n",
              "      <td>0</td>\n",
              "      <td>1</td>\n",
              "      <td>2</td>\n",
              "      <td>0</td>\n",
              "      <td>3</td>\n",
              "      <td>1</td>\n",
              "      <td>TA</td>\n",
              "      <td>6</td>\n",
              "      <td>Typ</td>\n",
              "      <td>1</td>\n",
              "      <td>TA</td>\n",
              "      <td>Attchd</td>\n",
              "      <td>1976.0</td>\n",
              "      <td>RFn</td>\n",
              "      <td>2</td>\n",
              "      <td>460</td>\n",
              "      <td>TA</td>\n",
              "      <td>TA</td>\n",
              "      <td>Y</td>\n",
              "      <td>298</td>\n",
              "      <td>0</td>\n",
              "      <td>0</td>\n",
              "      <td>0</td>\n",
              "      <td>0</td>\n",
              "      <td>0</td>\n",
              "      <td>NaN</td>\n",
              "      <td>NaN</td>\n",
              "      <td>NaN</td>\n",
              "      <td>0</td>\n",
              "      <td>5</td>\n",
              "      <td>2007</td>\n",
              "      <td>WD</td>\n",
              "      <td>Normal</td>\n",
              "      <td>181500</td>\n",
              "    </tr>\n",
              "    <tr>\n",
              "      <th>2</th>\n",
              "      <td>3</td>\n",
              "      <td>60_cat</td>\n",
              "      <td>RL</td>\n",
              "      <td>68.0</td>\n",
              "      <td>11250</td>\n",
              "      <td>Pave</td>\n",
              "      <td>NaN</td>\n",
              "      <td>IR1</td>\n",
              "      <td>Lvl</td>\n",
              "      <td>AllPub</td>\n",
              "      <td>Inside</td>\n",
              "      <td>Gtl</td>\n",
              "      <td>CollgCr</td>\n",
              "      <td>Norm</td>\n",
              "      <td>Norm</td>\n",
              "      <td>1Fam</td>\n",
              "      <td>2Story</td>\n",
              "      <td>7</td>\n",
              "      <td>5</td>\n",
              "      <td>2001</td>\n",
              "      <td>2002</td>\n",
              "      <td>Gable</td>\n",
              "      <td>CompShg</td>\n",
              "      <td>VinylSd</td>\n",
              "      <td>VinylSd</td>\n",
              "      <td>BrkFace</td>\n",
              "      <td>162.0</td>\n",
              "      <td>Gd</td>\n",
              "      <td>TA</td>\n",
              "      <td>PConc</td>\n",
              "      <td>Gd</td>\n",
              "      <td>TA</td>\n",
              "      <td>Mn</td>\n",
              "      <td>GLQ</td>\n",
              "      <td>486</td>\n",
              "      <td>Unf</td>\n",
              "      <td>0</td>\n",
              "      <td>434</td>\n",
              "      <td>920</td>\n",
              "      <td>GasA</td>\n",
              "      <td>...</td>\n",
              "      <td>Y</td>\n",
              "      <td>SBrkr</td>\n",
              "      <td>920</td>\n",
              "      <td>866</td>\n",
              "      <td>0</td>\n",
              "      <td>1786</td>\n",
              "      <td>1</td>\n",
              "      <td>0</td>\n",
              "      <td>2</td>\n",
              "      <td>1</td>\n",
              "      <td>3</td>\n",
              "      <td>1</td>\n",
              "      <td>Gd</td>\n",
              "      <td>6</td>\n",
              "      <td>Typ</td>\n",
              "      <td>1</td>\n",
              "      <td>TA</td>\n",
              "      <td>Attchd</td>\n",
              "      <td>2001.0</td>\n",
              "      <td>RFn</td>\n",
              "      <td>2</td>\n",
              "      <td>608</td>\n",
              "      <td>TA</td>\n",
              "      <td>TA</td>\n",
              "      <td>Y</td>\n",
              "      <td>0</td>\n",
              "      <td>42</td>\n",
              "      <td>0</td>\n",
              "      <td>0</td>\n",
              "      <td>0</td>\n",
              "      <td>0</td>\n",
              "      <td>NaN</td>\n",
              "      <td>NaN</td>\n",
              "      <td>NaN</td>\n",
              "      <td>0</td>\n",
              "      <td>9</td>\n",
              "      <td>2008</td>\n",
              "      <td>WD</td>\n",
              "      <td>Normal</td>\n",
              "      <td>223500</td>\n",
              "    </tr>\n",
              "    <tr>\n",
              "      <th>3</th>\n",
              "      <td>4</td>\n",
              "      <td>70_cat</td>\n",
              "      <td>RL</td>\n",
              "      <td>60.0</td>\n",
              "      <td>9550</td>\n",
              "      <td>Pave</td>\n",
              "      <td>NaN</td>\n",
              "      <td>IR1</td>\n",
              "      <td>Lvl</td>\n",
              "      <td>AllPub</td>\n",
              "      <td>Corner</td>\n",
              "      <td>Gtl</td>\n",
              "      <td>Crawfor</td>\n",
              "      <td>Norm</td>\n",
              "      <td>Norm</td>\n",
              "      <td>1Fam</td>\n",
              "      <td>2Story</td>\n",
              "      <td>7</td>\n",
              "      <td>5</td>\n",
              "      <td>1915</td>\n",
              "      <td>1970</td>\n",
              "      <td>Gable</td>\n",
              "      <td>CompShg</td>\n",
              "      <td>Wd Sdng</td>\n",
              "      <td>Wd Shng</td>\n",
              "      <td>None</td>\n",
              "      <td>0.0</td>\n",
              "      <td>TA</td>\n",
              "      <td>TA</td>\n",
              "      <td>BrkTil</td>\n",
              "      <td>TA</td>\n",
              "      <td>Gd</td>\n",
              "      <td>No</td>\n",
              "      <td>ALQ</td>\n",
              "      <td>216</td>\n",
              "      <td>Unf</td>\n",
              "      <td>0</td>\n",
              "      <td>540</td>\n",
              "      <td>756</td>\n",
              "      <td>GasA</td>\n",
              "      <td>...</td>\n",
              "      <td>Y</td>\n",
              "      <td>SBrkr</td>\n",
              "      <td>961</td>\n",
              "      <td>756</td>\n",
              "      <td>0</td>\n",
              "      <td>1717</td>\n",
              "      <td>1</td>\n",
              "      <td>0</td>\n",
              "      <td>1</td>\n",
              "      <td>0</td>\n",
              "      <td>3</td>\n",
              "      <td>1</td>\n",
              "      <td>Gd</td>\n",
              "      <td>7</td>\n",
              "      <td>Typ</td>\n",
              "      <td>1</td>\n",
              "      <td>Gd</td>\n",
              "      <td>Detchd</td>\n",
              "      <td>1998.0</td>\n",
              "      <td>Unf</td>\n",
              "      <td>3</td>\n",
              "      <td>642</td>\n",
              "      <td>TA</td>\n",
              "      <td>TA</td>\n",
              "      <td>Y</td>\n",
              "      <td>0</td>\n",
              "      <td>35</td>\n",
              "      <td>272</td>\n",
              "      <td>0</td>\n",
              "      <td>0</td>\n",
              "      <td>0</td>\n",
              "      <td>NaN</td>\n",
              "      <td>NaN</td>\n",
              "      <td>NaN</td>\n",
              "      <td>0</td>\n",
              "      <td>2</td>\n",
              "      <td>2006</td>\n",
              "      <td>WD</td>\n",
              "      <td>Abnorml</td>\n",
              "      <td>140000</td>\n",
              "    </tr>\n",
              "    <tr>\n",
              "      <th>4</th>\n",
              "      <td>5</td>\n",
              "      <td>60_cat</td>\n",
              "      <td>RL</td>\n",
              "      <td>84.0</td>\n",
              "      <td>14260</td>\n",
              "      <td>Pave</td>\n",
              "      <td>NaN</td>\n",
              "      <td>IR1</td>\n",
              "      <td>Lvl</td>\n",
              "      <td>AllPub</td>\n",
              "      <td>FR2</td>\n",
              "      <td>Gtl</td>\n",
              "      <td>NoRidge</td>\n",
              "      <td>Norm</td>\n",
              "      <td>Norm</td>\n",
              "      <td>1Fam</td>\n",
              "      <td>2Story</td>\n",
              "      <td>8</td>\n",
              "      <td>5</td>\n",
              "      <td>2000</td>\n",
              "      <td>2000</td>\n",
              "      <td>Gable</td>\n",
              "      <td>CompShg</td>\n",
              "      <td>VinylSd</td>\n",
              "      <td>VinylSd</td>\n",
              "      <td>BrkFace</td>\n",
              "      <td>350.0</td>\n",
              "      <td>Gd</td>\n",
              "      <td>TA</td>\n",
              "      <td>PConc</td>\n",
              "      <td>Gd</td>\n",
              "      <td>TA</td>\n",
              "      <td>Av</td>\n",
              "      <td>GLQ</td>\n",
              "      <td>655</td>\n",
              "      <td>Unf</td>\n",
              "      <td>0</td>\n",
              "      <td>490</td>\n",
              "      <td>1145</td>\n",
              "      <td>GasA</td>\n",
              "      <td>...</td>\n",
              "      <td>Y</td>\n",
              "      <td>SBrkr</td>\n",
              "      <td>1145</td>\n",
              "      <td>1053</td>\n",
              "      <td>0</td>\n",
              "      <td>2198</td>\n",
              "      <td>1</td>\n",
              "      <td>0</td>\n",
              "      <td>2</td>\n",
              "      <td>1</td>\n",
              "      <td>4</td>\n",
              "      <td>1</td>\n",
              "      <td>Gd</td>\n",
              "      <td>9</td>\n",
              "      <td>Typ</td>\n",
              "      <td>1</td>\n",
              "      <td>TA</td>\n",
              "      <td>Attchd</td>\n",
              "      <td>2000.0</td>\n",
              "      <td>RFn</td>\n",
              "      <td>3</td>\n",
              "      <td>836</td>\n",
              "      <td>TA</td>\n",
              "      <td>TA</td>\n",
              "      <td>Y</td>\n",
              "      <td>192</td>\n",
              "      <td>84</td>\n",
              "      <td>0</td>\n",
              "      <td>0</td>\n",
              "      <td>0</td>\n",
              "      <td>0</td>\n",
              "      <td>NaN</td>\n",
              "      <td>NaN</td>\n",
              "      <td>NaN</td>\n",
              "      <td>0</td>\n",
              "      <td>12</td>\n",
              "      <td>2008</td>\n",
              "      <td>WD</td>\n",
              "      <td>Normal</td>\n",
              "      <td>250000</td>\n",
              "    </tr>\n",
              "  </tbody>\n",
              "</table>\n",
              "<p>5 rows × 81 columns</p>\n",
              "</div>"
            ],
            "text/plain": [
              "   Id MSSubClass MSZoning  ...  SaleType  SaleCondition SalePrice\n",
              "0   1     60_cat       RL  ...        WD         Normal    208500\n",
              "1   2     20_cat       RL  ...        WD         Normal    181500\n",
              "2   3     60_cat       RL  ...        WD         Normal    223500\n",
              "3   4     70_cat       RL  ...        WD        Abnorml    140000\n",
              "4   5     60_cat       RL  ...        WD         Normal    250000\n",
              "\n",
              "[5 rows x 81 columns]"
            ]
          },
          "metadata": {
            "tags": []
          },
          "execution_count": 11
        }
      ]
    },
    {
      "cell_type": "code",
      "metadata": {
        "colab": {
          "base_uri": "https://localhost:8080/",
          "height": 419
        },
        "id": "CPExgljBtNMB",
        "outputId": "5e1ecfe4-0976-48a1-bf79-56c2ccace355"
      },
      "source": [
        "RelatorioMiss(data)"
      ],
      "execution_count": 12,
      "outputs": [
        {
          "output_type": "execute_result",
          "data": {
            "text/html": [
              "<div>\n",
              "<style scoped>\n",
              "    .dataframe tbody tr th:only-of-type {\n",
              "        vertical-align: middle;\n",
              "    }\n",
              "\n",
              "    .dataframe tbody tr th {\n",
              "        vertical-align: top;\n",
              "    }\n",
              "\n",
              "    .dataframe thead th {\n",
              "        text-align: right;\n",
              "    }\n",
              "</style>\n",
              "<table border=\"1\" class=\"dataframe\">\n",
              "  <thead>\n",
              "    <tr style=\"text-align: right;\">\n",
              "      <th></th>\n",
              "      <th>index</th>\n",
              "      <th>P_miss</th>\n",
              "    </tr>\n",
              "  </thead>\n",
              "  <tbody>\n",
              "    <tr>\n",
              "      <th>72</th>\n",
              "      <td>PoolQC</td>\n",
              "      <td>99.520548</td>\n",
              "    </tr>\n",
              "    <tr>\n",
              "      <th>74</th>\n",
              "      <td>MiscFeature</td>\n",
              "      <td>96.301370</td>\n",
              "    </tr>\n",
              "    <tr>\n",
              "      <th>6</th>\n",
              "      <td>Alley</td>\n",
              "      <td>93.767123</td>\n",
              "    </tr>\n",
              "    <tr>\n",
              "      <th>73</th>\n",
              "      <td>Fence</td>\n",
              "      <td>80.753425</td>\n",
              "    </tr>\n",
              "    <tr>\n",
              "      <th>57</th>\n",
              "      <td>FireplaceQu</td>\n",
              "      <td>47.260274</td>\n",
              "    </tr>\n",
              "    <tr>\n",
              "      <th>...</th>\n",
              "      <td>...</td>\n",
              "      <td>...</td>\n",
              "    </tr>\n",
              "    <tr>\n",
              "      <th>27</th>\n",
              "      <td>ExterQual</td>\n",
              "      <td>0.000000</td>\n",
              "    </tr>\n",
              "    <tr>\n",
              "      <th>24</th>\n",
              "      <td>Exterior2nd</td>\n",
              "      <td>0.000000</td>\n",
              "    </tr>\n",
              "    <tr>\n",
              "      <th>23</th>\n",
              "      <td>Exterior1st</td>\n",
              "      <td>0.000000</td>\n",
              "    </tr>\n",
              "    <tr>\n",
              "      <th>22</th>\n",
              "      <td>RoofMatl</td>\n",
              "      <td>0.000000</td>\n",
              "    </tr>\n",
              "    <tr>\n",
              "      <th>80</th>\n",
              "      <td>SalePrice</td>\n",
              "      <td>0.000000</td>\n",
              "    </tr>\n",
              "  </tbody>\n",
              "</table>\n",
              "<p>81 rows × 2 columns</p>\n",
              "</div>"
            ],
            "text/plain": [
              "          index     P_miss\n",
              "72       PoolQC  99.520548\n",
              "74  MiscFeature  96.301370\n",
              "6         Alley  93.767123\n",
              "73        Fence  80.753425\n",
              "57  FireplaceQu  47.260274\n",
              "..          ...        ...\n",
              "27    ExterQual   0.000000\n",
              "24  Exterior2nd   0.000000\n",
              "23  Exterior1st   0.000000\n",
              "22     RoofMatl   0.000000\n",
              "80    SalePrice   0.000000\n",
              "\n",
              "[81 rows x 2 columns]"
            ]
          },
          "metadata": {
            "tags": []
          },
          "execution_count": 12
        }
      ]
    },
    {
      "cell_type": "code",
      "metadata": {
        "colab": {
          "base_uri": "https://localhost:8080/"
        },
        "id": "kRv8TOiitjtA",
        "outputId": "75b129d5-cbc7-448e-ec40-70eac23bca1b"
      },
      "source": [
        "RelatorioZero(data)"
      ],
      "execution_count": 13,
      "outputs": [
        {
          "output_type": "stream",
          "text": [
            "          colunas      %\n",
            "17       PoolArea  99.52\n",
            "15      3SsnPorch  98.36\n",
            "6    LowQualFinSF  98.22\n",
            "18        MiscVal  96.44\n",
            "8    BsmtHalfBath  94.38\n",
            "16    ScreenPorch  92.05\n",
            "2      BsmtFinSF2  88.56\n",
            "14  EnclosedPorch  85.75\n",
            "9        HalfBath  62.53\n",
            "0      MasVnrArea  59.30\n",
            "7    BsmtFullBath  58.63\n",
            "5        2ndFlrSF  56.78\n",
            "12     WoodDeckSF  52.12\n",
            "10     Fireplaces  47.26\n",
            "13    OpenPorchSF  44.93\n",
            "1      BsmtFinSF1  31.99\n",
            "3       BsmtUnfSF   8.08\n",
            "11     GarageArea   5.55\n",
            "4     TotalBsmtSF   2.53\n"
          ],
          "name": "stdout"
        }
      ]
    },
    {
      "cell_type": "code",
      "metadata": {
        "id": "H6doTvPczepB"
      },
      "source": [
        "data_train = data.copy()\r\n",
        "id = data_train['Id']\r\n",
        "y = data_train['SalePrice']\r\n",
        "#Dropando id, alvo e features com mais de 90% de miss ou zeros:\r\n",
        "data_train = data_train.drop(['Id', 'SalePrice', 'PoolQC', 'MiscFeature', 'Alley', 'PoolArea', '3SsnPorch', 'LowQualFinSF', 'MiscVal', 'BsmtHalfBath', 'ScreenPorch'], axis=1)"
      ],
      "execution_count": 14,
      "outputs": []
    },
    {
      "cell_type": "code",
      "metadata": {
        "colab": {
          "base_uri": "https://localhost:8080/",
          "height": 204
        },
        "id": "HCC7pp8CJc7J",
        "outputId": "e78058e0-0e4c-438b-ff26-a15a3435e43b"
      },
      "source": [
        "unique_cat(data_train).head()"
      ],
      "execution_count": 15,
      "outputs": [
        {
          "output_type": "execute_result",
          "data": {
            "text/html": [
              "<div>\n",
              "<style scoped>\n",
              "    .dataframe tbody tr th:only-of-type {\n",
              "        vertical-align: middle;\n",
              "    }\n",
              "\n",
              "    .dataframe tbody tr th {\n",
              "        vertical-align: top;\n",
              "    }\n",
              "\n",
              "    .dataframe thead th {\n",
              "        text-align: right;\n",
              "    }\n",
              "</style>\n",
              "<table border=\"1\" class=\"dataframe\">\n",
              "  <thead>\n",
              "    <tr style=\"text-align: right;\">\n",
              "      <th></th>\n",
              "      <th>coluna_cat</th>\n",
              "      <th>quantidade de unique</th>\n",
              "    </tr>\n",
              "  </thead>\n",
              "  <tbody>\n",
              "    <tr>\n",
              "      <th>8</th>\n",
              "      <td>Neighborhood</td>\n",
              "      <td>25</td>\n",
              "    </tr>\n",
              "    <tr>\n",
              "      <th>16</th>\n",
              "      <td>Exterior2nd</td>\n",
              "      <td>16</td>\n",
              "    </tr>\n",
              "    <tr>\n",
              "      <th>0</th>\n",
              "      <td>MSSubClass</td>\n",
              "      <td>15</td>\n",
              "    </tr>\n",
              "    <tr>\n",
              "      <th>15</th>\n",
              "      <td>Exterior1st</td>\n",
              "      <td>15</td>\n",
              "    </tr>\n",
              "    <tr>\n",
              "      <th>9</th>\n",
              "      <td>Condition1</td>\n",
              "      <td>9</td>\n",
              "    </tr>\n",
              "  </tbody>\n",
              "</table>\n",
              "</div>"
            ],
            "text/plain": [
              "      coluna_cat  quantidade de unique\n",
              "8   Neighborhood                    25\n",
              "16   Exterior2nd                    16\n",
              "0     MSSubClass                    15\n",
              "15   Exterior1st                    15\n",
              "9     Condition1                     9"
            ]
          },
          "metadata": {
            "tags": []
          },
          "execution_count": 15
        }
      ]
    },
    {
      "cell_type": "code",
      "metadata": {
        "id": "osIBzDLKSCQ2"
      },
      "source": [
        "# As 3 primeiras linhas do df acima se referem a colunas categóricas com\r\n",
        "# mais de 10 domínios.\r\n",
        "# Vamos classificá-los como categóricos de alta cardinalidade. \r\n",
        "lista_categoricoAltaC = list(unique_cat(data_train).iloc[0:4, 0])\r\n",
        "df_categoricoAltaC = data_train[lista_categoricoAltaC]"
      ],
      "execution_count": 16,
      "outputs": []
    },
    {
      "cell_type": "code",
      "metadata": {
        "id": "cHBGMoxdUeO3"
      },
      "source": [
        "dominios_categorico_AltaC = {}\r\n",
        "for column in df_categoricoAltaC.columns:\r\n",
        "    dominios_categorico_AltaC[column] = list(df_categoricoAltaC[column].unique())"
      ],
      "execution_count": 17,
      "outputs": []
    },
    {
      "cell_type": "code",
      "metadata": {
        "id": "YWgf_7fRSvVK"
      },
      "source": [
        "#Os demais serão categóricos de baixa cardinalidade\r\n",
        "lista_categoricoBaixaC = list(unique_cat(data_train).iloc[4:, 0])\r\n",
        "df_categoricoBaixaC = data_train[lista_categoricoBaixaC]"
      ],
      "execution_count": 18,
      "outputs": []
    },
    {
      "cell_type": "code",
      "metadata": {
        "id": "NbLcVX3HUe3s"
      },
      "source": [
        "dominios_categorico_BaixaC = {}\r\n",
        "for column in df_categoricoBaixaC.columns:\r\n",
        "    dominios_categorico_BaixaC[column] = list(df_categoricoBaixaC[column].unique())"
      ],
      "execution_count": 19,
      "outputs": []
    },
    {
      "cell_type": "code",
      "metadata": {
        "id": "UyD34svkS6_y",
        "colab": {
          "base_uri": "https://localhost:8080/",
          "height": 439
        },
        "outputId": "3df3019b-e9cf-4909-effb-2a76537d5ffc"
      },
      "source": [
        "#df_numérico\r\n",
        "lista_numerico = []\r\n",
        "for column in data_train.columns:\r\n",
        "        if data_train[column].dtype == 'int64' or data_train[column].dtype == 'float64':\r\n",
        "            lista_numerico.append(column)\r\n",
        "\r\n",
        "df_numerico = data_train[lista_numerico]\r\n",
        "df_numerico"
      ],
      "execution_count": 20,
      "outputs": [
        {
          "output_type": "execute_result",
          "data": {
            "text/html": [
              "<div>\n",
              "<style scoped>\n",
              "    .dataframe tbody tr th:only-of-type {\n",
              "        vertical-align: middle;\n",
              "    }\n",
              "\n",
              "    .dataframe tbody tr th {\n",
              "        vertical-align: top;\n",
              "    }\n",
              "\n",
              "    .dataframe thead th {\n",
              "        text-align: right;\n",
              "    }\n",
              "</style>\n",
              "<table border=\"1\" class=\"dataframe\">\n",
              "  <thead>\n",
              "    <tr style=\"text-align: right;\">\n",
              "      <th></th>\n",
              "      <th>LotFrontage</th>\n",
              "      <th>LotArea</th>\n",
              "      <th>OverallQual</th>\n",
              "      <th>OverallCond</th>\n",
              "      <th>YearBuilt</th>\n",
              "      <th>YearRemodAdd</th>\n",
              "      <th>MasVnrArea</th>\n",
              "      <th>BsmtFinSF1</th>\n",
              "      <th>BsmtFinSF2</th>\n",
              "      <th>BsmtUnfSF</th>\n",
              "      <th>TotalBsmtSF</th>\n",
              "      <th>1stFlrSF</th>\n",
              "      <th>2ndFlrSF</th>\n",
              "      <th>GrLivArea</th>\n",
              "      <th>BsmtFullBath</th>\n",
              "      <th>FullBath</th>\n",
              "      <th>HalfBath</th>\n",
              "      <th>BedroomAbvGr</th>\n",
              "      <th>KitchenAbvGr</th>\n",
              "      <th>TotRmsAbvGrd</th>\n",
              "      <th>Fireplaces</th>\n",
              "      <th>GarageYrBlt</th>\n",
              "      <th>GarageCars</th>\n",
              "      <th>GarageArea</th>\n",
              "      <th>WoodDeckSF</th>\n",
              "      <th>OpenPorchSF</th>\n",
              "      <th>EnclosedPorch</th>\n",
              "      <th>MoSold</th>\n",
              "      <th>YrSold</th>\n",
              "    </tr>\n",
              "  </thead>\n",
              "  <tbody>\n",
              "    <tr>\n",
              "      <th>0</th>\n",
              "      <td>65.0</td>\n",
              "      <td>8450</td>\n",
              "      <td>7</td>\n",
              "      <td>5</td>\n",
              "      <td>2003</td>\n",
              "      <td>2003</td>\n",
              "      <td>196.0</td>\n",
              "      <td>706</td>\n",
              "      <td>0</td>\n",
              "      <td>150</td>\n",
              "      <td>856</td>\n",
              "      <td>856</td>\n",
              "      <td>854</td>\n",
              "      <td>1710</td>\n",
              "      <td>1</td>\n",
              "      <td>2</td>\n",
              "      <td>1</td>\n",
              "      <td>3</td>\n",
              "      <td>1</td>\n",
              "      <td>8</td>\n",
              "      <td>0</td>\n",
              "      <td>2003.0</td>\n",
              "      <td>2</td>\n",
              "      <td>548</td>\n",
              "      <td>0</td>\n",
              "      <td>61</td>\n",
              "      <td>0</td>\n",
              "      <td>2</td>\n",
              "      <td>2008</td>\n",
              "    </tr>\n",
              "    <tr>\n",
              "      <th>1</th>\n",
              "      <td>80.0</td>\n",
              "      <td>9600</td>\n",
              "      <td>6</td>\n",
              "      <td>8</td>\n",
              "      <td>1976</td>\n",
              "      <td>1976</td>\n",
              "      <td>0.0</td>\n",
              "      <td>978</td>\n",
              "      <td>0</td>\n",
              "      <td>284</td>\n",
              "      <td>1262</td>\n",
              "      <td>1262</td>\n",
              "      <td>0</td>\n",
              "      <td>1262</td>\n",
              "      <td>0</td>\n",
              "      <td>2</td>\n",
              "      <td>0</td>\n",
              "      <td>3</td>\n",
              "      <td>1</td>\n",
              "      <td>6</td>\n",
              "      <td>1</td>\n",
              "      <td>1976.0</td>\n",
              "      <td>2</td>\n",
              "      <td>460</td>\n",
              "      <td>298</td>\n",
              "      <td>0</td>\n",
              "      <td>0</td>\n",
              "      <td>5</td>\n",
              "      <td>2007</td>\n",
              "    </tr>\n",
              "    <tr>\n",
              "      <th>2</th>\n",
              "      <td>68.0</td>\n",
              "      <td>11250</td>\n",
              "      <td>7</td>\n",
              "      <td>5</td>\n",
              "      <td>2001</td>\n",
              "      <td>2002</td>\n",
              "      <td>162.0</td>\n",
              "      <td>486</td>\n",
              "      <td>0</td>\n",
              "      <td>434</td>\n",
              "      <td>920</td>\n",
              "      <td>920</td>\n",
              "      <td>866</td>\n",
              "      <td>1786</td>\n",
              "      <td>1</td>\n",
              "      <td>2</td>\n",
              "      <td>1</td>\n",
              "      <td>3</td>\n",
              "      <td>1</td>\n",
              "      <td>6</td>\n",
              "      <td>1</td>\n",
              "      <td>2001.0</td>\n",
              "      <td>2</td>\n",
              "      <td>608</td>\n",
              "      <td>0</td>\n",
              "      <td>42</td>\n",
              "      <td>0</td>\n",
              "      <td>9</td>\n",
              "      <td>2008</td>\n",
              "    </tr>\n",
              "    <tr>\n",
              "      <th>3</th>\n",
              "      <td>60.0</td>\n",
              "      <td>9550</td>\n",
              "      <td>7</td>\n",
              "      <td>5</td>\n",
              "      <td>1915</td>\n",
              "      <td>1970</td>\n",
              "      <td>0.0</td>\n",
              "      <td>216</td>\n",
              "      <td>0</td>\n",
              "      <td>540</td>\n",
              "      <td>756</td>\n",
              "      <td>961</td>\n",
              "      <td>756</td>\n",
              "      <td>1717</td>\n",
              "      <td>1</td>\n",
              "      <td>1</td>\n",
              "      <td>0</td>\n",
              "      <td>3</td>\n",
              "      <td>1</td>\n",
              "      <td>7</td>\n",
              "      <td>1</td>\n",
              "      <td>1998.0</td>\n",
              "      <td>3</td>\n",
              "      <td>642</td>\n",
              "      <td>0</td>\n",
              "      <td>35</td>\n",
              "      <td>272</td>\n",
              "      <td>2</td>\n",
              "      <td>2006</td>\n",
              "    </tr>\n",
              "    <tr>\n",
              "      <th>4</th>\n",
              "      <td>84.0</td>\n",
              "      <td>14260</td>\n",
              "      <td>8</td>\n",
              "      <td>5</td>\n",
              "      <td>2000</td>\n",
              "      <td>2000</td>\n",
              "      <td>350.0</td>\n",
              "      <td>655</td>\n",
              "      <td>0</td>\n",
              "      <td>490</td>\n",
              "      <td>1145</td>\n",
              "      <td>1145</td>\n",
              "      <td>1053</td>\n",
              "      <td>2198</td>\n",
              "      <td>1</td>\n",
              "      <td>2</td>\n",
              "      <td>1</td>\n",
              "      <td>4</td>\n",
              "      <td>1</td>\n",
              "      <td>9</td>\n",
              "      <td>1</td>\n",
              "      <td>2000.0</td>\n",
              "      <td>3</td>\n",
              "      <td>836</td>\n",
              "      <td>192</td>\n",
              "      <td>84</td>\n",
              "      <td>0</td>\n",
              "      <td>12</td>\n",
              "      <td>2008</td>\n",
              "    </tr>\n",
              "    <tr>\n",
              "      <th>...</th>\n",
              "      <td>...</td>\n",
              "      <td>...</td>\n",
              "      <td>...</td>\n",
              "      <td>...</td>\n",
              "      <td>...</td>\n",
              "      <td>...</td>\n",
              "      <td>...</td>\n",
              "      <td>...</td>\n",
              "      <td>...</td>\n",
              "      <td>...</td>\n",
              "      <td>...</td>\n",
              "      <td>...</td>\n",
              "      <td>...</td>\n",
              "      <td>...</td>\n",
              "      <td>...</td>\n",
              "      <td>...</td>\n",
              "      <td>...</td>\n",
              "      <td>...</td>\n",
              "      <td>...</td>\n",
              "      <td>...</td>\n",
              "      <td>...</td>\n",
              "      <td>...</td>\n",
              "      <td>...</td>\n",
              "      <td>...</td>\n",
              "      <td>...</td>\n",
              "      <td>...</td>\n",
              "      <td>...</td>\n",
              "      <td>...</td>\n",
              "      <td>...</td>\n",
              "    </tr>\n",
              "    <tr>\n",
              "      <th>1455</th>\n",
              "      <td>62.0</td>\n",
              "      <td>7917</td>\n",
              "      <td>6</td>\n",
              "      <td>5</td>\n",
              "      <td>1999</td>\n",
              "      <td>2000</td>\n",
              "      <td>0.0</td>\n",
              "      <td>0</td>\n",
              "      <td>0</td>\n",
              "      <td>953</td>\n",
              "      <td>953</td>\n",
              "      <td>953</td>\n",
              "      <td>694</td>\n",
              "      <td>1647</td>\n",
              "      <td>0</td>\n",
              "      <td>2</td>\n",
              "      <td>1</td>\n",
              "      <td>3</td>\n",
              "      <td>1</td>\n",
              "      <td>7</td>\n",
              "      <td>1</td>\n",
              "      <td>1999.0</td>\n",
              "      <td>2</td>\n",
              "      <td>460</td>\n",
              "      <td>0</td>\n",
              "      <td>40</td>\n",
              "      <td>0</td>\n",
              "      <td>8</td>\n",
              "      <td>2007</td>\n",
              "    </tr>\n",
              "    <tr>\n",
              "      <th>1456</th>\n",
              "      <td>85.0</td>\n",
              "      <td>13175</td>\n",
              "      <td>6</td>\n",
              "      <td>6</td>\n",
              "      <td>1978</td>\n",
              "      <td>1988</td>\n",
              "      <td>119.0</td>\n",
              "      <td>790</td>\n",
              "      <td>163</td>\n",
              "      <td>589</td>\n",
              "      <td>1542</td>\n",
              "      <td>2073</td>\n",
              "      <td>0</td>\n",
              "      <td>2073</td>\n",
              "      <td>1</td>\n",
              "      <td>2</td>\n",
              "      <td>0</td>\n",
              "      <td>3</td>\n",
              "      <td>1</td>\n",
              "      <td>7</td>\n",
              "      <td>2</td>\n",
              "      <td>1978.0</td>\n",
              "      <td>2</td>\n",
              "      <td>500</td>\n",
              "      <td>349</td>\n",
              "      <td>0</td>\n",
              "      <td>0</td>\n",
              "      <td>2</td>\n",
              "      <td>2010</td>\n",
              "    </tr>\n",
              "    <tr>\n",
              "      <th>1457</th>\n",
              "      <td>66.0</td>\n",
              "      <td>9042</td>\n",
              "      <td>7</td>\n",
              "      <td>9</td>\n",
              "      <td>1941</td>\n",
              "      <td>2006</td>\n",
              "      <td>0.0</td>\n",
              "      <td>275</td>\n",
              "      <td>0</td>\n",
              "      <td>877</td>\n",
              "      <td>1152</td>\n",
              "      <td>1188</td>\n",
              "      <td>1152</td>\n",
              "      <td>2340</td>\n",
              "      <td>0</td>\n",
              "      <td>2</td>\n",
              "      <td>0</td>\n",
              "      <td>4</td>\n",
              "      <td>1</td>\n",
              "      <td>9</td>\n",
              "      <td>2</td>\n",
              "      <td>1941.0</td>\n",
              "      <td>1</td>\n",
              "      <td>252</td>\n",
              "      <td>0</td>\n",
              "      <td>60</td>\n",
              "      <td>0</td>\n",
              "      <td>5</td>\n",
              "      <td>2010</td>\n",
              "    </tr>\n",
              "    <tr>\n",
              "      <th>1458</th>\n",
              "      <td>68.0</td>\n",
              "      <td>9717</td>\n",
              "      <td>5</td>\n",
              "      <td>6</td>\n",
              "      <td>1950</td>\n",
              "      <td>1996</td>\n",
              "      <td>0.0</td>\n",
              "      <td>49</td>\n",
              "      <td>1029</td>\n",
              "      <td>0</td>\n",
              "      <td>1078</td>\n",
              "      <td>1078</td>\n",
              "      <td>0</td>\n",
              "      <td>1078</td>\n",
              "      <td>1</td>\n",
              "      <td>1</td>\n",
              "      <td>0</td>\n",
              "      <td>2</td>\n",
              "      <td>1</td>\n",
              "      <td>5</td>\n",
              "      <td>0</td>\n",
              "      <td>1950.0</td>\n",
              "      <td>1</td>\n",
              "      <td>240</td>\n",
              "      <td>366</td>\n",
              "      <td>0</td>\n",
              "      <td>112</td>\n",
              "      <td>4</td>\n",
              "      <td>2010</td>\n",
              "    </tr>\n",
              "    <tr>\n",
              "      <th>1459</th>\n",
              "      <td>75.0</td>\n",
              "      <td>9937</td>\n",
              "      <td>5</td>\n",
              "      <td>6</td>\n",
              "      <td>1965</td>\n",
              "      <td>1965</td>\n",
              "      <td>0.0</td>\n",
              "      <td>830</td>\n",
              "      <td>290</td>\n",
              "      <td>136</td>\n",
              "      <td>1256</td>\n",
              "      <td>1256</td>\n",
              "      <td>0</td>\n",
              "      <td>1256</td>\n",
              "      <td>1</td>\n",
              "      <td>1</td>\n",
              "      <td>1</td>\n",
              "      <td>3</td>\n",
              "      <td>1</td>\n",
              "      <td>6</td>\n",
              "      <td>0</td>\n",
              "      <td>1965.0</td>\n",
              "      <td>1</td>\n",
              "      <td>276</td>\n",
              "      <td>736</td>\n",
              "      <td>68</td>\n",
              "      <td>0</td>\n",
              "      <td>6</td>\n",
              "      <td>2008</td>\n",
              "    </tr>\n",
              "  </tbody>\n",
              "</table>\n",
              "<p>1460 rows × 29 columns</p>\n",
              "</div>"
            ],
            "text/plain": [
              "      LotFrontage  LotArea  OverallQual  ...  EnclosedPorch  MoSold  YrSold\n",
              "0            65.0     8450            7  ...              0       2    2008\n",
              "1            80.0     9600            6  ...              0       5    2007\n",
              "2            68.0    11250            7  ...              0       9    2008\n",
              "3            60.0     9550            7  ...            272       2    2006\n",
              "4            84.0    14260            8  ...              0      12    2008\n",
              "...           ...      ...          ...  ...            ...     ...     ...\n",
              "1455         62.0     7917            6  ...              0       8    2007\n",
              "1456         85.0    13175            6  ...              0       2    2010\n",
              "1457         66.0     9042            7  ...              0       5    2010\n",
              "1458         68.0     9717            5  ...            112       4    2010\n",
              "1459         75.0     9937            5  ...              0       6    2008\n",
              "\n",
              "[1460 rows x 29 columns]"
            ]
          },
          "metadata": {
            "tags": []
          },
          "execution_count": 20
        }
      ]
    },
    {
      "cell_type": "markdown",
      "metadata": {
        "id": "FoYetWyCaWy3"
      },
      "source": [
        "### Preenchendo valores miss no df numérico"
      ]
    },
    {
      "cell_type": "code",
      "metadata": {
        "id": "aOURsV0Xaa65"
      },
      "source": [
        "from sklearn.impute import SimpleImputer\r\n",
        "\r\n",
        "imp_median = SimpleImputer(missing_values=np.nan, strategy='median')\r\n",
        "imp_median.fit(df_numerico)\r\n",
        "df_numerico_tratado = pd.DataFrame(imp_median.transform(df_numerico), columns=df_numerico.columns)\r\n",
        "df_numerico_tratado.index = df_numerico.index"
      ],
      "execution_count": 21,
      "outputs": []
    },
    {
      "cell_type": "markdown",
      "metadata": {
        "id": "K2btH9W7ajKP"
      },
      "source": [
        "#### Normalizando df_numerico"
      ]
    },
    {
      "cell_type": "markdown",
      "metadata": {
        "id": "VWHybyiKXnhw"
      },
      "source": [
        "## Transformando as categóricas em numéricas"
      ]
    },
    {
      "cell_type": "markdown",
      "metadata": {
        "id": "ZTjY_IdpcDHE"
      },
      "source": [
        "### Categórico de Alta Cardinalidade"
      ]
    },
    {
      "cell_type": "markdown",
      "metadata": {
        "id": "EmD9nVr3cFmm"
      },
      "source": [
        "#### Redução de cardinalidade da primeira das quatro colunas: Neighborhood"
      ]
    },
    {
      "cell_type": "code",
      "metadata": {
        "id": "S0jf51g1bKg9"
      },
      "source": [
        "dict_dominio_Neighborhood = {'dominio_Neighborhood_top1':[], 'dominio_Neighborhood_top2':[], 'dominio_Neighborhood_top3':[], 'dominio_Neighborhood_top4':[], 'dominio_Neighborhood_top5':[]}\r\n",
        "i = 0\r\n",
        "for dict in dict_dominio_Neighborhood:\r\n",
        "    cinco = 0\r\n",
        "    while cinco<5 and i<len(df_categoricoAltaC['Neighborhood'].value_counts(sort=True, ascending=False)):\r\n",
        "        dict_dominio_Neighborhood[dict].append(df_categoricoAltaC['Neighborhood'].value_counts(sort=True, ascending=False).index[i])\r\n",
        "        cinco += 1\r\n",
        "        i +=1"
      ],
      "execution_count": 22,
      "outputs": []
    },
    {
      "cell_type": "code",
      "metadata": {
        "id": "aTykM_xwcaiy"
      },
      "source": [
        "for pos_elemento in range(len(df_categoricoAltaC['Neighborhood'])):\r\n",
        "    if df_categoricoAltaC['Neighborhood'][pos_elemento] in dict_dominio_Neighborhood['dominio_Neighborhood_top1']:\r\n",
        "        df_categoricoAltaC['Neighborhood'][pos_elemento] = 'Neighborhood_top1'\r\n",
        "    elif df_categoricoAltaC['Neighborhood'][pos_elemento] in dict_dominio_Neighborhood['dominio_Neighborhood_top2']:\r\n",
        "        df_categoricoAltaC['Neighborhood'][pos_elemento] = 'Neighborhood_top2'\r\n",
        "    elif df_categoricoAltaC['Neighborhood'][pos_elemento] in dict_dominio_Neighborhood['dominio_Neighborhood_top3']:\r\n",
        "        df_categoricoAltaC['Neighborhood'][pos_elemento] = 'Neighborhood_top3'\r\n",
        "    elif df_categoricoAltaC['Neighborhood'][pos_elemento] in dict_dominio_Neighborhood['dominio_Neighborhood_top4']:\r\n",
        "        df_categoricoAltaC['Neighborhood'][pos_elemento] = 'Neighborhood_top4'\r\n",
        "    elif df_categoricoAltaC['Neighborhood'][pos_elemento] in dict_dominio_Neighborhood['dominio_Neighborhood_top5']:\r\n",
        "        df_categoricoAltaC['Neighborhood'][pos_elemento] = 'Neighborhood_top5'\r\n",
        "    else:\r\n",
        "        df_categoricoAltaC['Neighborhood'][pos_elemento] = 'outros'"
      ],
      "execution_count": 23,
      "outputs": []
    },
    {
      "cell_type": "markdown",
      "metadata": {
        "id": "iX0wITVj8m_w"
      },
      "source": [
        "#### Redução de cardinalidade da segunda das quatro colunas: Exterior2nd"
      ]
    },
    {
      "cell_type": "code",
      "metadata": {
        "id": "7lCH76Gp82UL"
      },
      "source": [
        "dict_dominio_Exterior2nd = {'dominio_Exterior2nd_top1':[], 'dominio_Exterior2nd_top2':[], 'dominio_Exterior2nd_top3':[]}\r\n",
        "i = 0\r\n",
        "for dict in dict_dominio_Exterior2nd:\r\n",
        "    cinco = 0\r\n",
        "    while cinco<5 and i<len(df_categoricoAltaC['Exterior2nd'].value_counts(sort=True, ascending=False)):\r\n",
        "        dict_dominio_Exterior2nd[dict].append(df_categoricoAltaC['Exterior2nd'].value_counts(sort=True, ascending=False).index[i])\r\n",
        "        cinco += 1\r\n",
        "        i +=1"
      ],
      "execution_count": 24,
      "outputs": []
    },
    {
      "cell_type": "code",
      "metadata": {
        "id": "yPQZcjW_9ulT"
      },
      "source": [
        "for pos_elemento in range(len(df_categoricoAltaC['Exterior2nd'])):\r\n",
        "    if df_categoricoAltaC['Exterior2nd'][pos_elemento] in dict_dominio_Exterior2nd['dominio_Exterior2nd_top1']:\r\n",
        "        df_categoricoAltaC['Exterior2nd'][pos_elemento] = 'Exterior2nd_top1'\r\n",
        "    elif df_categoricoAltaC['Exterior2nd'][pos_elemento] in dict_dominio_Exterior2nd['dominio_Exterior2nd_top2']:\r\n",
        "        df_categoricoAltaC['Exterior2nd'][pos_elemento] = 'Exterior2nd_top2'\r\n",
        "    elif df_categoricoAltaC['Exterior2nd'][pos_elemento] in dict_dominio_Exterior2nd['dominio_Exterior2nd_top3']:\r\n",
        "        df_categoricoAltaC['Exterior2nd'][pos_elemento] = 'Exterior2nd_top3'\r\n",
        "    else:\r\n",
        "        df_categoricoAltaC['Exterior2nd'][pos_elemento] = 'outros'"
      ],
      "execution_count": 25,
      "outputs": []
    },
    {
      "cell_type": "markdown",
      "metadata": {
        "id": "Dy1_nRBA-WKx"
      },
      "source": [
        "#### Redução de cardinalidade da segunda das quatro colunas: MSSubClass"
      ]
    },
    {
      "cell_type": "code",
      "metadata": {
        "id": "qxnzhNsW-hNs"
      },
      "source": [
        "dict_dominio_MSSubClass = {'dominio_MSSubClass_top1':[], 'dominio_MSSubClass_top2':[], 'dominio_MSSubClass_top3':[]}\r\n",
        "i = 0\r\n",
        "for dict in dict_dominio_MSSubClass:\r\n",
        "    cinco = 0\r\n",
        "    while cinco<5 and i<len(df_categoricoAltaC['MSSubClass'].value_counts(sort=True, ascending=False)):\r\n",
        "        dict_dominio_MSSubClass[dict].append(df_categoricoAltaC['MSSubClass'].value_counts(sort=True, ascending=False).index[i])\r\n",
        "        cinco += 1\r\n",
        "        i +=1"
      ],
      "execution_count": 26,
      "outputs": []
    },
    {
      "cell_type": "code",
      "metadata": {
        "id": "qTbrdoNQ-pib"
      },
      "source": [
        "for pos_elemento in range(len(df_categoricoAltaC['MSSubClass'])):\r\n",
        "    if df_categoricoAltaC['MSSubClass'][pos_elemento] in dict_dominio_MSSubClass['dominio_MSSubClass_top1']:\r\n",
        "        df_categoricoAltaC['MSSubClass'][pos_elemento] = 'MSSubClass_top1'\r\n",
        "    elif df_categoricoAltaC['MSSubClass'][pos_elemento] in dict_dominio_MSSubClass['dominio_MSSubClass_top2']:\r\n",
        "        df_categoricoAltaC['MSSubClass'][pos_elemento] = 'MSSubClass_top2'\r\n",
        "    elif df_categoricoAltaC['MSSubClass'][pos_elemento] in dict_dominio_MSSubClass['dominio_MSSubClass_top3']:\r\n",
        "        df_categoricoAltaC['MSSubClass'][pos_elemento] = 'MSSubClass_top3'\r\n",
        "    else:\r\n",
        "        df_categoricoAltaC['MSSubClass'][pos_elemento] = 'outros'"
      ],
      "execution_count": 27,
      "outputs": []
    },
    {
      "cell_type": "markdown",
      "metadata": {
        "id": "xP5u1TrP_AZo"
      },
      "source": [
        "Redução de cardinalidade da segunda das quatro colunas: Exterior1st"
      ]
    },
    {
      "cell_type": "code",
      "metadata": {
        "id": "X_45fK-M-rNt"
      },
      "source": [
        "dict_dominio_Exterior1st = {'dominio_Exterior1st_top1':[], 'dominio_Exterior1st_top2':[], 'dominio_Exterior1st_top3':[]}\r\n",
        "i = 0\r\n",
        "for dict in dict_dominio_Exterior1st:\r\n",
        "    cinco = 0\r\n",
        "    while cinco<5 and i<len(df_categoricoAltaC['Exterior1st'].value_counts(sort=True, ascending=False)):\r\n",
        "        dict_dominio_Exterior1st[dict].append(df_categoricoAltaC['Exterior1st'].value_counts(sort=True, ascending=False).index[i])\r\n",
        "        cinco += 1\r\n",
        "        i +=1"
      ],
      "execution_count": 28,
      "outputs": []
    },
    {
      "cell_type": "code",
      "metadata": {
        "id": "_4N_V6sx_YsC"
      },
      "source": [
        "for pos_elemento in range(len(df_categoricoAltaC['Exterior1st'])):\r\n",
        "    if df_categoricoAltaC['Exterior1st'][pos_elemento] in dict_dominio_Exterior1st['dominio_Exterior1st_top1']:\r\n",
        "        df_categoricoAltaC['Exterior1st'][pos_elemento] = 'Exterior1st_top1'\r\n",
        "    elif df_categoricoAltaC['Exterior1st'][pos_elemento] in dict_dominio_Exterior1st['dominio_Exterior1st_top2']:\r\n",
        "        df_categoricoAltaC['Exterior1st'][pos_elemento] = 'Exterior1st_top2'\r\n",
        "    elif df_categoricoAltaC['Exterior1st'][pos_elemento] in dict_dominio_Exterior1st['dominio_Exterior1st_top3']:\r\n",
        "        df_categoricoAltaC['Exterior1st'][pos_elemento] = 'Exterior1st_top3'\r\n",
        "    else:\r\n",
        "        df_categoricoAltaC['Exterior1st'][pos_elemento] = 'outros'"
      ],
      "execution_count": 29,
      "outputs": []
    },
    {
      "cell_type": "markdown",
      "metadata": {
        "id": "z0mV9Fy3AuCE"
      },
      "source": [
        "## Merge entre as categóricas e Dummy"
      ]
    },
    {
      "cell_type": "code",
      "metadata": {
        "id": "wH1AKmsmBAyA"
      },
      "source": [
        "df_categorico_total = pd.merge(df_categoricoAltaC, df_categoricoBaixaC, how= 'left', left_index= True, right_index= True)\r\n",
        "df_categorico_dummy = pd.get_dummies(df_categorico_total, dummy_na = True, drop_first=True)"
      ],
      "execution_count": 30,
      "outputs": []
    },
    {
      "cell_type": "markdown",
      "metadata": {
        "id": "fGV2fwszbwrQ"
      },
      "source": [
        "#### Juntando os df"
      ]
    },
    {
      "cell_type": "code",
      "metadata": {
        "id": "9SZWezfFbtF0"
      },
      "source": [
        "#df_categorico + df_numerico_tratado\r\n",
        "\r\n",
        "df_train = pd.merge(df_categorico_dummy, df_numerico_tratado, how= 'left', left_index= True, right_index= True)"
      ],
      "execution_count": 31,
      "outputs": []
    },
    {
      "cell_type": "markdown",
      "metadata": {
        "id": "AVkNQJMocOsr"
      },
      "source": [
        "#### Colocando em escala"
      ]
    },
    {
      "cell_type": "code",
      "metadata": {
        "id": "ZbGK94ubcOBm"
      },
      "source": [
        "from sklearn.preprocessing import MinMaxScaler\r\n",
        "\r\n",
        "scaler = MinMaxScaler()\r\n",
        "scaler.fit(df_train)\r\n",
        "\r\n",
        "abt_train = pd.DataFrame(scaler.transform(df_train), columns = df_train.columns)\r\n",
        "abt_train.index = df_train.index"
      ],
      "execution_count": 32,
      "outputs": []
    },
    {
      "cell_type": "markdown",
      "metadata": {
        "id": "2_Sx8FRDcpvz"
      },
      "source": [
        "#Testando modelos"
      ]
    },
    {
      "cell_type": "code",
      "metadata": {
        "id": "lRzNXu7wdKvx"
      },
      "source": [
        "from sklearn.model_selection import train_test_split\r\n",
        "\r\n",
        "X_desenv, X_valid, y_desenv, y_valid = train_test_split(abt_train, y, train_size = 0.7, test_size = 0.3, random_state = 42)"
      ],
      "execution_count": 33,
      "outputs": []
    },
    {
      "cell_type": "code",
      "metadata": {
        "colab": {
          "base_uri": "https://localhost:8080/"
        },
        "id": "9dkyK-Aighy7",
        "outputId": "7602a974-48a8-459b-b410-c3a8cfb82413"
      },
      "source": [
        "from sklearn.ensemble import RandomForestRegressor\r\n",
        "from sklearn.ensemble import GradientBoostingRegressor\r\n",
        "\r\n",
        "RF = RandomForestRegressor()\r\n",
        "GB = GradientBoostingRegressor()\r\n",
        "\r\n",
        "from sklearn.model_selection import GridSearchCV\r\n",
        "\r\n",
        "parametros = {'n_estimators':[80, 100, 120],\r\n",
        "              'max_depth':[4, 5, 6, 8] }\r\n",
        "        \r\n",
        "\r\n",
        "gridRF = GridSearchCV(estimator = RF,        \r\n",
        "                      param_grid = parametros,  \r\n",
        "                      cv = 5)\r\n",
        "\r\n",
        "gridRF.fit(X_desenv,y_desenv)\r\n",
        "pd.DataFrame(gridRF.cv_results_)[['params','rank_test_score','mean_test_score']].sort_values('mean_test_score', ascending = False)"
      ],
      "execution_count": 34,
      "outputs": [
        {
          "output_type": "execute_result",
          "data": {
            "text/plain": [
              "GridSearchCV(cv=5, error_score=nan,\n",
              "             estimator=RandomForestRegressor(bootstrap=True, ccp_alpha=0.0,\n",
              "                                             criterion='mse', max_depth=None,\n",
              "                                             max_features='auto',\n",
              "                                             max_leaf_nodes=None,\n",
              "                                             max_samples=None,\n",
              "                                             min_impurity_decrease=0.0,\n",
              "                                             min_impurity_split=None,\n",
              "                                             min_samples_leaf=1,\n",
              "                                             min_samples_split=2,\n",
              "                                             min_weight_fraction_leaf=0.0,\n",
              "                                             n_estimators=100, n_jobs=None,\n",
              "                                             oob_score=False, random_state=None,\n",
              "                                             verbose=0, warm_start=False),\n",
              "             iid='deprecated', n_jobs=None,\n",
              "             param_grid={'max_depth': [4, 5, 6, 8],\n",
              "                         'n_estimators': [80, 100, 120]},\n",
              "             pre_dispatch='2*n_jobs', refit=True, return_train_score=False,\n",
              "             scoring=None, verbose=0)"
            ]
          },
          "metadata": {
            "tags": []
          },
          "execution_count": 34
        }
      ]
    },
    {
      "cell_type": "code",
      "metadata": {
        "colab": {
          "base_uri": "https://localhost:8080/",
          "height": 421
        },
        "id": "sNiqyGuX1aIi",
        "outputId": "58d600f9-cd36-4d20-fa37-ab9daa8f43a2"
      },
      "source": [
        "gridGB = GridSearchCV(estimator = GB,        \r\n",
        "                      param_grid = parametros,  \r\n",
        "                      cv = 5)\r\n",
        "\r\n",
        "gridGB.fit(X_desenv,y_desenv)\r\n",
        "pd.DataFrame(gridGB.cv_results_)[['params','rank_test_score','mean_test_score']].sort_values('mean_test_score', ascending = False)"
      ],
      "execution_count": 37,
      "outputs": [
        {
          "output_type": "execute_result",
          "data": {
            "text/html": [
              "<div>\n",
              "<style scoped>\n",
              "    .dataframe tbody tr th:only-of-type {\n",
              "        vertical-align: middle;\n",
              "    }\n",
              "\n",
              "    .dataframe tbody tr th {\n",
              "        vertical-align: top;\n",
              "    }\n",
              "\n",
              "    .dataframe thead th {\n",
              "        text-align: right;\n",
              "    }\n",
              "</style>\n",
              "<table border=\"1\" class=\"dataframe\">\n",
              "  <thead>\n",
              "    <tr style=\"text-align: right;\">\n",
              "      <th></th>\n",
              "      <th>params</th>\n",
              "      <th>rank_test_score</th>\n",
              "      <th>mean_test_score</th>\n",
              "    </tr>\n",
              "  </thead>\n",
              "  <tbody>\n",
              "    <tr>\n",
              "      <th>8</th>\n",
              "      <td>{'max_depth': 6, 'n_estimators': 120}</td>\n",
              "      <td>1</td>\n",
              "      <td>0.810307</td>\n",
              "    </tr>\n",
              "    <tr>\n",
              "      <th>0</th>\n",
              "      <td>{'max_depth': 4, 'n_estimators': 80}</td>\n",
              "      <td>2</td>\n",
              "      <td>0.807899</td>\n",
              "    </tr>\n",
              "    <tr>\n",
              "      <th>2</th>\n",
              "      <td>{'max_depth': 4, 'n_estimators': 120}</td>\n",
              "      <td>3</td>\n",
              "      <td>0.806230</td>\n",
              "    </tr>\n",
              "    <tr>\n",
              "      <th>5</th>\n",
              "      <td>{'max_depth': 5, 'n_estimators': 120}</td>\n",
              "      <td>4</td>\n",
              "      <td>0.804063</td>\n",
              "    </tr>\n",
              "    <tr>\n",
              "      <th>1</th>\n",
              "      <td>{'max_depth': 4, 'n_estimators': 100}</td>\n",
              "      <td>5</td>\n",
              "      <td>0.803040</td>\n",
              "    </tr>\n",
              "    <tr>\n",
              "      <th>7</th>\n",
              "      <td>{'max_depth': 6, 'n_estimators': 100}</td>\n",
              "      <td>6</td>\n",
              "      <td>0.800948</td>\n",
              "    </tr>\n",
              "    <tr>\n",
              "      <th>6</th>\n",
              "      <td>{'max_depth': 6, 'n_estimators': 80}</td>\n",
              "      <td>7</td>\n",
              "      <td>0.796332</td>\n",
              "    </tr>\n",
              "    <tr>\n",
              "      <th>3</th>\n",
              "      <td>{'max_depth': 5, 'n_estimators': 80}</td>\n",
              "      <td>8</td>\n",
              "      <td>0.792968</td>\n",
              "    </tr>\n",
              "    <tr>\n",
              "      <th>4</th>\n",
              "      <td>{'max_depth': 5, 'n_estimators': 100}</td>\n",
              "      <td>9</td>\n",
              "      <td>0.782150</td>\n",
              "    </tr>\n",
              "    <tr>\n",
              "      <th>11</th>\n",
              "      <td>{'max_depth': 8, 'n_estimators': 120}</td>\n",
              "      <td>10</td>\n",
              "      <td>0.778771</td>\n",
              "    </tr>\n",
              "    <tr>\n",
              "      <th>10</th>\n",
              "      <td>{'max_depth': 8, 'n_estimators': 100}</td>\n",
              "      <td>11</td>\n",
              "      <td>0.767862</td>\n",
              "    </tr>\n",
              "    <tr>\n",
              "      <th>9</th>\n",
              "      <td>{'max_depth': 8, 'n_estimators': 80}</td>\n",
              "      <td>12</td>\n",
              "      <td>0.750524</td>\n",
              "    </tr>\n",
              "  </tbody>\n",
              "</table>\n",
              "</div>"
            ],
            "text/plain": [
              "                                   params  rank_test_score  mean_test_score\n",
              "8   {'max_depth': 6, 'n_estimators': 120}                1         0.810307\n",
              "0    {'max_depth': 4, 'n_estimators': 80}                2         0.807899\n",
              "2   {'max_depth': 4, 'n_estimators': 120}                3         0.806230\n",
              "5   {'max_depth': 5, 'n_estimators': 120}                4         0.804063\n",
              "1   {'max_depth': 4, 'n_estimators': 100}                5         0.803040\n",
              "7   {'max_depth': 6, 'n_estimators': 100}                6         0.800948\n",
              "6    {'max_depth': 6, 'n_estimators': 80}                7         0.796332\n",
              "3    {'max_depth': 5, 'n_estimators': 80}                8         0.792968\n",
              "4   {'max_depth': 5, 'n_estimators': 100}                9         0.782150\n",
              "11  {'max_depth': 8, 'n_estimators': 120}               10         0.778771\n",
              "10  {'max_depth': 8, 'n_estimators': 100}               11         0.767862\n",
              "9    {'max_depth': 8, 'n_estimators': 80}               12         0.750524"
            ]
          },
          "metadata": {
            "tags": []
          },
          "execution_count": 37
        }
      ]
    },
    {
      "cell_type": "code",
      "metadata": {
        "colab": {
          "base_uri": "https://localhost:8080/"
        },
        "id": "W80px4BmqvKT",
        "outputId": "71766f85-137c-4200-cbc9-e67bcd3df335"
      },
      "source": [
        "from sklearn.metrics import mean_squared_error\r\n",
        "\r\n",
        "print('RF')\r\n",
        "print('Erro desenv')\r\n",
        "erro_desenv_RF = mean_squared_error(y_desenv, gridRF.predict(X_desenv))\r\n",
        "print(np.sqrt(erro_desenv_RF))\r\n",
        "print('Erro valid')\r\n",
        "erro_valid_RF = mean_squared_error(y_valid, gridRF.predict(X_valid))\r\n",
        "print(np.sqrt(erro_valid_RF))\r\n",
        "\r\n",
        "\r\n",
        "print('\\nGB')\r\n",
        "print('Erro desenv')\r\n",
        "erro_desenv_GB = mean_squared_error(y_desenv, gridGB.predict(X_desenv))\r\n",
        "print(np.sqrt(erro_desenv_GB))\r\n",
        "print('Erro valid')\r\n",
        "erro_valid_GB = mean_squared_error(y_valid, gridGB.predict(X_valid))\r\n",
        "print(np.sqrt(erro_valid_GB))"
      ],
      "execution_count": 40,
      "outputs": [
        {
          "output_type": "stream",
          "text": [
            "RF\n",
            "Erro desenv\n",
            "14856.845663036866\n",
            "Erro valid\n",
            "26351.364747132124\n",
            "\n",
            "GB\n",
            "Erro desenv\n",
            "2890.3556808961303\n",
            "Erro valid\n",
            "25700.23798502876\n"
          ],
          "name": "stdout"
        }
      ]
    },
    {
      "cell_type": "markdown",
      "metadata": {
        "id": "TfmK3IHsiWt-"
      },
      "source": [
        "## Teste"
      ]
    },
    {
      "cell_type": "code",
      "metadata": {
        "id": "rJJ-sy3JiSyS"
      },
      "source": [
        "data2 = pd.read_csv('test.csv')"
      ],
      "execution_count": 41,
      "outputs": []
    },
    {
      "cell_type": "code",
      "metadata": {
        "id": "wJDzgy5foDra"
      },
      "source": [
        "data2['MSSubClass'] = [str(x)+'_cat' for x in data2['MSSubClass']]"
      ],
      "execution_count": 42,
      "outputs": []
    },
    {
      "cell_type": "code",
      "metadata": {
        "id": "sVf5Cn-G-3mt"
      },
      "source": [
        "data_test = data2.drop(['Id', 'PoolQC', 'MiscFeature', 'Alley', 'PoolArea', '3SsnPorch', 'LowQualFinSF', 'MiscVal', 'BsmtHalfBath', 'ScreenPorch'], axis=1)"
      ],
      "execution_count": 43,
      "outputs": []
    },
    {
      "cell_type": "code",
      "metadata": {
        "id": "TuW3q8L2_Lme"
      },
      "source": [
        "df_test_categoricoAltaC = data_test[lista_categoricoAltaC]\r\n",
        "df_test_categoricoBaixaC = data_test[lista_categoricoBaixaC]\r\n",
        "df_test_numerico = data_test[lista_numerico]"
      ],
      "execution_count": 44,
      "outputs": []
    },
    {
      "cell_type": "code",
      "metadata": {
        "id": "3ETCxOOZ_-ra"
      },
      "source": [
        "df_test_numerico_tratado = pd.DataFrame(imp_median.transform(df_test_numerico), columns=df_test_numerico.columns)\r\n",
        "df_test_numerico_tratado.index = df_test_numerico.index"
      ],
      "execution_count": 45,
      "outputs": []
    },
    {
      "cell_type": "code",
      "metadata": {
        "id": "cVPudFGhJSz2"
      },
      "source": [
        "for pos_elemento in range(len(df_test_categoricoAltaC['Neighborhood'])):\r\n",
        "    if df_test_categoricoAltaC['Neighborhood'][pos_elemento] in dict_dominio_Neighborhood['dominio_Neighborhood_top1']:\r\n",
        "        df_test_categoricoAltaC['Neighborhood'][pos_elemento] = 'Neighborhood_top1'\r\n",
        "    elif df_test_categoricoAltaC['Neighborhood'][pos_elemento] in dict_dominio_Neighborhood['dominio_Neighborhood_top2']:\r\n",
        "        df_test_categoricoAltaC['Neighborhood'][pos_elemento] = 'Neighborhood_top2'\r\n",
        "    elif df_test_categoricoAltaC['Neighborhood'][pos_elemento] in dict_dominio_Neighborhood['dominio_Neighborhood_top3']:\r\n",
        "        df_test_categoricoAltaC['Neighborhood'][pos_elemento] = 'Neighborhood_top3'\r\n",
        "    elif df_test_categoricoAltaC['Neighborhood'][pos_elemento] in dict_dominio_Neighborhood['dominio_Neighborhood_top4']:\r\n",
        "        df_test_categoricoAltaC['Neighborhood'][pos_elemento] = 'Neighborhood_top4'\r\n",
        "    elif df_test_categoricoAltaC['Neighborhood'][pos_elemento] in dict_dominio_Neighborhood['dominio_Neighborhood_top5']:\r\n",
        "        df_test_categoricoAltaC['Neighborhood'][pos_elemento] = 'Neighborhood_top5'\r\n",
        "    else:\r\n",
        "        df_test_categoricoAltaC['Neighborhood'][pos_elemento] = 'outros'"
      ],
      "execution_count": 46,
      "outputs": []
    },
    {
      "cell_type": "code",
      "metadata": {
        "id": "WNDKPZZNCMQw"
      },
      "source": [
        "for pos_elemento in range(len(df_test_categoricoAltaC['Exterior2nd'])):\r\n",
        "    if df_test_categoricoAltaC['Exterior2nd'][pos_elemento] in dict_dominio_Exterior2nd['dominio_Exterior2nd_top1']:\r\n",
        "        df_test_categoricoAltaC['Exterior2nd'][pos_elemento] = 'Exterior2nd_top1'\r\n",
        "    elif df_test_categoricoAltaC['Exterior2nd'][pos_elemento] in dict_dominio_Exterior2nd['dominio_Exterior2nd_top2']:\r\n",
        "        df_test_categoricoAltaC['Exterior2nd'][pos_elemento] = 'Exterior2nd_top2'\r\n",
        "    elif df_test_categoricoAltaC['Exterior2nd'][pos_elemento] in dict_dominio_Exterior2nd['dominio_Exterior2nd_top3']:\r\n",
        "        df_test_categoricoAltaC['Exterior2nd'][pos_elemento] = 'Exterior2nd_top3'\r\n",
        "    else:\r\n",
        "        df_test_categoricoAltaC['Exterior2nd'][pos_elemento] = 'outros'"
      ],
      "execution_count": 47,
      "outputs": []
    },
    {
      "cell_type": "code",
      "metadata": {
        "id": "tqgf1WemCMe5"
      },
      "source": [
        "for pos_elemento in range(len(df_test_categoricoAltaC['MSSubClass'])):\r\n",
        "    if df_test_categoricoAltaC['MSSubClass'][pos_elemento] in dict_dominio_MSSubClass['dominio_MSSubClass_top1']:\r\n",
        "        df_test_categoricoAltaC['MSSubClass'][pos_elemento] = 'MSSubClass_top1'\r\n",
        "    elif df_test_categoricoAltaC['MSSubClass'][pos_elemento] in dict_dominio_MSSubClass['dominio_MSSubClass_top2']:\r\n",
        "        df_test_categoricoAltaC['MSSubClass'][pos_elemento] = 'MSSubClass_top2'\r\n",
        "    elif df_test_categoricoAltaC['MSSubClass'][pos_elemento] in dict_dominio_MSSubClass['dominio_MSSubClass_top3']:\r\n",
        "        df_test_categoricoAltaC['MSSubClass'][pos_elemento] = 'MSSubClass_top3'\r\n",
        "    else:\r\n",
        "        df_test_categoricoAltaC['MSSubClass'][pos_elemento] = 'outros'"
      ],
      "execution_count": 48,
      "outputs": []
    },
    {
      "cell_type": "code",
      "metadata": {
        "id": "a-cLNMDmCMrB"
      },
      "source": [
        "for pos_elemento in range(len(df_test_categoricoAltaC['Exterior1st'])):\r\n",
        "    if df_test_categoricoAltaC['Exterior1st'][pos_elemento] in dict_dominio_Exterior1st['dominio_Exterior1st_top1']:\r\n",
        "        df_test_categoricoAltaC['Exterior1st'][pos_elemento] = 'Exterior1st_top1'\r\n",
        "    elif df_test_categoricoAltaC['Exterior1st'][pos_elemento] in dict_dominio_Exterior1st['dominio_Exterior1st_top2']:\r\n",
        "        df_test_categoricoAltaC['Exterior1st'][pos_elemento] = 'Exterior1st_top2'\r\n",
        "    elif df_test_categoricoAltaC['Exterior1st'][pos_elemento] in dict_dominio_Exterior1st['dominio_Exterior1st_top3']:\r\n",
        "        df_test_categoricoAltaC['Exterior1st'][pos_elemento] = 'Exterior1st_top3'\r\n",
        "    else:\r\n",
        "        df_test_categoricoAltaC['Exterior1st'][pos_elemento] = 'outros'"
      ],
      "execution_count": 49,
      "outputs": []
    },
    {
      "cell_type": "code",
      "metadata": {
        "id": "uoDRCs82CM0U"
      },
      "source": [
        "df_test_categorico_total = pd.merge(df_test_categoricoAltaC, df_test_categoricoBaixaC, how= 'left', left_index= True, right_index= True)\r\n",
        "df_test_categorico_dummy = pd.get_dummies(df_test_categorico_total, dummy_na = True, drop_first=True)"
      ],
      "execution_count": 50,
      "outputs": []
    },
    {
      "cell_type": "code",
      "metadata": {
        "id": "72H0fvxkF0c6"
      },
      "source": [
        "#df_categorico + df_numerico_tratado\r\n",
        "\r\n",
        "df_test = pd.merge(df_test_categorico_dummy, df_test_numerico_tratado, how= 'left', left_index= True, right_index= True)"
      ],
      "execution_count": 51,
      "outputs": []
    },
    {
      "cell_type": "code",
      "metadata": {
        "id": "aKuW4ERQJq8P"
      },
      "source": [
        "scaler2 = MinMaxScaler()\r\n",
        "scaler2.fit(df_test)\r\n",
        "\r\n",
        "abt_test = pd.DataFrame(scaler2.transform(df_test), columns = df_test.columns)\r\n",
        "abt_test.index = df_test.index"
      ],
      "execution_count": 52,
      "outputs": []
    },
    {
      "cell_type": "code",
      "metadata": {
        "id": "6j7Yo6ARqjnY"
      },
      "source": [
        "#criando listas para comparar os df train e test\r\n",
        "lista_colunas_train = abt_train.columns.to_list()\r\n",
        "lista_colunas_test = abt_test.columns.to_list()"
      ],
      "execution_count": 53,
      "outputs": []
    },
    {
      "cell_type": "code",
      "metadata": {
        "colab": {
          "base_uri": "https://localhost:8080/"
        },
        "id": "5E_Ao3ZoqGA_",
        "outputId": "682757af-ade5-4f5e-f58c-de688b9dc1cd"
      },
      "source": [
        "#comparando (vendo o que está no train e não está no test)\r\n",
        "Z = set(lista_colunas_train) - set(lista_colunas_test)\r\n",
        "Z"
      ],
      "execution_count": 54,
      "outputs": [
        {
          "output_type": "execute_result",
          "data": {
            "text/plain": [
              "{'Condition2_RRAe',\n",
              " 'Condition2_RRAn',\n",
              " 'Condition2_RRNn',\n",
              " 'Electrical_Mix',\n",
              " 'GarageQual_Fa',\n",
              " 'Heating_GasA',\n",
              " 'Heating_OthW',\n",
              " 'HouseStyle_2.5Fin',\n",
              " 'RoofMatl_CompShg',\n",
              " 'RoofMatl_Membran',\n",
              " 'RoofMatl_Metal',\n",
              " 'RoofMatl_Roll',\n",
              " 'Utilities_NoSeWa'}"
            ]
          },
          "metadata": {
            "tags": []
          },
          "execution_count": 54
        }
      ]
    },
    {
      "cell_type": "code",
      "metadata": {
        "id": "KDRblF_uqySP"
      },
      "source": [
        "for col in Z:\r\n",
        "  abt_test[col] = 0"
      ],
      "execution_count": 55,
      "outputs": []
    },
    {
      "cell_type": "code",
      "metadata": {
        "id": "7i3QJuhMq1ZK"
      },
      "source": [
        "#atualizando\r\n",
        "lista_colunas_train = abt_train.columns.to_list()\r\n",
        "lista_colunas_test = abt_test.columns.to_list()"
      ],
      "execution_count": 56,
      "outputs": []
    },
    {
      "cell_type": "code",
      "metadata": {
        "colab": {
          "base_uri": "https://localhost:8080/"
        },
        "id": "Dct1COuYq2cS",
        "outputId": "39490d86-0429-454a-8ef1-172c3e0a199b"
      },
      "source": [
        "#comparando (vendo o que está no test e não está no train)\r\n",
        "Z = set(lista_colunas_test) - set(lista_colunas_train)\r\n",
        "Z"
      ],
      "execution_count": 57,
      "outputs": [
        {
          "output_type": "execute_result",
          "data": {
            "text/plain": [
              "{'Exterior1st_outros', 'MSSubClass_outros'}"
            ]
          },
          "metadata": {
            "tags": []
          },
          "execution_count": 57
        }
      ]
    },
    {
      "cell_type": "code",
      "metadata": {
        "id": "DONG_WnMs720"
      },
      "source": [
        "#dropando do test o que está no test e não está no train\r\n",
        "abt_test = abt_test.drop(list(Z), axis = 1)"
      ],
      "execution_count": 58,
      "outputs": []
    },
    {
      "cell_type": "code",
      "metadata": {
        "id": "h0S1oXtdtY_a"
      },
      "source": [
        "#atualizando(2)\r\n",
        "lista_colunas_train = abt_train.columns.to_list()\r\n",
        "lista_colunas_test = abt_test.columns.to_list()"
      ],
      "execution_count": 59,
      "outputs": []
    },
    {
      "cell_type": "code",
      "metadata": {
        "colab": {
          "base_uri": "https://localhost:8080/"
        },
        "id": "sXsMTFJ3q-DW",
        "outputId": "c41c1c89-dbeb-492e-bfd6-d63d570195f8"
      },
      "source": [
        "#verificando se agora as colunas estão iguais\r\n",
        "set(lista_colunas_test) == set(lista_colunas_train)"
      ],
      "execution_count": 60,
      "outputs": [
        {
          "output_type": "execute_result",
          "data": {
            "text/plain": [
              "True"
            ]
          },
          "metadata": {
            "tags": []
          },
          "execution_count": 60
        }
      ]
    },
    {
      "cell_type": "code",
      "metadata": {
        "colab": {
          "base_uri": "https://localhost:8080/"
        },
        "id": "7Mp5NKSrweDF",
        "outputId": "d58ec85c-09e0-4662-c54a-c805dbdb78a6"
      },
      "source": [
        "abt_test.columns == abt_train.columns"
      ],
      "execution_count": 61,
      "outputs": [
        {
          "output_type": "execute_result",
          "data": {
            "text/plain": [
              "array([ True,  True,  True,  True,  True,  True,  True,  True,  True,\n",
              "        True,  True,  True,  True,  True,  True,  True,  True,  True,\n",
              "        True,  True,  True,  True,  True,  True,  True,  True,  True,\n",
              "        True,  True,  True,  True,  True,  True,  True,  True,  True,\n",
              "        True, False, False, False, False, False, False, False, False,\n",
              "       False, False, False, False, False, False, False, False, False,\n",
              "       False, False, False, False, False, False, False, False, False,\n",
              "       False, False, False, False, False, False, False, False, False,\n",
              "       False, False, False, False, False, False, False, False, False,\n",
              "       False, False, False, False, False, False, False, False, False,\n",
              "       False, False, False, False, False, False, False, False, False,\n",
              "       False, False, False, False, False, False, False, False, False,\n",
              "       False, False, False, False, False, False, False, False, False,\n",
              "       False, False, False, False, False, False, False, False, False,\n",
              "       False, False, False, False, False, False, False, False, False,\n",
              "       False, False, False, False, False, False, False, False, False,\n",
              "       False, False, False, False, False, False, False, False, False,\n",
              "       False, False, False, False, False, False, False, False, False,\n",
              "       False, False, False, False, False, False, False, False, False,\n",
              "       False, False, False, False, False, False, False, False, False,\n",
              "       False, False, False, False, False, False, False, False, False,\n",
              "       False, False, False, False, False, False, False, False, False,\n",
              "       False, False, False, False, False, False, False, False, False,\n",
              "       False, False, False, False, False, False, False, False, False,\n",
              "       False, False, False, False, False, False, False, False, False,\n",
              "       False, False, False, False, False, False])"
            ]
          },
          "metadata": {
            "tags": []
          },
          "execution_count": 61
        }
      ]
    },
    {
      "cell_type": "code",
      "metadata": {
        "id": "J-SSuobdNDyS"
      },
      "source": [
        "abt_test = abt_test[list(abt_train.columns)]"
      ],
      "execution_count": 62,
      "outputs": []
    },
    {
      "cell_type": "code",
      "metadata": {
        "colab": {
          "base_uri": "https://localhost:8080/"
        },
        "id": "A2KHxBhYwuip",
        "outputId": "89a38690-e77b-42d0-de9f-7abbc8ef9d3c"
      },
      "source": [
        "abt_test.columns == abt_train.columns"
      ],
      "execution_count": 63,
      "outputs": [
        {
          "output_type": "execute_result",
          "data": {
            "text/plain": [
              "array([ True,  True,  True,  True,  True,  True,  True,  True,  True,\n",
              "        True,  True,  True,  True,  True,  True,  True,  True,  True,\n",
              "        True,  True,  True,  True,  True,  True,  True,  True,  True,\n",
              "        True,  True,  True,  True,  True,  True,  True,  True,  True,\n",
              "        True,  True,  True,  True,  True,  True,  True,  True,  True,\n",
              "        True,  True,  True,  True,  True,  True,  True,  True,  True,\n",
              "        True,  True,  True,  True,  True,  True,  True,  True,  True,\n",
              "        True,  True,  True,  True,  True,  True,  True,  True,  True,\n",
              "        True,  True,  True,  True,  True,  True,  True,  True,  True,\n",
              "        True,  True,  True,  True,  True,  True,  True,  True,  True,\n",
              "        True,  True,  True,  True,  True,  True,  True,  True,  True,\n",
              "        True,  True,  True,  True,  True,  True,  True,  True,  True,\n",
              "        True,  True,  True,  True,  True,  True,  True,  True,  True,\n",
              "        True,  True,  True,  True,  True,  True,  True,  True,  True,\n",
              "        True,  True,  True,  True,  True,  True,  True,  True,  True,\n",
              "        True,  True,  True,  True,  True,  True,  True,  True,  True,\n",
              "        True,  True,  True,  True,  True,  True,  True,  True,  True,\n",
              "        True,  True,  True,  True,  True,  True,  True,  True,  True,\n",
              "        True,  True,  True,  True,  True,  True,  True,  True,  True,\n",
              "        True,  True,  True,  True,  True,  True,  True,  True,  True,\n",
              "        True,  True,  True,  True,  True,  True,  True,  True,  True,\n",
              "        True,  True,  True,  True,  True,  True,  True,  True,  True,\n",
              "        True,  True,  True,  True,  True,  True,  True,  True,  True,\n",
              "        True,  True,  True,  True,  True,  True,  True,  True,  True,\n",
              "        True,  True,  True,  True,  True,  True,  True,  True,  True,\n",
              "        True,  True,  True,  True,  True,  True])"
            ]
          },
          "metadata": {
            "tags": []
          },
          "execution_count": 63
        }
      ]
    },
    {
      "cell_type": "code",
      "metadata": {
        "id": "liNF8yflJtOr"
      },
      "source": [
        "pred_test = gridGB.predict(abt_test)\r\n",
        "\r\n",
        "output = pd.DataFrame({'Id': data2['Id'], 'SalePrice': pred_test})\r\n",
        "output.to_csv('Submission_HousePrices22102.csv', index=False)"
      ],
      "execution_count": 64,
      "outputs": []
    }
  ]
}