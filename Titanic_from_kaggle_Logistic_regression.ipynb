{
  "nbformat": 4,
  "nbformat_minor": 0,
  "metadata": {
    "colab": {
      "name": "Titanic from kaggle - Logistic regression",
      "provenance": [],
      "authorship_tag": "ABX9TyP+bcF1AQDlElF+y/QATAhs",
      "include_colab_link": true
    },
    "kernelspec": {
      "name": "python3",
      "display_name": "Python 3"
    }
  },
  "cells": [
    {
      "cell_type": "markdown",
      "metadata": {
        "id": "view-in-github",
        "colab_type": "text"
      },
      "source": [
        "<a href=\"https://colab.research.google.com/github/camdsDS/Cesar_Portfolio/blob/main/Titanic_from_kaggle_Logistic_regression.ipynb\" target=\"_parent\"><img src=\"https://colab.research.google.com/assets/colab-badge.svg\" alt=\"Open In Colab\"/></a>"
      ]
    },
    {
      "cell_type": "code",
      "metadata": {
        "id": "Fom0E5RZ6b-w"
      },
      "source": [
        "#Desafio Kaggle: https://www.kaggle.com/c/titanic\r\n",
        "import pandas as pd #para tratar os dados\r\n",
        "from sklearn.preprocessing import MinMaxScaler #para normalizar os dados\r\n",
        "from sklearn.model_selection import train_test_split #para dividir os dados de teste em um grupo para desenvolver o modelo e outro para validar o modelo\r\n",
        "from sklearn.linear_model import LogisticRegression #para realizar a regressão logística\r\n",
        "from sklearn.metrics import accuracy_score #para avaliar a acurácia do modelo"
      ],
      "execution_count": 1,
      "outputs": []
    },
    {
      "cell_type": "code",
      "metadata": {
        "id": "N71FfmK67Nb6"
      },
      "source": [
        "#lendo os arquivos de treino e teste\r\n",
        "Titanic_data_Train = pd.read_csv('train.csv', index_col = 'PassengerId')\r\n",
        "Titanic_data_Test = pd.read_csv('test.csv', index_col = 'PassengerId')"
      ],
      "execution_count": 2,
      "outputs": []
    },
    {
      "cell_type": "code",
      "metadata": {
        "colab": {
          "base_uri": "https://localhost:8080/",
          "height": 235
        },
        "id": "9A_3Zw4IUGpi",
        "outputId": "8a260fd0-c215-4f61-d0cd-6c917c4ba0ce"
      },
      "source": [
        "Titanic_data_Train.head()\r\n",
        "#Para mais informações sobre o tipo de dado apresentado em cada coluna, visite:\r\n",
        "#https://www.kaggle.com/c/titanic/data"
      ],
      "execution_count": 3,
      "outputs": [
        {
          "output_type": "execute_result",
          "data": {
            "text/html": [
              "<div>\n",
              "<style scoped>\n",
              "    .dataframe tbody tr th:only-of-type {\n",
              "        vertical-align: middle;\n",
              "    }\n",
              "\n",
              "    .dataframe tbody tr th {\n",
              "        vertical-align: top;\n",
              "    }\n",
              "\n",
              "    .dataframe thead th {\n",
              "        text-align: right;\n",
              "    }\n",
              "</style>\n",
              "<table border=\"1\" class=\"dataframe\">\n",
              "  <thead>\n",
              "    <tr style=\"text-align: right;\">\n",
              "      <th></th>\n",
              "      <th>Survived</th>\n",
              "      <th>Pclass</th>\n",
              "      <th>Name</th>\n",
              "      <th>Sex</th>\n",
              "      <th>Age</th>\n",
              "      <th>SibSp</th>\n",
              "      <th>Parch</th>\n",
              "      <th>Ticket</th>\n",
              "      <th>Fare</th>\n",
              "      <th>Cabin</th>\n",
              "      <th>Embarked</th>\n",
              "    </tr>\n",
              "    <tr>\n",
              "      <th>PassengerId</th>\n",
              "      <th></th>\n",
              "      <th></th>\n",
              "      <th></th>\n",
              "      <th></th>\n",
              "      <th></th>\n",
              "      <th></th>\n",
              "      <th></th>\n",
              "      <th></th>\n",
              "      <th></th>\n",
              "      <th></th>\n",
              "      <th></th>\n",
              "    </tr>\n",
              "  </thead>\n",
              "  <tbody>\n",
              "    <tr>\n",
              "      <th>1</th>\n",
              "      <td>0</td>\n",
              "      <td>3</td>\n",
              "      <td>Braund, Mr. Owen Harris</td>\n",
              "      <td>male</td>\n",
              "      <td>22.0</td>\n",
              "      <td>1</td>\n",
              "      <td>0</td>\n",
              "      <td>A/5 21171</td>\n",
              "      <td>7.2500</td>\n",
              "      <td>NaN</td>\n",
              "      <td>S</td>\n",
              "    </tr>\n",
              "    <tr>\n",
              "      <th>2</th>\n",
              "      <td>1</td>\n",
              "      <td>1</td>\n",
              "      <td>Cumings, Mrs. John Bradley (Florence Briggs Th...</td>\n",
              "      <td>female</td>\n",
              "      <td>38.0</td>\n",
              "      <td>1</td>\n",
              "      <td>0</td>\n",
              "      <td>PC 17599</td>\n",
              "      <td>71.2833</td>\n",
              "      <td>C85</td>\n",
              "      <td>C</td>\n",
              "    </tr>\n",
              "    <tr>\n",
              "      <th>3</th>\n",
              "      <td>1</td>\n",
              "      <td>3</td>\n",
              "      <td>Heikkinen, Miss. Laina</td>\n",
              "      <td>female</td>\n",
              "      <td>26.0</td>\n",
              "      <td>0</td>\n",
              "      <td>0</td>\n",
              "      <td>STON/O2. 3101282</td>\n",
              "      <td>7.9250</td>\n",
              "      <td>NaN</td>\n",
              "      <td>S</td>\n",
              "    </tr>\n",
              "    <tr>\n",
              "      <th>4</th>\n",
              "      <td>1</td>\n",
              "      <td>1</td>\n",
              "      <td>Futrelle, Mrs. Jacques Heath (Lily May Peel)</td>\n",
              "      <td>female</td>\n",
              "      <td>35.0</td>\n",
              "      <td>1</td>\n",
              "      <td>0</td>\n",
              "      <td>113803</td>\n",
              "      <td>53.1000</td>\n",
              "      <td>C123</td>\n",
              "      <td>S</td>\n",
              "    </tr>\n",
              "    <tr>\n",
              "      <th>5</th>\n",
              "      <td>0</td>\n",
              "      <td>3</td>\n",
              "      <td>Allen, Mr. William Henry</td>\n",
              "      <td>male</td>\n",
              "      <td>35.0</td>\n",
              "      <td>0</td>\n",
              "      <td>0</td>\n",
              "      <td>373450</td>\n",
              "      <td>8.0500</td>\n",
              "      <td>NaN</td>\n",
              "      <td>S</td>\n",
              "    </tr>\n",
              "  </tbody>\n",
              "</table>\n",
              "</div>"
            ],
            "text/plain": [
              "             Survived  Pclass  ... Cabin Embarked\n",
              "PassengerId                    ...               \n",
              "1                   0       3  ...   NaN        S\n",
              "2                   1       1  ...   C85        C\n",
              "3                   1       3  ...   NaN        S\n",
              "4                   1       1  ...  C123        S\n",
              "5                   0       3  ...   NaN        S\n",
              "\n",
              "[5 rows x 11 columns]"
            ]
          },
          "metadata": {
            "tags": []
          },
          "execution_count": 3
        }
      ]
    },
    {
      "cell_type": "code",
      "metadata": {
        "id": "qu6AZsi3UEBo"
      },
      "source": [
        "#definindo o alvo, as features, o treino e o teste\r\n",
        "y = Titanic_data_Train.Survived\r\n",
        "features = ['Pclass', 'Sex', 'Age', 'SibSp', 'Parch', 'Fare', 'Embarked']\r\n",
        "X_train = Titanic_data_Train[features]\r\n",
        "X_test = Titanic_data_Test[features]"
      ],
      "execution_count": 4,
      "outputs": []
    },
    {
      "cell_type": "code",
      "metadata": {
        "id": "eCturzScotFr"
      },
      "source": [
        "X_train.dtypes\r\n",
        "#Temos apenas 3 tipos de dados: int64, float64 e object. Vamos, a partir deles,\r\n",
        "#criar dois df: dados numéricos e dados categóricos\r\n",
        "X_train_numericos = X_train.select_dtypes(exclude=['object'])\r\n",
        "X_test_numericos = X_test.select_dtypes(exclude=['object'])\r\n",
        "\r\n",
        "X_train_categoricos = X_train.select_dtypes('object')\r\n",
        "X_test_categoricos = X_test.select_dtypes('object')"
      ],
      "execution_count": 5,
      "outputs": []
    },
    {
      "cell_type": "code",
      "metadata": {
        "id": "mPR3izoQbctO"
      },
      "source": [
        "#agora vamos tratar os dados"
      ],
      "execution_count": 6,
      "outputs": []
    },
    {
      "cell_type": "code",
      "metadata": {
        "id": "lvWNBJBRbje_"
      },
      "source": [
        "#função que dropa colunas com uma porcentagem de valores miss superior a um\r\n",
        "#valor P_miss arbitrário\r\n",
        "#P_miss é a menor % tolerada de miss\r\n",
        "def DropaMiss(df, P_miss=0):\r\n",
        "  df_miss2 = ((df.isna().sum()/len(df))*100).to_frame().rename(columns={0:'P_miss'}).reset_index().sort_values('P_miss', ascending = False)\r\n",
        "  df_miss = ((df.isna().sum()/len(df))*100).to_frame().rename(columns={0:'P_miss'}).reset_index()\r\n",
        "  df_miss = df_miss[df_miss['P_miss'] <= P_miss]\r\n",
        "  df = df[df_miss['index'].to_list()]\r\n",
        "  return df,df_miss2"
      ],
      "execution_count": 7,
      "outputs": []
    },
    {
      "cell_type": "code",
      "metadata": {
        "id": "iSu-fv76bl_v"
      },
      "source": [
        "#usando a função DropaMiss com o df X_train e gerando o relatorio\r\n",
        "#'relatorio_miss' vamos dropar, se existirem, colunas com\r\n",
        "#mais de 80% de valores miss\r\n",
        "X_train_numericos, relatorio_miss_N = DropaMiss(X_train_numericos, 80)\r\n",
        "X_train_categoricos, relatorio_miss_C = DropaMiss(X_train_categoricos, 80)"
      ],
      "execution_count": 8,
      "outputs": []
    },
    {
      "cell_type": "code",
      "metadata": {
        "colab": {
          "base_uri": "https://localhost:8080/",
          "height": 111
        },
        "id": "nWYvL7p9b9Gm",
        "outputId": "65e1591b-c26f-418b-d9d0-100ca610d073"
      },
      "source": [
        "relatorio_miss_N\r\n",
        "relatorio_miss_C\r\n",
        "#Há apenas duas colunas (Age e Embarked) no df treino com valores miss e\r\n",
        "#nenhuma apresenta valor maior do que 80% de miss (logo, a função nada dropou)\r\n",
        "#Não parece que o valor miss, nesses casos, signifique algo. Por isso, no caso\r\n",
        "#da coluna numérica iremos substituir os dados miss pelo valor médio"
      ],
      "execution_count": 9,
      "outputs": [
        {
          "output_type": "execute_result",
          "data": {
            "text/html": [
              "<div>\n",
              "<style scoped>\n",
              "    .dataframe tbody tr th:only-of-type {\n",
              "        vertical-align: middle;\n",
              "    }\n",
              "\n",
              "    .dataframe tbody tr th {\n",
              "        vertical-align: top;\n",
              "    }\n",
              "\n",
              "    .dataframe thead th {\n",
              "        text-align: right;\n",
              "    }\n",
              "</style>\n",
              "<table border=\"1\" class=\"dataframe\">\n",
              "  <thead>\n",
              "    <tr style=\"text-align: right;\">\n",
              "      <th></th>\n",
              "      <th>index</th>\n",
              "      <th>P_miss</th>\n",
              "    </tr>\n",
              "  </thead>\n",
              "  <tbody>\n",
              "    <tr>\n",
              "      <th>1</th>\n",
              "      <td>Embarked</td>\n",
              "      <td>0.224467</td>\n",
              "    </tr>\n",
              "    <tr>\n",
              "      <th>0</th>\n",
              "      <td>Sex</td>\n",
              "      <td>0.000000</td>\n",
              "    </tr>\n",
              "  </tbody>\n",
              "</table>\n",
              "</div>"
            ],
            "text/plain": [
              "      index    P_miss\n",
              "1  Embarked  0.224467\n",
              "0       Sex  0.000000"
            ]
          },
          "metadata": {
            "tags": []
          },
          "execution_count": 9
        }
      ]
    },
    {
      "cell_type": "code",
      "metadata": {
        "id": "-HLiBwkASwPS"
      },
      "source": [
        "#Tratando miss numerico do train\r\n",
        "valores_train_numericos = {'Age': X_train_numericos['Age'].mean()}\r\n",
        "X_train_numericos = X_train_numericos.fillna(value = valores_train_numericos)"
      ],
      "execution_count": 10,
      "outputs": []
    },
    {
      "cell_type": "code",
      "metadata": {
        "id": "tJGnHNHmS6cK"
      },
      "source": [
        "#Tratando miss numerico do test\r\n",
        "X_test_numericos.isna().sum()\r\n",
        "valores_test_numericos = {'Age': X_train_numericos['Age'].mean(), 'Fare': X_train_numericos['Fare'].mean()}\r\n",
        "X_test_numericos = X_test_numericos.fillna(value = valores_test_numericos) "
      ],
      "execution_count": 11,
      "outputs": []
    },
    {
      "cell_type": "code",
      "metadata": {
        "id": "_pZiHwUyT73K"
      },
      "source": [
        "#não iremos tratar os valores miss categorico porque\r\n",
        "#iremos usar pandas.get_dummies, que os transforma em 0 0 ... 0."
      ],
      "execution_count": 12,
      "outputs": []
    },
    {
      "cell_type": "code",
      "metadata": {
        "colab": {
          "base_uri": "https://localhost:8080/"
        },
        "id": "wUPlNRNrhiC-",
        "outputId": "01b4b5e4-7045-4b1c-cf9f-b058d608ff55"
      },
      "source": [
        "#procurando por valores inconsistentes\r\n",
        "X_train_numericos.Pclass.describe()\r\n",
        "X_train_numericos.Age.describe()\r\n",
        "X_train_numericos.SibSp.describe()\r\n",
        "X_train_numericos.Parch.describe()\r\n",
        "X_train_numericos.Fare.describe() #valores 0 para Fare, mas vamos manter no nosso treino\r\n",
        "X_train_categoricos.Sex.describe()\r\n",
        "X_train_categoricos.Embarked.describe()"
      ],
      "execution_count": 13,
      "outputs": [
        {
          "output_type": "execute_result",
          "data": {
            "text/plain": [
              "count     889\n",
              "unique      3\n",
              "top         S\n",
              "freq      644\n",
              "Name: Embarked, dtype: object"
            ]
          },
          "metadata": {
            "tags": []
          },
          "execution_count": 13
        }
      ]
    },
    {
      "cell_type": "code",
      "metadata": {
        "id": "H4PTbrysPKQs"
      },
      "source": [
        "#transformando categóricas em números\r\n",
        "X_train_categoricos = pd.get_dummies(X_train_categoricos)\r\n",
        "X_test_categoricos = pd.get_dummies(X_test_categoricos)"
      ],
      "execution_count": 14,
      "outputs": []
    },
    {
      "cell_type": "code",
      "metadata": {
        "colab": {
          "base_uri": "https://localhost:8080/"
        },
        "id": "hia1L5-HRhxb",
        "outputId": "8bbeb3bc-e3ff-4bf3-dae1-adabc66d6d28"
      },
      "source": [
        "#comparando os dados categóricos do train e do test\r\n",
        "colunas_train_categoricos = X_train_categoricos.columns.to_list()\r\n",
        "colunas_test_categoricos = X_test_categoricos.columns.to_list()\r\n",
        "\r\n",
        "comp = set(X_train_categoricos) - set(X_test_categoricos)\r\n",
        "comp\r\n",
        "#as colunas estão iguais"
      ],
      "execution_count": 15,
      "outputs": [
        {
          "output_type": "execute_result",
          "data": {
            "text/plain": [
              "set()"
            ]
          },
          "metadata": {
            "tags": []
          },
          "execution_count": 15
        }
      ]
    },
    {
      "cell_type": "code",
      "metadata": {
        "id": "iTuozrjvSU_o"
      },
      "source": [
        "#juntando os df numericos e o categóricos\r\n",
        "abt_train = pd.merge(X_train_numericos, X_train_categoricos, how ='left', left_index = True, right_index = True)\r\n",
        "abt_test = pd.merge(X_test_numericos, X_test_categoricos, how ='left', left_index = True, right_index = True)"
      ],
      "execution_count": 16,
      "outputs": []
    },
    {
      "cell_type": "code",
      "metadata": {
        "id": "UdZ4diocV3bo"
      },
      "source": [
        "#normalização dos dados\r\n",
        "scaler = MinMaxScaler()\r\n",
        "scaler.fit(abt_train)\r\n",
        "\r\n",
        "scaler2 = MinMaxScaler()\r\n",
        "scaler2.fit(abt_test)\r\n",
        "\r\n",
        "X_train = pd.DataFrame(scaler.transform(abt_train), columns=abt_train.columns)\r\n",
        "X_train.index = abt_train.index\r\n",
        "\r\n",
        "X_test = pd.DataFrame(scaler.transform(abt_test), columns=abt_test.columns)\r\n",
        "X_test.index = abt_test.index"
      ],
      "execution_count": 17,
      "outputs": []
    },
    {
      "cell_type": "code",
      "metadata": {
        "id": "HugchoREWabo"
      },
      "source": [
        "#dividindo o treino em desenvolvimento e validação\r\n",
        "X_desenv, X_valid, y_desenv, y_valid = train_test_split(X_train, y, train_size=0.8, test_size=0.2)"
      ],
      "execution_count": 18,
      "outputs": []
    },
    {
      "cell_type": "code",
      "metadata": {
        "colab": {
          "base_uri": "https://localhost:8080/"
        },
        "id": "DB2b2CG4lplj",
        "outputId": "1d9f8227-4172-4330-e9f4-606658b7fe2c"
      },
      "source": [
        "#Desenvolvendo o modelo de Regressão Logística\r\n",
        "model = LogisticRegression()\r\n",
        "model.fit(X_desenv, y_desenv)\r\n",
        "accuracy_score(y_valid, model.predict(X_valid))"
      ],
      "execution_count": 19,
      "outputs": [
        {
          "output_type": "execute_result",
          "data": {
            "text/plain": [
              "0.7877094972067039"
            ]
          },
          "metadata": {
            "tags": []
          },
          "execution_count": 19
        }
      ]
    },
    {
      "cell_type": "code",
      "metadata": {
        "id": "WAgmeq1snCBq"
      },
      "source": [
        "#usando o modelo no Test\r\n",
        "preds_test = model.predict(X_test)"
      ],
      "execution_count": 20,
      "outputs": []
    },
    {
      "cell_type": "code",
      "metadata": {
        "id": "dlm-ibkBnUEd"
      },
      "source": [
        "#salvando a predição em um arquivo csv\r\n",
        "output = pd.DataFrame({'PassengerId': X_test.index, 'Survived': preds_test})\r\n",
        "output.to_csv('Submission_Titanic.csv', index=False)"
      ],
      "execution_count": 21,
      "outputs": []
    }
  ]
}