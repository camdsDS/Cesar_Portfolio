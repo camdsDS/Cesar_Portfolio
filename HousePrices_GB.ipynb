{
  "nbformat": 4,
  "nbformat_minor": 0,
  "metadata": {
    "colab": {
      "name": "HousePrices GB",
      "provenance": [],
      "collapsed_sections": [],
      "authorship_tag": "ABX9TyPfww1zJpFSCveexPQy0gOI",
      "include_colab_link": true
    },
    "kernelspec": {
      "name": "python3",
      "display_name": "Python 3"
    },
    "widgets": {
      "application/vnd.jupyter.widget-state+json": {
        "8b11da36abd34233a841f33a0c6fdd47": {
          "model_module": "@jupyter-widgets/controls",
          "model_name": "HBoxModel",
          "state": {
            "_view_name": "HBoxView",
            "_dom_classes": [],
            "_model_name": "HBoxModel",
            "_view_module": "@jupyter-widgets/controls",
            "_model_module_version": "1.5.0",
            "_view_count": null,
            "_view_module_version": "1.5.0",
            "box_style": "",
            "layout": "IPY_MODEL_f47a24b81ce949b1bb554a5683275cef",
            "_model_module": "@jupyter-widgets/controls",
            "children": [
              "IPY_MODEL_4061e83710ea46079eff96939a53fa0c",
              "IPY_MODEL_d5448e1eb3a14e71b8e6e6e58aec8bbf",
              "IPY_MODEL_39d30e5cd705470d96afe5d7bd49eb90"
            ]
          }
        },
        "f47a24b81ce949b1bb554a5683275cef": {
          "model_module": "@jupyter-widgets/base",
          "model_name": "LayoutModel",
          "state": {
            "_view_name": "LayoutView",
            "grid_template_rows": null,
            "right": null,
            "justify_content": null,
            "_view_module": "@jupyter-widgets/base",
            "overflow": null,
            "_model_module_version": "1.2.0",
            "_view_count": null,
            "flex_flow": null,
            "width": null,
            "min_width": null,
            "border": null,
            "align_items": null,
            "bottom": null,
            "_model_module": "@jupyter-widgets/base",
            "top": null,
            "grid_column": null,
            "overflow_y": null,
            "overflow_x": null,
            "grid_auto_flow": null,
            "grid_area": null,
            "grid_template_columns": null,
            "flex": null,
            "_model_name": "LayoutModel",
            "justify_items": null,
            "grid_row": null,
            "max_height": null,
            "align_content": null,
            "visibility": null,
            "align_self": null,
            "height": null,
            "min_height": null,
            "padding": null,
            "grid_auto_rows": null,
            "grid_gap": null,
            "max_width": null,
            "order": null,
            "_view_module_version": "1.2.0",
            "grid_template_areas": null,
            "object_position": null,
            "object_fit": null,
            "grid_auto_columns": null,
            "margin": null,
            "display": null,
            "left": null
          }
        },
        "4061e83710ea46079eff96939a53fa0c": {
          "model_module": "@jupyter-widgets/controls",
          "model_name": "HTMLModel",
          "state": {
            "_view_name": "HTMLView",
            "style": "IPY_MODEL_b9a8e53922db44728361dfa2048b06ae",
            "_dom_classes": [],
            "description": "",
            "_model_name": "HTMLModel",
            "placeholder": "​",
            "_view_module": "@jupyter-widgets/controls",
            "_model_module_version": "1.5.0",
            "value": "Summarize dataset: 100%",
            "_view_count": null,
            "_view_module_version": "1.5.0",
            "description_tooltip": null,
            "_model_module": "@jupyter-widgets/controls",
            "layout": "IPY_MODEL_d3b9d8e29ec746b58d2108b4401e8e1f"
          }
        },
        "d5448e1eb3a14e71b8e6e6e58aec8bbf": {
          "model_module": "@jupyter-widgets/controls",
          "model_name": "FloatProgressModel",
          "state": {
            "_view_name": "ProgressView",
            "style": "IPY_MODEL_32c9a8daaadd4f03ae578b78b19b6017",
            "_dom_classes": [],
            "description": "",
            "_model_name": "FloatProgressModel",
            "bar_style": "success",
            "max": 94,
            "_view_module": "@jupyter-widgets/controls",
            "_model_module_version": "1.5.0",
            "value": 94,
            "_view_count": null,
            "_view_module_version": "1.5.0",
            "orientation": "horizontal",
            "min": 0,
            "description_tooltip": null,
            "_model_module": "@jupyter-widgets/controls",
            "layout": "IPY_MODEL_3c4cbf482c944819aff37cfee2032b1e"
          }
        },
        "39d30e5cd705470d96afe5d7bd49eb90": {
          "model_module": "@jupyter-widgets/controls",
          "model_name": "HTMLModel",
          "state": {
            "_view_name": "HTMLView",
            "style": "IPY_MODEL_457279d19da14c279c160ebce7b26a8b",
            "_dom_classes": [],
            "description": "",
            "_model_name": "HTMLModel",
            "placeholder": "​",
            "_view_module": "@jupyter-widgets/controls",
            "_model_module_version": "1.5.0",
            "value": " 94/94 [03:01&lt;00:00, 11.62s/it, Completed]",
            "_view_count": null,
            "_view_module_version": "1.5.0",
            "description_tooltip": null,
            "_model_module": "@jupyter-widgets/controls",
            "layout": "IPY_MODEL_fe9571968aef4a259d34fb79b658494d"
          }
        },
        "b9a8e53922db44728361dfa2048b06ae": {
          "model_module": "@jupyter-widgets/controls",
          "model_name": "DescriptionStyleModel",
          "state": {
            "_view_name": "StyleView",
            "_model_name": "DescriptionStyleModel",
            "description_width": "",
            "_view_module": "@jupyter-widgets/base",
            "_model_module_version": "1.5.0",
            "_view_count": null,
            "_view_module_version": "1.2.0",
            "_model_module": "@jupyter-widgets/controls"
          }
        },
        "d3b9d8e29ec746b58d2108b4401e8e1f": {
          "model_module": "@jupyter-widgets/base",
          "model_name": "LayoutModel",
          "state": {
            "_view_name": "LayoutView",
            "grid_template_rows": null,
            "right": null,
            "justify_content": null,
            "_view_module": "@jupyter-widgets/base",
            "overflow": null,
            "_model_module_version": "1.2.0",
            "_view_count": null,
            "flex_flow": null,
            "width": null,
            "min_width": null,
            "border": null,
            "align_items": null,
            "bottom": null,
            "_model_module": "@jupyter-widgets/base",
            "top": null,
            "grid_column": null,
            "overflow_y": null,
            "overflow_x": null,
            "grid_auto_flow": null,
            "grid_area": null,
            "grid_template_columns": null,
            "flex": null,
            "_model_name": "LayoutModel",
            "justify_items": null,
            "grid_row": null,
            "max_height": null,
            "align_content": null,
            "visibility": null,
            "align_self": null,
            "height": null,
            "min_height": null,
            "padding": null,
            "grid_auto_rows": null,
            "grid_gap": null,
            "max_width": null,
            "order": null,
            "_view_module_version": "1.2.0",
            "grid_template_areas": null,
            "object_position": null,
            "object_fit": null,
            "grid_auto_columns": null,
            "margin": null,
            "display": null,
            "left": null
          }
        },
        "32c9a8daaadd4f03ae578b78b19b6017": {
          "model_module": "@jupyter-widgets/controls",
          "model_name": "ProgressStyleModel",
          "state": {
            "_view_name": "StyleView",
            "_model_name": "ProgressStyleModel",
            "description_width": "",
            "_view_module": "@jupyter-widgets/base",
            "_model_module_version": "1.5.0",
            "_view_count": null,
            "_view_module_version": "1.2.0",
            "bar_color": null,
            "_model_module": "@jupyter-widgets/controls"
          }
        },
        "3c4cbf482c944819aff37cfee2032b1e": {
          "model_module": "@jupyter-widgets/base",
          "model_name": "LayoutModel",
          "state": {
            "_view_name": "LayoutView",
            "grid_template_rows": null,
            "right": null,
            "justify_content": null,
            "_view_module": "@jupyter-widgets/base",
            "overflow": null,
            "_model_module_version": "1.2.0",
            "_view_count": null,
            "flex_flow": null,
            "width": null,
            "min_width": null,
            "border": null,
            "align_items": null,
            "bottom": null,
            "_model_module": "@jupyter-widgets/base",
            "top": null,
            "grid_column": null,
            "overflow_y": null,
            "overflow_x": null,
            "grid_auto_flow": null,
            "grid_area": null,
            "grid_template_columns": null,
            "flex": null,
            "_model_name": "LayoutModel",
            "justify_items": null,
            "grid_row": null,
            "max_height": null,
            "align_content": null,
            "visibility": null,
            "align_self": null,
            "height": null,
            "min_height": null,
            "padding": null,
            "grid_auto_rows": null,
            "grid_gap": null,
            "max_width": null,
            "order": null,
            "_view_module_version": "1.2.0",
            "grid_template_areas": null,
            "object_position": null,
            "object_fit": null,
            "grid_auto_columns": null,
            "margin": null,
            "display": null,
            "left": null
          }
        },
        "457279d19da14c279c160ebce7b26a8b": {
          "model_module": "@jupyter-widgets/controls",
          "model_name": "DescriptionStyleModel",
          "state": {
            "_view_name": "StyleView",
            "_model_name": "DescriptionStyleModel",
            "description_width": "",
            "_view_module": "@jupyter-widgets/base",
            "_model_module_version": "1.5.0",
            "_view_count": null,
            "_view_module_version": "1.2.0",
            "_model_module": "@jupyter-widgets/controls"
          }
        },
        "fe9571968aef4a259d34fb79b658494d": {
          "model_module": "@jupyter-widgets/base",
          "model_name": "LayoutModel",
          "state": {
            "_view_name": "LayoutView",
            "grid_template_rows": null,
            "right": null,
            "justify_content": null,
            "_view_module": "@jupyter-widgets/base",
            "overflow": null,
            "_model_module_version": "1.2.0",
            "_view_count": null,
            "flex_flow": null,
            "width": null,
            "min_width": null,
            "border": null,
            "align_items": null,
            "bottom": null,
            "_model_module": "@jupyter-widgets/base",
            "top": null,
            "grid_column": null,
            "overflow_y": null,
            "overflow_x": null,
            "grid_auto_flow": null,
            "grid_area": null,
            "grid_template_columns": null,
            "flex": null,
            "_model_name": "LayoutModel",
            "justify_items": null,
            "grid_row": null,
            "max_height": null,
            "align_content": null,
            "visibility": null,
            "align_self": null,
            "height": null,
            "min_height": null,
            "padding": null,
            "grid_auto_rows": null,
            "grid_gap": null,
            "max_width": null,
            "order": null,
            "_view_module_version": "1.2.0",
            "grid_template_areas": null,
            "object_position": null,
            "object_fit": null,
            "grid_auto_columns": null,
            "margin": null,
            "display": null,
            "left": null
          }
        },
        "28132d082f2849389c1fec97c10fec8d": {
          "model_module": "@jupyter-widgets/controls",
          "model_name": "HBoxModel",
          "state": {
            "_view_name": "HBoxView",
            "_dom_classes": [],
            "_model_name": "HBoxModel",
            "_view_module": "@jupyter-widgets/controls",
            "_model_module_version": "1.5.0",
            "_view_count": null,
            "_view_module_version": "1.5.0",
            "box_style": "",
            "layout": "IPY_MODEL_be65ad45a94f4ac88df0b21c8ac5ab8c",
            "_model_module": "@jupyter-widgets/controls",
            "children": [
              "IPY_MODEL_ca9ede55cfd148df91af580327002ba5",
              "IPY_MODEL_a2a5d1d88fdf4f0fbef369dab38502e0",
              "IPY_MODEL_7985b6576658490e8ee3d9a637fc4078"
            ]
          }
        },
        "be65ad45a94f4ac88df0b21c8ac5ab8c": {
          "model_module": "@jupyter-widgets/base",
          "model_name": "LayoutModel",
          "state": {
            "_view_name": "LayoutView",
            "grid_template_rows": null,
            "right": null,
            "justify_content": null,
            "_view_module": "@jupyter-widgets/base",
            "overflow": null,
            "_model_module_version": "1.2.0",
            "_view_count": null,
            "flex_flow": null,
            "width": null,
            "min_width": null,
            "border": null,
            "align_items": null,
            "bottom": null,
            "_model_module": "@jupyter-widgets/base",
            "top": null,
            "grid_column": null,
            "overflow_y": null,
            "overflow_x": null,
            "grid_auto_flow": null,
            "grid_area": null,
            "grid_template_columns": null,
            "flex": null,
            "_model_name": "LayoutModel",
            "justify_items": null,
            "grid_row": null,
            "max_height": null,
            "align_content": null,
            "visibility": null,
            "align_self": null,
            "height": null,
            "min_height": null,
            "padding": null,
            "grid_auto_rows": null,
            "grid_gap": null,
            "max_width": null,
            "order": null,
            "_view_module_version": "1.2.0",
            "grid_template_areas": null,
            "object_position": null,
            "object_fit": null,
            "grid_auto_columns": null,
            "margin": null,
            "display": null,
            "left": null
          }
        },
        "ca9ede55cfd148df91af580327002ba5": {
          "model_module": "@jupyter-widgets/controls",
          "model_name": "HTMLModel",
          "state": {
            "_view_name": "HTMLView",
            "style": "IPY_MODEL_41ca37872609419abbf09f80653fc367",
            "_dom_classes": [],
            "description": "",
            "_model_name": "HTMLModel",
            "placeholder": "​",
            "_view_module": "@jupyter-widgets/controls",
            "_model_module_version": "1.5.0",
            "value": "Generate report structure: 100%",
            "_view_count": null,
            "_view_module_version": "1.5.0",
            "description_tooltip": null,
            "_model_module": "@jupyter-widgets/controls",
            "layout": "IPY_MODEL_063284b8678b4b369cd621c8806f898d"
          }
        },
        "a2a5d1d88fdf4f0fbef369dab38502e0": {
          "model_module": "@jupyter-widgets/controls",
          "model_name": "FloatProgressModel",
          "state": {
            "_view_name": "ProgressView",
            "style": "IPY_MODEL_1ef380dc35204fd09e7509ff98a604e3",
            "_dom_classes": [],
            "description": "",
            "_model_name": "FloatProgressModel",
            "bar_style": "success",
            "max": 1,
            "_view_module": "@jupyter-widgets/controls",
            "_model_module_version": "1.5.0",
            "value": 1,
            "_view_count": null,
            "_view_module_version": "1.5.0",
            "orientation": "horizontal",
            "min": 0,
            "description_tooltip": null,
            "_model_module": "@jupyter-widgets/controls",
            "layout": "IPY_MODEL_6a64012497584916a06dad27be52e0dc"
          }
        },
        "7985b6576658490e8ee3d9a637fc4078": {
          "model_module": "@jupyter-widgets/controls",
          "model_name": "HTMLModel",
          "state": {
            "_view_name": "HTMLView",
            "style": "IPY_MODEL_19bbb083b9c5468088e1cee42423aea7",
            "_dom_classes": [],
            "description": "",
            "_model_name": "HTMLModel",
            "placeholder": "​",
            "_view_module": "@jupyter-widgets/controls",
            "_model_module_version": "1.5.0",
            "value": " 1/1 [00:47&lt;00:00, 47.03s/it]",
            "_view_count": null,
            "_view_module_version": "1.5.0",
            "description_tooltip": null,
            "_model_module": "@jupyter-widgets/controls",
            "layout": "IPY_MODEL_d97c74ee58524fd6be7a852842978925"
          }
        },
        "41ca37872609419abbf09f80653fc367": {
          "model_module": "@jupyter-widgets/controls",
          "model_name": "DescriptionStyleModel",
          "state": {
            "_view_name": "StyleView",
            "_model_name": "DescriptionStyleModel",
            "description_width": "",
            "_view_module": "@jupyter-widgets/base",
            "_model_module_version": "1.5.0",
            "_view_count": null,
            "_view_module_version": "1.2.0",
            "_model_module": "@jupyter-widgets/controls"
          }
        },
        "063284b8678b4b369cd621c8806f898d": {
          "model_module": "@jupyter-widgets/base",
          "model_name": "LayoutModel",
          "state": {
            "_view_name": "LayoutView",
            "grid_template_rows": null,
            "right": null,
            "justify_content": null,
            "_view_module": "@jupyter-widgets/base",
            "overflow": null,
            "_model_module_version": "1.2.0",
            "_view_count": null,
            "flex_flow": null,
            "width": null,
            "min_width": null,
            "border": null,
            "align_items": null,
            "bottom": null,
            "_model_module": "@jupyter-widgets/base",
            "top": null,
            "grid_column": null,
            "overflow_y": null,
            "overflow_x": null,
            "grid_auto_flow": null,
            "grid_area": null,
            "grid_template_columns": null,
            "flex": null,
            "_model_name": "LayoutModel",
            "justify_items": null,
            "grid_row": null,
            "max_height": null,
            "align_content": null,
            "visibility": null,
            "align_self": null,
            "height": null,
            "min_height": null,
            "padding": null,
            "grid_auto_rows": null,
            "grid_gap": null,
            "max_width": null,
            "order": null,
            "_view_module_version": "1.2.0",
            "grid_template_areas": null,
            "object_position": null,
            "object_fit": null,
            "grid_auto_columns": null,
            "margin": null,
            "display": null,
            "left": null
          }
        },
        "1ef380dc35204fd09e7509ff98a604e3": {
          "model_module": "@jupyter-widgets/controls",
          "model_name": "ProgressStyleModel",
          "state": {
            "_view_name": "StyleView",
            "_model_name": "ProgressStyleModel",
            "description_width": "",
            "_view_module": "@jupyter-widgets/base",
            "_model_module_version": "1.5.0",
            "_view_count": null,
            "_view_module_version": "1.2.0",
            "bar_color": null,
            "_model_module": "@jupyter-widgets/controls"
          }
        },
        "6a64012497584916a06dad27be52e0dc": {
          "model_module": "@jupyter-widgets/base",
          "model_name": "LayoutModel",
          "state": {
            "_view_name": "LayoutView",
            "grid_template_rows": null,
            "right": null,
            "justify_content": null,
            "_view_module": "@jupyter-widgets/base",
            "overflow": null,
            "_model_module_version": "1.2.0",
            "_view_count": null,
            "flex_flow": null,
            "width": null,
            "min_width": null,
            "border": null,
            "align_items": null,
            "bottom": null,
            "_model_module": "@jupyter-widgets/base",
            "top": null,
            "grid_column": null,
            "overflow_y": null,
            "overflow_x": null,
            "grid_auto_flow": null,
            "grid_area": null,
            "grid_template_columns": null,
            "flex": null,
            "_model_name": "LayoutModel",
            "justify_items": null,
            "grid_row": null,
            "max_height": null,
            "align_content": null,
            "visibility": null,
            "align_self": null,
            "height": null,
            "min_height": null,
            "padding": null,
            "grid_auto_rows": null,
            "grid_gap": null,
            "max_width": null,
            "order": null,
            "_view_module_version": "1.2.0",
            "grid_template_areas": null,
            "object_position": null,
            "object_fit": null,
            "grid_auto_columns": null,
            "margin": null,
            "display": null,
            "left": null
          }
        },
        "19bbb083b9c5468088e1cee42423aea7": {
          "model_module": "@jupyter-widgets/controls",
          "model_name": "DescriptionStyleModel",
          "state": {
            "_view_name": "StyleView",
            "_model_name": "DescriptionStyleModel",
            "description_width": "",
            "_view_module": "@jupyter-widgets/base",
            "_model_module_version": "1.5.0",
            "_view_count": null,
            "_view_module_version": "1.2.0",
            "_model_module": "@jupyter-widgets/controls"
          }
        },
        "d97c74ee58524fd6be7a852842978925": {
          "model_module": "@jupyter-widgets/base",
          "model_name": "LayoutModel",
          "state": {
            "_view_name": "LayoutView",
            "grid_template_rows": null,
            "right": null,
            "justify_content": null,
            "_view_module": "@jupyter-widgets/base",
            "overflow": null,
            "_model_module_version": "1.2.0",
            "_view_count": null,
            "flex_flow": null,
            "width": null,
            "min_width": null,
            "border": null,
            "align_items": null,
            "bottom": null,
            "_model_module": "@jupyter-widgets/base",
            "top": null,
            "grid_column": null,
            "overflow_y": null,
            "overflow_x": null,
            "grid_auto_flow": null,
            "grid_area": null,
            "grid_template_columns": null,
            "flex": null,
            "_model_name": "LayoutModel",
            "justify_items": null,
            "grid_row": null,
            "max_height": null,
            "align_content": null,
            "visibility": null,
            "align_self": null,
            "height": null,
            "min_height": null,
            "padding": null,
            "grid_auto_rows": null,
            "grid_gap": null,
            "max_width": null,
            "order": null,
            "_view_module_version": "1.2.0",
            "grid_template_areas": null,
            "object_position": null,
            "object_fit": null,
            "grid_auto_columns": null,
            "margin": null,
            "display": null,
            "left": null
          }
        },
        "01118968e07549a986694cf6ff4ac6c6": {
          "model_module": "@jupyter-widgets/controls",
          "model_name": "HBoxModel",
          "state": {
            "_view_name": "HBoxView",
            "_dom_classes": [],
            "_model_name": "HBoxModel",
            "_view_module": "@jupyter-widgets/controls",
            "_model_module_version": "1.5.0",
            "_view_count": null,
            "_view_module_version": "1.5.0",
            "box_style": "",
            "layout": "IPY_MODEL_7625f7fb07244d399a0f351736bad8e9",
            "_model_module": "@jupyter-widgets/controls",
            "children": [
              "IPY_MODEL_120c53f9069b4ee1801f9e997d7dd868",
              "IPY_MODEL_ceeda52c0c8d49f2b0ae3896d82d663d",
              "IPY_MODEL_323bfe0d05b84d068b96a7b04272b832"
            ]
          }
        },
        "7625f7fb07244d399a0f351736bad8e9": {
          "model_module": "@jupyter-widgets/base",
          "model_name": "LayoutModel",
          "state": {
            "_view_name": "LayoutView",
            "grid_template_rows": null,
            "right": null,
            "justify_content": null,
            "_view_module": "@jupyter-widgets/base",
            "overflow": null,
            "_model_module_version": "1.2.0",
            "_view_count": null,
            "flex_flow": null,
            "width": null,
            "min_width": null,
            "border": null,
            "align_items": null,
            "bottom": null,
            "_model_module": "@jupyter-widgets/base",
            "top": null,
            "grid_column": null,
            "overflow_y": null,
            "overflow_x": null,
            "grid_auto_flow": null,
            "grid_area": null,
            "grid_template_columns": null,
            "flex": null,
            "_model_name": "LayoutModel",
            "justify_items": null,
            "grid_row": null,
            "max_height": null,
            "align_content": null,
            "visibility": null,
            "align_self": null,
            "height": null,
            "min_height": null,
            "padding": null,
            "grid_auto_rows": null,
            "grid_gap": null,
            "max_width": null,
            "order": null,
            "_view_module_version": "1.2.0",
            "grid_template_areas": null,
            "object_position": null,
            "object_fit": null,
            "grid_auto_columns": null,
            "margin": null,
            "display": null,
            "left": null
          }
        },
        "120c53f9069b4ee1801f9e997d7dd868": {
          "model_module": "@jupyter-widgets/controls",
          "model_name": "HTMLModel",
          "state": {
            "_view_name": "HTMLView",
            "style": "IPY_MODEL_88785a985d4944e2ba6b1844b1a59b19",
            "_dom_classes": [],
            "description": "",
            "_model_name": "HTMLModel",
            "placeholder": "​",
            "_view_module": "@jupyter-widgets/controls",
            "_model_module_version": "1.5.0",
            "value": "Render HTML: 100%",
            "_view_count": null,
            "_view_module_version": "1.5.0",
            "description_tooltip": null,
            "_model_module": "@jupyter-widgets/controls",
            "layout": "IPY_MODEL_8df3a31787d54cb786aa76d79b31c028"
          }
        },
        "ceeda52c0c8d49f2b0ae3896d82d663d": {
          "model_module": "@jupyter-widgets/controls",
          "model_name": "FloatProgressModel",
          "state": {
            "_view_name": "ProgressView",
            "style": "IPY_MODEL_83d8881f6ed1412cacf1940f7ac29009",
            "_dom_classes": [],
            "description": "",
            "_model_name": "FloatProgressModel",
            "bar_style": "success",
            "max": 1,
            "_view_module": "@jupyter-widgets/controls",
            "_model_module_version": "1.5.0",
            "value": 1,
            "_view_count": null,
            "_view_module_version": "1.5.0",
            "orientation": "horizontal",
            "min": 0,
            "description_tooltip": null,
            "_model_module": "@jupyter-widgets/controls",
            "layout": "IPY_MODEL_0efae44ebcb84c2281639c890a1dce42"
          }
        },
        "323bfe0d05b84d068b96a7b04272b832": {
          "model_module": "@jupyter-widgets/controls",
          "model_name": "HTMLModel",
          "state": {
            "_view_name": "HTMLView",
            "style": "IPY_MODEL_85ee4e80d3a64610a0ef3f90f4aa18b3",
            "_dom_classes": [],
            "description": "",
            "_model_name": "HTMLModel",
            "placeholder": "​",
            "_view_module": "@jupyter-widgets/controls",
            "_model_module_version": "1.5.0",
            "value": " 1/1 [00:26&lt;00:00, 26.34s/it]",
            "_view_count": null,
            "_view_module_version": "1.5.0",
            "description_tooltip": null,
            "_model_module": "@jupyter-widgets/controls",
            "layout": "IPY_MODEL_08c59dc4329c49d0bfef26135a6a9045"
          }
        },
        "88785a985d4944e2ba6b1844b1a59b19": {
          "model_module": "@jupyter-widgets/controls",
          "model_name": "DescriptionStyleModel",
          "state": {
            "_view_name": "StyleView",
            "_model_name": "DescriptionStyleModel",
            "description_width": "",
            "_view_module": "@jupyter-widgets/base",
            "_model_module_version": "1.5.0",
            "_view_count": null,
            "_view_module_version": "1.2.0",
            "_model_module": "@jupyter-widgets/controls"
          }
        },
        "8df3a31787d54cb786aa76d79b31c028": {
          "model_module": "@jupyter-widgets/base",
          "model_name": "LayoutModel",
          "state": {
            "_view_name": "LayoutView",
            "grid_template_rows": null,
            "right": null,
            "justify_content": null,
            "_view_module": "@jupyter-widgets/base",
            "overflow": null,
            "_model_module_version": "1.2.0",
            "_view_count": null,
            "flex_flow": null,
            "width": null,
            "min_width": null,
            "border": null,
            "align_items": null,
            "bottom": null,
            "_model_module": "@jupyter-widgets/base",
            "top": null,
            "grid_column": null,
            "overflow_y": null,
            "overflow_x": null,
            "grid_auto_flow": null,
            "grid_area": null,
            "grid_template_columns": null,
            "flex": null,
            "_model_name": "LayoutModel",
            "justify_items": null,
            "grid_row": null,
            "max_height": null,
            "align_content": null,
            "visibility": null,
            "align_self": null,
            "height": null,
            "min_height": null,
            "padding": null,
            "grid_auto_rows": null,
            "grid_gap": null,
            "max_width": null,
            "order": null,
            "_view_module_version": "1.2.0",
            "grid_template_areas": null,
            "object_position": null,
            "object_fit": null,
            "grid_auto_columns": null,
            "margin": null,
            "display": null,
            "left": null
          }
        },
        "83d8881f6ed1412cacf1940f7ac29009": {
          "model_module": "@jupyter-widgets/controls",
          "model_name": "ProgressStyleModel",
          "state": {
            "_view_name": "StyleView",
            "_model_name": "ProgressStyleModel",
            "description_width": "",
            "_view_module": "@jupyter-widgets/base",
            "_model_module_version": "1.5.0",
            "_view_count": null,
            "_view_module_version": "1.2.0",
            "bar_color": null,
            "_model_module": "@jupyter-widgets/controls"
          }
        },
        "0efae44ebcb84c2281639c890a1dce42": {
          "model_module": "@jupyter-widgets/base",
          "model_name": "LayoutModel",
          "state": {
            "_view_name": "LayoutView",
            "grid_template_rows": null,
            "right": null,
            "justify_content": null,
            "_view_module": "@jupyter-widgets/base",
            "overflow": null,
            "_model_module_version": "1.2.0",
            "_view_count": null,
            "flex_flow": null,
            "width": null,
            "min_width": null,
            "border": null,
            "align_items": null,
            "bottom": null,
            "_model_module": "@jupyter-widgets/base",
            "top": null,
            "grid_column": null,
            "overflow_y": null,
            "overflow_x": null,
            "grid_auto_flow": null,
            "grid_area": null,
            "grid_template_columns": null,
            "flex": null,
            "_model_name": "LayoutModel",
            "justify_items": null,
            "grid_row": null,
            "max_height": null,
            "align_content": null,
            "visibility": null,
            "align_self": null,
            "height": null,
            "min_height": null,
            "padding": null,
            "grid_auto_rows": null,
            "grid_gap": null,
            "max_width": null,
            "order": null,
            "_view_module_version": "1.2.0",
            "grid_template_areas": null,
            "object_position": null,
            "object_fit": null,
            "grid_auto_columns": null,
            "margin": null,
            "display": null,
            "left": null
          }
        },
        "85ee4e80d3a64610a0ef3f90f4aa18b3": {
          "model_module": "@jupyter-widgets/controls",
          "model_name": "DescriptionStyleModel",
          "state": {
            "_view_name": "StyleView",
            "_model_name": "DescriptionStyleModel",
            "description_width": "",
            "_view_module": "@jupyter-widgets/base",
            "_model_module_version": "1.5.0",
            "_view_count": null,
            "_view_module_version": "1.2.0",
            "_model_module": "@jupyter-widgets/controls"
          }
        },
        "08c59dc4329c49d0bfef26135a6a9045": {
          "model_module": "@jupyter-widgets/base",
          "model_name": "LayoutModel",
          "state": {
            "_view_name": "LayoutView",
            "grid_template_rows": null,
            "right": null,
            "justify_content": null,
            "_view_module": "@jupyter-widgets/base",
            "overflow": null,
            "_model_module_version": "1.2.0",
            "_view_count": null,
            "flex_flow": null,
            "width": null,
            "min_width": null,
            "border": null,
            "align_items": null,
            "bottom": null,
            "_model_module": "@jupyter-widgets/base",
            "top": null,
            "grid_column": null,
            "overflow_y": null,
            "overflow_x": null,
            "grid_auto_flow": null,
            "grid_area": null,
            "grid_template_columns": null,
            "flex": null,
            "_model_name": "LayoutModel",
            "justify_items": null,
            "grid_row": null,
            "max_height": null,
            "align_content": null,
            "visibility": null,
            "align_self": null,
            "height": null,
            "min_height": null,
            "padding": null,
            "grid_auto_rows": null,
            "grid_gap": null,
            "max_width": null,
            "order": null,
            "_view_module_version": "1.2.0",
            "grid_template_areas": null,
            "object_position": null,
            "object_fit": null,
            "grid_auto_columns": null,
            "margin": null,
            "display": null,
            "left": null
          }
        },
        "0496458efa2645b89f38f426af4ab482": {
          "model_module": "@jupyter-widgets/controls",
          "model_name": "HBoxModel",
          "state": {
            "_view_name": "HBoxView",
            "_dom_classes": [],
            "_model_name": "HBoxModel",
            "_view_module": "@jupyter-widgets/controls",
            "_model_module_version": "1.5.0",
            "_view_count": null,
            "_view_module_version": "1.5.0",
            "box_style": "",
            "layout": "IPY_MODEL_5fafa711b1044d5abb83e60426b86f44",
            "_model_module": "@jupyter-widgets/controls",
            "children": [
              "IPY_MODEL_aa53994d291240eb8b02ab254ab624df",
              "IPY_MODEL_dc2821bb29944e25a6e9bd461653a9c1",
              "IPY_MODEL_094d3d0220fb48439be564eb6ff6b66f"
            ]
          }
        },
        "5fafa711b1044d5abb83e60426b86f44": {
          "model_module": "@jupyter-widgets/base",
          "model_name": "LayoutModel",
          "state": {
            "_view_name": "LayoutView",
            "grid_template_rows": null,
            "right": null,
            "justify_content": null,
            "_view_module": "@jupyter-widgets/base",
            "overflow": null,
            "_model_module_version": "1.2.0",
            "_view_count": null,
            "flex_flow": null,
            "width": null,
            "min_width": null,
            "border": null,
            "align_items": null,
            "bottom": null,
            "_model_module": "@jupyter-widgets/base",
            "top": null,
            "grid_column": null,
            "overflow_y": null,
            "overflow_x": null,
            "grid_auto_flow": null,
            "grid_area": null,
            "grid_template_columns": null,
            "flex": null,
            "_model_name": "LayoutModel",
            "justify_items": null,
            "grid_row": null,
            "max_height": null,
            "align_content": null,
            "visibility": null,
            "align_self": null,
            "height": null,
            "min_height": null,
            "padding": null,
            "grid_auto_rows": null,
            "grid_gap": null,
            "max_width": null,
            "order": null,
            "_view_module_version": "1.2.0",
            "grid_template_areas": null,
            "object_position": null,
            "object_fit": null,
            "grid_auto_columns": null,
            "margin": null,
            "display": null,
            "left": null
          }
        },
        "aa53994d291240eb8b02ab254ab624df": {
          "model_module": "@jupyter-widgets/controls",
          "model_name": "HTMLModel",
          "state": {
            "_view_name": "HTMLView",
            "style": "IPY_MODEL_0e59866f42324b88a6be49bd55d760a8",
            "_dom_classes": [],
            "description": "",
            "_model_name": "HTMLModel",
            "placeholder": "​",
            "_view_module": "@jupyter-widgets/controls",
            "_model_module_version": "1.5.0",
            "value": "Export report to file: 100%",
            "_view_count": null,
            "_view_module_version": "1.5.0",
            "description_tooltip": null,
            "_model_module": "@jupyter-widgets/controls",
            "layout": "IPY_MODEL_d9cd1944b199426f849d04ce8b3bf247"
          }
        },
        "dc2821bb29944e25a6e9bd461653a9c1": {
          "model_module": "@jupyter-widgets/controls",
          "model_name": "FloatProgressModel",
          "state": {
            "_view_name": "ProgressView",
            "style": "IPY_MODEL_c34c23e1642a4f028a8a2c59ee477987",
            "_dom_classes": [],
            "description": "",
            "_model_name": "FloatProgressModel",
            "bar_style": "success",
            "max": 1,
            "_view_module": "@jupyter-widgets/controls",
            "_model_module_version": "1.5.0",
            "value": 1,
            "_view_count": null,
            "_view_module_version": "1.5.0",
            "orientation": "horizontal",
            "min": 0,
            "description_tooltip": null,
            "_model_module": "@jupyter-widgets/controls",
            "layout": "IPY_MODEL_b499fe72850748d2b368542cf0ffc9b6"
          }
        },
        "094d3d0220fb48439be564eb6ff6b66f": {
          "model_module": "@jupyter-widgets/controls",
          "model_name": "HTMLModel",
          "state": {
            "_view_name": "HTMLView",
            "style": "IPY_MODEL_bb6106773fac4853afbaf51e2dfe9f78",
            "_dom_classes": [],
            "description": "",
            "_model_name": "HTMLModel",
            "placeholder": "​",
            "_view_module": "@jupyter-widgets/controls",
            "_model_module_version": "1.5.0",
            "value": " 1/1 [00:00&lt;00:00,  4.23it/s]",
            "_view_count": null,
            "_view_module_version": "1.5.0",
            "description_tooltip": null,
            "_model_module": "@jupyter-widgets/controls",
            "layout": "IPY_MODEL_959767ced2e442b9b086ecf0891ad995"
          }
        },
        "0e59866f42324b88a6be49bd55d760a8": {
          "model_module": "@jupyter-widgets/controls",
          "model_name": "DescriptionStyleModel",
          "state": {
            "_view_name": "StyleView",
            "_model_name": "DescriptionStyleModel",
            "description_width": "",
            "_view_module": "@jupyter-widgets/base",
            "_model_module_version": "1.5.0",
            "_view_count": null,
            "_view_module_version": "1.2.0",
            "_model_module": "@jupyter-widgets/controls"
          }
        },
        "d9cd1944b199426f849d04ce8b3bf247": {
          "model_module": "@jupyter-widgets/base",
          "model_name": "LayoutModel",
          "state": {
            "_view_name": "LayoutView",
            "grid_template_rows": null,
            "right": null,
            "justify_content": null,
            "_view_module": "@jupyter-widgets/base",
            "overflow": null,
            "_model_module_version": "1.2.0",
            "_view_count": null,
            "flex_flow": null,
            "width": null,
            "min_width": null,
            "border": null,
            "align_items": null,
            "bottom": null,
            "_model_module": "@jupyter-widgets/base",
            "top": null,
            "grid_column": null,
            "overflow_y": null,
            "overflow_x": null,
            "grid_auto_flow": null,
            "grid_area": null,
            "grid_template_columns": null,
            "flex": null,
            "_model_name": "LayoutModel",
            "justify_items": null,
            "grid_row": null,
            "max_height": null,
            "align_content": null,
            "visibility": null,
            "align_self": null,
            "height": null,
            "min_height": null,
            "padding": null,
            "grid_auto_rows": null,
            "grid_gap": null,
            "max_width": null,
            "order": null,
            "_view_module_version": "1.2.0",
            "grid_template_areas": null,
            "object_position": null,
            "object_fit": null,
            "grid_auto_columns": null,
            "margin": null,
            "display": null,
            "left": null
          }
        },
        "c34c23e1642a4f028a8a2c59ee477987": {
          "model_module": "@jupyter-widgets/controls",
          "model_name": "ProgressStyleModel",
          "state": {
            "_view_name": "StyleView",
            "_model_name": "ProgressStyleModel",
            "description_width": "",
            "_view_module": "@jupyter-widgets/base",
            "_model_module_version": "1.5.0",
            "_view_count": null,
            "_view_module_version": "1.2.0",
            "bar_color": null,
            "_model_module": "@jupyter-widgets/controls"
          }
        },
        "b499fe72850748d2b368542cf0ffc9b6": {
          "model_module": "@jupyter-widgets/base",
          "model_name": "LayoutModel",
          "state": {
            "_view_name": "LayoutView",
            "grid_template_rows": null,
            "right": null,
            "justify_content": null,
            "_view_module": "@jupyter-widgets/base",
            "overflow": null,
            "_model_module_version": "1.2.0",
            "_view_count": null,
            "flex_flow": null,
            "width": null,
            "min_width": null,
            "border": null,
            "align_items": null,
            "bottom": null,
            "_model_module": "@jupyter-widgets/base",
            "top": null,
            "grid_column": null,
            "overflow_y": null,
            "overflow_x": null,
            "grid_auto_flow": null,
            "grid_area": null,
            "grid_template_columns": null,
            "flex": null,
            "_model_name": "LayoutModel",
            "justify_items": null,
            "grid_row": null,
            "max_height": null,
            "align_content": null,
            "visibility": null,
            "align_self": null,
            "height": null,
            "min_height": null,
            "padding": null,
            "grid_auto_rows": null,
            "grid_gap": null,
            "max_width": null,
            "order": null,
            "_view_module_version": "1.2.0",
            "grid_template_areas": null,
            "object_position": null,
            "object_fit": null,
            "grid_auto_columns": null,
            "margin": null,
            "display": null,
            "left": null
          }
        },
        "bb6106773fac4853afbaf51e2dfe9f78": {
          "model_module": "@jupyter-widgets/controls",
          "model_name": "DescriptionStyleModel",
          "state": {
            "_view_name": "StyleView",
            "_model_name": "DescriptionStyleModel",
            "description_width": "",
            "_view_module": "@jupyter-widgets/base",
            "_model_module_version": "1.5.0",
            "_view_count": null,
            "_view_module_version": "1.2.0",
            "_model_module": "@jupyter-widgets/controls"
          }
        },
        "959767ced2e442b9b086ecf0891ad995": {
          "model_module": "@jupyter-widgets/base",
          "model_name": "LayoutModel",
          "state": {
            "_view_name": "LayoutView",
            "grid_template_rows": null,
            "right": null,
            "justify_content": null,
            "_view_module": "@jupyter-widgets/base",
            "overflow": null,
            "_model_module_version": "1.2.0",
            "_view_count": null,
            "flex_flow": null,
            "width": null,
            "min_width": null,
            "border": null,
            "align_items": null,
            "bottom": null,
            "_model_module": "@jupyter-widgets/base",
            "top": null,
            "grid_column": null,
            "overflow_y": null,
            "overflow_x": null,
            "grid_auto_flow": null,
            "grid_area": null,
            "grid_template_columns": null,
            "flex": null,
            "_model_name": "LayoutModel",
            "justify_items": null,
            "grid_row": null,
            "max_height": null,
            "align_content": null,
            "visibility": null,
            "align_self": null,
            "height": null,
            "min_height": null,
            "padding": null,
            "grid_auto_rows": null,
            "grid_gap": null,
            "max_width": null,
            "order": null,
            "_view_module_version": "1.2.0",
            "grid_template_areas": null,
            "object_position": null,
            "object_fit": null,
            "grid_auto_columns": null,
            "margin": null,
            "display": null,
            "left": null
          }
        }
      }
    }
  },
  "cells": [
    {
      "cell_type": "markdown",
      "metadata": {
        "id": "view-in-github",
        "colab_type": "text"
      },
      "source": [
        "<a href=\"https://colab.research.google.com/github/camdsDS/Cesar_Portfolio/blob/main/HousePrices_GB.ipynb\" target=\"_parent\"><img src=\"https://colab.research.google.com/assets/colab-badge.svg\" alt=\"Open In Colab\"/></a>"
      ]
    },
    {
      "cell_type": "code",
      "metadata": {
        "id": "K4XiUH-qPhmT"
      },
      "source": [
        "import pandas as pd\r\n",
        "import numpy as np\r\n",
        "import matplotlib.pyplot as plt\r\n",
        "import seaborn as sns"
      ],
      "execution_count": 1,
      "outputs": []
    },
    {
      "cell_type": "code",
      "metadata": {
        "id": "5t34vR--51rg"
      },
      "source": [
        "# impede avisos desnecessários\r\n",
        "import warnings\r\n",
        "warnings.filterwarnings('ignore')"
      ],
      "execution_count": 2,
      "outputs": []
    },
    {
      "cell_type": "markdown",
      "metadata": {
        "id": "0ka0zMFWkuqi"
      },
      "source": [
        "# Funções"
      ]
    },
    {
      "cell_type": "code",
      "metadata": {
        "id": "g4KZA_cFQ5JA"
      },
      "source": [
        "def unique_cat(df):\r\n",
        "    '''\r\n",
        "    Devolve a quantidade de valores únicos por feature categórica.\r\n",
        "    '''\r\n",
        "    dict_unique_cat = {}\r\n",
        "    for column in df.columns:\r\n",
        "        if df[column].dtype == 'object': \r\n",
        "            dict_unique_cat[column] = len(df[column].unique())\r\n",
        "\r\n",
        "    df_unique = pd.DataFrame(list(dict_unique_cat.items()), columns=['coluna_cat', 'quantidade de unique'])\r\n",
        "    return df_unique.sort_values('quantidade de unique', ascending = False)"
      ],
      "execution_count": 3,
      "outputs": []
    },
    {
      "cell_type": "code",
      "metadata": {
        "id": "HKI6sWDDlCbD"
      },
      "source": [
        "def relatorio(data, target):\r\n",
        "    '''\r\n",
        "    Devolve um relatorio sobre valores miss no df, valor da bad rate,\r\n",
        "    tipos de dados e correlação de Pearson.   \r\n",
        "    '''\r\n",
        "    print('Relatorio de miss')\r\n",
        "    df_miss = ((data.isna().sum()/len(data))*100).to_frame().reset_index().rename(columns={'index': 'column', 0:'%_miss'}).sort_values('%_miss', ascending = False)\r\n",
        "    if df_miss['%_miss'].tolist()[0] == 0:\r\n",
        "        print('O df não apresenta valores miss.')\r\n",
        "    else:\r\n",
        "        print('O df apresenta valores miss e as cinco colunas com maior concentração de miss são:')\r\n",
        "        print(df_miss.head())\r\n",
        "    \r\n",
        "    import missingno as msn\r\n",
        "    print('\\nGráfico missingno: as partes brancas representam dados nulos (missing).')\r\n",
        "    msn.matrix(data)\r\n",
        "    plt.show()\r\n",
        "\r\n",
        "    print('\\nRelatorio de zeros')\r\n",
        "    print ('Segue a concentração, em porcentagem, de valores zero por coluna do df:')\r\n",
        "    dict_de_zeros = {}\r\n",
        "    for column in data.columns:\r\n",
        "        if data[column].value_counts().index[0]==0:\r\n",
        "            dict_de_zeros[column] = round(((data[column].value_counts()[0]/data[column].value_counts().sum())*100),2)\r\n",
        "\r\n",
        "    zeros = pd.DataFrame(list(dict_de_zeros.items()),\r\n",
        "                   columns=['colunas', '%_zeros'])\r\n",
        "    print(zeros.sort_values('%_zeros', ascending = False))\r\n",
        "        \r\n",
        "    #Correlação de Pearson\r\n",
        "    print('\\nCorrelação de Pearson:')\r\n",
        "    corr = data.corr()\r\n",
        "    highest_corr_features = corr.index[abs(corr[target])>0.5]\r\n",
        "    plt.figure(figsize=(10,10))\r\n",
        "    g = sns.heatmap(data[highest_corr_features].corr(),annot=True,cmap=\"RdYlGn\")"
      ],
      "execution_count": 4,
      "outputs": []
    },
    {
      "cell_type": "code",
      "metadata": {
        "id": "TRL25fwrl3fe"
      },
      "source": [
        "def RelatorioMiss(df):\r\n",
        "    '''\r\n",
        "    Retorna a % de miss de cada coluna do df.\r\n",
        "    '''\r\n",
        "    df_miss = ((df.isna().sum()/len(df))*100).to_frame().rename(columns={0:'P_miss'}).reset_index().sort_values('P_miss', ascending = False)\r\n",
        "    return df_miss"
      ],
      "execution_count": 5,
      "outputs": []
    },
    {
      "cell_type": "markdown",
      "metadata": {
        "id": "Ef7uB0-IkmGZ"
      },
      "source": [
        "# Lendo dados de Treino"
      ]
    },
    {
      "cell_type": "code",
      "metadata": {
        "id": "Znb1krhTkpwL"
      },
      "source": [
        "# Dados do kaggle: House Prices - Advanced Regression Techniques\r\n",
        "# https://www.kaggle.com/c/house-prices-advanced-regression-techniques/data\r\n",
        "data = pd.read_csv('train.csv')"
      ],
      "execution_count": 6,
      "outputs": []
    },
    {
      "cell_type": "code",
      "metadata": {
        "id": "B8jP5xlwXkAQ"
      },
      "source": [
        "data['MSSubClass'] = [str(x)+'_cat' for x in data['MSSubClass']]"
      ],
      "execution_count": 7,
      "outputs": []
    },
    {
      "cell_type": "markdown",
      "metadata": {
        "id": "b2UBOwlWgfK8"
      },
      "source": [
        "# Relatatórios"
      ]
    },
    {
      "cell_type": "markdown",
      "metadata": {
        "id": "87sKuyvogiBL"
      },
      "source": [
        "## Relatório completo (ProfileReport do pandas_profiling)"
      ]
    },
    {
      "cell_type": "code",
      "metadata": {
        "colab": {
          "base_uri": "https://localhost:8080/",
          "height": 145,
          "referenced_widgets": [
            "8b11da36abd34233a841f33a0c6fdd47",
            "f47a24b81ce949b1bb554a5683275cef",
            "4061e83710ea46079eff96939a53fa0c",
            "d5448e1eb3a14e71b8e6e6e58aec8bbf",
            "39d30e5cd705470d96afe5d7bd49eb90",
            "b9a8e53922db44728361dfa2048b06ae",
            "d3b9d8e29ec746b58d2108b4401e8e1f",
            "32c9a8daaadd4f03ae578b78b19b6017",
            "3c4cbf482c944819aff37cfee2032b1e",
            "457279d19da14c279c160ebce7b26a8b",
            "fe9571968aef4a259d34fb79b658494d",
            "28132d082f2849389c1fec97c10fec8d",
            "be65ad45a94f4ac88df0b21c8ac5ab8c",
            "ca9ede55cfd148df91af580327002ba5",
            "a2a5d1d88fdf4f0fbef369dab38502e0",
            "7985b6576658490e8ee3d9a637fc4078",
            "41ca37872609419abbf09f80653fc367",
            "063284b8678b4b369cd621c8806f898d",
            "1ef380dc35204fd09e7509ff98a604e3",
            "6a64012497584916a06dad27be52e0dc",
            "19bbb083b9c5468088e1cee42423aea7",
            "d97c74ee58524fd6be7a852842978925",
            "01118968e07549a986694cf6ff4ac6c6",
            "7625f7fb07244d399a0f351736bad8e9",
            "120c53f9069b4ee1801f9e997d7dd868",
            "ceeda52c0c8d49f2b0ae3896d82d663d",
            "323bfe0d05b84d068b96a7b04272b832",
            "88785a985d4944e2ba6b1844b1a59b19",
            "8df3a31787d54cb786aa76d79b31c028",
            "83d8881f6ed1412cacf1940f7ac29009",
            "0efae44ebcb84c2281639c890a1dce42",
            "85ee4e80d3a64610a0ef3f90f4aa18b3",
            "08c59dc4329c49d0bfef26135a6a9045",
            "0496458efa2645b89f38f426af4ab482",
            "5fafa711b1044d5abb83e60426b86f44",
            "aa53994d291240eb8b02ab254ab624df",
            "dc2821bb29944e25a6e9bd461653a9c1",
            "094d3d0220fb48439be564eb6ff6b66f",
            "0e59866f42324b88a6be49bd55d760a8",
            "d9cd1944b199426f849d04ce8b3bf247",
            "c34c23e1642a4f028a8a2c59ee477987",
            "b499fe72850748d2b368542cf0ffc9b6",
            "bb6106773fac4853afbaf51e2dfe9f78",
            "959767ced2e442b9b086ecf0891ad995"
          ]
        },
        "id": "WGbXt1e2gbzm",
        "outputId": "e7982079-162a-4e47-9ab5-d8fbf4a2edab"
      },
      "source": [
        "%load_ext autoreload\r\n",
        "%autoreload 2\r\n",
        "\r\n",
        "import sys\r\n",
        "\r\n",
        "# !\"{sys.executable}\" -m pip install -U pandas-profiling[notebook]\r\n",
        "# !jupyter nbextension enable --py widgetsnbextension\r\n",
        "\r\n",
        "from pathlib import Path\r\n",
        "\r\n",
        "import pandas as pd\r\n",
        "from ipywidgets import widgets\r\n",
        "\r\n",
        "from pandas_profiling import ProfileReport\r\n",
        "from pandas_profiling.utils.cache import cache_file\r\n",
        "\r\n",
        "profile = ProfileReport(\r\n",
        "                        data, title=\"House Prices\", html={\"style\": {\"full_width\": True}}, sort=\"None\"\r\n",
        "                        )\r\n",
        "profile.to_file(\"report_House_Prices.html\") #abra o arquivo .html que foi upado"
      ],
      "execution_count": 8,
      "outputs": [
        {
          "output_type": "display_data",
          "data": {
            "application/vnd.jupyter.widget-view+json": {
              "model_id": "8b11da36abd34233a841f33a0c6fdd47",
              "version_minor": 0,
              "version_major": 2
            },
            "text/plain": [
              "Summarize dataset:   0%|          | 0/94 [00:00<?, ?it/s]"
            ]
          },
          "metadata": {
            "tags": []
          }
        },
        {
          "output_type": "display_data",
          "data": {
            "application/vnd.jupyter.widget-view+json": {
              "model_id": "28132d082f2849389c1fec97c10fec8d",
              "version_minor": 0,
              "version_major": 2
            },
            "text/plain": [
              "Generate report structure:   0%|          | 0/1 [00:00<?, ?it/s]"
            ]
          },
          "metadata": {
            "tags": []
          }
        },
        {
          "output_type": "display_data",
          "data": {
            "application/vnd.jupyter.widget-view+json": {
              "model_id": "01118968e07549a986694cf6ff4ac6c6",
              "version_minor": 0,
              "version_major": 2
            },
            "text/plain": [
              "Render HTML:   0%|          | 0/1 [00:00<?, ?it/s]"
            ]
          },
          "metadata": {
            "tags": []
          }
        },
        {
          "output_type": "display_data",
          "data": {
            "application/vnd.jupyter.widget-view+json": {
              "model_id": "0496458efa2645b89f38f426af4ab482",
              "version_minor": 0,
              "version_major": 2
            },
            "text/plain": [
              "Export report to file:   0%|          | 0/1 [00:00<?, ?it/s]"
            ]
          },
          "metadata": {
            "tags": []
          }
        }
      ]
    },
    {
      "cell_type": "markdown",
      "metadata": {
        "id": "uF40JleehuUx"
      },
      "source": [
        "## Relatório simples"
      ]
    },
    {
      "cell_type": "code",
      "metadata": {
        "colab": {
          "base_uri": "https://localhost:8080/",
          "height": 1000
        },
        "id": "aUSykuEDgber",
        "outputId": "849fcbc5-2985-484c-c8f3-8f2fac916be0"
      },
      "source": [
        "relatorio(data, 'SalePrice')"
      ],
      "execution_count": 9,
      "outputs": [
        {
          "output_type": "stream",
          "text": [
            "Relatorio de miss\n",
            "O df apresenta valores miss e as cinco colunas com maior concentração de miss são:\n",
            "         column     %_miss\n",
            "72       PoolQC  99.520548\n",
            "74  MiscFeature  96.301370\n",
            "6         Alley  93.767123\n",
            "73        Fence  80.753425\n",
            "57  FireplaceQu  47.260274\n",
            "\n",
            "Gráfico missingno: as partes brancas representam dados nulos (missing).\n"
          ],
          "name": "stdout"
        },
        {
          "output_type": "display_data",
          "data": {
            "image/png": "[encoded data removed]",
            "text/plain": [
              "<Figure size 1800x720 with 2 Axes>"
            ]
          },
          "metadata": {
            "tags": [],
            "needs_background": "light"
          }
        },
        {
          "output_type": "stream",
          "text": [
            "\n",
            "Relatorio de zeros\n",
            "O df apresenta valores zero e as cinco colunas com maior concentração de miss são:\n",
            "          colunas  %_zeros\n",
            "17       PoolArea    99.52\n",
            "15      3SsnPorch    98.36\n",
            "6    LowQualFinSF    98.22\n",
            "18        MiscVal    96.44\n",
            "8    BsmtHalfBath    94.38\n",
            "16    ScreenPorch    92.05\n",
            "2      BsmtFinSF2    88.56\n",
            "14  EnclosedPorch    85.75\n",
            "9        HalfBath    62.53\n",
            "0      MasVnrArea    59.30\n",
            "7    BsmtFullBath    58.63\n",
            "5        2ndFlrSF    56.78\n",
            "12     WoodDeckSF    52.12\n",
            "10     Fireplaces    47.26\n",
            "13    OpenPorchSF    44.93\n",
            "1      BsmtFinSF1    31.99\n",
            "3       BsmtUnfSF     8.08\n",
            "11     GarageArea     5.55\n",
            "4     TotalBsmtSF     2.53\n",
            "\n",
            "Correlação de Pearson:\n"
          ],
          "name": "stdout"
        },
        {
          "output_type": "display_data",
          "data": {
            "image/png": "[encoded data removed]",
            "text/plain": [
              "<Figure size 720x720 with 2 Axes>"
            ]
          },
          "metadata": {
            "tags": [],
            "needs_background": "light"
          }
        }
      ]
    },
    {
      "cell_type": "markdown",
      "metadata": {
        "id": "q5e_8_9JiYT5"
      },
      "source": [
        "#### Distribuição dos valores-alvo do df de treino"
      ]
    },
    {
      "cell_type": "code",
      "metadata": {
        "colab": {
          "base_uri": "https://localhost:8080/",
          "height": 307
        },
        "id": "IDgtIJAHh15V",
        "outputId": "c28c1057-0282-4009-ff67-5370e34b726f"
      },
      "source": [
        " sns.distplot(data['SalePrice'])"
      ],
      "execution_count": 10,
      "outputs": [
        {
          "output_type": "execute_result",
          "data": {
            "text/plain": [
              "<matplotlib.axes._subplots.AxesSubplot at 0x7f7aca8404e0>"
            ]
          },
          "metadata": {
            "tags": []
          },
          "execution_count": 10
        },
        {
          "output_type": "display_data",
          "data": {
            "image/png": "[encoded data removed]",
            "text/plain": [
              "<Figure size 432x288 with 1 Axes>"
            ]
          },
          "metadata": {
            "tags": [],
            "needs_background": "light"
          }
        }
      ]
    },
    {
      "cell_type": "markdown",
      "metadata": {
        "id": "EYt9MpI3iASd"
      },
      "source": [
        "# Montando o df de treino"
      ]
    },
    {
      "cell_type": "code",
      "metadata": {
        "colab": {
          "base_uri": "https://localhost:8080/",
          "height": 253
        },
        "id": "I8Cp2XlgXtrM",
        "outputId": "9ac5e896-f829-4cf2-95b4-edc0bffd638f"
      },
      "source": [
        "data.head()"
      ],
      "execution_count": 11,
      "outputs": [
        {
          "output_type": "execute_result",
          "data": {
            "text/html": [
              "<div>\n",
              "<style scoped>\n",
              "    .dataframe tbody tr th:only-of-type {\n",
              "        vertical-align: middle;\n",
              "    }\n",
              "\n",
              "    .dataframe tbody tr th {\n",
              "        vertical-align: top;\n",
              "    }\n",
              "\n",
              "    .dataframe thead th {\n",
              "        text-align: right;\n",
              "    }\n",
              "</style>\n",
              "<table border=\"1\" class=\"dataframe\">\n",
              "  <thead>\n",
              "    <tr style=\"text-align: right;\">\n",
              "      <th></th>\n",
              "      <th>Id</th>\n",
              "      <th>MSSubClass</th>\n",
              "      <th>MSZoning</th>\n",
              "      <th>LotFrontage</th>\n",
              "      <th>LotArea</th>\n",
              "      <th>Street</th>\n",
              "      <th>Alley</th>\n",
              "      <th>LotShape</th>\n",
              "      <th>LandContour</th>\n",
              "      <th>Utilities</th>\n",
              "      <th>LotConfig</th>\n",
              "      <th>LandSlope</th>\n",
              "      <th>Neighborhood</th>\n",
              "      <th>Condition1</th>\n",
              "      <th>Condition2</th>\n",
              "      <th>BldgType</th>\n",
              "      <th>HouseStyle</th>\n",
              "      <th>OverallQual</th>\n",
              "      <th>OverallCond</th>\n",
              "      <th>YearBuilt</th>\n",
              "      <th>YearRemodAdd</th>\n",
              "      <th>RoofStyle</th>\n",
              "      <th>RoofMatl</th>\n",
              "      <th>Exterior1st</th>\n",
              "      <th>Exterior2nd</th>\n",
              "      <th>MasVnrType</th>\n",
              "      <th>MasVnrArea</th>\n",
              "      <th>ExterQual</th>\n",
              "      <th>ExterCond</th>\n",
              "      <th>Foundation</th>\n",
              "      <th>BsmtQual</th>\n",
              "      <th>BsmtCond</th>\n",
              "      <th>BsmtExposure</th>\n",
              "      <th>BsmtFinType1</th>\n",
              "      <th>BsmtFinSF1</th>\n",
              "      <th>BsmtFinType2</th>\n",
              "      <th>BsmtFinSF2</th>\n",
              "      <th>BsmtUnfSF</th>\n",
              "      <th>TotalBsmtSF</th>\n",
              "      <th>Heating</th>\n",
              "      <th>...</th>\n",
              "      <th>CentralAir</th>\n",
              "      <th>Electrical</th>\n",
              "      <th>1stFlrSF</th>\n",
              "      <th>2ndFlrSF</th>\n",
              "      <th>LowQualFinSF</th>\n",
              "      <th>GrLivArea</th>\n",
              "      <th>BsmtFullBath</th>\n",
              "      <th>BsmtHalfBath</th>\n",
              "      <th>FullBath</th>\n",
              "      <th>HalfBath</th>\n",
              "      <th>BedroomAbvGr</th>\n",
              "      <th>KitchenAbvGr</th>\n",
              "      <th>KitchenQual</th>\n",
              "      <th>TotRmsAbvGrd</th>\n",
              "      <th>Functional</th>\n",
              "      <th>Fireplaces</th>\n",
              "      <th>FireplaceQu</th>\n",
              "      <th>GarageType</th>\n",
              "      <th>GarageYrBlt</th>\n",
              "      <th>GarageFinish</th>\n",
              "      <th>GarageCars</th>\n",
              "      <th>GarageArea</th>\n",
              "      <th>GarageQual</th>\n",
              "      <th>GarageCond</th>\n",
              "      <th>PavedDrive</th>\n",
              "      <th>WoodDeckSF</th>\n",
              "      <th>OpenPorchSF</th>\n",
              "      <th>EnclosedPorch</th>\n",
              "      <th>3SsnPorch</th>\n",
              "      <th>ScreenPorch</th>\n",
              "      <th>PoolArea</th>\n",
              "      <th>PoolQC</th>\n",
              "      <th>Fence</th>\n",
              "      <th>MiscFeature</th>\n",
              "      <th>MiscVal</th>\n",
              "      <th>MoSold</th>\n",
              "      <th>YrSold</th>\n",
              "      <th>SaleType</th>\n",
              "      <th>SaleCondition</th>\n",
              "      <th>SalePrice</th>\n",
              "    </tr>\n",
              "  </thead>\n",
              "  <tbody>\n",
              "    <tr>\n",
              "      <th>0</th>\n",
              "      <td>1</td>\n",
              "      <td>60_cat</td>\n",
              "      <td>RL</td>\n",
              "      <td>65.0</td>\n",
              "      <td>8450</td>\n",
              "      <td>Pave</td>\n",
              "      <td>NaN</td>\n",
              "      <td>Reg</td>\n",
              "      <td>Lvl</td>\n",
              "      <td>AllPub</td>\n",
              "      <td>Inside</td>\n",
              "      <td>Gtl</td>\n",
              "      <td>CollgCr</td>\n",
              "      <td>Norm</td>\n",
              "      <td>Norm</td>\n",
              "      <td>1Fam</td>\n",
              "      <td>2Story</td>\n",
              "      <td>7</td>\n",
              "      <td>5</td>\n",
              "      <td>2003</td>\n",
              "      <td>2003</td>\n",
              "      <td>Gable</td>\n",
              "      <td>CompShg</td>\n",
              "      <td>VinylSd</td>\n",
              "      <td>VinylSd</td>\n",
              "      <td>BrkFace</td>\n",
              "      <td>196.0</td>\n",
              "      <td>Gd</td>\n",
              "      <td>TA</td>\n",
              "      <td>PConc</td>\n",
              "      <td>Gd</td>\n",
              "      <td>TA</td>\n",
              "      <td>No</td>\n",
              "      <td>GLQ</td>\n",
              "      <td>706</td>\n",
              "      <td>Unf</td>\n",
              "      <td>0</td>\n",
              "      <td>150</td>\n",
              "      <td>856</td>\n",
              "      <td>GasA</td>\n",
              "      <td>...</td>\n",
              "      <td>Y</td>\n",
              "      <td>SBrkr</td>\n",
              "      <td>856</td>\n",
              "      <td>854</td>\n",
              "      <td>0</td>\n",
              "      <td>1710</td>\n",
              "      <td>1</td>\n",
              "      <td>0</td>\n",
              "      <td>2</td>\n",
              "      <td>1</td>\n",
              "      <td>3</td>\n",
              "      <td>1</td>\n",
              "      <td>Gd</td>\n",
              "      <td>8</td>\n",
              "      <td>Typ</td>\n",
              "      <td>0</td>\n",
              "      <td>NaN</td>\n",
              "      <td>Attchd</td>\n",
              "      <td>2003.0</td>\n",
              "      <td>RFn</td>\n",
              "      <td>2</td>\n",
              "      <td>548</td>\n",
              "      <td>TA</td>\n",
              "      <td>TA</td>\n",
              "      <td>Y</td>\n",
              "      <td>0</td>\n",
              "      <td>61</td>\n",
              "      <td>0</td>\n",
              "      <td>0</td>\n",
              "      <td>0</td>\n",
              "      <td>0</td>\n",
              "      <td>NaN</td>\n",
              "      <td>NaN</td>\n",
              "      <td>NaN</td>\n",
              "      <td>0</td>\n",
              "      <td>2</td>\n",
              "      <td>2008</td>\n",
              "      <td>WD</td>\n",
              "      <td>Normal</td>\n",
              "      <td>208500</td>\n",
              "    </tr>\n",
              "    <tr>\n",
              "      <th>1</th>\n",
              "      <td>2</td>\n",
              "      <td>20_cat</td>\n",
              "      <td>RL</td>\n",
              "      <td>80.0</td>\n",
              "      <td>9600</td>\n",
              "      <td>Pave</td>\n",
              "      <td>NaN</td>\n",
              "      <td>Reg</td>\n",
              "      <td>Lvl</td>\n",
              "      <td>AllPub</td>\n",
              "      <td>FR2</td>\n",
              "      <td>Gtl</td>\n",
              "      <td>Veenker</td>\n",
              "      <td>Feedr</td>\n",
              "      <td>Norm</td>\n",
              "      <td>1Fam</td>\n",
              "      <td>1Story</td>\n",
              "      <td>6</td>\n",
              "      <td>8</td>\n",
              "      <td>1976</td>\n",
              "      <td>1976</td>\n",
              "      <td>Gable</td>\n",
              "      <td>CompShg</td>\n",
              "      <td>MetalSd</td>\n",
              "      <td>MetalSd</td>\n",
              "      <td>None</td>\n",
              "      <td>0.0</td>\n",
              "      <td>TA</td>\n",
              "      <td>TA</td>\n",
              "      <td>CBlock</td>\n",
              "      <td>Gd</td>\n",
              "      <td>TA</td>\n",
              "      <td>Gd</td>\n",
              "      <td>ALQ</td>\n",
              "      <td>978</td>\n",
              "      <td>Unf</td>\n",
              "      <td>0</td>\n",
              "      <td>284</td>\n",
              "      <td>1262</td>\n",
              "      <td>GasA</td>\n",
              "      <td>...</td>\n",
              "      <td>Y</td>\n",
              "      <td>SBrkr</td>\n",
              "      <td>1262</td>\n",
              "      <td>0</td>\n",
              "      <td>0</td>\n",
              "      <td>1262</td>\n",
              "      <td>0</td>\n",
              "      <td>1</td>\n",
              "      <td>2</td>\n",
              "      <td>0</td>\n",
              "      <td>3</td>\n",
              "      <td>1</td>\n",
              "      <td>TA</td>\n",
              "      <td>6</td>\n",
              "      <td>Typ</td>\n",
              "      <td>1</td>\n",
              "      <td>TA</td>\n",
              "      <td>Attchd</td>\n",
              "      <td>1976.0</td>\n",
              "      <td>RFn</td>\n",
              "      <td>2</td>\n",
              "      <td>460</td>\n",
              "      <td>TA</td>\n",
              "      <td>TA</td>\n",
              "      <td>Y</td>\n",
              "      <td>298</td>\n",
              "      <td>0</td>\n",
              "      <td>0</td>\n",
              "      <td>0</td>\n",
              "      <td>0</td>\n",
              "      <td>0</td>\n",
              "      <td>NaN</td>\n",
              "      <td>NaN</td>\n",
              "      <td>NaN</td>\n",
              "      <td>0</td>\n",
              "      <td>5</td>\n",
              "      <td>2007</td>\n",
              "      <td>WD</td>\n",
              "      <td>Normal</td>\n",
              "      <td>181500</td>\n",
              "    </tr>\n",
              "    <tr>\n",
              "      <th>2</th>\n",
              "      <td>3</td>\n",
              "      <td>60_cat</td>\n",
              "      <td>RL</td>\n",
              "      <td>68.0</td>\n",
              "      <td>11250</td>\n",
              "      <td>Pave</td>\n",
              "      <td>NaN</td>\n",
              "      <td>IR1</td>\n",
              "      <td>Lvl</td>\n",
              "      <td>AllPub</td>\n",
              "      <td>Inside</td>\n",
              "      <td>Gtl</td>\n",
              "      <td>CollgCr</td>\n",
              "      <td>Norm</td>\n",
              "      <td>Norm</td>\n",
              "      <td>1Fam</td>\n",
              "      <td>2Story</td>\n",
              "      <td>7</td>\n",
              "      <td>5</td>\n",
              "      <td>2001</td>\n",
              "      <td>2002</td>\n",
              "      <td>Gable</td>\n",
              "      <td>CompShg</td>\n",
              "      <td>VinylSd</td>\n",
              "      <td>VinylSd</td>\n",
              "      <td>BrkFace</td>\n",
              "      <td>162.0</td>\n",
              "      <td>Gd</td>\n",
              "      <td>TA</td>\n",
              "      <td>PConc</td>\n",
              "      <td>Gd</td>\n",
              "      <td>TA</td>\n",
              "      <td>Mn</td>\n",
              "      <td>GLQ</td>\n",
              "      <td>486</td>\n",
              "      <td>Unf</td>\n",
              "      <td>0</td>\n",
              "      <td>434</td>\n",
              "      <td>920</td>\n",
              "      <td>GasA</td>\n",
              "      <td>...</td>\n",
              "      <td>Y</td>\n",
              "      <td>SBrkr</td>\n",
              "      <td>920</td>\n",
              "      <td>866</td>\n",
              "      <td>0</td>\n",
              "      <td>1786</td>\n",
              "      <td>1</td>\n",
              "      <td>0</td>\n",
              "      <td>2</td>\n",
              "      <td>1</td>\n",
              "      <td>3</td>\n",
              "      <td>1</td>\n",
              "      <td>Gd</td>\n",
              "      <td>6</td>\n",
              "      <td>Typ</td>\n",
              "      <td>1</td>\n",
              "      <td>TA</td>\n",
              "      <td>Attchd</td>\n",
              "      <td>2001.0</td>\n",
              "      <td>RFn</td>\n",
              "      <td>2</td>\n",
              "      <td>608</td>\n",
              "      <td>TA</td>\n",
              "      <td>TA</td>\n",
              "      <td>Y</td>\n",
              "      <td>0</td>\n",
              "      <td>42</td>\n",
              "      <td>0</td>\n",
              "      <td>0</td>\n",
              "      <td>0</td>\n",
              "      <td>0</td>\n",
              "      <td>NaN</td>\n",
              "      <td>NaN</td>\n",
              "      <td>NaN</td>\n",
              "      <td>0</td>\n",
              "      <td>9</td>\n",
              "      <td>2008</td>\n",
              "      <td>WD</td>\n",
              "      <td>Normal</td>\n",
              "      <td>223500</td>\n",
              "    </tr>\n",
              "    <tr>\n",
              "      <th>3</th>\n",
              "      <td>4</td>\n",
              "      <td>70_cat</td>\n",
              "      <td>RL</td>\n",
              "      <td>60.0</td>\n",
              "      <td>9550</td>\n",
              "      <td>Pave</td>\n",
              "      <td>NaN</td>\n",
              "      <td>IR1</td>\n",
              "      <td>Lvl</td>\n",
              "      <td>AllPub</td>\n",
              "      <td>Corner</td>\n",
              "      <td>Gtl</td>\n",
              "      <td>Crawfor</td>\n",
              "      <td>Norm</td>\n",
              "      <td>Norm</td>\n",
              "      <td>1Fam</td>\n",
              "      <td>2Story</td>\n",
              "      <td>7</td>\n",
              "      <td>5</td>\n",
              "      <td>1915</td>\n",
              "      <td>1970</td>\n",
              "      <td>Gable</td>\n",
              "      <td>CompShg</td>\n",
              "      <td>Wd Sdng</td>\n",
              "      <td>Wd Shng</td>\n",
              "      <td>None</td>\n",
              "      <td>0.0</td>\n",
              "      <td>TA</td>\n",
              "      <td>TA</td>\n",
              "      <td>BrkTil</td>\n",
              "      <td>TA</td>\n",
              "      <td>Gd</td>\n",
              "      <td>No</td>\n",
              "      <td>ALQ</td>\n",
              "      <td>216</td>\n",
              "      <td>Unf</td>\n",
              "      <td>0</td>\n",
              "      <td>540</td>\n",
              "      <td>756</td>\n",
              "      <td>GasA</td>\n",
              "      <td>...</td>\n",
              "      <td>Y</td>\n",
              "      <td>SBrkr</td>\n",
              "      <td>961</td>\n",
              "      <td>756</td>\n",
              "      <td>0</td>\n",
              "      <td>1717</td>\n",
              "      <td>1</td>\n",
              "      <td>0</td>\n",
              "      <td>1</td>\n",
              "      <td>0</td>\n",
              "      <td>3</td>\n",
              "      <td>1</td>\n",
              "      <td>Gd</td>\n",
              "      <td>7</td>\n",
              "      <td>Typ</td>\n",
              "      <td>1</td>\n",
              "      <td>Gd</td>\n",
              "      <td>Detchd</td>\n",
              "      <td>1998.0</td>\n",
              "      <td>Unf</td>\n",
              "      <td>3</td>\n",
              "      <td>642</td>\n",
              "      <td>TA</td>\n",
              "      <td>TA</td>\n",
              "      <td>Y</td>\n",
              "      <td>0</td>\n",
              "      <td>35</td>\n",
              "      <td>272</td>\n",
              "      <td>0</td>\n",
              "      <td>0</td>\n",
              "      <td>0</td>\n",
              "      <td>NaN</td>\n",
              "      <td>NaN</td>\n",
              "      <td>NaN</td>\n",
              "      <td>0</td>\n",
              "      <td>2</td>\n",
              "      <td>2006</td>\n",
              "      <td>WD</td>\n",
              "      <td>Abnorml</td>\n",
              "      <td>140000</td>\n",
              "    </tr>\n",
              "    <tr>\n",
              "      <th>4</th>\n",
              "      <td>5</td>\n",
              "      <td>60_cat</td>\n",
              "      <td>RL</td>\n",
              "      <td>84.0</td>\n",
              "      <td>14260</td>\n",
              "      <td>Pave</td>\n",
              "      <td>NaN</td>\n",
              "      <td>IR1</td>\n",
              "      <td>Lvl</td>\n",
              "      <td>AllPub</td>\n",
              "      <td>FR2</td>\n",
              "      <td>Gtl</td>\n",
              "      <td>NoRidge</td>\n",
              "      <td>Norm</td>\n",
              "      <td>Norm</td>\n",
              "      <td>1Fam</td>\n",
              "      <td>2Story</td>\n",
              "      <td>8</td>\n",
              "      <td>5</td>\n",
              "      <td>2000</td>\n",
              "      <td>2000</td>\n",
              "      <td>Gable</td>\n",
              "      <td>CompShg</td>\n",
              "      <td>VinylSd</td>\n",
              "      <td>VinylSd</td>\n",
              "      <td>BrkFace</td>\n",
              "      <td>350.0</td>\n",
              "      <td>Gd</td>\n",
              "      <td>TA</td>\n",
              "      <td>PConc</td>\n",
              "      <td>Gd</td>\n",
              "      <td>TA</td>\n",
              "      <td>Av</td>\n",
              "      <td>GLQ</td>\n",
              "      <td>655</td>\n",
              "      <td>Unf</td>\n",
              "      <td>0</td>\n",
              "      <td>490</td>\n",
              "      <td>1145</td>\n",
              "      <td>GasA</td>\n",
              "      <td>...</td>\n",
              "      <td>Y</td>\n",
              "      <td>SBrkr</td>\n",
              "      <td>1145</td>\n",
              "      <td>1053</td>\n",
              "      <td>0</td>\n",
              "      <td>2198</td>\n",
              "      <td>1</td>\n",
              "      <td>0</td>\n",
              "      <td>2</td>\n",
              "      <td>1</td>\n",
              "      <td>4</td>\n",
              "      <td>1</td>\n",
              "      <td>Gd</td>\n",
              "      <td>9</td>\n",
              "      <td>Typ</td>\n",
              "      <td>1</td>\n",
              "      <td>TA</td>\n",
              "      <td>Attchd</td>\n",
              "      <td>2000.0</td>\n",
              "      <td>RFn</td>\n",
              "      <td>3</td>\n",
              "      <td>836</td>\n",
              "      <td>TA</td>\n",
              "      <td>TA</td>\n",
              "      <td>Y</td>\n",
              "      <td>192</td>\n",
              "      <td>84</td>\n",
              "      <td>0</td>\n",
              "      <td>0</td>\n",
              "      <td>0</td>\n",
              "      <td>0</td>\n",
              "      <td>NaN</td>\n",
              "      <td>NaN</td>\n",
              "      <td>NaN</td>\n",
              "      <td>0</td>\n",
              "      <td>12</td>\n",
              "      <td>2008</td>\n",
              "      <td>WD</td>\n",
              "      <td>Normal</td>\n",
              "      <td>250000</td>\n",
              "    </tr>\n",
              "  </tbody>\n",
              "</table>\n",
              "<p>5 rows × 81 columns</p>\n",
              "</div>"
            ],
            "text/plain": [
              "   Id MSSubClass MSZoning  ...  SaleType  SaleCondition SalePrice\n",
              "0   1     60_cat       RL  ...        WD         Normal    208500\n",
              "1   2     20_cat       RL  ...        WD         Normal    181500\n",
              "2   3     60_cat       RL  ...        WD         Normal    223500\n",
              "3   4     70_cat       RL  ...        WD        Abnorml    140000\n",
              "4   5     60_cat       RL  ...        WD         Normal    250000\n",
              "\n",
              "[5 rows x 81 columns]"
            ]
          },
          "metadata": {
            "tags": []
          },
          "execution_count": 11
        }
      ]
    },
    {
      "cell_type": "code",
      "metadata": {
        "id": "H6doTvPczepB"
      },
      "source": [
        "data_train = data.copy()\r\n",
        "id = data_train['Id']\r\n",
        "y = data_train['SalePrice']\r\n",
        "#Dropando id, alvo e features com mais de 90% de miss ou mais de 90% de zeros (desde que a feature não seja do tipo binário):\r\n",
        "data_train = data_train.drop(['Id', 'SalePrice', 'PoolQC', 'MiscFeature', 'Alley', 'PoolArea', '3SsnPorch', 'LowQualFinSF', 'MiscVal', 'BsmtHalfBath', 'ScreenPorch'], axis=1)"
      ],
      "execution_count": 12,
      "outputs": []
    },
    {
      "cell_type": "markdown",
      "metadata": {
        "id": "n7gEUoYqg07L"
      },
      "source": [
        "# Montando os dataframes categóricos (alta e baixa cardinalidade) e numéricos"
      ]
    },
    {
      "cell_type": "markdown",
      "metadata": {
        "id": "a8HYQctzg7iq"
      },
      "source": [
        "## DF categórico de alta cardinalidade"
      ]
    },
    {
      "cell_type": "code",
      "metadata": {
        "colab": {
          "base_uri": "https://localhost:8080/",
          "height": 204
        },
        "id": "KwI3B1A1hIpW",
        "outputId": "73280f09-3292-4e61-ef8a-05d11df94f3c"
      },
      "source": [
        "unique_cat(data_train).head()"
      ],
      "execution_count": 13,
      "outputs": [
        {
          "output_type": "execute_result",
          "data": {
            "text/html": [
              "<div>\n",
              "<style scoped>\n",
              "    .dataframe tbody tr th:only-of-type {\n",
              "        vertical-align: middle;\n",
              "    }\n",
              "\n",
              "    .dataframe tbody tr th {\n",
              "        vertical-align: top;\n",
              "    }\n",
              "\n",
              "    .dataframe thead th {\n",
              "        text-align: right;\n",
              "    }\n",
              "</style>\n",
              "<table border=\"1\" class=\"dataframe\">\n",
              "  <thead>\n",
              "    <tr style=\"text-align: right;\">\n",
              "      <th></th>\n",
              "      <th>coluna_cat</th>\n",
              "      <th>quantidade de unique</th>\n",
              "    </tr>\n",
              "  </thead>\n",
              "  <tbody>\n",
              "    <tr>\n",
              "      <th>8</th>\n",
              "      <td>Neighborhood</td>\n",
              "      <td>25</td>\n",
              "    </tr>\n",
              "    <tr>\n",
              "      <th>16</th>\n",
              "      <td>Exterior2nd</td>\n",
              "      <td>16</td>\n",
              "    </tr>\n",
              "    <tr>\n",
              "      <th>0</th>\n",
              "      <td>MSSubClass</td>\n",
              "      <td>15</td>\n",
              "    </tr>\n",
              "    <tr>\n",
              "      <th>15</th>\n",
              "      <td>Exterior1st</td>\n",
              "      <td>15</td>\n",
              "    </tr>\n",
              "    <tr>\n",
              "      <th>9</th>\n",
              "      <td>Condition1</td>\n",
              "      <td>9</td>\n",
              "    </tr>\n",
              "  </tbody>\n",
              "</table>\n",
              "</div>"
            ],
            "text/plain": [
              "      coluna_cat  quantidade de unique\n",
              "8   Neighborhood                    25\n",
              "16   Exterior2nd                    16\n",
              "0     MSSubClass                    15\n",
              "15   Exterior1st                    15\n",
              "9     Condition1                     9"
            ]
          },
          "metadata": {
            "tags": []
          },
          "execution_count": 13
        }
      ]
    },
    {
      "cell_type": "code",
      "metadata": {
        "id": "osIBzDLKSCQ2"
      },
      "source": [
        "# As 3 primeiras linhas do df acima se referem a colunas categóricas com\r\n",
        "# mais de 10 domínios.\r\n",
        "# Vamos classificá-los como categóricos de alta cardinalidade. \r\n",
        "lista_categoricoAltaC = list(unique_cat(data_train).iloc[0:4, 0])\r\n",
        "df_categoricoAltaC = data_train[lista_categoricoAltaC]"
      ],
      "execution_count": 14,
      "outputs": []
    },
    {
      "cell_type": "code",
      "metadata": {
        "id": "cHBGMoxdUeO3"
      },
      "source": [
        "dominios_categorico_AltaC = {}\r\n",
        "for column in df_categoricoAltaC.columns:\r\n",
        "    dominios_categorico_AltaC[column] = list(df_categoricoAltaC[column].unique())"
      ],
      "execution_count": 15,
      "outputs": []
    },
    {
      "cell_type": "markdown",
      "metadata": {
        "id": "rbSNIER8hMgO"
      },
      "source": [
        "## DF categórico de baixa cardinalidade"
      ]
    },
    {
      "cell_type": "code",
      "metadata": {
        "id": "YWgf_7fRSvVK"
      },
      "source": [
        "#Os demais serão categóricos de baixa cardinalidade\r\n",
        "lista_categoricoBaixaC = list(unique_cat(data_train).iloc[4:, 0])\r\n",
        "df_categoricoBaixaC = data_train[lista_categoricoBaixaC]"
      ],
      "execution_count": 16,
      "outputs": []
    },
    {
      "cell_type": "code",
      "metadata": {
        "id": "NbLcVX3HUe3s"
      },
      "source": [
        "dominios_categorico_BaixaC = {}\r\n",
        "for column in df_categoricoBaixaC.columns:\r\n",
        "    dominios_categorico_BaixaC[column] = list(df_categoricoBaixaC[column].unique())"
      ],
      "execution_count": 17,
      "outputs": []
    },
    {
      "cell_type": "markdown",
      "metadata": {
        "id": "cV2aBKrWhRU_"
      },
      "source": [
        "## DF numérico"
      ]
    },
    {
      "cell_type": "code",
      "metadata": {
        "id": "UyD34svkS6_y",
        "colab": {
          "base_uri": "https://localhost:8080/",
          "height": 439
        },
        "outputId": "895d0ab2-6699-4cf4-9b34-fb22b31f46cf"
      },
      "source": [
        "lista_numerico = []\r\n",
        "for column in data_train.columns:\r\n",
        "        if data_train[column].dtype == 'int64' or data_train[column].dtype == 'float64':\r\n",
        "            lista_numerico.append(column)\r\n",
        "\r\n",
        "df_numerico = data_train[lista_numerico]\r\n",
        "df_numerico"
      ],
      "execution_count": 18,
      "outputs": [
        {
          "output_type": "execute_result",
          "data": {
            "text/html": [
              "<div>\n",
              "<style scoped>\n",
              "    .dataframe tbody tr th:only-of-type {\n",
              "        vertical-align: middle;\n",
              "    }\n",
              "\n",
              "    .dataframe tbody tr th {\n",
              "        vertical-align: top;\n",
              "    }\n",
              "\n",
              "    .dataframe thead th {\n",
              "        text-align: right;\n",
              "    }\n",
              "</style>\n",
              "<table border=\"1\" class=\"dataframe\">\n",
              "  <thead>\n",
              "    <tr style=\"text-align: right;\">\n",
              "      <th></th>\n",
              "      <th>LotFrontage</th>\n",
              "      <th>LotArea</th>\n",
              "      <th>OverallQual</th>\n",
              "      <th>OverallCond</th>\n",
              "      <th>YearBuilt</th>\n",
              "      <th>YearRemodAdd</th>\n",
              "      <th>MasVnrArea</th>\n",
              "      <th>BsmtFinSF1</th>\n",
              "      <th>BsmtFinSF2</th>\n",
              "      <th>BsmtUnfSF</th>\n",
              "      <th>TotalBsmtSF</th>\n",
              "      <th>1stFlrSF</th>\n",
              "      <th>2ndFlrSF</th>\n",
              "      <th>GrLivArea</th>\n",
              "      <th>BsmtFullBath</th>\n",
              "      <th>FullBath</th>\n",
              "      <th>HalfBath</th>\n",
              "      <th>BedroomAbvGr</th>\n",
              "      <th>KitchenAbvGr</th>\n",
              "      <th>TotRmsAbvGrd</th>\n",
              "      <th>Fireplaces</th>\n",
              "      <th>GarageYrBlt</th>\n",
              "      <th>GarageCars</th>\n",
              "      <th>GarageArea</th>\n",
              "      <th>WoodDeckSF</th>\n",
              "      <th>OpenPorchSF</th>\n",
              "      <th>EnclosedPorch</th>\n",
              "      <th>MoSold</th>\n",
              "      <th>YrSold</th>\n",
              "    </tr>\n",
              "  </thead>\n",
              "  <tbody>\n",
              "    <tr>\n",
              "      <th>0</th>\n",
              "      <td>65.0</td>\n",
              "      <td>8450</td>\n",
              "      <td>7</td>\n",
              "      <td>5</td>\n",
              "      <td>2003</td>\n",
              "      <td>2003</td>\n",
              "      <td>196.0</td>\n",
              "      <td>706</td>\n",
              "      <td>0</td>\n",
              "      <td>150</td>\n",
              "      <td>856</td>\n",
              "      <td>856</td>\n",
              "      <td>854</td>\n",
              "      <td>1710</td>\n",
              "      <td>1</td>\n",
              "      <td>2</td>\n",
              "      <td>1</td>\n",
              "      <td>3</td>\n",
              "      <td>1</td>\n",
              "      <td>8</td>\n",
              "      <td>0</td>\n",
              "      <td>2003.0</td>\n",
              "      <td>2</td>\n",
              "      <td>548</td>\n",
              "      <td>0</td>\n",
              "      <td>61</td>\n",
              "      <td>0</td>\n",
              "      <td>2</td>\n",
              "      <td>2008</td>\n",
              "    </tr>\n",
              "    <tr>\n",
              "      <th>1</th>\n",
              "      <td>80.0</td>\n",
              "      <td>9600</td>\n",
              "      <td>6</td>\n",
              "      <td>8</td>\n",
              "      <td>1976</td>\n",
              "      <td>1976</td>\n",
              "      <td>0.0</td>\n",
              "      <td>978</td>\n",
              "      <td>0</td>\n",
              "      <td>284</td>\n",
              "      <td>1262</td>\n",
              "      <td>1262</td>\n",
              "      <td>0</td>\n",
              "      <td>1262</td>\n",
              "      <td>0</td>\n",
              "      <td>2</td>\n",
              "      <td>0</td>\n",
              "      <td>3</td>\n",
              "      <td>1</td>\n",
              "      <td>6</td>\n",
              "      <td>1</td>\n",
              "      <td>1976.0</td>\n",
              "      <td>2</td>\n",
              "      <td>460</td>\n",
              "      <td>298</td>\n",
              "      <td>0</td>\n",
              "      <td>0</td>\n",
              "      <td>5</td>\n",
              "      <td>2007</td>\n",
              "    </tr>\n",
              "    <tr>\n",
              "      <th>2</th>\n",
              "      <td>68.0</td>\n",
              "      <td>11250</td>\n",
              "      <td>7</td>\n",
              "      <td>5</td>\n",
              "      <td>2001</td>\n",
              "      <td>2002</td>\n",
              "      <td>162.0</td>\n",
              "      <td>486</td>\n",
              "      <td>0</td>\n",
              "      <td>434</td>\n",
              "      <td>920</td>\n",
              "      <td>920</td>\n",
              "      <td>866</td>\n",
              "      <td>1786</td>\n",
              "      <td>1</td>\n",
              "      <td>2</td>\n",
              "      <td>1</td>\n",
              "      <td>3</td>\n",
              "      <td>1</td>\n",
              "      <td>6</td>\n",
              "      <td>1</td>\n",
              "      <td>2001.0</td>\n",
              "      <td>2</td>\n",
              "      <td>608</td>\n",
              "      <td>0</td>\n",
              "      <td>42</td>\n",
              "      <td>0</td>\n",
              "      <td>9</td>\n",
              "      <td>2008</td>\n",
              "    </tr>\n",
              "    <tr>\n",
              "      <th>3</th>\n",
              "      <td>60.0</td>\n",
              "      <td>9550</td>\n",
              "      <td>7</td>\n",
              "      <td>5</td>\n",
              "      <td>1915</td>\n",
              "      <td>1970</td>\n",
              "      <td>0.0</td>\n",
              "      <td>216</td>\n",
              "      <td>0</td>\n",
              "      <td>540</td>\n",
              "      <td>756</td>\n",
              "      <td>961</td>\n",
              "      <td>756</td>\n",
              "      <td>1717</td>\n",
              "      <td>1</td>\n",
              "      <td>1</td>\n",
              "      <td>0</td>\n",
              "      <td>3</td>\n",
              "      <td>1</td>\n",
              "      <td>7</td>\n",
              "      <td>1</td>\n",
              "      <td>1998.0</td>\n",
              "      <td>3</td>\n",
              "      <td>642</td>\n",
              "      <td>0</td>\n",
              "      <td>35</td>\n",
              "      <td>272</td>\n",
              "      <td>2</td>\n",
              "      <td>2006</td>\n",
              "    </tr>\n",
              "    <tr>\n",
              "      <th>4</th>\n",
              "      <td>84.0</td>\n",
              "      <td>14260</td>\n",
              "      <td>8</td>\n",
              "      <td>5</td>\n",
              "      <td>2000</td>\n",
              "      <td>2000</td>\n",
              "      <td>350.0</td>\n",
              "      <td>655</td>\n",
              "      <td>0</td>\n",
              "      <td>490</td>\n",
              "      <td>1145</td>\n",
              "      <td>1145</td>\n",
              "      <td>1053</td>\n",
              "      <td>2198</td>\n",
              "      <td>1</td>\n",
              "      <td>2</td>\n",
              "      <td>1</td>\n",
              "      <td>4</td>\n",
              "      <td>1</td>\n",
              "      <td>9</td>\n",
              "      <td>1</td>\n",
              "      <td>2000.0</td>\n",
              "      <td>3</td>\n",
              "      <td>836</td>\n",
              "      <td>192</td>\n",
              "      <td>84</td>\n",
              "      <td>0</td>\n",
              "      <td>12</td>\n",
              "      <td>2008</td>\n",
              "    </tr>\n",
              "    <tr>\n",
              "      <th>...</th>\n",
              "      <td>...</td>\n",
              "      <td>...</td>\n",
              "      <td>...</td>\n",
              "      <td>...</td>\n",
              "      <td>...</td>\n",
              "      <td>...</td>\n",
              "      <td>...</td>\n",
              "      <td>...</td>\n",
              "      <td>...</td>\n",
              "      <td>...</td>\n",
              "      <td>...</td>\n",
              "      <td>...</td>\n",
              "      <td>...</td>\n",
              "      <td>...</td>\n",
              "      <td>...</td>\n",
              "      <td>...</td>\n",
              "      <td>...</td>\n",
              "      <td>...</td>\n",
              "      <td>...</td>\n",
              "      <td>...</td>\n",
              "      <td>...</td>\n",
              "      <td>...</td>\n",
              "      <td>...</td>\n",
              "      <td>...</td>\n",
              "      <td>...</td>\n",
              "      <td>...</td>\n",
              "      <td>...</td>\n",
              "      <td>...</td>\n",
              "      <td>...</td>\n",
              "    </tr>\n",
              "    <tr>\n",
              "      <th>1455</th>\n",
              "      <td>62.0</td>\n",
              "      <td>7917</td>\n",
              "      <td>6</td>\n",
              "      <td>5</td>\n",
              "      <td>1999</td>\n",
              "      <td>2000</td>\n",
              "      <td>0.0</td>\n",
              "      <td>0</td>\n",
              "      <td>0</td>\n",
              "      <td>953</td>\n",
              "      <td>953</td>\n",
              "      <td>953</td>\n",
              "      <td>694</td>\n",
              "      <td>1647</td>\n",
              "      <td>0</td>\n",
              "      <td>2</td>\n",
              "      <td>1</td>\n",
              "      <td>3</td>\n",
              "      <td>1</td>\n",
              "      <td>7</td>\n",
              "      <td>1</td>\n",
              "      <td>1999.0</td>\n",
              "      <td>2</td>\n",
              "      <td>460</td>\n",
              "      <td>0</td>\n",
              "      <td>40</td>\n",
              "      <td>0</td>\n",
              "      <td>8</td>\n",
              "      <td>2007</td>\n",
              "    </tr>\n",
              "    <tr>\n",
              "      <th>1456</th>\n",
              "      <td>85.0</td>\n",
              "      <td>13175</td>\n",
              "      <td>6</td>\n",
              "      <td>6</td>\n",
              "      <td>1978</td>\n",
              "      <td>1988</td>\n",
              "      <td>119.0</td>\n",
              "      <td>790</td>\n",
              "      <td>163</td>\n",
              "      <td>589</td>\n",
              "      <td>1542</td>\n",
              "      <td>2073</td>\n",
              "      <td>0</td>\n",
              "      <td>2073</td>\n",
              "      <td>1</td>\n",
              "      <td>2</td>\n",
              "      <td>0</td>\n",
              "      <td>3</td>\n",
              "      <td>1</td>\n",
              "      <td>7</td>\n",
              "      <td>2</td>\n",
              "      <td>1978.0</td>\n",
              "      <td>2</td>\n",
              "      <td>500</td>\n",
              "      <td>349</td>\n",
              "      <td>0</td>\n",
              "      <td>0</td>\n",
              "      <td>2</td>\n",
              "      <td>2010</td>\n",
              "    </tr>\n",
              "    <tr>\n",
              "      <th>1457</th>\n",
              "      <td>66.0</td>\n",
              "      <td>9042</td>\n",
              "      <td>7</td>\n",
              "      <td>9</td>\n",
              "      <td>1941</td>\n",
              "      <td>2006</td>\n",
              "      <td>0.0</td>\n",
              "      <td>275</td>\n",
              "      <td>0</td>\n",
              "      <td>877</td>\n",
              "      <td>1152</td>\n",
              "      <td>1188</td>\n",
              "      <td>1152</td>\n",
              "      <td>2340</td>\n",
              "      <td>0</td>\n",
              "      <td>2</td>\n",
              "      <td>0</td>\n",
              "      <td>4</td>\n",
              "      <td>1</td>\n",
              "      <td>9</td>\n",
              "      <td>2</td>\n",
              "      <td>1941.0</td>\n",
              "      <td>1</td>\n",
              "      <td>252</td>\n",
              "      <td>0</td>\n",
              "      <td>60</td>\n",
              "      <td>0</td>\n",
              "      <td>5</td>\n",
              "      <td>2010</td>\n",
              "    </tr>\n",
              "    <tr>\n",
              "      <th>1458</th>\n",
              "      <td>68.0</td>\n",
              "      <td>9717</td>\n",
              "      <td>5</td>\n",
              "      <td>6</td>\n",
              "      <td>1950</td>\n",
              "      <td>1996</td>\n",
              "      <td>0.0</td>\n",
              "      <td>49</td>\n",
              "      <td>1029</td>\n",
              "      <td>0</td>\n",
              "      <td>1078</td>\n",
              "      <td>1078</td>\n",
              "      <td>0</td>\n",
              "      <td>1078</td>\n",
              "      <td>1</td>\n",
              "      <td>1</td>\n",
              "      <td>0</td>\n",
              "      <td>2</td>\n",
              "      <td>1</td>\n",
              "      <td>5</td>\n",
              "      <td>0</td>\n",
              "      <td>1950.0</td>\n",
              "      <td>1</td>\n",
              "      <td>240</td>\n",
              "      <td>366</td>\n",
              "      <td>0</td>\n",
              "      <td>112</td>\n",
              "      <td>4</td>\n",
              "      <td>2010</td>\n",
              "    </tr>\n",
              "    <tr>\n",
              "      <th>1459</th>\n",
              "      <td>75.0</td>\n",
              "      <td>9937</td>\n",
              "      <td>5</td>\n",
              "      <td>6</td>\n",
              "      <td>1965</td>\n",
              "      <td>1965</td>\n",
              "      <td>0.0</td>\n",
              "      <td>830</td>\n",
              "      <td>290</td>\n",
              "      <td>136</td>\n",
              "      <td>1256</td>\n",
              "      <td>1256</td>\n",
              "      <td>0</td>\n",
              "      <td>1256</td>\n",
              "      <td>1</td>\n",
              "      <td>1</td>\n",
              "      <td>1</td>\n",
              "      <td>3</td>\n",
              "      <td>1</td>\n",
              "      <td>6</td>\n",
              "      <td>0</td>\n",
              "      <td>1965.0</td>\n",
              "      <td>1</td>\n",
              "      <td>276</td>\n",
              "      <td>736</td>\n",
              "      <td>68</td>\n",
              "      <td>0</td>\n",
              "      <td>6</td>\n",
              "      <td>2008</td>\n",
              "    </tr>\n",
              "  </tbody>\n",
              "</table>\n",
              "<p>1460 rows × 29 columns</p>\n",
              "</div>"
            ],
            "text/plain": [
              "      LotFrontage  LotArea  OverallQual  ...  EnclosedPorch  MoSold  YrSold\n",
              "0            65.0     8450            7  ...              0       2    2008\n",
              "1            80.0     9600            6  ...              0       5    2007\n",
              "2            68.0    11250            7  ...              0       9    2008\n",
              "3            60.0     9550            7  ...            272       2    2006\n",
              "4            84.0    14260            8  ...              0      12    2008\n",
              "...           ...      ...          ...  ...            ...     ...     ...\n",
              "1455         62.0     7917            6  ...              0       8    2007\n",
              "1456         85.0    13175            6  ...              0       2    2010\n",
              "1457         66.0     9042            7  ...              0       5    2010\n",
              "1458         68.0     9717            5  ...            112       4    2010\n",
              "1459         75.0     9937            5  ...              0       6    2008\n",
              "\n",
              "[1460 rows x 29 columns]"
            ]
          },
          "metadata": {
            "tags": []
          },
          "execution_count": 18
        }
      ]
    },
    {
      "cell_type": "markdown",
      "metadata": {
        "id": "FoYetWyCaWy3"
      },
      "source": [
        "### Preenchendo valores miss no df numérico"
      ]
    },
    {
      "cell_type": "code",
      "metadata": {
        "id": "aOURsV0Xaa65"
      },
      "source": [
        "from sklearn.impute import SimpleImputer\r\n",
        "\r\n",
        "imp_median = SimpleImputer(missing_values=np.nan, strategy='median')\r\n",
        "imp_median.fit(df_numerico)\r\n",
        "df_numerico_tratado = pd.DataFrame(imp_median.transform(df_numerico), columns=df_numerico.columns)\r\n",
        "df_numerico_tratado.index = df_numerico.index"
      ],
      "execution_count": 19,
      "outputs": []
    },
    {
      "cell_type": "markdown",
      "metadata": {
        "id": "VWHybyiKXnhw"
      },
      "source": [
        "## Transformando as categóricas em numéricas"
      ]
    },
    {
      "cell_type": "markdown",
      "metadata": {
        "id": "ZTjY_IdpcDHE"
      },
      "source": [
        "### Categórico de Alta Cardinalidade"
      ]
    },
    {
      "cell_type": "markdown",
      "metadata": {
        "id": "EmD9nVr3cFmm"
      },
      "source": [
        "#### Redução de cardinalidade da primeira das quatro colunas: Neighborhood"
      ]
    },
    {
      "cell_type": "code",
      "metadata": {
        "id": "S0jf51g1bKg9"
      },
      "source": [
        "dict_dominio_Neighborhood = {'dominio_Neighborhood_top1':[], 'dominio_Neighborhood_top2':[], 'dominio_Neighborhood_top3':[], 'dominio_Neighborhood_top4':[], 'dominio_Neighborhood_top5':[]}\r\n",
        "i = 0\r\n",
        "for dict in dict_dominio_Neighborhood:\r\n",
        "    cinco = 0\r\n",
        "    while cinco<5 and i<len(df_categoricoAltaC['Neighborhood'].value_counts(sort=True, ascending=False)):\r\n",
        "        dict_dominio_Neighborhood[dict].append(df_categoricoAltaC['Neighborhood'].value_counts(sort=True, ascending=False).index[i])\r\n",
        "        cinco += 1\r\n",
        "        i +=1"
      ],
      "execution_count": 20,
      "outputs": []
    },
    {
      "cell_type": "code",
      "metadata": {
        "id": "aTykM_xwcaiy"
      },
      "source": [
        "for pos_elemento in range(len(df_categoricoAltaC['Neighborhood'])):\r\n",
        "    if df_categoricoAltaC['Neighborhood'][pos_elemento] in dict_dominio_Neighborhood['dominio_Neighborhood_top1']:\r\n",
        "        df_categoricoAltaC['Neighborhood'][pos_elemento] = 'Neighborhood_top1'\r\n",
        "    elif df_categoricoAltaC['Neighborhood'][pos_elemento] in dict_dominio_Neighborhood['dominio_Neighborhood_top2']:\r\n",
        "        df_categoricoAltaC['Neighborhood'][pos_elemento] = 'Neighborhood_top2'\r\n",
        "    elif df_categoricoAltaC['Neighborhood'][pos_elemento] in dict_dominio_Neighborhood['dominio_Neighborhood_top3']:\r\n",
        "        df_categoricoAltaC['Neighborhood'][pos_elemento] = 'Neighborhood_top3'\r\n",
        "    elif df_categoricoAltaC['Neighborhood'][pos_elemento] in dict_dominio_Neighborhood['dominio_Neighborhood_top4']:\r\n",
        "        df_categoricoAltaC['Neighborhood'][pos_elemento] = 'Neighborhood_top4'\r\n",
        "    elif df_categoricoAltaC['Neighborhood'][pos_elemento] in dict_dominio_Neighborhood['dominio_Neighborhood_top5']:\r\n",
        "        df_categoricoAltaC['Neighborhood'][pos_elemento] = 'Neighborhood_top5'\r\n",
        "    else:\r\n",
        "        df_categoricoAltaC['Neighborhood'][pos_elemento] = 'outros'"
      ],
      "execution_count": 21,
      "outputs": []
    },
    {
      "cell_type": "markdown",
      "metadata": {
        "id": "iX0wITVj8m_w"
      },
      "source": [
        "#### Redução de cardinalidade da segunda das quatro colunas: Exterior2nd"
      ]
    },
    {
      "cell_type": "code",
      "metadata": {
        "id": "7lCH76Gp82UL"
      },
      "source": [
        "dict_dominio_Exterior2nd = {'dominio_Exterior2nd_top1':[], 'dominio_Exterior2nd_top2':[], 'dominio_Exterior2nd_top3':[]}\r\n",
        "i = 0\r\n",
        "for dict in dict_dominio_Exterior2nd:\r\n",
        "    cinco = 0\r\n",
        "    while cinco<5 and i<len(df_categoricoAltaC['Exterior2nd'].value_counts(sort=True, ascending=False)):\r\n",
        "        dict_dominio_Exterior2nd[dict].append(df_categoricoAltaC['Exterior2nd'].value_counts(sort=True, ascending=False).index[i])\r\n",
        "        cinco += 1\r\n",
        "        i +=1"
      ],
      "execution_count": 22,
      "outputs": []
    },
    {
      "cell_type": "code",
      "metadata": {
        "id": "yPQZcjW_9ulT"
      },
      "source": [
        "for pos_elemento in range(len(df_categoricoAltaC['Exterior2nd'])):\r\n",
        "    if df_categoricoAltaC['Exterior2nd'][pos_elemento] in dict_dominio_Exterior2nd['dominio_Exterior2nd_top1']:\r\n",
        "        df_categoricoAltaC['Exterior2nd'][pos_elemento] = 'Exterior2nd_top1'\r\n",
        "    elif df_categoricoAltaC['Exterior2nd'][pos_elemento] in dict_dominio_Exterior2nd['dominio_Exterior2nd_top2']:\r\n",
        "        df_categoricoAltaC['Exterior2nd'][pos_elemento] = 'Exterior2nd_top2'\r\n",
        "    elif df_categoricoAltaC['Exterior2nd'][pos_elemento] in dict_dominio_Exterior2nd['dominio_Exterior2nd_top3']:\r\n",
        "        df_categoricoAltaC['Exterior2nd'][pos_elemento] = 'Exterior2nd_top3'\r\n",
        "    else:\r\n",
        "        df_categoricoAltaC['Exterior2nd'][pos_elemento] = 'outros'"
      ],
      "execution_count": 23,
      "outputs": []
    },
    {
      "cell_type": "markdown",
      "metadata": {
        "id": "Dy1_nRBA-WKx"
      },
      "source": [
        "#### Redução de cardinalidade da segunda das quatro colunas: MSSubClass"
      ]
    },
    {
      "cell_type": "code",
      "metadata": {
        "id": "qxnzhNsW-hNs"
      },
      "source": [
        "dict_dominio_MSSubClass = {'dominio_MSSubClass_top1':[], 'dominio_MSSubClass_top2':[], 'dominio_MSSubClass_top3':[]}\r\n",
        "i = 0\r\n",
        "for dict in dict_dominio_MSSubClass:\r\n",
        "    cinco = 0\r\n",
        "    while cinco<5 and i<len(df_categoricoAltaC['MSSubClass'].value_counts(sort=True, ascending=False)):\r\n",
        "        dict_dominio_MSSubClass[dict].append(df_categoricoAltaC['MSSubClass'].value_counts(sort=True, ascending=False).index[i])\r\n",
        "        cinco += 1\r\n",
        "        i +=1"
      ],
      "execution_count": 24,
      "outputs": []
    },
    {
      "cell_type": "code",
      "metadata": {
        "id": "qTbrdoNQ-pib"
      },
      "source": [
        "for pos_elemento in range(len(df_categoricoAltaC['MSSubClass'])):\r\n",
        "    if df_categoricoAltaC['MSSubClass'][pos_elemento] in dict_dominio_MSSubClass['dominio_MSSubClass_top1']:\r\n",
        "        df_categoricoAltaC['MSSubClass'][pos_elemento] = 'MSSubClass_top1'\r\n",
        "    elif df_categoricoAltaC['MSSubClass'][pos_elemento] in dict_dominio_MSSubClass['dominio_MSSubClass_top2']:\r\n",
        "        df_categoricoAltaC['MSSubClass'][pos_elemento] = 'MSSubClass_top2'\r\n",
        "    elif df_categoricoAltaC['MSSubClass'][pos_elemento] in dict_dominio_MSSubClass['dominio_MSSubClass_top3']:\r\n",
        "        df_categoricoAltaC['MSSubClass'][pos_elemento] = 'MSSubClass_top3'\r\n",
        "    else:\r\n",
        "        df_categoricoAltaC['MSSubClass'][pos_elemento] = 'outros'"
      ],
      "execution_count": 25,
      "outputs": []
    },
    {
      "cell_type": "markdown",
      "metadata": {
        "id": "xP5u1TrP_AZo"
      },
      "source": [
        "Redução de cardinalidade da segunda das quatro colunas: Exterior1st"
      ]
    },
    {
      "cell_type": "code",
      "metadata": {
        "id": "X_45fK-M-rNt"
      },
      "source": [
        "dict_dominio_Exterior1st = {'dominio_Exterior1st_top1':[], 'dominio_Exterior1st_top2':[], 'dominio_Exterior1st_top3':[]}\r\n",
        "i = 0\r\n",
        "for dict in dict_dominio_Exterior1st:\r\n",
        "    cinco = 0\r\n",
        "    while cinco<5 and i<len(df_categoricoAltaC['Exterior1st'].value_counts(sort=True, ascending=False)):\r\n",
        "        dict_dominio_Exterior1st[dict].append(df_categoricoAltaC['Exterior1st'].value_counts(sort=True, ascending=False).index[i])\r\n",
        "        cinco += 1\r\n",
        "        i +=1"
      ],
      "execution_count": 26,
      "outputs": []
    },
    {
      "cell_type": "code",
      "metadata": {
        "id": "_4N_V6sx_YsC"
      },
      "source": [
        "for pos_elemento in range(len(df_categoricoAltaC['Exterior1st'])):\r\n",
        "    if df_categoricoAltaC['Exterior1st'][pos_elemento] in dict_dominio_Exterior1st['dominio_Exterior1st_top1']:\r\n",
        "        df_categoricoAltaC['Exterior1st'][pos_elemento] = 'Exterior1st_top1'\r\n",
        "    elif df_categoricoAltaC['Exterior1st'][pos_elemento] in dict_dominio_Exterior1st['dominio_Exterior1st_top2']:\r\n",
        "        df_categoricoAltaC['Exterior1st'][pos_elemento] = 'Exterior1st_top2'\r\n",
        "    elif df_categoricoAltaC['Exterior1st'][pos_elemento] in dict_dominio_Exterior1st['dominio_Exterior1st_top3']:\r\n",
        "        df_categoricoAltaC['Exterior1st'][pos_elemento] = 'Exterior1st_top3'\r\n",
        "    else:\r\n",
        "        df_categoricoAltaC['Exterior1st'][pos_elemento] = 'outros'"
      ],
      "execution_count": 27,
      "outputs": []
    },
    {
      "cell_type": "markdown",
      "metadata": {
        "id": "z0mV9Fy3AuCE"
      },
      "source": [
        "## Merge entre as categóricas e Dummy"
      ]
    },
    {
      "cell_type": "code",
      "metadata": {
        "id": "wH1AKmsmBAyA"
      },
      "source": [
        "df_categorico_total = pd.merge(df_categoricoAltaC, df_categoricoBaixaC, how= 'left', left_index= True, right_index= True)\r\n",
        "df_categorico_dummy = pd.get_dummies(df_categorico_total, dummy_na = True, drop_first=True)"
      ],
      "execution_count": 28,
      "outputs": []
    },
    {
      "cell_type": "markdown",
      "metadata": {
        "id": "fGV2fwszbwrQ"
      },
      "source": [
        "## Juntando os df"
      ]
    },
    {
      "cell_type": "code",
      "metadata": {
        "id": "9SZWezfFbtF0"
      },
      "source": [
        "#df_categorico + df_numerico_tratado\r\n",
        "\r\n",
        "df_train = pd.merge(df_categorico_dummy, df_numerico_tratado, how= 'left', left_index= True, right_index= True)"
      ],
      "execution_count": 29,
      "outputs": []
    },
    {
      "cell_type": "markdown",
      "metadata": {
        "id": "AVkNQJMocOsr"
      },
      "source": [
        "## Colocando em escala"
      ]
    },
    {
      "cell_type": "code",
      "metadata": {
        "id": "ZbGK94ubcOBm"
      },
      "source": [
        "from sklearn.preprocessing import MinMaxScaler\r\n",
        "\r\n",
        "scaler = MinMaxScaler()\r\n",
        "scaler.fit(df_train)\r\n",
        "\r\n",
        "abt_train = pd.DataFrame(scaler.transform(df_train), columns = df_train.columns)\r\n",
        "abt_train.index = df_train.index"
      ],
      "execution_count": 30,
      "outputs": []
    },
    {
      "cell_type": "markdown",
      "metadata": {
        "id": "2_Sx8FRDcpvz"
      },
      "source": [
        "#Testando modelos"
      ]
    },
    {
      "cell_type": "code",
      "metadata": {
        "id": "lRzNXu7wdKvx"
      },
      "source": [
        "from sklearn.model_selection import train_test_split\r\n",
        "\r\n",
        "X_desenv, X_valid, y_desenv, y_valid = train_test_split(abt_train, y, train_size = 0.7, test_size = 0.3, random_state = 42)"
      ],
      "execution_count": 31,
      "outputs": []
    },
    {
      "cell_type": "code",
      "metadata": {
        "colab": {
          "base_uri": "https://localhost:8080/",
          "height": 328
        },
        "id": "9dkyK-Aighy7",
        "outputId": "a9766f1d-6f9f-40a6-e997-830bcc73bb7d"
      },
      "source": [
        "from sklearn.ensemble import RandomForestRegressor\r\n",
        "from sklearn.ensemble import GradientBoostingRegressor\r\n",
        "\r\n",
        "RF = RandomForestRegressor()\r\n",
        "GB = GradientBoostingRegressor()\r\n",
        "\r\n",
        "from sklearn.model_selection import GridSearchCV\r\n",
        "\r\n",
        "parametros = {'n_estimators':[80, 100, 120],\r\n",
        "              'max_depth':[4,5,6] }\r\n",
        "        \r\n",
        "\r\n",
        "gridRF = GridSearchCV(estimator = RF,        \r\n",
        "                      param_grid = parametros,  \r\n",
        "                      cv = 5)\r\n",
        "\r\n",
        "gridRF.fit(X_desenv,y_desenv)\r\n",
        "pd.DataFrame(gridRF.cv_results_)[['params','rank_test_score','mean_test_score']].sort_values('mean_test_score', ascending = False)"
      ],
      "execution_count": 32,
      "outputs": [
        {
          "output_type": "execute_result",
          "data": {
            "text/html": [
              "<div>\n",
              "<style scoped>\n",
              "    .dataframe tbody tr th:only-of-type {\n",
              "        vertical-align: middle;\n",
              "    }\n",
              "\n",
              "    .dataframe tbody tr th {\n",
              "        vertical-align: top;\n",
              "    }\n",
              "\n",
              "    .dataframe thead th {\n",
              "        text-align: right;\n",
              "    }\n",
              "</style>\n",
              "<table border=\"1\" class=\"dataframe\">\n",
              "  <thead>\n",
              "    <tr style=\"text-align: right;\">\n",
              "      <th></th>\n",
              "      <th>params</th>\n",
              "      <th>rank_test_score</th>\n",
              "      <th>mean_test_score</th>\n",
              "    </tr>\n",
              "  </thead>\n",
              "  <tbody>\n",
              "    <tr>\n",
              "      <th>8</th>\n",
              "      <td>{'max_depth': 6, 'n_estimators': 120}</td>\n",
              "      <td>1</td>\n",
              "      <td>0.800654</td>\n",
              "    </tr>\n",
              "    <tr>\n",
              "      <th>6</th>\n",
              "      <td>{'max_depth': 6, 'n_estimators': 80}</td>\n",
              "      <td>2</td>\n",
              "      <td>0.800405</td>\n",
              "    </tr>\n",
              "    <tr>\n",
              "      <th>7</th>\n",
              "      <td>{'max_depth': 6, 'n_estimators': 100}</td>\n",
              "      <td>3</td>\n",
              "      <td>0.799500</td>\n",
              "    </tr>\n",
              "    <tr>\n",
              "      <th>4</th>\n",
              "      <td>{'max_depth': 5, 'n_estimators': 100}</td>\n",
              "      <td>4</td>\n",
              "      <td>0.786298</td>\n",
              "    </tr>\n",
              "    <tr>\n",
              "      <th>3</th>\n",
              "      <td>{'max_depth': 5, 'n_estimators': 80}</td>\n",
              "      <td>5</td>\n",
              "      <td>0.785793</td>\n",
              "    </tr>\n",
              "    <tr>\n",
              "      <th>5</th>\n",
              "      <td>{'max_depth': 5, 'n_estimators': 120}</td>\n",
              "      <td>6</td>\n",
              "      <td>0.783858</td>\n",
              "    </tr>\n",
              "    <tr>\n",
              "      <th>2</th>\n",
              "      <td>{'max_depth': 4, 'n_estimators': 120}</td>\n",
              "      <td>7</td>\n",
              "      <td>0.763488</td>\n",
              "    </tr>\n",
              "    <tr>\n",
              "      <th>0</th>\n",
              "      <td>{'max_depth': 4, 'n_estimators': 80}</td>\n",
              "      <td>8</td>\n",
              "      <td>0.763255</td>\n",
              "    </tr>\n",
              "    <tr>\n",
              "      <th>1</th>\n",
              "      <td>{'max_depth': 4, 'n_estimators': 100}</td>\n",
              "      <td>9</td>\n",
              "      <td>0.760853</td>\n",
              "    </tr>\n",
              "  </tbody>\n",
              "</table>\n",
              "</div>"
            ],
            "text/plain": [
              "                                  params  rank_test_score  mean_test_score\n",
              "8  {'max_depth': 6, 'n_estimators': 120}                1         0.800654\n",
              "6   {'max_depth': 6, 'n_estimators': 80}                2         0.800405\n",
              "7  {'max_depth': 6, 'n_estimators': 100}                3         0.799500\n",
              "4  {'max_depth': 5, 'n_estimators': 100}                4         0.786298\n",
              "3   {'max_depth': 5, 'n_estimators': 80}                5         0.785793\n",
              "5  {'max_depth': 5, 'n_estimators': 120}                6         0.783858\n",
              "2  {'max_depth': 4, 'n_estimators': 120}                7         0.763488\n",
              "0   {'max_depth': 4, 'n_estimators': 80}                8         0.763255\n",
              "1  {'max_depth': 4, 'n_estimators': 100}                9         0.760853"
            ]
          },
          "metadata": {
            "tags": []
          },
          "execution_count": 32
        }
      ]
    },
    {
      "cell_type": "code",
      "metadata": {
        "id": "sNiqyGuX1aIi",
        "colab": {
          "base_uri": "https://localhost:8080/",
          "height": 328
        },
        "outputId": "dfc1a066-7168-4223-9a83-07351e762598"
      },
      "source": [
        "gridGB = GridSearchCV(estimator = GB,        \r\n",
        "                      param_grid = parametros,  \r\n",
        "                      cv = 5)\r\n",
        "\r\n",
        "gridGB.fit(X_desenv,y_desenv)\r\n",
        "pd.DataFrame(gridGB.cv_results_)[['params','rank_test_score','mean_test_score']].sort_values('mean_test_score', ascending = False)"
      ],
      "execution_count": 33,
      "outputs": [
        {
          "output_type": "execute_result",
          "data": {
            "text/html": [
              "<div>\n",
              "<style scoped>\n",
              "    .dataframe tbody tr th:only-of-type {\n",
              "        vertical-align: middle;\n",
              "    }\n",
              "\n",
              "    .dataframe tbody tr th {\n",
              "        vertical-align: top;\n",
              "    }\n",
              "\n",
              "    .dataframe thead th {\n",
              "        text-align: right;\n",
              "    }\n",
              "</style>\n",
              "<table border=\"1\" class=\"dataframe\">\n",
              "  <thead>\n",
              "    <tr style=\"text-align: right;\">\n",
              "      <th></th>\n",
              "      <th>params</th>\n",
              "      <th>rank_test_score</th>\n",
              "      <th>mean_test_score</th>\n",
              "    </tr>\n",
              "  </thead>\n",
              "  <tbody>\n",
              "    <tr>\n",
              "      <th>0</th>\n",
              "      <td>{'max_depth': 4, 'n_estimators': 80}</td>\n",
              "      <td>1</td>\n",
              "      <td>0.812352</td>\n",
              "    </tr>\n",
              "    <tr>\n",
              "      <th>2</th>\n",
              "      <td>{'max_depth': 4, 'n_estimators': 120}</td>\n",
              "      <td>2</td>\n",
              "      <td>0.811905</td>\n",
              "    </tr>\n",
              "    <tr>\n",
              "      <th>8</th>\n",
              "      <td>{'max_depth': 6, 'n_estimators': 120}</td>\n",
              "      <td>3</td>\n",
              "      <td>0.808025</td>\n",
              "    </tr>\n",
              "    <tr>\n",
              "      <th>1</th>\n",
              "      <td>{'max_depth': 4, 'n_estimators': 100}</td>\n",
              "      <td>4</td>\n",
              "      <td>0.801106</td>\n",
              "    </tr>\n",
              "    <tr>\n",
              "      <th>7</th>\n",
              "      <td>{'max_depth': 6, 'n_estimators': 100}</td>\n",
              "      <td>5</td>\n",
              "      <td>0.798669</td>\n",
              "    </tr>\n",
              "    <tr>\n",
              "      <th>4</th>\n",
              "      <td>{'max_depth': 5, 'n_estimators': 100}</td>\n",
              "      <td>6</td>\n",
              "      <td>0.793187</td>\n",
              "    </tr>\n",
              "    <tr>\n",
              "      <th>6</th>\n",
              "      <td>{'max_depth': 6, 'n_estimators': 80}</td>\n",
              "      <td>7</td>\n",
              "      <td>0.788427</td>\n",
              "    </tr>\n",
              "    <tr>\n",
              "      <th>5</th>\n",
              "      <td>{'max_depth': 5, 'n_estimators': 120}</td>\n",
              "      <td>8</td>\n",
              "      <td>0.785142</td>\n",
              "    </tr>\n",
              "    <tr>\n",
              "      <th>3</th>\n",
              "      <td>{'max_depth': 5, 'n_estimators': 80}</td>\n",
              "      <td>9</td>\n",
              "      <td>0.783609</td>\n",
              "    </tr>\n",
              "  </tbody>\n",
              "</table>\n",
              "</div>"
            ],
            "text/plain": [
              "                                  params  rank_test_score  mean_test_score\n",
              "0   {'max_depth': 4, 'n_estimators': 80}                1         0.812352\n",
              "2  {'max_depth': 4, 'n_estimators': 120}                2         0.811905\n",
              "8  {'max_depth': 6, 'n_estimators': 120}                3         0.808025\n",
              "1  {'max_depth': 4, 'n_estimators': 100}                4         0.801106\n",
              "7  {'max_depth': 6, 'n_estimators': 100}                5         0.798669\n",
              "4  {'max_depth': 5, 'n_estimators': 100}                6         0.793187\n",
              "6   {'max_depth': 6, 'n_estimators': 80}                7         0.788427\n",
              "5  {'max_depth': 5, 'n_estimators': 120}                8         0.785142\n",
              "3   {'max_depth': 5, 'n_estimators': 80}                9         0.783609"
            ]
          },
          "metadata": {
            "tags": []
          },
          "execution_count": 33
        }
      ]
    },
    {
      "cell_type": "code",
      "metadata": {
        "id": "W80px4BmqvKT",
        "colab": {
          "base_uri": "https://localhost:8080/"
        },
        "outputId": "089cc5ff-214c-4b9b-eaa8-6b7e9856b503"
      },
      "source": [
        "from sklearn.metrics import mean_squared_error\r\n",
        "\r\n",
        "print('RF')\r\n",
        "print('Erro desenv')\r\n",
        "erro_desenv_RF = mean_squared_error(y_desenv, gridRF.predict(X_desenv))\r\n",
        "print(np.sqrt(erro_desenv_RF))\r\n",
        "print('Erro valid')\r\n",
        "erro_valid_RF = mean_squared_error(y_valid, gridRF.predict(X_valid))\r\n",
        "print(np.sqrt(erro_valid_RF))\r\n",
        "\r\n",
        "\r\n",
        "print('\\nGB')\r\n",
        "print('Erro desenv')\r\n",
        "erro_desenv_GB = mean_squared_error(y_desenv, gridGB.predict(X_desenv))\r\n",
        "print(np.sqrt(erro_desenv_GB))\r\n",
        "print('Erro valid')\r\n",
        "erro_valid_GB = mean_squared_error(y_valid, gridGB.predict(X_valid))\r\n",
        "print(np.sqrt(erro_valid_GB))"
      ],
      "execution_count": 34,
      "outputs": [
        {
          "output_type": "stream",
          "text": [
            "RF\n",
            "Erro desenv\n",
            "19777.36241866055\n",
            "Erro valid\n",
            "28216.008419429232\n",
            "\n",
            "GB\n",
            "Erro desenv\n",
            "10633.784426260212\n",
            "Erro valid\n",
            "24495.384133078078\n"
          ],
          "name": "stdout"
        }
      ]
    },
    {
      "cell_type": "code",
      "metadata": {
        "colab": {
          "base_uri": "https://localhost:8080/",
          "height": 238
        },
        "id": "G87jzUGt7vtS",
        "outputId": "b70d71a2-0122-44e1-a419-b741153bed2e"
      },
      "source": [
        "print('Diferença simples (em módulo) entre previsão e real - dados de validação')\r\n",
        "data_df_diferenca = [ list(y_valid), list(gridGB.predict(X_valid)), list(abs(((gridGB.predict(X_valid)*100)/y_valid)-100)), list(abs(y_valid - gridGB.predict(X_valid))) ]\r\n",
        "data_df_diferenca = np.array(data_df_diferenca)\r\n",
        "data_df_diferenca = data_df_diferenca.T\r\n",
        "\r\n",
        "df_diferenca = pd.DataFrame(data_df_diferenca, columns=['valor_real', 'valor_predito', 'módulo da % da variação', 'módulo da diferença'])\r\n",
        "df_diferenca = df_diferenca.sort_values(by='módulo da % da variação', ascending=True)\r\n",
        "\r\n",
        "print('As cinco menores diferenças:')\r\n",
        "df_diferenca.head()"
      ],
      "execution_count": 35,
      "outputs": [
        {
          "output_type": "stream",
          "text": [
            "Diferença simples (em módulo) entre previsão e real - dados de validação\n",
            "As cinco menores diferenças:\n"
          ],
          "name": "stdout"
        },
        {
          "output_type": "execute_result",
          "data": {
            "text/html": [
              "<div>\n",
              "<style scoped>\n",
              "    .dataframe tbody tr th:only-of-type {\n",
              "        vertical-align: middle;\n",
              "    }\n",
              "\n",
              "    .dataframe tbody tr th {\n",
              "        vertical-align: top;\n",
              "    }\n",
              "\n",
              "    .dataframe thead th {\n",
              "        text-align: right;\n",
              "    }\n",
              "</style>\n",
              "<table border=\"1\" class=\"dataframe\">\n",
              "  <thead>\n",
              "    <tr style=\"text-align: right;\">\n",
              "      <th></th>\n",
              "      <th>valor_real</th>\n",
              "      <th>valor_predito</th>\n",
              "      <th>módulo da % da variação</th>\n",
              "      <th>módulo da diferença</th>\n",
              "    </tr>\n",
              "  </thead>\n",
              "  <tbody>\n",
              "    <tr>\n",
              "      <th>18</th>\n",
              "      <td>118400.0</td>\n",
              "      <td>118445.761503</td>\n",
              "      <td>0.038650</td>\n",
              "      <td>45.761503</td>\n",
              "    </tr>\n",
              "    <tr>\n",
              "      <th>15</th>\n",
              "      <td>134500.0</td>\n",
              "      <td>134418.168401</td>\n",
              "      <td>0.060841</td>\n",
              "      <td>81.831599</td>\n",
              "    </tr>\n",
              "    <tr>\n",
              "      <th>435</th>\n",
              "      <td>205950.0</td>\n",
              "      <td>206082.079410</td>\n",
              "      <td>0.064132</td>\n",
              "      <td>132.079410</td>\n",
              "    </tr>\n",
              "    <tr>\n",
              "      <th>371</th>\n",
              "      <td>172400.0</td>\n",
              "      <td>172652.020636</td>\n",
              "      <td>0.146184</td>\n",
              "      <td>252.020636</td>\n",
              "    </tr>\n",
              "    <tr>\n",
              "      <th>423</th>\n",
              "      <td>175000.0</td>\n",
              "      <td>174696.319163</td>\n",
              "      <td>0.173532</td>\n",
              "      <td>303.680837</td>\n",
              "    </tr>\n",
              "  </tbody>\n",
              "</table>\n",
              "</div>"
            ],
            "text/plain": [
              "     valor_real  valor_predito  módulo da % da variação  módulo da diferença\n",
              "18     118400.0  118445.761503                 0.038650            45.761503\n",
              "15     134500.0  134418.168401                 0.060841            81.831599\n",
              "435    205950.0  206082.079410                 0.064132           132.079410\n",
              "371    172400.0  172652.020636                 0.146184           252.020636\n",
              "423    175000.0  174696.319163                 0.173532           303.680837"
            ]
          },
          "metadata": {
            "tags": []
          },
          "execution_count": 35
        }
      ]
    },
    {
      "cell_type": "code",
      "metadata": {
        "colab": {
          "base_uri": "https://localhost:8080/",
          "height": 238
        },
        "id": "-RsJSz4VBZ4_",
        "outputId": "e6df4b84-ffe9-490a-aafb-296e3734b13b"
      },
      "source": [
        "print('\\nAs cinco maiores diferenças:')\r\n",
        "df_diferenca = df_diferenca.sort_values(by='módulo da % da variação', ascending=False)\r\n",
        "df_diferenca.head()"
      ],
      "execution_count": 36,
      "outputs": [
        {
          "output_type": "stream",
          "text": [
            "\n",
            "As cinco maiores diferenças:\n"
          ],
          "name": "stdout"
        },
        {
          "output_type": "execute_result",
          "data": {
            "text/html": [
              "<div>\n",
              "<style scoped>\n",
              "    .dataframe tbody tr th:only-of-type {\n",
              "        vertical-align: middle;\n",
              "    }\n",
              "\n",
              "    .dataframe tbody tr th {\n",
              "        vertical-align: top;\n",
              "    }\n",
              "\n",
              "    .dataframe thead th {\n",
              "        text-align: right;\n",
              "    }\n",
              "</style>\n",
              "<table border=\"1\" class=\"dataframe\">\n",
              "  <thead>\n",
              "    <tr style=\"text-align: right;\">\n",
              "      <th></th>\n",
              "      <th>valor_real</th>\n",
              "      <th>valor_predito</th>\n",
              "      <th>módulo da % da variação</th>\n",
              "      <th>módulo da diferença</th>\n",
              "    </tr>\n",
              "  </thead>\n",
              "  <tbody>\n",
              "    <tr>\n",
              "      <th>197</th>\n",
              "      <td>40000.0</td>\n",
              "      <td>86479.629094</td>\n",
              "      <td>116.199073</td>\n",
              "      <td>46479.629094</td>\n",
              "    </tr>\n",
              "    <tr>\n",
              "      <th>430</th>\n",
              "      <td>62383.0</td>\n",
              "      <td>122547.987152</td>\n",
              "      <td>96.444524</td>\n",
              "      <td>60164.987152</td>\n",
              "    </tr>\n",
              "    <tr>\n",
              "      <th>181</th>\n",
              "      <td>55993.0</td>\n",
              "      <td>102523.689616</td>\n",
              "      <td>83.100905</td>\n",
              "      <td>46530.689616</td>\n",
              "    </tr>\n",
              "    <tr>\n",
              "      <th>134</th>\n",
              "      <td>35311.0</td>\n",
              "      <td>62705.354476</td>\n",
              "      <td>77.580228</td>\n",
              "      <td>27394.354476</td>\n",
              "    </tr>\n",
              "    <tr>\n",
              "      <th>227</th>\n",
              "      <td>64500.0</td>\n",
              "      <td>106546.533021</td>\n",
              "      <td>65.188423</td>\n",
              "      <td>42046.533021</td>\n",
              "    </tr>\n",
              "  </tbody>\n",
              "</table>\n",
              "</div>"
            ],
            "text/plain": [
              "     valor_real  valor_predito  módulo da % da variação  módulo da diferença\n",
              "197     40000.0   86479.629094               116.199073         46479.629094\n",
              "430     62383.0  122547.987152                96.444524         60164.987152\n",
              "181     55993.0  102523.689616                83.100905         46530.689616\n",
              "134     35311.0   62705.354476                77.580228         27394.354476\n",
              "227     64500.0  106546.533021                65.188423         42046.533021"
            ]
          },
          "metadata": {
            "tags": []
          },
          "execution_count": 36
        }
      ]
    },
    {
      "cell_type": "markdown",
      "metadata": {
        "id": "-jgqS9ZTjhNj"
      },
      "source": [
        "#### Importância das variáveis"
      ]
    },
    {
      "cell_type": "code",
      "metadata": {
        "id": "Pk0YHzY9jgSq",
        "colab": {
          "base_uri": "https://localhost:8080/",
          "height": 204
        },
        "outputId": "dac87102-34ef-44cf-dd64-d06c1cc7c595"
      },
      "source": [
        "model = gridGB.best_estimator_\r\n",
        "\r\n",
        "var_e_imp = pd.DataFrame({'Variaveis':abt_train.columns.tolist(), 'Importancia':model.feature_importances_.tolist()}).sort_values('Importancia', ascending=False).reset_index(drop=True)\r\n",
        "\r\n",
        "var_e_imp.head()"
      ],
      "execution_count": 37,
      "outputs": [
        {
          "output_type": "execute_result",
          "data": {
            "text/html": [
              "<div>\n",
              "<style scoped>\n",
              "    .dataframe tbody tr th:only-of-type {\n",
              "        vertical-align: middle;\n",
              "    }\n",
              "\n",
              "    .dataframe tbody tr th {\n",
              "        vertical-align: top;\n",
              "    }\n",
              "\n",
              "    .dataframe thead th {\n",
              "        text-align: right;\n",
              "    }\n",
              "</style>\n",
              "<table border=\"1\" class=\"dataframe\">\n",
              "  <thead>\n",
              "    <tr style=\"text-align: right;\">\n",
              "      <th></th>\n",
              "      <th>Variaveis</th>\n",
              "      <th>Importancia</th>\n",
              "    </tr>\n",
              "  </thead>\n",
              "  <tbody>\n",
              "    <tr>\n",
              "      <th>0</th>\n",
              "      <td>OverallQual</td>\n",
              "      <td>0.524756</td>\n",
              "    </tr>\n",
              "    <tr>\n",
              "      <th>1</th>\n",
              "      <td>GrLivArea</td>\n",
              "      <td>0.131478</td>\n",
              "    </tr>\n",
              "    <tr>\n",
              "      <th>2</th>\n",
              "      <td>GarageCars</td>\n",
              "      <td>0.048181</td>\n",
              "    </tr>\n",
              "    <tr>\n",
              "      <th>3</th>\n",
              "      <td>2ndFlrSF</td>\n",
              "      <td>0.043430</td>\n",
              "    </tr>\n",
              "    <tr>\n",
              "      <th>4</th>\n",
              "      <td>TotalBsmtSF</td>\n",
              "      <td>0.034681</td>\n",
              "    </tr>\n",
              "  </tbody>\n",
              "</table>\n",
              "</div>"
            ],
            "text/plain": [
              "     Variaveis  Importancia\n",
              "0  OverallQual     0.524756\n",
              "1    GrLivArea     0.131478\n",
              "2   GarageCars     0.048181\n",
              "3     2ndFlrSF     0.043430\n",
              "4  TotalBsmtSF     0.034681"
            ]
          },
          "metadata": {
            "tags": []
          },
          "execution_count": 37
        }
      ]
    },
    {
      "cell_type": "markdown",
      "metadata": {
        "id": "TfmK3IHsiWt-"
      },
      "source": [
        "## Teste"
      ]
    },
    {
      "cell_type": "code",
      "metadata": {
        "id": "rJJ-sy3JiSyS"
      },
      "source": [
        "data2 = pd.read_csv('test.csv')"
      ],
      "execution_count": 38,
      "outputs": []
    },
    {
      "cell_type": "code",
      "metadata": {
        "id": "wJDzgy5foDra"
      },
      "source": [
        "data2['MSSubClass'] = [str(x)+'_cat' for x in data2['MSSubClass']]"
      ],
      "execution_count": 39,
      "outputs": []
    },
    {
      "cell_type": "code",
      "metadata": {
        "id": "sVf5Cn-G-3mt"
      },
      "source": [
        "data_test = data2.drop(['Id', 'PoolQC', 'MiscFeature', 'Alley', 'PoolArea', '3SsnPorch', 'LowQualFinSF', 'MiscVal', 'BsmtHalfBath', 'ScreenPorch'], axis=1)"
      ],
      "execution_count": 40,
      "outputs": []
    },
    {
      "cell_type": "code",
      "metadata": {
        "id": "TuW3q8L2_Lme"
      },
      "source": [
        "df_test_categoricoAltaC = data_test[lista_categoricoAltaC]\r\n",
        "df_test_categoricoBaixaC = data_test[lista_categoricoBaixaC]\r\n",
        "df_test_numerico = data_test[lista_numerico]"
      ],
      "execution_count": 41,
      "outputs": []
    },
    {
      "cell_type": "code",
      "metadata": {
        "id": "3ETCxOOZ_-ra"
      },
      "source": [
        "df_test_numerico_tratado = pd.DataFrame(imp_median.transform(df_test_numerico), columns=df_test_numerico.columns)\r\n",
        "df_test_numerico_tratado.index = df_test_numerico.index"
      ],
      "execution_count": 42,
      "outputs": []
    },
    {
      "cell_type": "code",
      "metadata": {
        "id": "cVPudFGhJSz2"
      },
      "source": [
        "for pos_elemento in range(len(df_test_categoricoAltaC['Neighborhood'])):\r\n",
        "    if df_test_categoricoAltaC['Neighborhood'][pos_elemento] in dict_dominio_Neighborhood['dominio_Neighborhood_top1']:\r\n",
        "        df_test_categoricoAltaC['Neighborhood'][pos_elemento] = 'Neighborhood_top1'\r\n",
        "    elif df_test_categoricoAltaC['Neighborhood'][pos_elemento] in dict_dominio_Neighborhood['dominio_Neighborhood_top2']:\r\n",
        "        df_test_categoricoAltaC['Neighborhood'][pos_elemento] = 'Neighborhood_top2'\r\n",
        "    elif df_test_categoricoAltaC['Neighborhood'][pos_elemento] in dict_dominio_Neighborhood['dominio_Neighborhood_top3']:\r\n",
        "        df_test_categoricoAltaC['Neighborhood'][pos_elemento] = 'Neighborhood_top3'\r\n",
        "    elif df_test_categoricoAltaC['Neighborhood'][pos_elemento] in dict_dominio_Neighborhood['dominio_Neighborhood_top4']:\r\n",
        "        df_test_categoricoAltaC['Neighborhood'][pos_elemento] = 'Neighborhood_top4'\r\n",
        "    elif df_test_categoricoAltaC['Neighborhood'][pos_elemento] in dict_dominio_Neighborhood['dominio_Neighborhood_top5']:\r\n",
        "        df_test_categoricoAltaC['Neighborhood'][pos_elemento] = 'Neighborhood_top5'\r\n",
        "    else:\r\n",
        "        df_test_categoricoAltaC['Neighborhood'][pos_elemento] = 'outros'"
      ],
      "execution_count": 43,
      "outputs": []
    },
    {
      "cell_type": "code",
      "metadata": {
        "id": "WNDKPZZNCMQw"
      },
      "source": [
        "for pos_elemento in range(len(df_test_categoricoAltaC['Exterior2nd'])):\r\n",
        "    if df_test_categoricoAltaC['Exterior2nd'][pos_elemento] in dict_dominio_Exterior2nd['dominio_Exterior2nd_top1']:\r\n",
        "        df_test_categoricoAltaC['Exterior2nd'][pos_elemento] = 'Exterior2nd_top1'\r\n",
        "    elif df_test_categoricoAltaC['Exterior2nd'][pos_elemento] in dict_dominio_Exterior2nd['dominio_Exterior2nd_top2']:\r\n",
        "        df_test_categoricoAltaC['Exterior2nd'][pos_elemento] = 'Exterior2nd_top2'\r\n",
        "    elif df_test_categoricoAltaC['Exterior2nd'][pos_elemento] in dict_dominio_Exterior2nd['dominio_Exterior2nd_top3']:\r\n",
        "        df_test_categoricoAltaC['Exterior2nd'][pos_elemento] = 'Exterior2nd_top3'\r\n",
        "    else:\r\n",
        "        df_test_categoricoAltaC['Exterior2nd'][pos_elemento] = 'outros'"
      ],
      "execution_count": 44,
      "outputs": []
    },
    {
      "cell_type": "code",
      "metadata": {
        "id": "tqgf1WemCMe5"
      },
      "source": [
        "for pos_elemento in range(len(df_test_categoricoAltaC['MSSubClass'])):\r\n",
        "    if df_test_categoricoAltaC['MSSubClass'][pos_elemento] in dict_dominio_MSSubClass['dominio_MSSubClass_top1']:\r\n",
        "        df_test_categoricoAltaC['MSSubClass'][pos_elemento] = 'MSSubClass_top1'\r\n",
        "    elif df_test_categoricoAltaC['MSSubClass'][pos_elemento] in dict_dominio_MSSubClass['dominio_MSSubClass_top2']:\r\n",
        "        df_test_categoricoAltaC['MSSubClass'][pos_elemento] = 'MSSubClass_top2'\r\n",
        "    elif df_test_categoricoAltaC['MSSubClass'][pos_elemento] in dict_dominio_MSSubClass['dominio_MSSubClass_top3']:\r\n",
        "        df_test_categoricoAltaC['MSSubClass'][pos_elemento] = 'MSSubClass_top3'\r\n",
        "    else:\r\n",
        "        df_test_categoricoAltaC['MSSubClass'][pos_elemento] = 'outros'"
      ],
      "execution_count": 45,
      "outputs": []
    },
    {
      "cell_type": "code",
      "metadata": {
        "id": "a-cLNMDmCMrB"
      },
      "source": [
        "for pos_elemento in range(len(df_test_categoricoAltaC['Exterior1st'])):\r\n",
        "    if df_test_categoricoAltaC['Exterior1st'][pos_elemento] in dict_dominio_Exterior1st['dominio_Exterior1st_top1']:\r\n",
        "        df_test_categoricoAltaC['Exterior1st'][pos_elemento] = 'Exterior1st_top1'\r\n",
        "    elif df_test_categoricoAltaC['Exterior1st'][pos_elemento] in dict_dominio_Exterior1st['dominio_Exterior1st_top2']:\r\n",
        "        df_test_categoricoAltaC['Exterior1st'][pos_elemento] = 'Exterior1st_top2'\r\n",
        "    elif df_test_categoricoAltaC['Exterior1st'][pos_elemento] in dict_dominio_Exterior1st['dominio_Exterior1st_top3']:\r\n",
        "        df_test_categoricoAltaC['Exterior1st'][pos_elemento] = 'Exterior1st_top3'\r\n",
        "    else:\r\n",
        "        df_test_categoricoAltaC['Exterior1st'][pos_elemento] = 'outros'"
      ],
      "execution_count": 46,
      "outputs": []
    },
    {
      "cell_type": "code",
      "metadata": {
        "id": "uoDRCs82CM0U"
      },
      "source": [
        "df_test_categorico_total = pd.merge(df_test_categoricoAltaC, df_test_categoricoBaixaC, how= 'left', left_index= True, right_index= True)\r\n",
        "df_test_categorico_dummy = pd.get_dummies(df_test_categorico_total, dummy_na = True, drop_first=True)"
      ],
      "execution_count": 47,
      "outputs": []
    },
    {
      "cell_type": "code",
      "metadata": {
        "id": "72H0fvxkF0c6"
      },
      "source": [
        "#df_categorico + df_numerico_tratado\r\n",
        "\r\n",
        "df_test = pd.merge(df_test_categorico_dummy, df_test_numerico_tratado, how= 'left', left_index= True, right_index= True)"
      ],
      "execution_count": 48,
      "outputs": []
    },
    {
      "cell_type": "code",
      "metadata": {
        "id": "aKuW4ERQJq8P"
      },
      "source": [
        "scaler2 = MinMaxScaler()\r\n",
        "scaler2.fit(df_test)\r\n",
        "\r\n",
        "abt_test = pd.DataFrame(scaler2.transform(df_test), columns = df_test.columns)\r\n",
        "abt_test.index = df_test.index"
      ],
      "execution_count": 49,
      "outputs": []
    },
    {
      "cell_type": "code",
      "metadata": {
        "id": "6j7Yo6ARqjnY"
      },
      "source": [
        "#criando listas para comparar os df train e test\r\n",
        "lista_colunas_train = abt_train.columns.to_list()\r\n",
        "lista_colunas_test = abt_test.columns.to_list()"
      ],
      "execution_count": 50,
      "outputs": []
    },
    {
      "cell_type": "code",
      "metadata": {
        "id": "5E_Ao3ZoqGA_",
        "colab": {
          "base_uri": "https://localhost:8080/"
        },
        "outputId": "c0100a3b-69e8-4984-c272-4bb41a8bed2e"
      },
      "source": [
        "#comparando (vendo o que está no train e não está no test)\r\n",
        "Z = set(lista_colunas_train) - set(lista_colunas_test)\r\n",
        "Z"
      ],
      "execution_count": 51,
      "outputs": [
        {
          "output_type": "execute_result",
          "data": {
            "text/plain": [
              "{'Condition2_RRAe',\n",
              " 'Condition2_RRAn',\n",
              " 'Condition2_RRNn',\n",
              " 'Electrical_Mix',\n",
              " 'GarageQual_Fa',\n",
              " 'Heating_GasA',\n",
              " 'Heating_OthW',\n",
              " 'HouseStyle_2.5Fin',\n",
              " 'RoofMatl_CompShg',\n",
              " 'RoofMatl_Membran',\n",
              " 'RoofMatl_Metal',\n",
              " 'RoofMatl_Roll',\n",
              " 'Utilities_NoSeWa'}"
            ]
          },
          "metadata": {
            "tags": []
          },
          "execution_count": 51
        }
      ]
    },
    {
      "cell_type": "code",
      "metadata": {
        "id": "KDRblF_uqySP"
      },
      "source": [
        "for col in Z:\r\n",
        "  abt_test[col] = 0"
      ],
      "execution_count": 52,
      "outputs": []
    },
    {
      "cell_type": "code",
      "metadata": {
        "id": "7i3QJuhMq1ZK"
      },
      "source": [
        "#atualizando\r\n",
        "lista_colunas_train = abt_train.columns.to_list()\r\n",
        "lista_colunas_test = abt_test.columns.to_list()"
      ],
      "execution_count": 53,
      "outputs": []
    },
    {
      "cell_type": "code",
      "metadata": {
        "id": "Dct1COuYq2cS",
        "colab": {
          "base_uri": "https://localhost:8080/"
        },
        "outputId": "f0ad4707-afe3-4a1d-954c-c41ccaf2fbec"
      },
      "source": [
        "#comparando (vendo o que está no test e não está no train)\r\n",
        "Z = set(lista_colunas_test) - set(lista_colunas_train)\r\n",
        "Z"
      ],
      "execution_count": 54,
      "outputs": [
        {
          "output_type": "execute_result",
          "data": {
            "text/plain": [
              "{'Exterior1st_outros', 'MSSubClass_outros'}"
            ]
          },
          "metadata": {
            "tags": []
          },
          "execution_count": 54
        }
      ]
    },
    {
      "cell_type": "code",
      "metadata": {
        "id": "DONG_WnMs720"
      },
      "source": [
        "#dropando do test o que está no test e não está no train\r\n",
        "abt_test = abt_test.drop(list(Z), axis = 1)"
      ],
      "execution_count": 55,
      "outputs": []
    },
    {
      "cell_type": "code",
      "metadata": {
        "id": "h0S1oXtdtY_a"
      },
      "source": [
        "#atualizando(2)\r\n",
        "lista_colunas_train = abt_train.columns.to_list()\r\n",
        "lista_colunas_test = abt_test.columns.to_list()"
      ],
      "execution_count": 56,
      "outputs": []
    },
    {
      "cell_type": "code",
      "metadata": {
        "id": "sXsMTFJ3q-DW",
        "colab": {
          "base_uri": "https://localhost:8080/"
        },
        "outputId": "4ec0a3e7-ee38-4cca-bb65-b91ca01ea092"
      },
      "source": [
        "#verificando se agora as colunas estão iguais\r\n",
        "set(lista_colunas_test) == set(lista_colunas_train)"
      ],
      "execution_count": 57,
      "outputs": [
        {
          "output_type": "execute_result",
          "data": {
            "text/plain": [
              "True"
            ]
          },
          "metadata": {
            "tags": []
          },
          "execution_count": 57
        }
      ]
    },
    {
      "cell_type": "code",
      "metadata": {
        "id": "7Mp5NKSrweDF",
        "colab": {
          "base_uri": "https://localhost:8080/"
        },
        "outputId": "1563e21c-2d60-4bb2-9fc7-ea8263afe005"
      },
      "source": [
        "abt_test.columns == abt_train.columns"
      ],
      "execution_count": 58,
      "outputs": [
        {
          "output_type": "execute_result",
          "data": {
            "text/plain": [
              "array([ True,  True,  True,  True,  True,  True,  True,  True,  True,\n",
              "        True,  True,  True,  True,  True,  True,  True,  True,  True,\n",
              "        True,  True,  True,  True,  True,  True,  True,  True,  True,\n",
              "        True,  True,  True,  True,  True,  True,  True,  True,  True,\n",
              "        True, False, False, False, False, False, False, False, False,\n",
              "       False, False, False, False, False, False, False, False, False,\n",
              "       False, False, False, False, False, False, False, False, False,\n",
              "       False, False, False, False, False, False, False, False, False,\n",
              "       False, False, False, False, False, False, False, False, False,\n",
              "       False, False, False, False, False, False, False, False, False,\n",
              "       False, False, False, False, False, False, False, False, False,\n",
              "       False, False, False, False, False, False, False, False, False,\n",
              "       False, False, False, False, False, False, False, False, False,\n",
              "       False, False, False, False, False, False, False, False, False,\n",
              "       False, False, False, False, False, False, False, False, False,\n",
              "       False, False, False, False, False, False, False, False, False,\n",
              "       False, False, False, False, False, False, False, False, False,\n",
              "       False, False, False, False, False, False, False, False, False,\n",
              "       False, False, False, False, False, False, False, False, False,\n",
              "       False, False, False, False, False, False, False, False, False,\n",
              "       False, False, False, False, False, False, False, False, False,\n",
              "       False, False, False, False, False, False, False, False, False,\n",
              "       False, False, False, False, False, False, False, False, False,\n",
              "       False, False, False, False, False, False, False, False, False,\n",
              "       False, False, False, False, False, False, False, False, False,\n",
              "       False, False, False, False, False, False])"
            ]
          },
          "metadata": {
            "tags": []
          },
          "execution_count": 58
        }
      ]
    },
    {
      "cell_type": "code",
      "metadata": {
        "id": "J-SSuobdNDyS"
      },
      "source": [
        "abt_test = abt_test[list(abt_train.columns)]"
      ],
      "execution_count": 59,
      "outputs": []
    },
    {
      "cell_type": "code",
      "metadata": {
        "id": "A2KHxBhYwuip",
        "colab": {
          "base_uri": "https://localhost:8080/"
        },
        "outputId": "cfc087ad-a6fd-4116-93f2-3ba32ec2969b"
      },
      "source": [
        "abt_test.columns == abt_train.columns"
      ],
      "execution_count": 60,
      "outputs": [
        {
          "output_type": "execute_result",
          "data": {
            "text/plain": [
              "array([ True,  True,  True,  True,  True,  True,  True,  True,  True,\n",
              "        True,  True,  True,  True,  True,  True,  True,  True,  True,\n",
              "        True,  True,  True,  True,  True,  True,  True,  True,  True,\n",
              "        True,  True,  True,  True,  True,  True,  True,  True,  True,\n",
              "        True,  True,  True,  True,  True,  True,  True,  True,  True,\n",
              "        True,  True,  True,  True,  True,  True,  True,  True,  True,\n",
              "        True,  True,  True,  True,  True,  True,  True,  True,  True,\n",
              "        True,  True,  True,  True,  True,  True,  True,  True,  True,\n",
              "        True,  True,  True,  True,  True,  True,  True,  True,  True,\n",
              "        True,  True,  True,  True,  True,  True,  True,  True,  True,\n",
              "        True,  True,  True,  True,  True,  True,  True,  True,  True,\n",
              "        True,  True,  True,  True,  True,  True,  True,  True,  True,\n",
              "        True,  True,  True,  True,  True,  True,  True,  True,  True,\n",
              "        True,  True,  True,  True,  True,  True,  True,  True,  True,\n",
              "        True,  True,  True,  True,  True,  True,  True,  True,  True,\n",
              "        True,  True,  True,  True,  True,  True,  True,  True,  True,\n",
              "        True,  True,  True,  True,  True,  True,  True,  True,  True,\n",
              "        True,  True,  True,  True,  True,  True,  True,  True,  True,\n",
              "        True,  True,  True,  True,  True,  True,  True,  True,  True,\n",
              "        True,  True,  True,  True,  True,  True,  True,  True,  True,\n",
              "        True,  True,  True,  True,  True,  True,  True,  True,  True,\n",
              "        True,  True,  True,  True,  True,  True,  True,  True,  True,\n",
              "        True,  True,  True,  True,  True,  True,  True,  True,  True,\n",
              "        True,  True,  True,  True,  True,  True,  True,  True,  True,\n",
              "        True,  True,  True,  True,  True,  True,  True,  True,  True,\n",
              "        True,  True,  True,  True,  True,  True])"
            ]
          },
          "metadata": {
            "tags": []
          },
          "execution_count": 60
        }
      ]
    },
    {
      "cell_type": "code",
      "metadata": {
        "id": "liNF8yflJtOr"
      },
      "source": [
        "pred_test = gridGB.predict(abt_test)\r\n",
        "\r\n",
        "output = pd.DataFrame({'Id': data2['Id'], 'SalePrice': pred_test})\r\n",
        "output.to_csv('Submission_HousePrices2.csv', index=False)"
      ],
      "execution_count": 61,
      "outputs": []
    }
  ]
}
