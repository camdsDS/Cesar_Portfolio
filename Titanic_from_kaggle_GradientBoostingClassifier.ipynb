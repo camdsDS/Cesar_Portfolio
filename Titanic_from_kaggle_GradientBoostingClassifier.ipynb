{
  "nbformat": 4,
  "nbformat_minor": 0,
  "metadata": {
    "colab": {
      "name": "Titanic from kaggle -GradientBoostingClassifier",
      "provenance": [],
      "collapsed_sections": [],
      "authorship_tag": "ABX9TyMmzkIh1JYBv1UtaH3UXUOZ",
      "include_colab_link": true
    },
    "kernelspec": {
      "name": "python3",
      "display_name": "Python 3"
    }
  },
  "cells": [
    {
      "cell_type": "markdown",
      "metadata": {
        "id": "view-in-github",
        "colab_type": "text"
      },
      "source": [
        "<a href=\"https://colab.research.google.com/github/camdsDS/Cesar_Portfolio/blob/main/Titanic_from_kaggle_GradientBoostingClassifier.ipynb\" target=\"_parent\"><img src=\"https://colab.research.google.com/assets/colab-badge.svg\" alt=\"Open In Colab\"/></a>"
      ]
    },
    {
      "cell_type": "code",
      "metadata": {
        "id": "Fom0E5RZ6b-w"
      },
      "source": [
        "#Modelo de classificação\r\n",
        "#Desafio Kaggle: https://www.kaggle.com/c/titanic\r\n",
        "import pandas as pd\r\n",
        "import numpy as np"
      ],
      "execution_count": 1,
      "outputs": []
    },
    {
      "cell_type": "markdown",
      "metadata": {
        "id": "iMH6Wshrtl0c"
      },
      "source": [
        "# Funções"
      ]
    },
    {
      "cell_type": "code",
      "metadata": {
        "id": "f7MlEg_ntPwf"
      },
      "source": [
        "#vamos definir uma função que dropa colunas com uma porcentagem de valores miss\r\n",
        "#superior a um valor P_miss arbitrário\r\n",
        "#P_miss é a menor % tolerada de miss\r\n",
        "def DropaMiss(df, P_miss=0):\r\n",
        "  df_miss2 = ((df.isna().sum()/len(df))*100).to_frame().rename(columns={0:'P_miss'}).reset_index().sort_values('P_miss', ascending = False)\r\n",
        "  df_miss = ((df.isna().sum()/len(df))*100).to_frame().rename(columns={0:'P_miss'}).reset_index()\r\n",
        "  df_miss = df_miss[df_miss['P_miss'] <= P_miss]\r\n",
        "  df = df[df_miss['index'].to_list()]\r\n",
        "  return df,df_miss2"
      ],
      "execution_count": 2,
      "outputs": []
    },
    {
      "cell_type": "markdown",
      "metadata": {
        "id": "ZVcrs2Q9tVn0"
      },
      "source": [
        "# Calculando a Bad Rate"
      ]
    },
    {
      "cell_type": "code",
      "metadata": {
        "colab": {
          "base_uri": "https://localhost:8080/",
          "height": 235
        },
        "id": "029FJMy6tTfn",
        "outputId": "1fd7ea18-0d28-4665-f187-ec6f82ed726b"
      },
      "source": [
        "data = pd.read_csv('train.csv', index_col = 'PassengerId')\r\n",
        "data.head()\r\n",
        "#Para mais informações sobre o tipo de dado apresentado em cada coluna, visite:\r\n",
        "#https://www.kaggle.com/c/titanic/data"
      ],
      "execution_count": 3,
      "outputs": [
        {
          "output_type": "execute_result",
          "data": {
            "text/html": [
              "<div>\n",
              "<style scoped>\n",
              "    .dataframe tbody tr th:only-of-type {\n",
              "        vertical-align: middle;\n",
              "    }\n",
              "\n",
              "    .dataframe tbody tr th {\n",
              "        vertical-align: top;\n",
              "    }\n",
              "\n",
              "    .dataframe thead th {\n",
              "        text-align: right;\n",
              "    }\n",
              "</style>\n",
              "<table border=\"1\" class=\"dataframe\">\n",
              "  <thead>\n",
              "    <tr style=\"text-align: right;\">\n",
              "      <th></th>\n",
              "      <th>Survived</th>\n",
              "      <th>Pclass</th>\n",
              "      <th>Name</th>\n",
              "      <th>Sex</th>\n",
              "      <th>Age</th>\n",
              "      <th>SibSp</th>\n",
              "      <th>Parch</th>\n",
              "      <th>Ticket</th>\n",
              "      <th>Fare</th>\n",
              "      <th>Cabin</th>\n",
              "      <th>Embarked</th>\n",
              "    </tr>\n",
              "    <tr>\n",
              "      <th>PassengerId</th>\n",
              "      <th></th>\n",
              "      <th></th>\n",
              "      <th></th>\n",
              "      <th></th>\n",
              "      <th></th>\n",
              "      <th></th>\n",
              "      <th></th>\n",
              "      <th></th>\n",
              "      <th></th>\n",
              "      <th></th>\n",
              "      <th></th>\n",
              "    </tr>\n",
              "  </thead>\n",
              "  <tbody>\n",
              "    <tr>\n",
              "      <th>1</th>\n",
              "      <td>0</td>\n",
              "      <td>3</td>\n",
              "      <td>Braund, Mr. Owen Harris</td>\n",
              "      <td>male</td>\n",
              "      <td>22.0</td>\n",
              "      <td>1</td>\n",
              "      <td>0</td>\n",
              "      <td>A/5 21171</td>\n",
              "      <td>7.2500</td>\n",
              "      <td>NaN</td>\n",
              "      <td>S</td>\n",
              "    </tr>\n",
              "    <tr>\n",
              "      <th>2</th>\n",
              "      <td>1</td>\n",
              "      <td>1</td>\n",
              "      <td>Cumings, Mrs. John Bradley (Florence Briggs Th...</td>\n",
              "      <td>female</td>\n",
              "      <td>38.0</td>\n",
              "      <td>1</td>\n",
              "      <td>0</td>\n",
              "      <td>PC 17599</td>\n",
              "      <td>71.2833</td>\n",
              "      <td>C85</td>\n",
              "      <td>C</td>\n",
              "    </tr>\n",
              "    <tr>\n",
              "      <th>3</th>\n",
              "      <td>1</td>\n",
              "      <td>3</td>\n",
              "      <td>Heikkinen, Miss. Laina</td>\n",
              "      <td>female</td>\n",
              "      <td>26.0</td>\n",
              "      <td>0</td>\n",
              "      <td>0</td>\n",
              "      <td>STON/O2. 3101282</td>\n",
              "      <td>7.9250</td>\n",
              "      <td>NaN</td>\n",
              "      <td>S</td>\n",
              "    </tr>\n",
              "    <tr>\n",
              "      <th>4</th>\n",
              "      <td>1</td>\n",
              "      <td>1</td>\n",
              "      <td>Futrelle, Mrs. Jacques Heath (Lily May Peel)</td>\n",
              "      <td>female</td>\n",
              "      <td>35.0</td>\n",
              "      <td>1</td>\n",
              "      <td>0</td>\n",
              "      <td>113803</td>\n",
              "      <td>53.1000</td>\n",
              "      <td>C123</td>\n",
              "      <td>S</td>\n",
              "    </tr>\n",
              "    <tr>\n",
              "      <th>5</th>\n",
              "      <td>0</td>\n",
              "      <td>3</td>\n",
              "      <td>Allen, Mr. William Henry</td>\n",
              "      <td>male</td>\n",
              "      <td>35.0</td>\n",
              "      <td>0</td>\n",
              "      <td>0</td>\n",
              "      <td>373450</td>\n",
              "      <td>8.0500</td>\n",
              "      <td>NaN</td>\n",
              "      <td>S</td>\n",
              "    </tr>\n",
              "  </tbody>\n",
              "</table>\n",
              "</div>"
            ],
            "text/plain": [
              "             Survived  Pclass  ... Cabin Embarked\n",
              "PassengerId                    ...               \n",
              "1                   0       3  ...   NaN        S\n",
              "2                   1       1  ...   C85        C\n",
              "3                   1       3  ...   NaN        S\n",
              "4                   1       1  ...  C123        S\n",
              "5                   0       3  ...   NaN        S\n",
              "\n",
              "[5 rows x 11 columns]"
            ]
          },
          "metadata": {
            "tags": []
          },
          "execution_count": 3
        }
      ]
    },
    {
      "cell_type": "code",
      "metadata": {
        "colab": {
          "base_uri": "https://localhost:8080/"
        },
        "id": "wnkjG88xtwuB",
        "outputId": "92e6b5f9-816b-4218-dffc-9f1b7112cd12"
      },
      "source": [
        "bad_rate = data['Survived'].value_counts()[1]/(data['Survived'].value_counts()[0]+data['Survived'].value_counts()[1])\r\n",
        "bad_rate"
      ],
      "execution_count": 4,
      "outputs": [
        {
          "output_type": "execute_result",
          "data": {
            "text/plain": [
              "0.3838383838383838"
            ]
          },
          "metadata": {
            "tags": []
          },
          "execution_count": 4
        }
      ]
    },
    {
      "cell_type": "markdown",
      "metadata": {
        "id": "cC-GiNblt1Xt"
      },
      "source": [
        "# Preparando modelo e df de treino "
      ]
    },
    {
      "cell_type": "code",
      "metadata": {
        "id": "N71FfmK67Nb6"
      },
      "source": [
        "Titanic_Data_Train = data.copy()"
      ],
      "execution_count": 5,
      "outputs": []
    },
    {
      "cell_type": "code",
      "metadata": {
        "id": "qu6AZsi3UEBo"
      },
      "source": [
        "#definindo o alvo\r\n",
        "y = Titanic_Data_Train['Survived']"
      ],
      "execution_count": 6,
      "outputs": []
    },
    {
      "cell_type": "code",
      "metadata": {
        "id": "iOXQ_ph5OkbP"
      },
      "source": [
        "#com exceção da coluna alvo (\"Survived\") e das colunas\r\n",
        "#\"Name\", \"Ticket\" e \"Cabin\", usaremos todas as colunas como features\r\n",
        "features = ['Pclass', 'Sex', 'Age', 'SibSp', 'Parch', 'Fare', 'Embarked']\r\n",
        "X_train = Titanic_Data_Train[features]"
      ],
      "execution_count": 7,
      "outputs": []
    },
    {
      "cell_type": "markdown",
      "metadata": {
        "id": "unx_KFjMukca"
      },
      "source": [
        "#### Dividindo o df treino em dois: dados numéricos e dados categóricos"
      ]
    },
    {
      "cell_type": "code",
      "metadata": {
        "id": "eCturzScotFr"
      },
      "source": [
        "X_train.dtypes\r\n",
        "#Temos apenas 3 tipos de dados: int64, float64 e object. Vamos, a partir deles,\r\n",
        "X_train_numericos = X_train.select_dtypes(exclude=['object'])\r\n",
        "X_train_categoricos = X_train.select_dtypes('object')"
      ],
      "execution_count": 8,
      "outputs": []
    },
    {
      "cell_type": "markdown",
      "metadata": {
        "id": "R4_dhEusu5_x"
      },
      "source": [
        "## Tratando os dados da base de treino"
      ]
    },
    {
      "cell_type": "markdown",
      "metadata": {
        "id": "2pq5TeQ7vEEK"
      },
      "source": [
        "#### Procurando por valores inconsistentes"
      ]
    },
    {
      "cell_type": "code",
      "metadata": {
        "colab": {
          "base_uri": "https://localhost:8080/"
        },
        "id": "juB8yos0Rio4",
        "outputId": "316bac72-58ae-4eda-c1de-b9cd008b4baf"
      },
      "source": [
        "X_train_numericos.Pclass.describe()\r\n",
        "X_train_numericos.Age.describe()\r\n",
        "X_train_numericos.SibSp.describe()\r\n",
        "X_train_numericos.Parch.describe()\r\n",
        "X_train_numericos.Fare.describe() #valores 0 para Fare, mas vamos manter\r\n",
        "X_train_categoricos.Sex.describe()\r\n",
        "X_train_categoricos.Embarked.describe()\r\n",
        "#todos os valores estão ok"
      ],
      "execution_count": 9,
      "outputs": [
        {
          "output_type": "execute_result",
          "data": {
            "text/plain": [
              "count     889\n",
              "unique      3\n",
              "top         S\n",
              "freq      644\n",
              "Name: Embarked, dtype: object"
            ]
          },
          "metadata": {
            "tags": []
          },
          "execution_count": 9
        }
      ]
    },
    {
      "cell_type": "markdown",
      "metadata": {
        "id": "I7OiuL0OvWJ6"
      },
      "source": [
        "## Tratando miss numerico do train"
      ]
    },
    {
      "cell_type": "code",
      "metadata": {
        "id": "iSu-fv76bl_v"
      },
      "source": [
        "#usando a função DropaMiss com o df X_train e gerando o relatorio\r\n",
        "#'relatorio_miss' vamos dropar, se existirem, colunas com\r\n",
        "#mais de 80% de valores miss\r\n",
        "X_train_numericos, relatorio_miss_N = DropaMiss(X_train_numericos, 80)\r\n",
        "X_train_categoricos, relatorio_miss_C = DropaMiss(X_train_categoricos, 80)"
      ],
      "execution_count": 10,
      "outputs": []
    },
    {
      "cell_type": "code",
      "metadata": {
        "colab": {
          "base_uri": "https://localhost:8080/",
          "height": 111
        },
        "id": "nWYvL7p9b9Gm",
        "outputId": "214f72cd-526a-41f6-b9fe-f869c555fc43"
      },
      "source": [
        "relatorio_miss_N\r\n",
        "relatorio_miss_C\r\n",
        "#Há apenas duas colunas (Age e Embarked) no df treino com valores miss e\r\n",
        "#nenhuma apresenta valor maior do que 80% de miss (logo, a função nada dropou)\r\n",
        "#Não parece que o valor miss, nesses casos, signifique algo. Por isso, no caso\r\n",
        "#da coluna numérica iremos substituir os dados miss pelo valor médio"
      ],
      "execution_count": 11,
      "outputs": [
        {
          "output_type": "execute_result",
          "data": {
            "text/html": [
              "<div>\n",
              "<style scoped>\n",
              "    .dataframe tbody tr th:only-of-type {\n",
              "        vertical-align: middle;\n",
              "    }\n",
              "\n",
              "    .dataframe tbody tr th {\n",
              "        vertical-align: top;\n",
              "    }\n",
              "\n",
              "    .dataframe thead th {\n",
              "        text-align: right;\n",
              "    }\n",
              "</style>\n",
              "<table border=\"1\" class=\"dataframe\">\n",
              "  <thead>\n",
              "    <tr style=\"text-align: right;\">\n",
              "      <th></th>\n",
              "      <th>index</th>\n",
              "      <th>P_miss</th>\n",
              "    </tr>\n",
              "  </thead>\n",
              "  <tbody>\n",
              "    <tr>\n",
              "      <th>1</th>\n",
              "      <td>Embarked</td>\n",
              "      <td>0.224467</td>\n",
              "    </tr>\n",
              "    <tr>\n",
              "      <th>0</th>\n",
              "      <td>Sex</td>\n",
              "      <td>0.000000</td>\n",
              "    </tr>\n",
              "  </tbody>\n",
              "</table>\n",
              "</div>"
            ],
            "text/plain": [
              "      index    P_miss\n",
              "1  Embarked  0.224467\n",
              "0       Sex  0.000000"
            ]
          },
          "metadata": {
            "tags": []
          },
          "execution_count": 11
        }
      ]
    },
    {
      "cell_type": "code",
      "metadata": {
        "id": "-HLiBwkASwPS"
      },
      "source": [
        "valores_train_numericos = {'Age': X_train_numericos['Age'].mean()}\r\n",
        "X_train_numericos = X_train_numericos.fillna(value = valores_train_numericos)"
      ],
      "execution_count": 12,
      "outputs": []
    },
    {
      "cell_type": "code",
      "metadata": {
        "id": "_pZiHwUyT73K"
      },
      "source": [
        "#não iremos tratar os valores miss categorico porque\r\n",
        "#iremos usar pandas.get_dummies, que os transforma em 0 0 ... 0."
      ],
      "execution_count": 13,
      "outputs": []
    },
    {
      "cell_type": "markdown",
      "metadata": {
        "id": "i7Pd0Ycex1Qt"
      },
      "source": [
        "#### Transformando categóricas em números"
      ]
    },
    {
      "cell_type": "code",
      "metadata": {
        "id": "H4PTbrysPKQs"
      },
      "source": [
        "X_train_categoricos = pd.get_dummies(X_train_categoricos, drop_first=True)"
      ],
      "execution_count": 14,
      "outputs": []
    },
    {
      "cell_type": "markdown",
      "metadata": {
        "id": "HiWyN7Pfx83u"
      },
      "source": [
        "#### Juntando os df numericos e o categóricos"
      ]
    },
    {
      "cell_type": "code",
      "metadata": {
        "id": "iTuozrjvSU_o"
      },
      "source": [
        "X_train_tratados = pd.merge(X_train_numericos, X_train_categoricos, how ='left', left_index = True, right_index = True)"
      ],
      "execution_count": 15,
      "outputs": []
    },
    {
      "cell_type": "markdown",
      "metadata": {
        "id": "m_LPJwJdyGMK"
      },
      "source": [
        "#### Normalização dos dados"
      ]
    },
    {
      "cell_type": "code",
      "metadata": {
        "id": "UdZ4diocV3bo"
      },
      "source": [
        "from sklearn.preprocessing import MinMaxScaler \r\n",
        "\r\n",
        "scaler = MinMaxScaler()\r\n",
        "scaler.fit(X_train_tratados)\r\n",
        "\r\n",
        "abt_train = pd.DataFrame(scaler.transform(X_train_tratados), columns=X_train_tratados.columns)\r\n",
        "abt_train.index = X_train.index"
      ],
      "execution_count": 16,
      "outputs": []
    },
    {
      "cell_type": "markdown",
      "metadata": {
        "id": "5jKrmNutyOV3"
      },
      "source": [
        "# Dividindo Treino em Desenv e Valid"
      ]
    },
    {
      "cell_type": "code",
      "metadata": {
        "id": "nopy7skOuhyA"
      },
      "source": [
        "from sklearn.model_selection import train_test_split\r\n",
        "X_desenv, X_valid, y_desenv, y_valid = train_test_split(abt_train, y, train_size=0.8, test_size=0.2)"
      ],
      "execution_count": 17,
      "outputs": []
    },
    {
      "cell_type": "markdown",
      "metadata": {
        "id": "XleXe_rMyd8l"
      },
      "source": [
        "# Montando e treinando o modelo"
      ]
    },
    {
      "cell_type": "markdown",
      "metadata": {
        "id": "9pofhCR2yl_S"
      },
      "source": [
        "### Testando 3 modelos: logistic regression, grandientboosting e o randomforest"
      ]
    },
    {
      "cell_type": "code",
      "metadata": {
        "id": "OjZnRDcqww4U"
      },
      "source": [
        "from sklearn.linear_model import LogisticRegression \r\n",
        "from sklearn.ensemble import GradientBoostingClassifier \r\n",
        "from sklearn.ensemble import RandomForestClassifier\r\n",
        "from sklearn.metrics import roc_auc_score\r\n",
        "\r\n",
        "LR = LogisticRegression()\r\n",
        "GB = GradientBoostingClassifier()\r\n",
        "RF = RandomForestClassifier()"
      ],
      "execution_count": 18,
      "outputs": []
    },
    {
      "cell_type": "code",
      "metadata": {
        "id": "VEoAT2J9LOTY"
      },
      "source": [
        "from sklearn.model_selection import cross_validate\r\n",
        "\r\n",
        "teste_modelLR = cross_validate(estimator=LR, X=X_desenv, y=y_desenv, scoring='roc_auc')\r\n",
        "teste_modelGB = cross_validate(estimator=GB, X=X_desenv, y=y_desenv, scoring='roc_auc')\r\n",
        "teste_modelRF = cross_validate(estimator=RF, X=X_desenv, y=y_desenv, scoring='roc_auc')"
      ],
      "execution_count": 19,
      "outputs": []
    },
    {
      "cell_type": "code",
      "metadata": {
        "id": "BInHlmAU7k_M"
      },
      "source": [
        "resultado = [[teste_modelLR['test_score'].mean(), teste_modelGB['test_score'].mean(), teste_modelRF['test_score'].mean()]]"
      ],
      "execution_count": 20,
      "outputs": []
    },
    {
      "cell_type": "code",
      "metadata": {
        "id": "ZXD86YKJMK-M"
      },
      "source": [
        "resultado = pd.DataFrame(resultado)"
      ],
      "execution_count": 21,
      "outputs": []
    },
    {
      "cell_type": "code",
      "metadata": {
        "colab": {
          "base_uri": "https://localhost:8080/",
          "height": 80
        },
        "id": "2uD-Z1siNVff",
        "outputId": "14465500-436b-426f-a3c1-47ac6fb6116d"
      },
      "source": [
        "resultado.rename(index={0:'test_score_mean'}, columns={0:'Logist Regression', 1:'Grandient Boosting', 2:'Random Forest'})"
      ],
      "execution_count": 22,
      "outputs": [
        {
          "output_type": "execute_result",
          "data": {
            "text/html": [
              "<div>\n",
              "<style scoped>\n",
              "    .dataframe tbody tr th:only-of-type {\n",
              "        vertical-align: middle;\n",
              "    }\n",
              "\n",
              "    .dataframe tbody tr th {\n",
              "        vertical-align: top;\n",
              "    }\n",
              "\n",
              "    .dataframe thead th {\n",
              "        text-align: right;\n",
              "    }\n",
              "</style>\n",
              "<table border=\"1\" class=\"dataframe\">\n",
              "  <thead>\n",
              "    <tr style=\"text-align: right;\">\n",
              "      <th></th>\n",
              "      <th>Logist Regression</th>\n",
              "      <th>Grandient Boosting</th>\n",
              "      <th>Random Forest</th>\n",
              "    </tr>\n",
              "  </thead>\n",
              "  <tbody>\n",
              "    <tr>\n",
              "      <th>test_score_mean</th>\n",
              "      <td>0.855374</td>\n",
              "      <td>0.854148</td>\n",
              "      <td>0.848205</td>\n",
              "    </tr>\n",
              "  </tbody>\n",
              "</table>\n",
              "</div>"
            ],
            "text/plain": [
              "                 Logist Regression  Grandient Boosting  Random Forest\n",
              "test_score_mean           0.855374            0.854148       0.848205"
            ]
          },
          "metadata": {
            "tags": []
          },
          "execution_count": 22
        }
      ]
    },
    {
      "cell_type": "code",
      "metadata": {
        "id": "b6ydb86IxrRk"
      },
      "source": [
        "#O modelo que performou melhor foi o GB, então usaremos\r\n",
        "#GridSearchCV com ele\r\n",
        "model = GB"
      ],
      "execution_count": 23,
      "outputs": []
    },
    {
      "cell_type": "code",
      "metadata": {
        "id": "0y_KYfCExrgk"
      },
      "source": [
        "parametros = {'learning_rate':[0.05, 0.1, 0.5, 1], \r\n",
        "              'n_estimators':[100, 125, 150, 175], 'max_depth':[1,3,5] }"
      ],
      "execution_count": 24,
      "outputs": []
    },
    {
      "cell_type": "code",
      "metadata": {
        "id": "XcC4i9Qkxrwg"
      },
      "source": [
        "from sklearn.model_selection import GridSearchCV\r\n",
        "\r\n",
        "grid = GridSearchCV(estimator = model,        #GBR\r\n",
        "                    param_grid = parametros,  \r\n",
        "                    scoring = 'roc_auc',      \r\n",
        "                    cv = 5)                   #5 folds"
      ],
      "execution_count": 25,
      "outputs": []
    },
    {
      "cell_type": "code",
      "metadata": {
        "colab": {
          "base_uri": "https://localhost:8080/",
          "height": 1000
        },
        "id": "dlSvVNQu0KUN",
        "outputId": "d09e5259-3276-440e-9580-56c5d4965dfa"
      },
      "source": [
        "# Treinando o grid.\r\n",
        "grid.fit(X_desenv, y_desenv)\r\n",
        "\r\n",
        "# Imprimindo as colunas de interesse dos resultados.\r\n",
        "pd.DataFrame(grid.cv_results_)[['params','rank_test_score','mean_test_score']].sort_values('mean_test_score', ascending = False)"
      ],
      "execution_count": 26,
      "outputs": [
        {
          "output_type": "execute_result",
          "data": {
            "text/html": [
              "<div>\n",
              "<style scoped>\n",
              "    .dataframe tbody tr th:only-of-type {\n",
              "        vertical-align: middle;\n",
              "    }\n",
              "\n",
              "    .dataframe tbody tr th {\n",
              "        vertical-align: top;\n",
              "    }\n",
              "\n",
              "    .dataframe thead th {\n",
              "        text-align: right;\n",
              "    }\n",
              "</style>\n",
              "<table border=\"1\" class=\"dataframe\">\n",
              "  <thead>\n",
              "    <tr style=\"text-align: right;\">\n",
              "      <th></th>\n",
              "      <th>params</th>\n",
              "      <th>rank_test_score</th>\n",
              "      <th>mean_test_score</th>\n",
              "    </tr>\n",
              "  </thead>\n",
              "  <tbody>\n",
              "    <tr>\n",
              "      <th>12</th>\n",
              "      <td>{'learning_rate': 0.1, 'max_depth': 1, 'n_esti...</td>\n",
              "      <td>1</td>\n",
              "      <td>0.862716</td>\n",
              "    </tr>\n",
              "    <tr>\n",
              "      <th>13</th>\n",
              "      <td>{'learning_rate': 0.1, 'max_depth': 1, 'n_esti...</td>\n",
              "      <td>2</td>\n",
              "      <td>0.862245</td>\n",
              "    </tr>\n",
              "    <tr>\n",
              "      <th>14</th>\n",
              "      <td>{'learning_rate': 0.1, 'max_depth': 1, 'n_esti...</td>\n",
              "      <td>3</td>\n",
              "      <td>0.862170</td>\n",
              "    </tr>\n",
              "    <tr>\n",
              "      <th>3</th>\n",
              "      <td>{'learning_rate': 0.05, 'max_depth': 1, 'n_est...</td>\n",
              "      <td>4</td>\n",
              "      <td>0.861719</td>\n",
              "    </tr>\n",
              "    <tr>\n",
              "      <th>2</th>\n",
              "      <td>{'learning_rate': 0.05, 'max_depth': 1, 'n_est...</td>\n",
              "      <td>5</td>\n",
              "      <td>0.860986</td>\n",
              "    </tr>\n",
              "    <tr>\n",
              "      <th>15</th>\n",
              "      <td>{'learning_rate': 0.1, 'max_depth': 1, 'n_esti...</td>\n",
              "      <td>6</td>\n",
              "      <td>0.860138</td>\n",
              "    </tr>\n",
              "    <tr>\n",
              "      <th>1</th>\n",
              "      <td>{'learning_rate': 0.05, 'max_depth': 1, 'n_est...</td>\n",
              "      <td>7</td>\n",
              "      <td>0.858189</td>\n",
              "    </tr>\n",
              "    <tr>\n",
              "      <th>4</th>\n",
              "      <td>{'learning_rate': 0.05, 'max_depth': 3, 'n_est...</td>\n",
              "      <td>8</td>\n",
              "      <td>0.857164</td>\n",
              "    </tr>\n",
              "    <tr>\n",
              "      <th>0</th>\n",
              "      <td>{'learning_rate': 0.05, 'max_depth': 1, 'n_est...</td>\n",
              "      <td>9</td>\n",
              "      <td>0.854922</td>\n",
              "    </tr>\n",
              "    <tr>\n",
              "      <th>24</th>\n",
              "      <td>{'learning_rate': 0.5, 'max_depth': 1, 'n_esti...</td>\n",
              "      <td>10</td>\n",
              "      <td>0.854843</td>\n",
              "    </tr>\n",
              "    <tr>\n",
              "      <th>5</th>\n",
              "      <td>{'learning_rate': 0.05, 'max_depth': 3, 'n_est...</td>\n",
              "      <td>11</td>\n",
              "      <td>0.854802</td>\n",
              "    </tr>\n",
              "    <tr>\n",
              "      <th>16</th>\n",
              "      <td>{'learning_rate': 0.1, 'max_depth': 3, 'n_esti...</td>\n",
              "      <td>12</td>\n",
              "      <td>0.854148</td>\n",
              "    </tr>\n",
              "    <tr>\n",
              "      <th>25</th>\n",
              "      <td>{'learning_rate': 0.5, 'max_depth': 1, 'n_esti...</td>\n",
              "      <td>13</td>\n",
              "      <td>0.853751</td>\n",
              "    </tr>\n",
              "    <tr>\n",
              "      <th>27</th>\n",
              "      <td>{'learning_rate': 0.5, 'max_depth': 1, 'n_esti...</td>\n",
              "      <td>14</td>\n",
              "      <td>0.853120</td>\n",
              "    </tr>\n",
              "    <tr>\n",
              "      <th>17</th>\n",
              "      <td>{'learning_rate': 0.1, 'max_depth': 3, 'n_esti...</td>\n",
              "      <td>15</td>\n",
              "      <td>0.852780</td>\n",
              "    </tr>\n",
              "    <tr>\n",
              "      <th>26</th>\n",
              "      <td>{'learning_rate': 0.5, 'max_depth': 1, 'n_esti...</td>\n",
              "      <td>16</td>\n",
              "      <td>0.852450</td>\n",
              "    </tr>\n",
              "    <tr>\n",
              "      <th>6</th>\n",
              "      <td>{'learning_rate': 0.05, 'max_depth': 3, 'n_est...</td>\n",
              "      <td>17</td>\n",
              "      <td>0.852376</td>\n",
              "    </tr>\n",
              "    <tr>\n",
              "      <th>18</th>\n",
              "      <td>{'learning_rate': 0.1, 'max_depth': 3, 'n_esti...</td>\n",
              "      <td>18</td>\n",
              "      <td>0.851763</td>\n",
              "    </tr>\n",
              "    <tr>\n",
              "      <th>7</th>\n",
              "      <td>{'learning_rate': 0.05, 'max_depth': 3, 'n_est...</td>\n",
              "      <td>19</td>\n",
              "      <td>0.851392</td>\n",
              "    </tr>\n",
              "    <tr>\n",
              "      <th>19</th>\n",
              "      <td>{'learning_rate': 0.1, 'max_depth': 3, 'n_esti...</td>\n",
              "      <td>20</td>\n",
              "      <td>0.850638</td>\n",
              "    </tr>\n",
              "    <tr>\n",
              "      <th>8</th>\n",
              "      <td>{'learning_rate': 0.05, 'max_depth': 5, 'n_est...</td>\n",
              "      <td>21</td>\n",
              "      <td>0.850047</td>\n",
              "    </tr>\n",
              "    <tr>\n",
              "      <th>37</th>\n",
              "      <td>{'learning_rate': 1, 'max_depth': 1, 'n_estima...</td>\n",
              "      <td>22</td>\n",
              "      <td>0.848700</td>\n",
              "    </tr>\n",
              "    <tr>\n",
              "      <th>38</th>\n",
              "      <td>{'learning_rate': 1, 'max_depth': 1, 'n_estima...</td>\n",
              "      <td>23</td>\n",
              "      <td>0.848529</td>\n",
              "    </tr>\n",
              "    <tr>\n",
              "      <th>36</th>\n",
              "      <td>{'learning_rate': 1, 'max_depth': 1, 'n_estima...</td>\n",
              "      <td>24</td>\n",
              "      <td>0.848442</td>\n",
              "    </tr>\n",
              "    <tr>\n",
              "      <th>39</th>\n",
              "      <td>{'learning_rate': 1, 'max_depth': 1, 'n_estima...</td>\n",
              "      <td>25</td>\n",
              "      <td>0.847443</td>\n",
              "    </tr>\n",
              "    <tr>\n",
              "      <th>9</th>\n",
              "      <td>{'learning_rate': 0.05, 'max_depth': 5, 'n_est...</td>\n",
              "      <td>26</td>\n",
              "      <td>0.847151</td>\n",
              "    </tr>\n",
              "    <tr>\n",
              "      <th>10</th>\n",
              "      <td>{'learning_rate': 0.05, 'max_depth': 5, 'n_est...</td>\n",
              "      <td>27</td>\n",
              "      <td>0.845312</td>\n",
              "    </tr>\n",
              "    <tr>\n",
              "      <th>11</th>\n",
              "      <td>{'learning_rate': 0.05, 'max_depth': 5, 'n_est...</td>\n",
              "      <td>28</td>\n",
              "      <td>0.843262</td>\n",
              "    </tr>\n",
              "    <tr>\n",
              "      <th>20</th>\n",
              "      <td>{'learning_rate': 0.1, 'max_depth': 5, 'n_esti...</td>\n",
              "      <td>29</td>\n",
              "      <td>0.835831</td>\n",
              "    </tr>\n",
              "    <tr>\n",
              "      <th>22</th>\n",
              "      <td>{'learning_rate': 0.1, 'max_depth': 5, 'n_esti...</td>\n",
              "      <td>30</td>\n",
              "      <td>0.833745</td>\n",
              "    </tr>\n",
              "    <tr>\n",
              "      <th>21</th>\n",
              "      <td>{'learning_rate': 0.1, 'max_depth': 5, 'n_esti...</td>\n",
              "      <td>31</td>\n",
              "      <td>0.833314</td>\n",
              "    </tr>\n",
              "    <tr>\n",
              "      <th>29</th>\n",
              "      <td>{'learning_rate': 0.5, 'max_depth': 3, 'n_esti...</td>\n",
              "      <td>32</td>\n",
              "      <td>0.832736</td>\n",
              "    </tr>\n",
              "    <tr>\n",
              "      <th>28</th>\n",
              "      <td>{'learning_rate': 0.5, 'max_depth': 3, 'n_esti...</td>\n",
              "      <td>33</td>\n",
              "      <td>0.832445</td>\n",
              "    </tr>\n",
              "    <tr>\n",
              "      <th>23</th>\n",
              "      <td>{'learning_rate': 0.1, 'max_depth': 5, 'n_esti...</td>\n",
              "      <td>34</td>\n",
              "      <td>0.831776</td>\n",
              "    </tr>\n",
              "    <tr>\n",
              "      <th>31</th>\n",
              "      <td>{'learning_rate': 0.5, 'max_depth': 3, 'n_esti...</td>\n",
              "      <td>35</td>\n",
              "      <td>0.831519</td>\n",
              "    </tr>\n",
              "    <tr>\n",
              "      <th>30</th>\n",
              "      <td>{'learning_rate': 0.5, 'max_depth': 3, 'n_esti...</td>\n",
              "      <td>36</td>\n",
              "      <td>0.830962</td>\n",
              "    </tr>\n",
              "    <tr>\n",
              "      <th>32</th>\n",
              "      <td>{'learning_rate': 0.5, 'max_depth': 5, 'n_esti...</td>\n",
              "      <td>37</td>\n",
              "      <td>0.829509</td>\n",
              "    </tr>\n",
              "    <tr>\n",
              "      <th>35</th>\n",
              "      <td>{'learning_rate': 0.5, 'max_depth': 5, 'n_esti...</td>\n",
              "      <td>38</td>\n",
              "      <td>0.829340</td>\n",
              "    </tr>\n",
              "    <tr>\n",
              "      <th>34</th>\n",
              "      <td>{'learning_rate': 0.5, 'max_depth': 5, 'n_esti...</td>\n",
              "      <td>39</td>\n",
              "      <td>0.827967</td>\n",
              "    </tr>\n",
              "    <tr>\n",
              "      <th>33</th>\n",
              "      <td>{'learning_rate': 0.5, 'max_depth': 5, 'n_esti...</td>\n",
              "      <td>40</td>\n",
              "      <td>0.825511</td>\n",
              "    </tr>\n",
              "    <tr>\n",
              "      <th>44</th>\n",
              "      <td>{'learning_rate': 1, 'max_depth': 5, 'n_estima...</td>\n",
              "      <td>41</td>\n",
              "      <td>0.823500</td>\n",
              "    </tr>\n",
              "    <tr>\n",
              "      <th>47</th>\n",
              "      <td>{'learning_rate': 1, 'max_depth': 5, 'n_estima...</td>\n",
              "      <td>42</td>\n",
              "      <td>0.819750</td>\n",
              "    </tr>\n",
              "    <tr>\n",
              "      <th>46</th>\n",
              "      <td>{'learning_rate': 1, 'max_depth': 5, 'n_estima...</td>\n",
              "      <td>43</td>\n",
              "      <td>0.818971</td>\n",
              "    </tr>\n",
              "    <tr>\n",
              "      <th>43</th>\n",
              "      <td>{'learning_rate': 1, 'max_depth': 3, 'n_estima...</td>\n",
              "      <td>44</td>\n",
              "      <td>0.817818</td>\n",
              "    </tr>\n",
              "    <tr>\n",
              "      <th>45</th>\n",
              "      <td>{'learning_rate': 1, 'max_depth': 5, 'n_estima...</td>\n",
              "      <td>45</td>\n",
              "      <td>0.816883</td>\n",
              "    </tr>\n",
              "    <tr>\n",
              "      <th>40</th>\n",
              "      <td>{'learning_rate': 1, 'max_depth': 3, 'n_estima...</td>\n",
              "      <td>46</td>\n",
              "      <td>0.815958</td>\n",
              "    </tr>\n",
              "    <tr>\n",
              "      <th>42</th>\n",
              "      <td>{'learning_rate': 1, 'max_depth': 3, 'n_estima...</td>\n",
              "      <td>47</td>\n",
              "      <td>0.814198</td>\n",
              "    </tr>\n",
              "    <tr>\n",
              "      <th>41</th>\n",
              "      <td>{'learning_rate': 1, 'max_depth': 3, 'n_estima...</td>\n",
              "      <td>48</td>\n",
              "      <td>0.811429</td>\n",
              "    </tr>\n",
              "  </tbody>\n",
              "</table>\n",
              "</div>"
            ],
            "text/plain": [
              "                                               params  ...  mean_test_score\n",
              "12  {'learning_rate': 0.1, 'max_depth': 1, 'n_esti...  ...         0.862716\n",
              "13  {'learning_rate': 0.1, 'max_depth': 1, 'n_esti...  ...         0.862245\n",
              "14  {'learning_rate': 0.1, 'max_depth': 1, 'n_esti...  ...         0.862170\n",
              "3   {'learning_rate': 0.05, 'max_depth': 1, 'n_est...  ...         0.861719\n",
              "2   {'learning_rate': 0.05, 'max_depth': 1, 'n_est...  ...         0.860986\n",
              "15  {'learning_rate': 0.1, 'max_depth': 1, 'n_esti...  ...         0.860138\n",
              "1   {'learning_rate': 0.05, 'max_depth': 1, 'n_est...  ...         0.858189\n",
              "4   {'learning_rate': 0.05, 'max_depth': 3, 'n_est...  ...         0.857164\n",
              "0   {'learning_rate': 0.05, 'max_depth': 1, 'n_est...  ...         0.854922\n",
              "24  {'learning_rate': 0.5, 'max_depth': 1, 'n_esti...  ...         0.854843\n",
              "5   {'learning_rate': 0.05, 'max_depth': 3, 'n_est...  ...         0.854802\n",
              "16  {'learning_rate': 0.1, 'max_depth': 3, 'n_esti...  ...         0.854148\n",
              "25  {'learning_rate': 0.5, 'max_depth': 1, 'n_esti...  ...         0.853751\n",
              "27  {'learning_rate': 0.5, 'max_depth': 1, 'n_esti...  ...         0.853120\n",
              "17  {'learning_rate': 0.1, 'max_depth': 3, 'n_esti...  ...         0.852780\n",
              "26  {'learning_rate': 0.5, 'max_depth': 1, 'n_esti...  ...         0.852450\n",
              "6   {'learning_rate': 0.05, 'max_depth': 3, 'n_est...  ...         0.852376\n",
              "18  {'learning_rate': 0.1, 'max_depth': 3, 'n_esti...  ...         0.851763\n",
              "7   {'learning_rate': 0.05, 'max_depth': 3, 'n_est...  ...         0.851392\n",
              "19  {'learning_rate': 0.1, 'max_depth': 3, 'n_esti...  ...         0.850638\n",
              "8   {'learning_rate': 0.05, 'max_depth': 5, 'n_est...  ...         0.850047\n",
              "37  {'learning_rate': 1, 'max_depth': 1, 'n_estima...  ...         0.848700\n",
              "38  {'learning_rate': 1, 'max_depth': 1, 'n_estima...  ...         0.848529\n",
              "36  {'learning_rate': 1, 'max_depth': 1, 'n_estima...  ...         0.848442\n",
              "39  {'learning_rate': 1, 'max_depth': 1, 'n_estima...  ...         0.847443\n",
              "9   {'learning_rate': 0.05, 'max_depth': 5, 'n_est...  ...         0.847151\n",
              "10  {'learning_rate': 0.05, 'max_depth': 5, 'n_est...  ...         0.845312\n",
              "11  {'learning_rate': 0.05, 'max_depth': 5, 'n_est...  ...         0.843262\n",
              "20  {'learning_rate': 0.1, 'max_depth': 5, 'n_esti...  ...         0.835831\n",
              "22  {'learning_rate': 0.1, 'max_depth': 5, 'n_esti...  ...         0.833745\n",
              "21  {'learning_rate': 0.1, 'max_depth': 5, 'n_esti...  ...         0.833314\n",
              "29  {'learning_rate': 0.5, 'max_depth': 3, 'n_esti...  ...         0.832736\n",
              "28  {'learning_rate': 0.5, 'max_depth': 3, 'n_esti...  ...         0.832445\n",
              "23  {'learning_rate': 0.1, 'max_depth': 5, 'n_esti...  ...         0.831776\n",
              "31  {'learning_rate': 0.5, 'max_depth': 3, 'n_esti...  ...         0.831519\n",
              "30  {'learning_rate': 0.5, 'max_depth': 3, 'n_esti...  ...         0.830962\n",
              "32  {'learning_rate': 0.5, 'max_depth': 5, 'n_esti...  ...         0.829509\n",
              "35  {'learning_rate': 0.5, 'max_depth': 5, 'n_esti...  ...         0.829340\n",
              "34  {'learning_rate': 0.5, 'max_depth': 5, 'n_esti...  ...         0.827967\n",
              "33  {'learning_rate': 0.5, 'max_depth': 5, 'n_esti...  ...         0.825511\n",
              "44  {'learning_rate': 1, 'max_depth': 5, 'n_estima...  ...         0.823500\n",
              "47  {'learning_rate': 1, 'max_depth': 5, 'n_estima...  ...         0.819750\n",
              "46  {'learning_rate': 1, 'max_depth': 5, 'n_estima...  ...         0.818971\n",
              "43  {'learning_rate': 1, 'max_depth': 3, 'n_estima...  ...         0.817818\n",
              "45  {'learning_rate': 1, 'max_depth': 5, 'n_estima...  ...         0.816883\n",
              "40  {'learning_rate': 1, 'max_depth': 3, 'n_estima...  ...         0.815958\n",
              "42  {'learning_rate': 1, 'max_depth': 3, 'n_estima...  ...         0.814198\n",
              "41  {'learning_rate': 1, 'max_depth': 3, 'n_estima...  ...         0.811429\n",
              "\n",
              "[48 rows x 3 columns]"
            ]
          },
          "metadata": {
            "tags": []
          },
          "execution_count": 26
        }
      ]
    },
    {
      "cell_type": "code",
      "metadata": {
        "colab": {
          "base_uri": "https://localhost:8080/"
        },
        "id": "_mTeuQvbSOzZ",
        "outputId": "f294c523-519c-4a17-a4a1-944eb2581954"
      },
      "source": [
        "# Imprime os parâmetros que produziram o \".best_score_\".\r\n",
        "grid.best_params_"
      ],
      "execution_count": 27,
      "outputs": [
        {
          "output_type": "execute_result",
          "data": {
            "text/plain": [
              "{'learning_rate': 0.1, 'max_depth': 1, 'n_estimators': 100}"
            ]
          },
          "metadata": {
            "tags": []
          },
          "execution_count": 27
        }
      ]
    },
    {
      "cell_type": "markdown",
      "metadata": {
        "id": "J2h5E8Kvy0V2"
      },
      "source": [
        "### Avaliando se nosso modelo está overfitado"
      ]
    },
    {
      "cell_type": "code",
      "metadata": {
        "colab": {
          "base_uri": "https://localhost:8080/"
        },
        "id": "9qFjVHOYtbqv",
        "outputId": "2dce8dda-d40b-4ccf-c167-672634a7d0f6"
      },
      "source": [
        "roc_score_desenv = roc_auc_score(y_desenv, grid.predict_proba(X_desenv)[:,1])\r\n",
        "roc_score_valid = roc_auc_score(y_valid, grid.predict_proba(X_valid)[:,1])\r\n",
        "print('roc_score_desenv:', roc_score_desenv)\r\n",
        "print('roc_score_valid:', roc_score_valid)\r\n",
        "#A diferenca é aceitável. O modelo não está overfitado"
      ],
      "execution_count": 28,
      "outputs": [
        {
          "output_type": "stream",
          "text": [
            "roc_score_desenv: 0.8761162546373814\n",
            "roc_score_valid: 0.8465447154471544\n"
          ],
          "name": "stdout"
        }
      ]
    },
    {
      "cell_type": "markdown",
      "metadata": {
        "id": "GPqLRgXMy6Dm"
      },
      "source": [
        "### Matriz de confusão"
      ]
    },
    {
      "cell_type": "code",
      "metadata": {
        "colab": {
          "base_uri": "https://localhost:8080/"
        },
        "id": "Hm2fu0x1ARev",
        "outputId": "c4694284-090b-492e-98e3-53cdcf71d81c"
      },
      "source": [
        "print (pd.crosstab(y_valid, grid.predict(X_valid), rownames=['Real'], colnames=['Predito'],margins=True))"
      ],
      "execution_count": 29,
      "outputs": [
        {
          "output_type": "stream",
          "text": [
            "Predito    0   1  All\n",
            "Real                 \n",
            "0         99  24  123\n",
            "1         17  39   56\n",
            "All      116  63  179\n"
          ],
          "name": "stdout"
        }
      ]
    },
    {
      "cell_type": "markdown",
      "metadata": {
        "id": "0QQOor0azVEx"
      },
      "source": [
        "#### Importância de cada variável de nosso modelo\r\n"
      ]
    },
    {
      "cell_type": "code",
      "metadata": {
        "colab": {
          "base_uri": "https://localhost:8080/",
          "height": 297
        },
        "id": "v5bDKe6gzVd7",
        "outputId": "3cb8e3b3-aa10-48fa-b652-a298fd5e926c"
      },
      "source": [
        "grad = grid.best_estimator_\r\n",
        "grad.fit(abt_train,y)\r\n",
        "grad.feature_importances_\r\n",
        "var_e_imp = pd.DataFrame({'Variaveis':abt_train.columns.tolist(), 'Importancia':grad.feature_importances_.tolist()}).sort_values('Importancia', ascending=False).reset_index(drop=True)\r\n",
        "var_e_imp"
      ],
      "execution_count": 30,
      "outputs": [
        {
          "output_type": "execute_result",
          "data": {
            "text/html": [
              "<div>\n",
              "<style scoped>\n",
              "    .dataframe tbody tr th:only-of-type {\n",
              "        vertical-align: middle;\n",
              "    }\n",
              "\n",
              "    .dataframe tbody tr th {\n",
              "        vertical-align: top;\n",
              "    }\n",
              "\n",
              "    .dataframe thead th {\n",
              "        text-align: right;\n",
              "    }\n",
              "</style>\n",
              "<table border=\"1\" class=\"dataframe\">\n",
              "  <thead>\n",
              "    <tr style=\"text-align: right;\">\n",
              "      <th></th>\n",
              "      <th>Variaveis</th>\n",
              "      <th>Importancia</th>\n",
              "    </tr>\n",
              "  </thead>\n",
              "  <tbody>\n",
              "    <tr>\n",
              "      <th>0</th>\n",
              "      <td>Sex_male</td>\n",
              "      <td>0.664028</td>\n",
              "    </tr>\n",
              "    <tr>\n",
              "      <th>1</th>\n",
              "      <td>Pclass</td>\n",
              "      <td>0.179768</td>\n",
              "    </tr>\n",
              "    <tr>\n",
              "      <th>2</th>\n",
              "      <td>Age</td>\n",
              "      <td>0.067500</td>\n",
              "    </tr>\n",
              "    <tr>\n",
              "      <th>3</th>\n",
              "      <td>SibSp</td>\n",
              "      <td>0.035843</td>\n",
              "    </tr>\n",
              "    <tr>\n",
              "      <th>4</th>\n",
              "      <td>Fare</td>\n",
              "      <td>0.035356</td>\n",
              "    </tr>\n",
              "    <tr>\n",
              "      <th>5</th>\n",
              "      <td>Parch</td>\n",
              "      <td>0.011101</td>\n",
              "    </tr>\n",
              "    <tr>\n",
              "      <th>6</th>\n",
              "      <td>Embarked_S</td>\n",
              "      <td>0.006404</td>\n",
              "    </tr>\n",
              "    <tr>\n",
              "      <th>7</th>\n",
              "      <td>Embarked_Q</td>\n",
              "      <td>0.000000</td>\n",
              "    </tr>\n",
              "  </tbody>\n",
              "</table>\n",
              "</div>"
            ],
            "text/plain": [
              "    Variaveis  Importancia\n",
              "0    Sex_male     0.664028\n",
              "1      Pclass     0.179768\n",
              "2         Age     0.067500\n",
              "3       SibSp     0.035843\n",
              "4        Fare     0.035356\n",
              "5       Parch     0.011101\n",
              "6  Embarked_S     0.006404\n",
              "7  Embarked_Q     0.000000"
            ]
          },
          "metadata": {
            "tags": []
          },
          "execution_count": 30
        }
      ]
    },
    {
      "cell_type": "code",
      "metadata": {
        "colab": {
          "base_uri": "https://localhost:8080/",
          "height": 296
        },
        "id": "zFL-OlW4zWhG",
        "outputId": "068283e6-dbdc-4ea3-ba6d-9285e47bef3a"
      },
      "source": [
        "import seaborn as sns\r\n",
        "\r\n",
        "sns.barplot(x=var_e_imp.Importancia, y=var_e_imp.Variaveis)"
      ],
      "execution_count": 31,
      "outputs": [
        {
          "output_type": "execute_result",
          "data": {
            "text/plain": [
              "<matplotlib.axes._subplots.AxesSubplot at 0x7f9234547320>"
            ]
          },
          "metadata": {
            "tags": []
          },
          "execution_count": 31
        },
        {
          "output_type": "display_data",
          "data": {
            "image/png": "[encoded data removed]",
            "text/plain": [
              "<Figure size 432x288 with 1 Axes>"
            ]
          },
          "metadata": {
            "tags": [],
            "needs_background": "light"
          }
        }
      ]
    },
    {
      "cell_type": "markdown",
      "metadata": {
        "id": "bW8aSP8xy9Mm"
      },
      "source": [
        "# Preparando a base de test"
      ]
    },
    {
      "cell_type": "code",
      "metadata": {
        "id": "uoOaBc-Sa2lJ"
      },
      "source": [
        "#recebendo os dados do 'test.csv' e montando nosso dataset X_test\r\n",
        "Titanic_Data_Test = pd.read_csv('test.csv', index_col = 'PassengerId')\r\n",
        "X_test = Titanic_Data_Test[features]"
      ],
      "execution_count": 32,
      "outputs": []
    },
    {
      "cell_type": "code",
      "metadata": {
        "id": "laRTT8mMbsUZ"
      },
      "source": [
        "#criar dois df: dados numéricos e dados categóricos\r\n",
        "X_test_numericos = X_test.select_dtypes(exclude=['object'])\r\n",
        "X_test_categoricos = X_test.select_dtypes('object')"
      ],
      "execution_count": 33,
      "outputs": []
    },
    {
      "cell_type": "code",
      "metadata": {
        "id": "-KhSIOYmbc1a"
      },
      "source": [
        "#Tratando miss numerico do test\r\n",
        "X_test_numericos.isna().sum()\r\n",
        "valores_test_numericos = {'Age': X_train_numericos['Age'].mean(), 'Fare': X_train_numericos['Fare'].mean()}\r\n",
        "X_test_numericos = X_test_numericos.fillna(value = valores_test_numericos)"
      ],
      "execution_count": 34,
      "outputs": []
    },
    {
      "cell_type": "code",
      "metadata": {
        "id": "FWyQ6EwJbd4I"
      },
      "source": [
        "#transformando categóricas em números\r\n",
        "X_test_categoricos = pd.get_dummies(X_test_categoricos, drop_first=True)"
      ],
      "execution_count": 35,
      "outputs": []
    },
    {
      "cell_type": "code",
      "metadata": {
        "colab": {
          "base_uri": "https://localhost:8080/"
        },
        "id": "mzxzs1nNcLdL",
        "outputId": "e409f35f-85cb-489d-c12f-ea9592bb5769"
      },
      "source": [
        "#comparando os dados categóricos do train e do test\r\n",
        "colunas_train_categoricos = X_train_categoricos.columns.to_list()\r\n",
        "colunas_test_categoricos = X_test_categoricos.columns.to_list()\r\n",
        "\r\n",
        "comp = set(X_train_categoricos) - set(X_test_categoricos)\r\n",
        "comp\r\n",
        "#as colunas estão iguais"
      ],
      "execution_count": 36,
      "outputs": [
        {
          "output_type": "execute_result",
          "data": {
            "text/plain": [
              "set()"
            ]
          },
          "metadata": {
            "tags": []
          },
          "execution_count": 36
        }
      ]
    },
    {
      "cell_type": "code",
      "metadata": {
        "id": "cEczWkb8cNKb"
      },
      "source": [
        "#juntando os df numericos e o categóricos\r\n",
        "X_test_tratados = pd.merge(X_test_numericos, X_test_categoricos, how ='left', left_index = True, right_index = True)"
      ],
      "execution_count": 37,
      "outputs": []
    },
    {
      "cell_type": "code",
      "metadata": {
        "id": "7R1j9yD_cSvB"
      },
      "source": [
        "#normalização dos dados\r\n",
        "scaler2 = MinMaxScaler()\r\n",
        "scaler2.fit(X_test_tratados)\r\n",
        "\r\n",
        "abt_test = pd.DataFrame(scaler.transform(X_test_tratados), columns=X_test_tratados.columns)\r\n",
        "abt_test.index = X_test_tratados.index"
      ],
      "execution_count": 38,
      "outputs": []
    },
    {
      "cell_type": "markdown",
      "metadata": {
        "id": "zRbuKqm3zENd"
      },
      "source": [
        "# Usando o modelo no Test"
      ]
    },
    {
      "cell_type": "code",
      "metadata": {
        "id": "sLL75cDwcYZz"
      },
      "source": [
        "pred_test = grid.predict(abt_test)"
      ],
      "execution_count": 39,
      "outputs": []
    },
    {
      "cell_type": "markdown",
      "metadata": {
        "id": "aKuNdWBqzLml"
      },
      "source": [
        "#### Salvando nosso resultado em um arquivo csv\r\n"
      ]
    },
    {
      "cell_type": "code",
      "metadata": {
        "id": "OnCkS2V617GC"
      },
      "source": [
        "output = pd.DataFrame({'PassengerId': X_test.index, 'Survived': pred_test})\r\n",
        "output.to_csv('Submission_TitanicGB.csv', index=False)"
      ],
      "execution_count": 40,
      "outputs": []
    }
  ]
}