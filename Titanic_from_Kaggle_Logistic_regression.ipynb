{
  "nbformat": 4,
  "nbformat_minor": 0,
  "metadata": {
    "colab": {
      "name": "Titanic from Kaggle - Logistic regression",
      "provenance": [],
      "authorship_tag": "ABX9TyNPEJj/6h2uA7Peiu2b272n",
      "include_colab_link": true
    },
    "kernelspec": {
      "name": "python3",
      "display_name": "Python 3"
    }
  },
  "cells": [
    {
      "cell_type": "markdown",
      "metadata": {
        "id": "view-in-github",
        "colab_type": "text"
      },
      "source": [
        "<a href=\"https://colab.research.google.com/github/camdsDS/Cesar_Portfolio/blob/main/Titanic_from_Kaggle_Logistic_regression.ipynb\" target=\"_parent\"><img src=\"https://colab.research.google.com/assets/colab-badge.svg\" alt=\"Open In Colab\"/></a>"
      ]
    },
    {
      "cell_type": "code",
      "metadata": {
        "id": "Fom0E5RZ6b-w"
      },
      "source": [
        "#Desafio Kaggle: https://www.kaggle.com/c/titanic\r\n",
        "import pandas as pd\r\n",
        "import matplotlib.pyplot as plt\r\n",
        "from sklearn.preprocessing import MinMaxScaler #para transformar dados categóricos em numéricos\r\n",
        "from sklearn.model_selection import train_test_split #para dividir os dados de teste em um grupo para desenvolver o modelo e outro para validar o modelo\r\n",
        "from sklearn.linear_model import LogisticRegression #para realizar a regressão logística\r\n",
        "from sklearn.metrics import accuracy_score #para avaliar a acurácia do modelo"
      ],
      "execution_count": 1,
      "outputs": []
    },
    {
      "cell_type": "code",
      "metadata": {
        "id": "N71FfmK67Nb6"
      },
      "source": [
        "base = pd.read_csv('train.csv')\r\n",
        "classe = pd.read_csv('test.csv')"
      ],
      "execution_count": 2,
      "outputs": []
    },
    {
      "cell_type": "code",
      "metadata": {
        "colab": {
          "base_uri": "https://localhost:8080/",
          "height": 204
        },
        "id": "9A_3Zw4IUGpi",
        "outputId": "1a8d9432-8930-4cb3-c3c6-8b9f69613628"
      },
      "source": [
        "base.head()"
      ],
      "execution_count": 3,
      "outputs": [
        {
          "output_type": "execute_result",
          "data": {
            "text/html": [
              "<div>\n",
              "<style scoped>\n",
              "    .dataframe tbody tr th:only-of-type {\n",
              "        vertical-align: middle;\n",
              "    }\n",
              "\n",
              "    .dataframe tbody tr th {\n",
              "        vertical-align: top;\n",
              "    }\n",
              "\n",
              "    .dataframe thead th {\n",
              "        text-align: right;\n",
              "    }\n",
              "</style>\n",
              "<table border=\"1\" class=\"dataframe\">\n",
              "  <thead>\n",
              "    <tr style=\"text-align: right;\">\n",
              "      <th></th>\n",
              "      <th>PassengerId</th>\n",
              "      <th>Survived</th>\n",
              "      <th>Pclass</th>\n",
              "      <th>Name</th>\n",
              "      <th>Sex</th>\n",
              "      <th>Age</th>\n",
              "      <th>SibSp</th>\n",
              "      <th>Parch</th>\n",
              "      <th>Ticket</th>\n",
              "      <th>Fare</th>\n",
              "      <th>Cabin</th>\n",
              "      <th>Embarked</th>\n",
              "    </tr>\n",
              "  </thead>\n",
              "  <tbody>\n",
              "    <tr>\n",
              "      <th>0</th>\n",
              "      <td>1</td>\n",
              "      <td>0</td>\n",
              "      <td>3</td>\n",
              "      <td>Braund, Mr. Owen Harris</td>\n",
              "      <td>male</td>\n",
              "      <td>22.0</td>\n",
              "      <td>1</td>\n",
              "      <td>0</td>\n",
              "      <td>A/5 21171</td>\n",
              "      <td>7.2500</td>\n",
              "      <td>NaN</td>\n",
              "      <td>S</td>\n",
              "    </tr>\n",
              "    <tr>\n",
              "      <th>1</th>\n",
              "      <td>2</td>\n",
              "      <td>1</td>\n",
              "      <td>1</td>\n",
              "      <td>Cumings, Mrs. John Bradley (Florence Briggs Th...</td>\n",
              "      <td>female</td>\n",
              "      <td>38.0</td>\n",
              "      <td>1</td>\n",
              "      <td>0</td>\n",
              "      <td>PC 17599</td>\n",
              "      <td>71.2833</td>\n",
              "      <td>C85</td>\n",
              "      <td>C</td>\n",
              "    </tr>\n",
              "    <tr>\n",
              "      <th>2</th>\n",
              "      <td>3</td>\n",
              "      <td>1</td>\n",
              "      <td>3</td>\n",
              "      <td>Heikkinen, Miss. Laina</td>\n",
              "      <td>female</td>\n",
              "      <td>26.0</td>\n",
              "      <td>0</td>\n",
              "      <td>0</td>\n",
              "      <td>STON/O2. 3101282</td>\n",
              "      <td>7.9250</td>\n",
              "      <td>NaN</td>\n",
              "      <td>S</td>\n",
              "    </tr>\n",
              "    <tr>\n",
              "      <th>3</th>\n",
              "      <td>4</td>\n",
              "      <td>1</td>\n",
              "      <td>1</td>\n",
              "      <td>Futrelle, Mrs. Jacques Heath (Lily May Peel)</td>\n",
              "      <td>female</td>\n",
              "      <td>35.0</td>\n",
              "      <td>1</td>\n",
              "      <td>0</td>\n",
              "      <td>113803</td>\n",
              "      <td>53.1000</td>\n",
              "      <td>C123</td>\n",
              "      <td>S</td>\n",
              "    </tr>\n",
              "    <tr>\n",
              "      <th>4</th>\n",
              "      <td>5</td>\n",
              "      <td>0</td>\n",
              "      <td>3</td>\n",
              "      <td>Allen, Mr. William Henry</td>\n",
              "      <td>male</td>\n",
              "      <td>35.0</td>\n",
              "      <td>0</td>\n",
              "      <td>0</td>\n",
              "      <td>373450</td>\n",
              "      <td>8.0500</td>\n",
              "      <td>NaN</td>\n",
              "      <td>S</td>\n",
              "    </tr>\n",
              "  </tbody>\n",
              "</table>\n",
              "</div>"
            ],
            "text/plain": [
              "   PassengerId  Survived  Pclass  ...     Fare Cabin  Embarked\n",
              "0            1         0       3  ...   7.2500   NaN         S\n",
              "1            2         1       1  ...  71.2833   C85         C\n",
              "2            3         1       3  ...   7.9250   NaN         S\n",
              "3            4         1       1  ...  53.1000  C123         S\n",
              "4            5         0       3  ...   8.0500   NaN         S\n",
              "\n",
              "[5 rows x 12 columns]"
            ]
          },
          "metadata": {
            "tags": []
          },
          "execution_count": 3
        }
      ]
    },
    {
      "cell_type": "code",
      "metadata": {
        "id": "0uhFBE7qVLDZ"
      },
      "source": [
        "#Para mais informações sobre o tipo de dado apresentado em cada coluna, visite: https://www.kaggle.com/c/titanic/data\r\n",
        "#Irei elaborar um modelo para testar a hipótese de que os dados Pclass, Sex, Age, SibSp, Parch, Fare e Embarked têm relação\r\n",
        "#com as chances do passageiro sobreviver"
      ],
      "execution_count": 4,
      "outputs": []
    },
    {
      "cell_type": "code",
      "metadata": {
        "id": "aV-P36d68Tbf"
      },
      "source": [
        "#primeiro vamos retirar de nossa base de dados as colunas que não fazem parte de nossa hipótese\r\n",
        "base = base.drop(['PassengerId', 'Name', 'Ticket', 'Cabin'], axis = 1)"
      ],
      "execution_count": 5,
      "outputs": []
    },
    {
      "cell_type": "code",
      "metadata": {
        "colab": {
          "base_uri": "https://localhost:8080/",
          "height": 297
        },
        "id": "LZif06jzWpml",
        "outputId": "70b2f938-f190-4938-be45-7c535d495ed6"
      },
      "source": [
        "#Agora vamos tratar os dados. Começaremos procurando por dados missing\r\n",
        "base.isna().sum().to_frame().rename(columns={0:'missing'})"
      ],
      "execution_count": 6,
      "outputs": [
        {
          "output_type": "execute_result",
          "data": {
            "text/html": [
              "<div>\n",
              "<style scoped>\n",
              "    .dataframe tbody tr th:only-of-type {\n",
              "        vertical-align: middle;\n",
              "    }\n",
              "\n",
              "    .dataframe tbody tr th {\n",
              "        vertical-align: top;\n",
              "    }\n",
              "\n",
              "    .dataframe thead th {\n",
              "        text-align: right;\n",
              "    }\n",
              "</style>\n",
              "<table border=\"1\" class=\"dataframe\">\n",
              "  <thead>\n",
              "    <tr style=\"text-align: right;\">\n",
              "      <th></th>\n",
              "      <th>missing</th>\n",
              "    </tr>\n",
              "  </thead>\n",
              "  <tbody>\n",
              "    <tr>\n",
              "      <th>Survived</th>\n",
              "      <td>0</td>\n",
              "    </tr>\n",
              "    <tr>\n",
              "      <th>Pclass</th>\n",
              "      <td>0</td>\n",
              "    </tr>\n",
              "    <tr>\n",
              "      <th>Sex</th>\n",
              "      <td>0</td>\n",
              "    </tr>\n",
              "    <tr>\n",
              "      <th>Age</th>\n",
              "      <td>177</td>\n",
              "    </tr>\n",
              "    <tr>\n",
              "      <th>SibSp</th>\n",
              "      <td>0</td>\n",
              "    </tr>\n",
              "    <tr>\n",
              "      <th>Parch</th>\n",
              "      <td>0</td>\n",
              "    </tr>\n",
              "    <tr>\n",
              "      <th>Fare</th>\n",
              "      <td>0</td>\n",
              "    </tr>\n",
              "    <tr>\n",
              "      <th>Embarked</th>\n",
              "      <td>2</td>\n",
              "    </tr>\n",
              "  </tbody>\n",
              "</table>\n",
              "</div>"
            ],
            "text/plain": [
              "          missing\n",
              "Survived        0\n",
              "Pclass          0\n",
              "Sex             0\n",
              "Age           177\n",
              "SibSp           0\n",
              "Parch           0\n",
              "Fare            0\n",
              "Embarked        2"
            ]
          },
          "metadata": {
            "tags": []
          },
          "execution_count": 6
        }
      ]
    },
    {
      "cell_type": "code",
      "metadata": {
        "colab": {
          "base_uri": "https://localhost:8080/",
          "height": 333
        },
        "id": "rfecTclgXfkM",
        "outputId": "f7c9f79c-4009-4c2a-d464-87e6d3221157"
      },
      "source": [
        "#Vamos dar uma olhada nos dados do tipo Age\r\n",
        "plt.hist(base.Age)"
      ],
      "execution_count": 7,
      "outputs": [
        {
          "output_type": "execute_result",
          "data": {
            "text/plain": [
              "(array([ 54.,  46., 177., 169., 118.,  70.,  45.,  24.,   9.,   2.]),\n",
              " array([ 0.42 ,  8.378, 16.336, 24.294, 32.252, 40.21 , 48.168, 56.126,\n",
              "        64.084, 72.042, 80.   ]),\n",
              " <a list of 10 Patch objects>)"
            ]
          },
          "metadata": {
            "tags": []
          },
          "execution_count": 7
        },
        {
          "output_type": "display_data",
          "data": {
            "image/png": "[encoded data removed]",
            "text/plain": [
              "<Figure size 432x288 with 1 Axes>"
            ]
          },
          "metadata": {
            "tags": [],
            "needs_background": "light"
          }
        }
      ]
    },
    {
      "cell_type": "code",
      "metadata": {
        "colab": {
          "base_uri": "https://localhost:8080/"
        },
        "id": "zmAVhxsRY3SY",
        "outputId": "08f2f738-3c43-47df-efc3-3ba71b11e9ec"
      },
      "source": [
        "#Para resolver o problema, vou substituir os valores NaN pelo valor moda dos atributos Age\r\n",
        "base['Age'].value_counts() #daqui sabemos que a idade de 24 anos é a moda"
      ],
      "execution_count": 8,
      "outputs": [
        {
          "output_type": "execute_result",
          "data": {
            "text/plain": [
              "24.00    30\n",
              "22.00    27\n",
              "18.00    26\n",
              "19.00    25\n",
              "30.00    25\n",
              "         ..\n",
              "55.50     1\n",
              "70.50     1\n",
              "66.00     1\n",
              "23.50     1\n",
              "0.42      1\n",
              "Name: Age, Length: 88, dtype: int64"
            ]
          },
          "metadata": {
            "tags": []
          },
          "execution_count": 8
        }
      ]
    },
    {
      "cell_type": "code",
      "metadata": {
        "colab": {
          "base_uri": "https://localhost:8080/"
        },
        "id": "h38NKEYCXymA",
        "outputId": "39500490-e9ac-4015-95ad-2ec17693604b"
      },
      "source": [
        " #O dado missing de Embarked também irei substituir pelo valor da moda\r\n",
        "base['Embarked'].value_counts() #daqui sabemos que o Embarked S é a moda"
      ],
      "execution_count": 9,
      "outputs": [
        {
          "output_type": "execute_result",
          "data": {
            "text/plain": [
              "S    644\n",
              "C    168\n",
              "Q     77\n",
              "Name: Embarked, dtype: int64"
            ]
          },
          "metadata": {
            "tags": []
          },
          "execution_count": 9
        }
      ]
    },
    {
      "cell_type": "code",
      "metadata": {
        "id": "waZlLVs2Lj-I"
      },
      "source": [
        "#substituindo os valores missing por 24.00 no age e por S no Embarked\r\n",
        "valores = {'Age': 24.00, 'Embarked': 'S'}\r\n",
        "base = base.fillna(value=valores)"
      ],
      "execution_count": 10,
      "outputs": []
    },
    {
      "cell_type": "code",
      "metadata": {
        "id": "nmLOtcWIZLRR"
      },
      "source": [
        "#procurando por valores inconsistentes\r\n",
        "i1 = base.loc[base.Age > 100] #não retornou nenhum valor\r\n",
        "i2 = base.loc[base.Fare <= 0] #retornou 15 registros iguais a zero"
      ],
      "execution_count": 11,
      "outputs": []
    },
    {
      "cell_type": "code",
      "metadata": {
        "id": "-i79IQhfNXyN"
      },
      "source": [
        "# Vou determinar que na minha base só vão entrar registros com Fare > 0,\r\n",
        "#pois registros do tipo Fare == 0 não reprentam tarifas muito baratas, mas\r\n",
        "#casos excepcionais em que o passageiro embarcou sem precisa pagar o fare)\r\n",
        "base = base[base.Fare > 0]"
      ],
      "execution_count": 12,
      "outputs": []
    },
    {
      "cell_type": "code",
      "metadata": {
        "id": "yfmG9Xh2e0gy"
      },
      "source": [
        "# montando dataframes conforme o tipo de dado. Montaremos 3 DF: categoricas (que precisará de get.dummys), ordinais e contínuas\r\n",
        "df_categoricas = base[['Sex', 'Embarked']]"
      ],
      "execution_count": 13,
      "outputs": []
    },
    {
      "cell_type": "code",
      "metadata": {
        "id": "VBcILZXog5jF"
      },
      "source": [
        "#dummy das categoricas\r\n",
        "df_categoricas = pd.get_dummies(data=df_categoricas, prefix=None, prefix_sep='_', dummy_na=False, columns=None, sparse=False, drop_first=True, dtype=None)"
      ],
      "execution_count": 14,
      "outputs": []
    },
    {
      "cell_type": "code",
      "metadata": {
        "id": "2NOcUMlZfSMl"
      },
      "source": [
        "#df dos ordinais\r\n",
        "df_ordinais = base[['SibSp', 'Parch']]"
      ],
      "execution_count": 15,
      "outputs": []
    },
    {
      "cell_type": "code",
      "metadata": {
        "id": "Ezw5BUCZgeSy"
      },
      "source": [
        "#df dos contínuas\r\n",
        "df_continuas = base[['Age', 'Fare']]"
      ],
      "execution_count": 16,
      "outputs": []
    },
    {
      "cell_type": "code",
      "metadata": {
        "id": "-5KgN6i6g06q",
        "colab": {
          "base_uri": "https://localhost:8080/",
          "height": 419
        },
        "outputId": "9cbc9e9b-a7ef-4b3b-df09-b2adb10fcdb5"
      },
      "source": [
        "#com os dfs separados e tratados, vamos juntá-los agora. Primeiro juntamos 2\r\n",
        "pd.merge(df_categoricas, df_ordinais, how='left', left_index=True, right_index=True)"
      ],
      "execution_count": 17,
      "outputs": [
        {
          "output_type": "execute_result",
          "data": {
            "text/html": [
              "<div>\n",
              "<style scoped>\n",
              "    .dataframe tbody tr th:only-of-type {\n",
              "        vertical-align: middle;\n",
              "    }\n",
              "\n",
              "    .dataframe tbody tr th {\n",
              "        vertical-align: top;\n",
              "    }\n",
              "\n",
              "    .dataframe thead th {\n",
              "        text-align: right;\n",
              "    }\n",
              "</style>\n",
              "<table border=\"1\" class=\"dataframe\">\n",
              "  <thead>\n",
              "    <tr style=\"text-align: right;\">\n",
              "      <th></th>\n",
              "      <th>Sex_male</th>\n",
              "      <th>Embarked_Q</th>\n",
              "      <th>Embarked_S</th>\n",
              "      <th>SibSp</th>\n",
              "      <th>Parch</th>\n",
              "    </tr>\n",
              "  </thead>\n",
              "  <tbody>\n",
              "    <tr>\n",
              "      <th>0</th>\n",
              "      <td>1</td>\n",
              "      <td>0</td>\n",
              "      <td>1</td>\n",
              "      <td>1</td>\n",
              "      <td>0</td>\n",
              "    </tr>\n",
              "    <tr>\n",
              "      <th>1</th>\n",
              "      <td>0</td>\n",
              "      <td>0</td>\n",
              "      <td>0</td>\n",
              "      <td>1</td>\n",
              "      <td>0</td>\n",
              "    </tr>\n",
              "    <tr>\n",
              "      <th>2</th>\n",
              "      <td>0</td>\n",
              "      <td>0</td>\n",
              "      <td>1</td>\n",
              "      <td>0</td>\n",
              "      <td>0</td>\n",
              "    </tr>\n",
              "    <tr>\n",
              "      <th>3</th>\n",
              "      <td>0</td>\n",
              "      <td>0</td>\n",
              "      <td>1</td>\n",
              "      <td>1</td>\n",
              "      <td>0</td>\n",
              "    </tr>\n",
              "    <tr>\n",
              "      <th>4</th>\n",
              "      <td>1</td>\n",
              "      <td>0</td>\n",
              "      <td>1</td>\n",
              "      <td>0</td>\n",
              "      <td>0</td>\n",
              "    </tr>\n",
              "    <tr>\n",
              "      <th>...</th>\n",
              "      <td>...</td>\n",
              "      <td>...</td>\n",
              "      <td>...</td>\n",
              "      <td>...</td>\n",
              "      <td>...</td>\n",
              "    </tr>\n",
              "    <tr>\n",
              "      <th>886</th>\n",
              "      <td>1</td>\n",
              "      <td>0</td>\n",
              "      <td>1</td>\n",
              "      <td>0</td>\n",
              "      <td>0</td>\n",
              "    </tr>\n",
              "    <tr>\n",
              "      <th>887</th>\n",
              "      <td>0</td>\n",
              "      <td>0</td>\n",
              "      <td>1</td>\n",
              "      <td>0</td>\n",
              "      <td>0</td>\n",
              "    </tr>\n",
              "    <tr>\n",
              "      <th>888</th>\n",
              "      <td>0</td>\n",
              "      <td>0</td>\n",
              "      <td>1</td>\n",
              "      <td>1</td>\n",
              "      <td>2</td>\n",
              "    </tr>\n",
              "    <tr>\n",
              "      <th>889</th>\n",
              "      <td>1</td>\n",
              "      <td>0</td>\n",
              "      <td>0</td>\n",
              "      <td>0</td>\n",
              "      <td>0</td>\n",
              "    </tr>\n",
              "    <tr>\n",
              "      <th>890</th>\n",
              "      <td>1</td>\n",
              "      <td>1</td>\n",
              "      <td>0</td>\n",
              "      <td>0</td>\n",
              "      <td>0</td>\n",
              "    </tr>\n",
              "  </tbody>\n",
              "</table>\n",
              "<p>876 rows × 5 columns</p>\n",
              "</div>"
            ],
            "text/plain": [
              "     Sex_male  Embarked_Q  Embarked_S  SibSp  Parch\n",
              "0           1           0           1      1      0\n",
              "1           0           0           0      1      0\n",
              "2           0           0           1      0      0\n",
              "3           0           0           1      1      0\n",
              "4           1           0           1      0      0\n",
              "..        ...         ...         ...    ...    ...\n",
              "886         1           0           1      0      0\n",
              "887         0           0           1      0      0\n",
              "888         0           0           1      1      2\n",
              "889         1           0           0      0      0\n",
              "890         1           1           0      0      0\n",
              "\n",
              "[876 rows x 5 columns]"
            ]
          },
          "metadata": {
            "tags": []
          },
          "execution_count": 17
        }
      ]
    },
    {
      "cell_type": "code",
      "metadata": {
        "id": "e8fVEygqlBMG"
      },
      "source": [
        "#depois juntamos o juntado com o que faltou\r\n",
        "abt = pd.merge(pd.merge(df_categoricas, df_ordinais, how='left', left_index=True, right_index=True), df_continuas, how='left', left_index=True, right_index=True)"
      ],
      "execution_count": 18,
      "outputs": []
    },
    {
      "cell_type": "code",
      "metadata": {
        "id": "xJSfCug_lOa6",
        "colab": {
          "base_uri": "https://localhost:8080/"
        },
        "outputId": "4f5e57a2-03e6-4e61-b8d4-70ea9c019fff"
      },
      "source": [
        "#agora vamos normalizar os dados\r\n",
        "#passo 1\r\n",
        "scaler = MinMaxScaler()\r\n",
        "scaler.fit(abt)"
      ],
      "execution_count": 19,
      "outputs": [
        {
          "output_type": "execute_result",
          "data": {
            "text/plain": [
              "MinMaxScaler(copy=True, feature_range=(0, 1))"
            ]
          },
          "metadata": {
            "tags": []
          },
          "execution_count": 19
        }
      ]
    },
    {
      "cell_type": "code",
      "metadata": {
        "id": "s4HwEhH8l9I8"
      },
      "source": [
        "#agora vamos normalizar os dados\r\n",
        "#passo 2\r\n",
        "abt_n = pd.DataFrame(scaler.transform(abt), columns=abt.columns)"
      ],
      "execution_count": 20,
      "outputs": []
    },
    {
      "cell_type": "code",
      "metadata": {
        "id": "U4djETQUmikZ"
      },
      "source": [
        "#agora copiamos o df para uma variável explicativas\r\n",
        "explicativas = abt_n.copy()\r\n",
        "respostas = base['Survived']"
      ],
      "execution_count": 21,
      "outputs": []
    },
    {
      "cell_type": "code",
      "metadata": {
        "id": "42UL1kzqnTuO"
      },
      "source": [
        "#Desenvolvimento e validação"
      ],
      "execution_count": 22,
      "outputs": []
    },
    {
      "cell_type": "code",
      "metadata": {
        "id": "JI5LYForomsr"
      },
      "source": [
        "#Dividindo minha base de teste em um grupo de desenvolvimento e outro de validação (70% e 30%, respectivamente)\r\n",
        "x_desenv, x_valid, y_desenv, y_valid = train_test_split(explicativas, respostas, test_size = 0.3, random_state=40)"
      ],
      "execution_count": 23,
      "outputs": []
    },
    {
      "cell_type": "code",
      "metadata": {
        "id": "p8ALwDTgpZP3"
      },
      "source": [
        "#rodando o modelo com os dados do grupo de desenvolvimento\r\n",
        "log = LogisticRegression()\r\n",
        "log.fit(x_desenv, y_desenv)\r\n",
        "desenvPredict = log.predict(x_desenv)\r\n",
        "desenvProba = log.predict_proba(x_desenv)"
      ],
      "execution_count": 24,
      "outputs": []
    },
    {
      "cell_type": "code",
      "metadata": {
        "id": "eah8KSJouHfd",
        "colab": {
          "base_uri": "https://localhost:8080/"
        },
        "outputId": "cba2bd19-2877-4fc3-f4d3-bd5335dce84d"
      },
      "source": [
        "#Validando com o grupo de validação\r\n",
        "desenvPredict2 = log.predict(x_valid)\r\n",
        "desenvProba2 = log.predict_proba(x_valid)\r\n",
        "accuracy_score(y_valid, desenvPredict2)"
      ],
      "execution_count": 25,
      "outputs": [
        {
          "output_type": "execute_result",
          "data": {
            "text/plain": [
              "0.7946768060836502"
            ]
          },
          "metadata": {
            "tags": []
          },
          "execution_count": 25
        }
      ]
    },
    {
      "cell_type": "code",
      "metadata": {
        "id": "Pfht-jdqxOwy"
      },
      "source": [
        "#agora precisamos usar nosso modelo para fazer a previsão usando o csv classe.\r\n",
        "#Para isso, precisamos tratar os dados de classe assim como tratamos os dados de base"
      ],
      "execution_count": 26,
      "outputs": []
    },
    {
      "cell_type": "code",
      "metadata": {
        "id": "ZnEzlG8n-Evu"
      },
      "source": [
        "#Vamos apagar as mesmas colunas que apagamos em base\r\n",
        "classe = classe.drop(['PassengerId', 'Name', 'Ticket', 'Cabin'], axis = 1)"
      ],
      "execution_count": 27,
      "outputs": []
    },
    {
      "cell_type": "code",
      "metadata": {
        "id": "fMyG-GRpB2rs",
        "colab": {
          "base_uri": "https://localhost:8080/",
          "height": 266
        },
        "outputId": "1f53918c-0a7c-4a79-8eec-9b71da700d2e"
      },
      "source": [
        "#procurar por dados do tipo missing\r\n",
        "classe.isna().sum().to_frame().rename(columns={0:'missing'}) #faltam 86 dados do tipo Age e 1 do tipo Fare"
      ],
      "execution_count": 28,
      "outputs": [
        {
          "output_type": "execute_result",
          "data": {
            "text/html": [
              "<div>\n",
              "<style scoped>\n",
              "    .dataframe tbody tr th:only-of-type {\n",
              "        vertical-align: middle;\n",
              "    }\n",
              "\n",
              "    .dataframe tbody tr th {\n",
              "        vertical-align: top;\n",
              "    }\n",
              "\n",
              "    .dataframe thead th {\n",
              "        text-align: right;\n",
              "    }\n",
              "</style>\n",
              "<table border=\"1\" class=\"dataframe\">\n",
              "  <thead>\n",
              "    <tr style=\"text-align: right;\">\n",
              "      <th></th>\n",
              "      <th>missing</th>\n",
              "    </tr>\n",
              "  </thead>\n",
              "  <tbody>\n",
              "    <tr>\n",
              "      <th>Pclass</th>\n",
              "      <td>0</td>\n",
              "    </tr>\n",
              "    <tr>\n",
              "      <th>Sex</th>\n",
              "      <td>0</td>\n",
              "    </tr>\n",
              "    <tr>\n",
              "      <th>Age</th>\n",
              "      <td>86</td>\n",
              "    </tr>\n",
              "    <tr>\n",
              "      <th>SibSp</th>\n",
              "      <td>0</td>\n",
              "    </tr>\n",
              "    <tr>\n",
              "      <th>Parch</th>\n",
              "      <td>0</td>\n",
              "    </tr>\n",
              "    <tr>\n",
              "      <th>Fare</th>\n",
              "      <td>1</td>\n",
              "    </tr>\n",
              "    <tr>\n",
              "      <th>Embarked</th>\n",
              "      <td>0</td>\n",
              "    </tr>\n",
              "  </tbody>\n",
              "</table>\n",
              "</div>"
            ],
            "text/plain": [
              "          missing\n",
              "Pclass          0\n",
              "Sex             0\n",
              "Age            86\n",
              "SibSp           0\n",
              "Parch           0\n",
              "Fare            1\n",
              "Embarked        0"
            ]
          },
          "metadata": {
            "tags": []
          },
          "execution_count": 28
        }
      ]
    },
    {
      "cell_type": "code",
      "metadata": {
        "colab": {
          "base_uri": "https://localhost:8080/",
          "height": 469
        },
        "id": "hN7eUSl1caRQ",
        "outputId": "b18491cb-eeb8-4811-8a7c-465273d18d23"
      },
      "source": [
        "plt.hist(classe.Age)\r\n",
        "classe['Age'].value_counts()"
      ],
      "execution_count": 29,
      "outputs": [
        {
          "output_type": "execute_result",
          "data": {
            "text/plain": [
              "24.0    17\n",
              "21.0    17\n",
              "22.0    16\n",
              "30.0    15\n",
              "18.0    13\n",
              "        ..\n",
              "7.0      1\n",
              "60.5     1\n",
              "26.5     1\n",
              "76.0     1\n",
              "34.5     1\n",
              "Name: Age, Length: 79, dtype: int64"
            ]
          },
          "metadata": {
            "tags": []
          },
          "execution_count": 29
        },
        {
          "output_type": "display_data",
          "data": {
            "image/png": "[encoded data removed]",
            "text/plain": [
              "<Figure size 432x288 with 1 Axes>"
            ]
          },
          "metadata": {
            "tags": [],
            "needs_background": "light"
          }
        }
      ]
    },
    {
      "cell_type": "code",
      "metadata": {
        "colab": {
          "base_uri": "https://localhost:8080/",
          "height": 470
        },
        "id": "zcSVnlobdeTf",
        "outputId": "8f8beeeb-7b8e-4ada-cb0b-5f39eb939c54"
      },
      "source": [
        "plt.hist(classe.Fare)\r\n",
        "classe['Fare'].value_counts()"
      ],
      "execution_count": 30,
      "outputs": [
        {
          "output_type": "execute_result",
          "data": {
            "text/plain": [
              "7.7500     21\n",
              "26.0000    19\n",
              "8.0500     17\n",
              "13.0000    17\n",
              "7.8958     11\n",
              "           ..\n",
              "9.3250      1\n",
              "14.4583     1\n",
              "15.0333     1\n",
              "25.4667     1\n",
              "21.0750     1\n",
              "Name: Fare, Length: 169, dtype: int64"
            ]
          },
          "metadata": {
            "tags": []
          },
          "execution_count": 30
        },
        {
          "output_type": "display_data",
          "data": {
            "image/png": "[encoded data removed]",
            "text/plain": [
              "<Figure size 432x288 with 1 Axes>"
            ]
          },
          "metadata": {
            "tags": [],
            "needs_background": "light"
          }
        }
      ]
    },
    {
      "cell_type": "code",
      "metadata": {
        "id": "0QNVrs2RCbjP"
      },
      "source": [
        "#Substituindo os valores missing\r\n",
        "valores2 = {'Fare': 7.7500, 'Age':24.0}\r\n",
        "classe = classe.fillna(value=valores2)"
      ],
      "execution_count": 31,
      "outputs": []
    },
    {
      "cell_type": "code",
      "metadata": {
        "id": "su6JixCTDysp"
      },
      "source": [
        "#Separação e junção dos df\r\n",
        "df_categoricasC = classe[['Sex', 'Embarked']]\r\n",
        "df_categoricasC = pd.get_dummies(data=df_categoricasC, prefix=None, prefix_sep='_', dummy_na=False, columns=None, sparse=False, drop_first=True, dtype=None)\r\n",
        "df_ordinaisC = classe[['SibSp', 'Parch']]\r\n",
        "df_continuasC = classe[['Age', 'Fare']]"
      ],
      "execution_count": 32,
      "outputs": []
    },
    {
      "cell_type": "code",
      "metadata": {
        "id": "BCg4RDp0EDYX",
        "colab": {
          "base_uri": "https://localhost:8080/",
          "height": 419
        },
        "outputId": "e544b070-c741-4031-bca6-3314afcb13ba"
      },
      "source": [
        "pd.merge(df_categoricasC, df_ordinaisC, how='left', left_index=True, right_index=True)"
      ],
      "execution_count": 33,
      "outputs": [
        {
          "output_type": "execute_result",
          "data": {
            "text/html": [
              "<div>\n",
              "<style scoped>\n",
              "    .dataframe tbody tr th:only-of-type {\n",
              "        vertical-align: middle;\n",
              "    }\n",
              "\n",
              "    .dataframe tbody tr th {\n",
              "        vertical-align: top;\n",
              "    }\n",
              "\n",
              "    .dataframe thead th {\n",
              "        text-align: right;\n",
              "    }\n",
              "</style>\n",
              "<table border=\"1\" class=\"dataframe\">\n",
              "  <thead>\n",
              "    <tr style=\"text-align: right;\">\n",
              "      <th></th>\n",
              "      <th>Sex_male</th>\n",
              "      <th>Embarked_Q</th>\n",
              "      <th>Embarked_S</th>\n",
              "      <th>SibSp</th>\n",
              "      <th>Parch</th>\n",
              "    </tr>\n",
              "  </thead>\n",
              "  <tbody>\n",
              "    <tr>\n",
              "      <th>0</th>\n",
              "      <td>1</td>\n",
              "      <td>1</td>\n",
              "      <td>0</td>\n",
              "      <td>0</td>\n",
              "      <td>0</td>\n",
              "    </tr>\n",
              "    <tr>\n",
              "      <th>1</th>\n",
              "      <td>0</td>\n",
              "      <td>0</td>\n",
              "      <td>1</td>\n",
              "      <td>1</td>\n",
              "      <td>0</td>\n",
              "    </tr>\n",
              "    <tr>\n",
              "      <th>2</th>\n",
              "      <td>1</td>\n",
              "      <td>1</td>\n",
              "      <td>0</td>\n",
              "      <td>0</td>\n",
              "      <td>0</td>\n",
              "    </tr>\n",
              "    <tr>\n",
              "      <th>3</th>\n",
              "      <td>1</td>\n",
              "      <td>0</td>\n",
              "      <td>1</td>\n",
              "      <td>0</td>\n",
              "      <td>0</td>\n",
              "    </tr>\n",
              "    <tr>\n",
              "      <th>4</th>\n",
              "      <td>0</td>\n",
              "      <td>0</td>\n",
              "      <td>1</td>\n",
              "      <td>1</td>\n",
              "      <td>1</td>\n",
              "    </tr>\n",
              "    <tr>\n",
              "      <th>...</th>\n",
              "      <td>...</td>\n",
              "      <td>...</td>\n",
              "      <td>...</td>\n",
              "      <td>...</td>\n",
              "      <td>...</td>\n",
              "    </tr>\n",
              "    <tr>\n",
              "      <th>413</th>\n",
              "      <td>1</td>\n",
              "      <td>0</td>\n",
              "      <td>1</td>\n",
              "      <td>0</td>\n",
              "      <td>0</td>\n",
              "    </tr>\n",
              "    <tr>\n",
              "      <th>414</th>\n",
              "      <td>0</td>\n",
              "      <td>0</td>\n",
              "      <td>0</td>\n",
              "      <td>0</td>\n",
              "      <td>0</td>\n",
              "    </tr>\n",
              "    <tr>\n",
              "      <th>415</th>\n",
              "      <td>1</td>\n",
              "      <td>0</td>\n",
              "      <td>1</td>\n",
              "      <td>0</td>\n",
              "      <td>0</td>\n",
              "    </tr>\n",
              "    <tr>\n",
              "      <th>416</th>\n",
              "      <td>1</td>\n",
              "      <td>0</td>\n",
              "      <td>1</td>\n",
              "      <td>0</td>\n",
              "      <td>0</td>\n",
              "    </tr>\n",
              "    <tr>\n",
              "      <th>417</th>\n",
              "      <td>1</td>\n",
              "      <td>0</td>\n",
              "      <td>0</td>\n",
              "      <td>1</td>\n",
              "      <td>1</td>\n",
              "    </tr>\n",
              "  </tbody>\n",
              "</table>\n",
              "<p>418 rows × 5 columns</p>\n",
              "</div>"
            ],
            "text/plain": [
              "     Sex_male  Embarked_Q  Embarked_S  SibSp  Parch\n",
              "0           1           1           0      0      0\n",
              "1           0           0           1      1      0\n",
              "2           1           1           0      0      0\n",
              "3           1           0           1      0      0\n",
              "4           0           0           1      1      1\n",
              "..        ...         ...         ...    ...    ...\n",
              "413         1           0           1      0      0\n",
              "414         0           0           0      0      0\n",
              "415         1           0           1      0      0\n",
              "416         1           0           1      0      0\n",
              "417         1           0           0      1      1\n",
              "\n",
              "[418 rows x 5 columns]"
            ]
          },
          "metadata": {
            "tags": []
          },
          "execution_count": 33
        }
      ]
    },
    {
      "cell_type": "code",
      "metadata": {
        "id": "jVkDcRUlEJ4H"
      },
      "source": [
        "abtC = pd.merge(pd.merge(df_categoricasC, df_ordinaisC, how='left', left_index=True, right_index=True), df_continuasC, how='left', left_index=True, right_index=True)"
      ],
      "execution_count": 34,
      "outputs": []
    },
    {
      "cell_type": "code",
      "metadata": {
        "id": "jHCkrsyeEQ3n",
        "colab": {
          "base_uri": "https://localhost:8080/"
        },
        "outputId": "7a992831-f1ed-4816-e1a6-0abd64db6482"
      },
      "source": [
        "#normalização\r\n",
        "scaler = MinMaxScaler()\r\n",
        "scaler.fit(abtC)"
      ],
      "execution_count": 35,
      "outputs": [
        {
          "output_type": "execute_result",
          "data": {
            "text/plain": [
              "MinMaxScaler(copy=True, feature_range=(0, 1))"
            ]
          },
          "metadata": {
            "tags": []
          },
          "execution_count": 35
        }
      ]
    },
    {
      "cell_type": "code",
      "metadata": {
        "id": "vd0t8mSMEWwX"
      },
      "source": [
        "abt_nC = pd.DataFrame(scaler.transform(abtC), columns=abt.columns)"
      ],
      "execution_count": 36,
      "outputs": []
    },
    {
      "cell_type": "code",
      "metadata": {
        "id": "0jPPwdvLEdd9"
      },
      "source": [
        "#Vamos chamar de desafio o df com os dados que serão o input de nossa previsão\r\n",
        "desafio = abt_nC.copy()"
      ],
      "execution_count": 37,
      "outputs": []
    },
    {
      "cell_type": "code",
      "metadata": {
        "id": "OxFOfxznErjo"
      },
      "source": [
        "#rodando o modelo com o desafio"
      ],
      "execution_count": 38,
      "outputs": []
    },
    {
      "cell_type": "code",
      "metadata": {
        "id": "vAIPbNkXXePm"
      },
      "source": [
        "desafioP = log.predict(desafio)"
      ],
      "execution_count": 39,
      "outputs": []
    },
    {
      "cell_type": "code",
      "metadata": {
        "id": "iKTEeoq_YS0e"
      },
      "source": [
        "#Como eu quero um csv com o PassengerId e Survived, vou abrir novamente o arquivo csv test (que tem o PassengerId) e depois vou colocar uma coluna resposta (que será a coluna Survived)\r\n",
        "classefinal = pd.read_csv('test.csv')"
      ],
      "execution_count": 40,
      "outputs": []
    },
    {
      "cell_type": "code",
      "metadata": {
        "id": "JvqGCKhbYl7_"
      },
      "source": [
        "#Inserindo coluna Survived\r\n",
        "classefinal['Survived'] = desafioP"
      ],
      "execution_count": 41,
      "outputs": []
    },
    {
      "cell_type": "code",
      "metadata": {
        "id": "fqPCPf1nY2MM"
      },
      "source": [
        "#Deixando meu DataFrame apenas com os dados solicitados: PassengerId e Survived\r\n",
        "classefinal = classefinal[['PassengerId', 'Survived']]"
      ],
      "execution_count": 42,
      "outputs": []
    },
    {
      "cell_type": "code",
      "metadata": {
        "id": "wAmWwsJFZBNq"
      },
      "source": [
        "#Gerando arquivo resposta do Desafio\r\n",
        "classefinal.to_csv('DesafioTitanic.csv', index = False, sep = ',')"
      ],
      "execution_count": 43,
      "outputs": []
    }
  ]
}